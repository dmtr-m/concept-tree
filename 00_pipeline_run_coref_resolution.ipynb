{
 "cells": [
  {
   "cell_type": "markdown",
   "metadata": {},
   "source": [
    "# Решаем анафору в текстах"
   ]
  },
  {
   "cell_type": "code",
   "execution_count": null,
   "metadata": {},
   "outputs": [
    {
     "ename": "",
     "evalue": "",
     "output_type": "error",
     "traceback": [
      "\u001b[1;31mThe file '.venv-concept-graph/lib/python3.10/site-packages/typing_extensions.py' seems to be overriding built in modules and interfering with the startup of the kernel. Consider renaming the file and starting the kernel again.\n",
      "\u001b[1;31mClick <a href='https://aka.ms/kernelFailuresOverridingBuiltInModules'>here</a> for more info."
     ]
    }
   ],
   "source": [
    "from nn_graph_makers.alennlp_anaphora_resolver import process_files_multithreaded"
   ]
  },
  {
   "cell_type": "code",
   "execution_count": null,
   "metadata": {},
   "outputs": [],
   "source": [
    "import os\n",
    "from path import Path"
   ]
  },
  {
   "cell_type": "code",
   "execution_count": 3,
   "metadata": {},
   "outputs": [],
   "source": [
    "# input_directory = Path(\"/home/kdemyokhin_1/concept-tree-course-work/articles_parsed_splitted/arxiv-txt-cs\")\n",
    "# output_directory = Path(\"/home/kdemyokhin_1/concept-tree-course-work/articles_anaphora_resolved_splitted/arxiv-txt-cs\")"
   ]
  },
  {
   "cell_type": "code",
   "execution_count": 4,
   "metadata": {},
   "outputs": [],
   "source": [
    "input_directory = Path(\"/home/simon/Desktop/concept-tree/concept-tree/nn_graph_makers/test_files_output\")\n",
    "output_directory = Path(\"/home/simon/Desktop/concept-tree/concept-tree/nn_graph_makers/test_files_output_anaphora_splitted\")"
   ]
  },
  {
   "cell_type": "code",
   "execution_count": 5,
   "metadata": {},
   "outputs": [],
   "source": [
    "# Получаем список всех txt файлов рекурсивно (включая поддиректории)\n",
    "input_files = list(input_directory.rglob(\"*.txt\"))\n",
    "\n",
    "# Формируем список выходных файлов, сохраняя структуру поддиректорий\n",
    "output_files = []\n",
    "for file in input_files:\n",
    "    # Вычисляем относительный путь файла относительно input_directory\n",
    "    relative_path = file.relative_to(input_directory)\n",
    "    # Формируем путь к файлу в выходной директории\n",
    "    out_file = output_directory / relative_path\n",
    "    # Создаем директорию, если её ещё нет\n",
    "    out_file.parent.mkdir(parents=True, exist_ok=True)\n",
    "    output_files.append(out_file)"
   ]
  },
  {
   "cell_type": "code",
   "execution_count": null,
   "metadata": {},
   "outputs": [],
   "source": [
    "process_files_multithreaded(os.cp)"
   ]
  }
 ],
 "metadata": {
  "kernelspec": {
   "display_name": "Python 3",
   "language": "python",
   "name": "python3"
  },
  "language_info": {
   "codemirror_mode": {
    "name": "ipython",
    "version": 3
   },
   "file_extension": ".py",
   "mimetype": "text/x-python",
   "name": "python",
   "nbconvert_exporter": "python",
   "pygments_lexer": "ipython3",
   "version": "3.10.12"
  }
 },
 "nbformat": 4,
 "nbformat_minor": 2
}
