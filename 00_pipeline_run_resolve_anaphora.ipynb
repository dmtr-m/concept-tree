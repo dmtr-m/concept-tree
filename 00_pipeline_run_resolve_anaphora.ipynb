{
 "cells": [
  {
   "cell_type": "code",
   "execution_count": null,
   "metadata": {},
   "outputs": [],
   "source": [
    "import os\n",
    "from pathlib import Path\n",
    "\n",
    "input_directory = Path(\"/home/kdemyokhin_1/concept-tree-course-work/articles_parsed/arxiv-txt-cs\")\n",
    "output_directory = Path(\"/home/kdemyokhin_1/concept-tree-course-work/articles_anaphora_resolved/arxiv-txt-cs\")"
   ]
  },
  {
   "cell_type": "code",
   "execution_count": null,
   "metadata": {},
   "outputs": [],
   "source": [
    "import spacy\n",
    "import coreferee\n",
    "\n",
    "nlp = spacy.load('en_core_web_trf')\n",
    "nlp.add_pipe('coreferee')\n",
    "\n",
    "\n",
    "def resolve_coreference(text):\n",
    "    doc = nlp(text)\n",
    "    refined_text = []\n",
    "    for i in range(len(doc)):\n",
    "        res = doc._.coref_chains.resolve(doc[i])\n",
    "        if res is None:\n",
    "            refined_text += [doc[i]]\n",
    "        else:\n",
    "            refined_text += res\n",
    "    \n",
    "    return ' '.join([d.text for d in refined_text])\n",
    "\n",
    "\n",
    "def process_file(input_path, output_path):\n",
    "    with open(input_path, \"r\") as f:\n",
    "        lines = f.readlines()\n",
    "    \n",
    "    resolved_lines = []\n",
    "    for line in lines:\n",
    "        resolved_lines.append(resolve_coreference(line))\n",
    "\n",
    "    with open(output_path, 'w') as f:\n",
    "        for line in resolved_lines:\n",
    "            f.write(f\"{line}\")"
   ]
  },
  {
   "cell_type": "code",
   "execution_count": null,
   "metadata": {},
   "outputs": [],
   "source": [
    "# Получаем список всех txt файлов рекурсивно (включая поддиректории)\n",
    "input_files = list(input_directory.rglob(\"*.txt\"))\n",
    "\n",
    "# Формируем список выходных файлов, сохраняя структуру поддиректорий\n",
    "output_files = []\n",
    "for file in input_files:\n",
    "    # Вычисляем относительный путь файла относительно input_directory\n",
    "    relative_path = file.relative_to(input_directory)\n",
    "    # Формируем путь к файлу в выходной директории\n",
    "    out_file = output_directory / relative_path\n",
    "    # Создаем директорию, если её ещё нет\n",
    "    out_file.parent.mkdir(parents=True, exist_ok=True)\n",
    "    output_files.append(out_file)"
   ]
  },
  {
   "cell_type": "code",
   "execution_count": null,
   "metadata": {},
   "outputs": [],
   "source": [
    "import warnings\n",
    "warnings.filterwarnings('ignore')"
   ]
  },
  {
   "cell_type": "code",
   "execution_count": null,
   "metadata": {},
   "outputs": [],
   "source": [
    "from tqdm import tqdm\n",
    "\n",
    "for input_path, output_path in tqdm(zip(input_files, output_files), total=len(input_files)):\n",
    "    process_file(input_path, output_path)"
   ]
  }
 ],
 "metadata": {
  "kernelspec": {
   "display_name": "venv_anaphora_resolver",
   "language": "python",
   "name": "python3"
  },
  "language_info": {
   "codemirror_mode": {
    "name": "ipython",
    "version": 3
   },
   "file_extension": ".py",
   "mimetype": "text/x-python",
   "name": "python",
   "nbconvert_exporter": "python",
   "pygments_lexer": "ipython3",
   "version": "3.10.12"
  }
 },
 "nbformat": 4,
 "nbformat_minor": 2
}
