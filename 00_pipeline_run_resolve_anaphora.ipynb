{
 "cells": [
  {
   "cell_type": "code",
   "execution_count": 33,
   "metadata": {},
   "outputs": [
    {
     "data": {
      "text/plain": [
       "<coreferee.manager.CorefereeBroker at 0x3ab6d9650>"
      ]
     },
     "execution_count": 33,
     "metadata": {},
     "output_type": "execute_result"
    }
   ],
   "source": [
    "import spacy\n",
    "import coreferee\n",
    "\n",
    "nlp = spacy.load('en_core_web_trf')\n",
    "nlp.add_pipe('coreferee')\n"
   ]
  },
  {
   "cell_type": "code",
   "execution_count": 42,
   "metadata": {},
   "outputs": [],
   "source": [
    "def resolve_coreference(text):\n",
    "    doc = nlp(text)\n",
    "    refined_text = []\n",
    "    for i in range(len(doc)):\n",
    "        res = doc._.coref_chains.resolve(doc[i])\n",
    "        if res is None:\n",
    "            refined_text += [doc[i]]\n",
    "        else:\n",
    "            refined_text += res\n",
    "    \n",
    "    return ' '.join([d.text for d in refined_text])\n"
   ]
  },
  {
   "cell_type": "code",
   "execution_count": 47,
   "metadata": {},
   "outputs": [],
   "source": [
    "def process_file(input_path, output_path):\n",
    "    with open(input_path, \"r\") as f:\n",
    "        lines = f.readlines()\n",
    "    \n",
    "    resolved_lines = []\n",
    "    for line in lines:\n",
    "        resolved_lines.append(resolve_coreference(line))\n",
    "\n",
    "    with open(output_path, 'w') as f:\n",
    "        for line in resolved_lines:\n",
    "            f.write(f\"{line}\")"
   ]
  },
  {
   "cell_type": "code",
   "execution_count": null,
   "metadata": {},
   "outputs": [
    {
     "name": "stderr",
     "output_type": "stream",
     "text": [
      "/Users/dmitry/Desktop/Projects/coreref_spacy/.venv/lib/python3.11/site-packages/thinc/shims/pytorch.py:114: FutureWarning: `torch.cuda.amp.autocast(args...)` is deprecated. Please use `torch.amp.autocast('cuda', args...)` instead.\n",
      "  with torch.cuda.amp.autocast(self._mixed_precision):\n"
     ]
    }
   ],
   "source": [
    "from concurrent.futures import ThreadPoolExecutor, as_completed\n",
    "\n",
    "\n",
    "def process_files(input_files, output_files, num_threads):\n",
    "    \"\"\"\n",
    "    Многопоточная обработка списка входных файлов и сохранение результатов в выходные файлы.\n",
    "    :param input_files: Список путей к входным файлам.\n",
    "    :param output_files: Список путей к выходным файлам (должен быть того же размера, что и input_files).\n",
    "    :param num_threads: Количество потоков для обработки.\n",
    "    \"\"\"\n",
    "    if len(input_files) != len(output_files):\n",
    "        raise ValueError(\"Количество входных и выходных файлов должно совпадать.\")\n",
    "\n",
    "    # Используем ThreadPoolExecutor для многопоточной обработки\n",
    "    with ThreadPoolExecutor(max_workers=num_threads) as executor:\n",
    "        futures = [\n",
    "            executor.submit(process_file, input_file, output_file)\n",
    "            for input_file, output_file in zip(input_files, output_files)\n",
    "        ]\n",
    "\n",
    "        # Ожидаем завершения всех задач\n",
    "        for future in as_completed(futures):\n",
    "            try:\n",
    "                future.result()  # Проверяем на наличие исключений\n",
    "            except Exception as e:\n",
    "                print(f\"Error processing file: {e}\")"
   ]
  },
  {
   "cell_type": "code",
   "execution_count": null,
   "metadata": {},
   "outputs": [],
   "source": [
    "import os\n",
    "from pathlib import Path\n",
    "\n",
    "input_directory = Path(\"/home/simon/Desktop/concept-tree/concept-tree/nn_graph_makers/test_files_output\")\n",
    "output_directory = Path(\"/home/simon/Desktop/concept-tree/concept-tree/nn_graph_makers/test_files_output_anaphora_splitted\")"
   ]
  },
  {
   "cell_type": "code",
   "execution_count": null,
   "metadata": {},
   "outputs": [],
   "source": []
  }
 ],
 "metadata": {
  "kernelspec": {
   "display_name": ".venv",
   "language": "python",
   "name": "python3"
  },
  "language_info": {
   "codemirror_mode": {
    "name": "ipython",
    "version": 3
   },
   "file_extension": ".py",
   "mimetype": "text/x-python",
   "name": "python",
   "nbconvert_exporter": "python",
   "pygments_lexer": "ipython3",
   "version": "3.11.10"
  }
 },
 "nbformat": 4,
 "nbformat_minor": 2
}
