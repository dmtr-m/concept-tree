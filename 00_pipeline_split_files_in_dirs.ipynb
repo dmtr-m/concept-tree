{
 "cells": [
  {
   "cell_type": "markdown",
   "metadata": {},
   "source": [
    "Для решения анафоры разобъем файлы на директории, содержащие файлы по k предложений"
   ]
  },
  {
   "cell_type": "code",
   "execution_count": 30,
   "metadata": {},
   "outputs": [],
   "source": [
    "import os\n",
    "from tqdm import tqdm\n",
    "from nltk.tokenize import sent_tokenize"
   ]
  },
  {
   "cell_type": "code",
   "execution_count": 32,
   "metadata": {},
   "outputs": [],
   "source": [
    "def split_text_into_sentences(text):\n",
    "    \"\"\"\n",
    "    Разбивает текст на предложения.\n",
    "    :param text: Исходный текст.\n",
    "    :return: Список предложений.\n",
    "    \"\"\"\n",
    "    return sent_tokenize(text)\n",
    "\n",
    "def group_sentences(sentences, group_size=10):\n",
    "    \"\"\"\n",
    "    Группирует предложения по заданному размеру.\n",
    "    :param sentences: Список предложений.\n",
    "    :param group_size: Размер группы (по умолчанию 10).\n",
    "    :return: Список групп предложений.\n",
    "    \"\"\"\n",
    "    return [sentences[i:i + group_size] for i in range(0, len(sentences), group_size)]\n",
    "\n",
    "def split_files(input_directory, output_directory, group_size=10):\n",
    "    \"\"\"\n",
    "    Разбивает файлы на части по group_size предложений и сохраняет в директории.\n",
    "    :param input_directory: Директория с входными файлами.\n",
    "    :param output_directory: Директория для выходных файлов.\n",
    "    :param group_size: Количество предложений в каждой части.\n",
    "    \"\"\"\n",
    "    # Получаем список всех txt файлов рекурсивно (включая поддиректории)\n",
    "    input_files = list(input_directory.rglob(\"*.txt\"))\n",
    "\n",
    "    for file in tqdm(input_files, desc=\"Splitting files\"):\n",
    "        try:\n",
    "            # Читаем текст из входного файла\n",
    "            with open(file, \"r\", encoding=\"utf-8\") as f:\n",
    "                text = f.read()\n",
    "\n",
    "            # Разбиваем текст на предложения\n",
    "            sentences = split_text_into_sentences(text)\n",
    "\n",
    "            # Группируем предложения по group_size\n",
    "            groups = group_sentences(sentences, group_size)\n",
    "\n",
    "            # Вычисляем относительный путь файла относительно input_directory\n",
    "            relative_path = file.relative_to(input_directory)\n",
    "\n",
    "            # Создаем путь к выходной директории, сохраняя структуру поддиректорий\n",
    "            output_subdir = output_directory / relative_path.parent / file.stem\n",
    "            os.makedirs(output_subdir, exist_ok=True)\n",
    "\n",
    "            # Сохраняем каждую группу в отдельный файл\n",
    "            for i, group in enumerate(groups):\n",
    "                output_path = output_subdir / f\"part_{i + 1}.txt\"\n",
    "                with open(output_path, \"w\", encoding=\"utf-8\") as f:\n",
    "                    f.write(\" \".join(group))\n",
    "\n",
    "        except Exception as e:\n",
    "            print(f\"Error processing file {file}: {e}\")"
   ]
  },
  {
   "cell_type": "code",
   "execution_count": 33,
   "metadata": {},
   "outputs": [],
   "source": [
    "import os\n",
    "from pathlib import Path"
   ]
  },
  {
   "cell_type": "code",
   "execution_count": null,
   "metadata": {},
   "outputs": [],
   "source": [
    "# input_directory = Path(\"/home/simon/Desktop/concept-tree/concept-tree/nn_graph_makers/test_files\")\n",
    "# output_directory = Path(\"/home/simon/Desktop/concept-tree/concept-tree/nn_graph_makers/test_files_output\")\n",
    "\n",
    "input_directory = Path(\"/home/kdemyokhin_1/concept-tree-course-work/articles_parsed/arxiv-txt-cs\")\n",
    "output_directory = Path(\"/home/kdemyokhin_1/concept-tree-course-work/articles_parsed_splitted/arxiv-txt-cs\")"
   ]
  },
  {
   "cell_type": "code",
   "execution_count": 35,
   "metadata": {},
   "outputs": [
    {
     "name": "stderr",
     "output_type": "stream",
     "text": [
      "Splitting files: 100%|██████████| 100/100 [00:00<00:00, 1975.32it/s]\n"
     ]
    }
   ],
   "source": [
    "split_files(input_directory, output_directory, group_size=13)"
   ]
  }
 ],
 "metadata": {
  "kernelspec": {
   "display_name": ".venv-concept-graph",
   "language": "python",
   "name": "python3"
  },
  "language_info": {
   "codemirror_mode": {
    "name": "ipython",
    "version": 3
   },
   "file_extension": ".py",
   "mimetype": "text/x-python",
   "name": "python",
   "nbconvert_exporter": "python",
   "pygments_lexer": "ipython3",
   "version": "3.10.12"
  }
 },
 "nbformat": 4,
 "nbformat_minor": 2
}
