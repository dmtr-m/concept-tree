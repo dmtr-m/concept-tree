{
 "cells": [
  {
   "cell_type": "markdown",
   "metadata": {},
   "source": [
    "# Решаем анафору в текстах"
   ]
  },
  {
   "cell_type": "code",
   "execution_count": 1,
   "metadata": {},
   "outputs": [
    {
     "name": "stderr",
     "output_type": "stream",
     "text": [
      "/home/simon/Desktop/concept-tree/concept-tree/.venv-concept-graph/lib/python3.10/site-packages/tqdm/auto.py:21: TqdmWarning: IProgress not found. Please update jupyter and ipywidgets. See https://ipywidgets.readthedocs.io/en/stable/user_install.html\n",
      "  from .autonotebook import tqdm as notebook_tqdm\n"
     ]
    }
   ],
   "source": [
    "from nn_graph_makers.corenlp_coref_resolver_en import CoreferenceResolver\n",
    "from nn_graph_makers.find_free_ports import find_free_ports"
   ]
  },
  {
   "cell_type": "code",
   "execution_count": 2,
   "metadata": {},
   "outputs": [],
   "source": [
    "import os\n",
    "from pathlib import Path"
   ]
  },
  {
   "cell_type": "code",
   "execution_count": null,
   "metadata": {},
   "outputs": [],
   "source": [
    "input_directory = Path(\"/home/kdemyokhin_1/concept-tree-course-work/articles_parsed/arxiv-txt-cs\")\n",
    "output_directory = Path(\"/home/kdemyokhin_1/concept-tree-course-work/articles_anaphora_resolved/arxiv-txt-cs\")"
   ]
  },
  {
   "cell_type": "code",
   "execution_count": null,
   "metadata": {},
   "outputs": [],
   "source": [
    "# input_directory = Path(\"/home/simon/Desktop/concept-tree/concept-tree/nn_graph_makers/test_files\")\n",
    "# output_directory = Path(\"/home/simon/Desktop/concept-tree/concept-tree/nn_graph_makers/test_files_output\")"
   ]
  },
  {
   "cell_type": "code",
   "execution_count": 5,
   "metadata": {},
   "outputs": [],
   "source": [
    "# Получаем список всех txt файлов рекурсивно (включая поддиректории)\n",
    "input_files = list(input_directory.rglob(\"*.txt\"))\n",
    "\n",
    "# Формируем список выходных файлов, сохраняя структуру поддиректорий\n",
    "output_files = []\n",
    "for file in input_files:\n",
    "    # Вычисляем относительный путь файла относительно input_directory\n",
    "    relative_path = file.relative_to(input_directory)\n",
    "    # Формируем путь к файлу в выходной директории\n",
    "    out_file = output_directory / relative_path\n",
    "    # Создаем директорию, если её ещё нет\n",
    "    out_file.parent.mkdir(parents=True, exist_ok=True)\n",
    "    output_files.append(out_file)"
   ]
  },
  {
   "cell_type": "code",
   "execution_count": 6,
   "metadata": {},
   "outputs": [
    {
     "name": "stdout",
     "output_type": "stream",
     "text": [
      "[PosixPath('/home/simon/Desktop/concept-tree/concept-tree/nn_graph_makers/test_files_output/file45_processed.txt'), PosixPath('/home/simon/Desktop/concept-tree/concept-tree/nn_graph_makers/test_files_output/file34.txt'), PosixPath('/home/simon/Desktop/concept-tree/concept-tree/nn_graph_makers/test_files_output/file28.txt'), PosixPath('/home/simon/Desktop/concept-tree/concept-tree/nn_graph_makers/test_files_output/file54.txt'), PosixPath('/home/simon/Desktop/concept-tree/concept-tree/nn_graph_makers/test_files_output/file35.txt'), PosixPath('/home/simon/Desktop/concept-tree/concept-tree/nn_graph_makers/test_files_output/file98.txt'), PosixPath('/home/simon/Desktop/concept-tree/concept-tree/nn_graph_makers/test_files_output/file60.txt'), PosixPath('/home/simon/Desktop/concept-tree/concept-tree/nn_graph_makers/test_files_output/file69.txt'), PosixPath('/home/simon/Desktop/concept-tree/concept-tree/nn_graph_makers/test_files_output/file35_processed.txt'), PosixPath('/home/simon/Desktop/concept-tree/concept-tree/nn_graph_makers/test_files_output/file38_processed.txt'), PosixPath('/home/simon/Desktop/concept-tree/concept-tree/nn_graph_makers/test_files_output/file59.txt'), PosixPath('/home/simon/Desktop/concept-tree/concept-tree/nn_graph_makers/test_files_output/file68.txt'), PosixPath('/home/simon/Desktop/concept-tree/concept-tree/nn_graph_makers/test_files_output/file78.txt'), PosixPath('/home/simon/Desktop/concept-tree/concept-tree/nn_graph_makers/test_files_output/file48_processed.txt'), PosixPath('/home/simon/Desktop/concept-tree/concept-tree/nn_graph_makers/test_files_output/file26.txt'), PosixPath('/home/simon/Desktop/concept-tree/concept-tree/nn_graph_makers/test_files_output/file55.txt'), PosixPath('/home/simon/Desktop/concept-tree/concept-tree/nn_graph_makers/test_files_output/file49.txt'), PosixPath('/home/simon/Desktop/concept-tree/concept-tree/nn_graph_makers/test_files_output/file57.txt'), PosixPath('/home/simon/Desktop/concept-tree/concept-tree/nn_graph_makers/test_files_output/file74.txt'), PosixPath('/home/simon/Desktop/concept-tree/concept-tree/nn_graph_makers/test_files_output/file24_processed.txt'), PosixPath('/home/simon/Desktop/concept-tree/concept-tree/nn_graph_makers/test_files_output/file62.txt'), PosixPath('/home/simon/Desktop/concept-tree/concept-tree/nn_graph_makers/test_files_output/file94.txt'), PosixPath('/home/simon/Desktop/concept-tree/concept-tree/nn_graph_makers/test_files_output/file38.txt'), PosixPath('/home/simon/Desktop/concept-tree/concept-tree/nn_graph_makers/test_files_output/file76.txt'), PosixPath('/home/simon/Desktop/concept-tree/concept-tree/nn_graph_makers/test_files_output/file87.txt'), PosixPath('/home/simon/Desktop/concept-tree/concept-tree/nn_graph_makers/test_files_output/file47.txt'), PosixPath('/home/simon/Desktop/concept-tree/concept-tree/nn_graph_makers/test_files_output/file50.txt'), PosixPath('/home/simon/Desktop/concept-tree/concept-tree/nn_graph_makers/test_files_output/file63.txt'), PosixPath('/home/simon/Desktop/concept-tree/concept-tree/nn_graph_makers/test_files_output/file96.txt'), PosixPath('/home/simon/Desktop/concept-tree/concept-tree/nn_graph_makers/test_files_output/file77.txt'), PosixPath('/home/simon/Desktop/concept-tree/concept-tree/nn_graph_makers/test_files_output/file64.txt'), PosixPath('/home/simon/Desktop/concept-tree/concept-tree/nn_graph_makers/test_files_output/file39_processed.txt'), PosixPath('/home/simon/Desktop/concept-tree/concept-tree/nn_graph_makers/test_files_output/file36.txt'), PosixPath('/home/simon/Desktop/concept-tree/concept-tree/nn_graph_makers/test_files_output/file91.txt'), PosixPath('/home/simon/Desktop/concept-tree/concept-tree/nn_graph_makers/test_files_output/file67.txt'), PosixPath('/home/simon/Desktop/concept-tree/concept-tree/nn_graph_makers/test_files_output/file42_processed.txt'), PosixPath('/home/simon/Desktop/concept-tree/concept-tree/nn_graph_makers/test_files_output/file55_processed.txt'), PosixPath('/home/simon/Desktop/concept-tree/concept-tree/nn_graph_makers/test_files_output/file50_processed.txt'), PosixPath('/home/simon/Desktop/concept-tree/concept-tree/nn_graph_makers/test_files_output/file75.txt'), PosixPath('/home/simon/Desktop/concept-tree/concept-tree/nn_graph_makers/test_files_output/file31_processed.txt'), PosixPath('/home/simon/Desktop/concept-tree/concept-tree/nn_graph_makers/test_files_output/file89.txt'), PosixPath('/home/simon/Desktop/concept-tree/concept-tree/nn_graph_makers/test_files_output/file48.txt'), PosixPath('/home/simon/Desktop/concept-tree/concept-tree/nn_graph_makers/test_files_output/file54_processed.txt'), PosixPath('/home/simon/Desktop/concept-tree/concept-tree/nn_graph_makers/test_files_output/file49_processed.txt'), PosixPath('/home/simon/Desktop/concept-tree/concept-tree/nn_graph_makers/test_files_output/file46.txt'), PosixPath('/home/simon/Desktop/concept-tree/concept-tree/nn_graph_makers/test_files_output/file86.txt'), PosixPath('/home/simon/Desktop/concept-tree/concept-tree/nn_graph_makers/test_files_output/file42.txt'), PosixPath('/home/simon/Desktop/concept-tree/concept-tree/nn_graph_makers/test_files_output/file92.txt'), PosixPath('/home/simon/Desktop/concept-tree/concept-tree/nn_graph_makers/test_files_output/file43.txt'), PosixPath('/home/simon/Desktop/concept-tree/concept-tree/nn_graph_makers/test_files_output/file53.txt'), PosixPath('/home/simon/Desktop/concept-tree/concept-tree/nn_graph_makers/test_files_output/file30.txt'), PosixPath('/home/simon/Desktop/concept-tree/concept-tree/nn_graph_makers/test_files_output/file34_processed.txt'), PosixPath('/home/simon/Desktop/concept-tree/concept-tree/nn_graph_makers/test_files_output/file30_processed.txt'), PosixPath('/home/simon/Desktop/concept-tree/concept-tree/nn_graph_makers/test_files_output/file45.txt'), PosixPath('/home/simon/Desktop/concept-tree/concept-tree/nn_graph_makers/test_files_output/file72.txt'), PosixPath('/home/simon/Desktop/concept-tree/concept-tree/nn_graph_makers/test_files_output/file56.txt'), PosixPath('/home/simon/Desktop/concept-tree/concept-tree/nn_graph_makers/test_files_output/file46_processed.txt'), PosixPath('/home/simon/Desktop/concept-tree/concept-tree/nn_graph_makers/test_files_output/file27.txt'), PosixPath('/home/simon/Desktop/concept-tree/concept-tree/nn_graph_makers/test_files_output/file37_processed.txt'), PosixPath('/home/simon/Desktop/concept-tree/concept-tree/nn_graph_makers/test_files_output/file41_processed.txt'), PosixPath('/home/simon/Desktop/concept-tree/concept-tree/nn_graph_makers/test_files_output/file85.txt'), PosixPath('/home/simon/Desktop/concept-tree/concept-tree/nn_graph_makers/test_files_output/file26_processed.txt'), PosixPath('/home/simon/Desktop/concept-tree/concept-tree/nn_graph_makers/test_files_output/file79.txt'), PosixPath('/home/simon/Desktop/concept-tree/concept-tree/nn_graph_makers/test_files_output/file24.txt'), PosixPath('/home/simon/Desktop/concept-tree/concept-tree/nn_graph_makers/test_files_output/file52.txt'), PosixPath('/home/simon/Desktop/concept-tree/concept-tree/nn_graph_makers/test_files_output/file80.txt'), PosixPath('/home/simon/Desktop/concept-tree/concept-tree/nn_graph_makers/test_files_output/file27_processed.txt'), PosixPath('/home/simon/Desktop/concept-tree/concept-tree/nn_graph_makers/test_files_output/file88.txt'), PosixPath('/home/simon/Desktop/concept-tree/concept-tree/nn_graph_makers/test_files_output/file65.txt'), PosixPath('/home/simon/Desktop/concept-tree/concept-tree/nn_graph_makers/test_files_output/file95.txt'), PosixPath('/home/simon/Desktop/concept-tree/concept-tree/nn_graph_makers/test_files_output/file53_processed.txt'), PosixPath('/home/simon/Desktop/concept-tree/concept-tree/nn_graph_makers/test_files_output/file84.txt'), PosixPath('/home/simon/Desktop/concept-tree/concept-tree/nn_graph_makers/test_files_output/file43_processed.txt'), PosixPath('/home/simon/Desktop/concept-tree/concept-tree/nn_graph_makers/test_files_output/file33_processed.txt'), PosixPath('/home/simon/Desktop/concept-tree/concept-tree/nn_graph_makers/test_files_output/file39.txt'), PosixPath('/home/simon/Desktop/concept-tree/concept-tree/nn_graph_makers/test_files_output/file51_processed.txt'), PosixPath('/home/simon/Desktop/concept-tree/concept-tree/nn_graph_makers/test_files_output/file32_processed.txt'), PosixPath('/home/simon/Desktop/concept-tree/concept-tree/nn_graph_makers/test_files_output/file73.txt'), PosixPath('/home/simon/Desktop/concept-tree/concept-tree/nn_graph_makers/test_files_output/file32.txt'), PosixPath('/home/simon/Desktop/concept-tree/concept-tree/nn_graph_makers/test_files_output/file82.txt'), PosixPath('/home/simon/Desktop/concept-tree/concept-tree/nn_graph_makers/test_files_output/file66.txt'), PosixPath('/home/simon/Desktop/concept-tree/concept-tree/nn_graph_makers/test_files_output/file31.txt'), PosixPath('/home/simon/Desktop/concept-tree/concept-tree/nn_graph_makers/test_files_output/file100.txt'), PosixPath('/home/simon/Desktop/concept-tree/concept-tree/nn_graph_makers/test_files_output/file47_processed.txt'), PosixPath('/home/simon/Desktop/concept-tree/concept-tree/nn_graph_makers/test_files_output/file90.txt'), PosixPath('/home/simon/Desktop/concept-tree/concept-tree/nn_graph_makers/test_files_output/file40.txt'), PosixPath('/home/simon/Desktop/concept-tree/concept-tree/nn_graph_makers/test_files_output/file58.txt'), PosixPath('/home/simon/Desktop/concept-tree/concept-tree/nn_graph_makers/test_files_output/file51.txt'), PosixPath('/home/simon/Desktop/concept-tree/concept-tree/nn_graph_makers/test_files_output/file36_processed.txt'), PosixPath('/home/simon/Desktop/concept-tree/concept-tree/nn_graph_makers/test_files_output/file25.txt'), PosixPath('/home/simon/Desktop/concept-tree/concept-tree/nn_graph_makers/test_files_output/file44_processed.txt'), PosixPath('/home/simon/Desktop/concept-tree/concept-tree/nn_graph_makers/test_files_output/file28_processed.txt'), PosixPath('/home/simon/Desktop/concept-tree/concept-tree/nn_graph_makers/test_files_output/file33.txt'), PosixPath('/home/simon/Desktop/concept-tree/concept-tree/nn_graph_makers/test_files_output/file37.txt'), PosixPath('/home/simon/Desktop/concept-tree/concept-tree/nn_graph_makers/test_files_output/file70.txt'), PosixPath('/home/simon/Desktop/concept-tree/concept-tree/nn_graph_makers/test_files_output/file83.txt'), PosixPath('/home/simon/Desktop/concept-tree/concept-tree/nn_graph_makers/test_files_output/file29_processed.txt'), PosixPath('/home/simon/Desktop/concept-tree/concept-tree/nn_graph_makers/test_files_output/file52_processed.txt'), PosixPath('/home/simon/Desktop/concept-tree/concept-tree/nn_graph_makers/test_files_output/file93.txt'), PosixPath('/home/simon/Desktop/concept-tree/concept-tree/nn_graph_makers/test_files_output/file81.txt'), PosixPath('/home/simon/Desktop/concept-tree/concept-tree/nn_graph_makers/test_files_output/file40_processed.txt'), PosixPath('/home/simon/Desktop/concept-tree/concept-tree/nn_graph_makers/test_files_output/file61.txt'), PosixPath('/home/simon/Desktop/concept-tree/concept-tree/nn_graph_makers/test_files_output/file97.txt'), PosixPath('/home/simon/Desktop/concept-tree/concept-tree/nn_graph_makers/test_files_output/file99.txt'), PosixPath('/home/simon/Desktop/concept-tree/concept-tree/nn_graph_makers/test_files_output/file71.txt'), PosixPath('/home/simon/Desktop/concept-tree/concept-tree/nn_graph_makers/test_files_output/file29.txt'), PosixPath('/home/simon/Desktop/concept-tree/concept-tree/nn_graph_makers/test_files_output/file41.txt'), PosixPath('/home/simon/Desktop/concept-tree/concept-tree/nn_graph_makers/test_files_output/file44.txt'), PosixPath('/home/simon/Desktop/concept-tree/concept-tree/nn_graph_makers/test_files_output/file25_processed.txt'), PosixPath('/home/simon/Desktop/concept-tree/concept-tree/nn_graph_makers/test_files_output/subdir_1/file7.txt'), PosixPath('/home/simon/Desktop/concept-tree/concept-tree/nn_graph_makers/test_files_output/subdir_1/file8.txt'), PosixPath('/home/simon/Desktop/concept-tree/concept-tree/nn_graph_makers/test_files_output/subdir_1/file6.txt'), PosixPath('/home/simon/Desktop/concept-tree/concept-tree/nn_graph_makers/test_files_output/subdir_1/file4.txt'), PosixPath('/home/simon/Desktop/concept-tree/concept-tree/nn_graph_makers/test_files_output/subdir_1/file10.txt'), PosixPath('/home/simon/Desktop/concept-tree/concept-tree/nn_graph_makers/test_files_output/subdir_1/file5.txt'), PosixPath('/home/simon/Desktop/concept-tree/concept-tree/nn_graph_makers/test_files_output/subdir_1/file2.txt'), PosixPath('/home/simon/Desktop/concept-tree/concept-tree/nn_graph_makers/test_files_output/subdir_1/file9.txt'), PosixPath('/home/simon/Desktop/concept-tree/concept-tree/nn_graph_makers/test_files_output/subdir_1/file3.txt'), PosixPath('/home/simon/Desktop/concept-tree/concept-tree/nn_graph_makers/test_files_output/subdir_1/file1.txt'), PosixPath('/home/simon/Desktop/concept-tree/concept-tree/nn_graph_makers/test_files_output/subdir_2/file21.txt'), PosixPath('/home/simon/Desktop/concept-tree/concept-tree/nn_graph_makers/test_files_output/subdir_2/file18.txt'), PosixPath('/home/simon/Desktop/concept-tree/concept-tree/nn_graph_makers/test_files_output/subdir_2/file16.txt'), PosixPath('/home/simon/Desktop/concept-tree/concept-tree/nn_graph_makers/test_files_output/subdir_2/file20.txt'), PosixPath('/home/simon/Desktop/concept-tree/concept-tree/nn_graph_makers/test_files_output/subdir_2/file19.txt'), PosixPath('/home/simon/Desktop/concept-tree/concept-tree/nn_graph_makers/test_files_output/subdir_2/file14.txt'), PosixPath('/home/simon/Desktop/concept-tree/concept-tree/nn_graph_makers/test_files_output/subdir_2/file15.txt'), PosixPath('/home/simon/Desktop/concept-tree/concept-tree/nn_graph_makers/test_files_output/subdir_2/file12.txt'), PosixPath('/home/simon/Desktop/concept-tree/concept-tree/nn_graph_makers/test_files_output/subdir_2/file23.txt'), PosixPath('/home/simon/Desktop/concept-tree/concept-tree/nn_graph_makers/test_files_output/subdir_2/file17.txt'), PosixPath('/home/simon/Desktop/concept-tree/concept-tree/nn_graph_makers/test_files_output/subdir_2/file22.txt'), PosixPath('/home/simon/Desktop/concept-tree/concept-tree/nn_graph_makers/test_files_output/subdir_2/file13.txt'), PosixPath('/home/simon/Desktop/concept-tree/concept-tree/nn_graph_makers/test_files_output/subdir_2/file11.txt')]\n"
     ]
    }
   ],
   "source": [
    "print(output_files)"
   ]
  },
  {
   "cell_type": "code",
   "execution_count": 7,
   "metadata": {},
   "outputs": [],
   "source": [
    "free_ports = find_free_ports(10)"
   ]
  },
  {
   "cell_type": "code",
   "execution_count": null,
   "metadata": {},
   "outputs": [],
   "source": [
    "THREADS_AMOUNT = os.cpu_count()\n",
    "MAX_CHAR_COUNT = 1035573*2\n",
    "MEMORY_IN_GS = 20"
   ]
  },
  {
   "cell_type": "code",
   "execution_count": 9,
   "metadata": {},
   "outputs": [],
   "source": [
    "resolver = CoreferenceResolver(None, f\"http://localhost:{free_ports[0]}\", threads=THREADS_AMOUNT, max_char_length=MAX_CHAR_COUNT, memory=MEMORY_IN_GS)"
   ]
  },
  {
   "cell_type": "code",
   "execution_count": null,
   "metadata": {},
   "outputs": [
    {
     "name": "stderr",
     "output_type": "stream",
     "text": [
      "2025-03-25 18:43:10 INFO: Writing properties to tmp file: corenlp_server-837e1ffa213549e8.props\n",
      "2025-03-25 18:43:10 INFO: Starting server with command: java -Xmx4G -cp /home/simon/Desktop/concept-tree/concept-tree/nn_graph_makers/stanford-corenlp-4.5.8/* edu.stanford.nlp.pipeline.StanfordCoreNLPServer -port 9005 -timeout 600000 -threads 2 -maxCharLength 2071146 -quiet True -serverProperties corenlp_server-837e1ffa213549e8.props -annotators tokenize,ssplit,pos,lemma,ner,parse,coref -preload -outputFormat serialized\n",
      "1it [00:15, 15.83s/it]"
     ]
    },
    {
     "name": "stdout",
     "output_type": "stream",
     "text": [
      "Processed: /home/simon/Desktop/concept-tree/concept-tree/nn_graph_makers/test_files/file34.txt -> /home/simon/Desktop/concept-tree/concept-tree/nn_graph_makers/test_files_output/file34.txt\n"
     ]
    },
    {
     "name": "stderr",
     "output_type": "stream",
     "text": [
      "2it [00:17,  7.40s/it]"
     ]
    },
    {
     "name": "stdout",
     "output_type": "stream",
     "text": [
      "Processed: /home/simon/Desktop/concept-tree/concept-tree/nn_graph_makers/test_files/file45_processed.txt -> /home/simon/Desktop/concept-tree/concept-tree/nn_graph_makers/test_files_output/file45_processed.txt\n"
     ]
    },
    {
     "name": "stderr",
     "output_type": "stream",
     "text": [
      "3it [00:19,  4.81s/it]"
     ]
    },
    {
     "name": "stdout",
     "output_type": "stream",
     "text": [
      "Processed: /home/simon/Desktop/concept-tree/concept-tree/nn_graph_makers/test_files/file28.txt -> /home/simon/Desktop/concept-tree/concept-tree/nn_graph_makers/test_files_output/file28.txt\n"
     ]
    },
    {
     "name": "stderr",
     "output_type": "stream",
     "text": [
      "4it [00:20,  3.36s/it]"
     ]
    },
    {
     "name": "stdout",
     "output_type": "stream",
     "text": [
      "Processed: /home/simon/Desktop/concept-tree/concept-tree/nn_graph_makers/test_files/file54.txt -> /home/simon/Desktop/concept-tree/concept-tree/nn_graph_makers/test_files_output/file54.txt\n"
     ]
    },
    {
     "name": "stderr",
     "output_type": "stream",
     "text": [
      "5it [00:22,  2.91s/it]"
     ]
    },
    {
     "name": "stdout",
     "output_type": "stream",
     "text": [
      "Processed: /home/simon/Desktop/concept-tree/concept-tree/nn_graph_makers/test_files/file35.txt -> /home/simon/Desktop/concept-tree/concept-tree/nn_graph_makers/test_files_output/file35.txt\n"
     ]
    },
    {
     "name": "stderr",
     "output_type": "stream",
     "text": [
      "6it [00:23,  2.16s/it]"
     ]
    },
    {
     "name": "stdout",
     "output_type": "stream",
     "text": [
      "Processed: /home/simon/Desktop/concept-tree/concept-tree/nn_graph_makers/test_files/file98.txt -> /home/simon/Desktop/concept-tree/concept-tree/nn_graph_makers/test_files_output/file98.txt\n"
     ]
    },
    {
     "name": "stderr",
     "output_type": "stream",
     "text": [
      "7it [00:25,  2.23s/it]"
     ]
    },
    {
     "name": "stdout",
     "output_type": "stream",
     "text": [
      "Processed: /home/simon/Desktop/concept-tree/concept-tree/nn_graph_makers/test_files/file60.txt -> /home/simon/Desktop/concept-tree/concept-tree/nn_graph_makers/test_files_output/file60.txt\n"
     ]
    },
    {
     "name": "stderr",
     "output_type": "stream",
     "text": [
      "8it [00:25,  1.67s/it]"
     ]
    },
    {
     "name": "stdout",
     "output_type": "stream",
     "text": [
      "Processed: /home/simon/Desktop/concept-tree/concept-tree/nn_graph_makers/test_files/file69.txt -> /home/simon/Desktop/concept-tree/concept-tree/nn_graph_makers/test_files_output/file69.txt\n"
     ]
    },
    {
     "name": "stderr",
     "output_type": "stream",
     "text": [
      "9it [00:29,  2.31s/it]"
     ]
    },
    {
     "name": "stdout",
     "output_type": "stream",
     "text": [
      "Processed: /home/simon/Desktop/concept-tree/concept-tree/nn_graph_makers/test_files/file35_processed.txt -> /home/simon/Desktop/concept-tree/concept-tree/nn_graph_makers/test_files_output/file35_processed.txt\n"
     ]
    },
    {
     "name": "stderr",
     "output_type": "stream",
     "text": [
      "10it [00:29,  1.71s/it]"
     ]
    },
    {
     "name": "stdout",
     "output_type": "stream",
     "text": [
      "Processed: /home/simon/Desktop/concept-tree/concept-tree/nn_graph_makers/test_files/file38_processed.txt -> /home/simon/Desktop/concept-tree/concept-tree/nn_graph_makers/test_files_output/file38_processed.txt\n"
     ]
    },
    {
     "name": "stderr",
     "output_type": "stream",
     "text": [
      "11it [00:32,  1.92s/it]"
     ]
    },
    {
     "name": "stdout",
     "output_type": "stream",
     "text": [
      "Processed: /home/simon/Desktop/concept-tree/concept-tree/nn_graph_makers/test_files/file59.txt -> /home/simon/Desktop/concept-tree/concept-tree/nn_graph_makers/test_files_output/file59.txt\n"
     ]
    },
    {
     "name": "stderr",
     "output_type": "stream",
     "text": [
      "12it [00:32,  1.43s/it]"
     ]
    },
    {
     "name": "stdout",
     "output_type": "stream",
     "text": [
      "Processed: /home/simon/Desktop/concept-tree/concept-tree/nn_graph_makers/test_files/file68.txt -> /home/simon/Desktop/concept-tree/concept-tree/nn_graph_makers/test_files_output/file68.txt\n"
     ]
    },
    {
     "name": "stderr",
     "output_type": "stream",
     "text": [
      "13it [00:34,  1.70s/it]"
     ]
    },
    {
     "name": "stdout",
     "output_type": "stream",
     "text": [
      "Processed: /home/simon/Desktop/concept-tree/concept-tree/nn_graph_makers/test_files/file78.txt -> /home/simon/Desktop/concept-tree/concept-tree/nn_graph_makers/test_files_output/file78.txt\n"
     ]
    },
    {
     "name": "stderr",
     "output_type": "stream",
     "text": [
      "14it [00:36,  1.65s/it]"
     ]
    },
    {
     "name": "stdout",
     "output_type": "stream",
     "text": [
      "Processed: /home/simon/Desktop/concept-tree/concept-tree/nn_graph_makers/test_files/file48_processed.txt -> /home/simon/Desktop/concept-tree/concept-tree/nn_graph_makers/test_files_output/file48_processed.txt\n"
     ]
    },
    {
     "name": "stderr",
     "output_type": "stream",
     "text": [
      "15it [00:37,  1.53s/it]"
     ]
    },
    {
     "name": "stdout",
     "output_type": "stream",
     "text": [
      "Processed: /home/simon/Desktop/concept-tree/concept-tree/nn_graph_makers/test_files/file26.txt -> /home/simon/Desktop/concept-tree/concept-tree/nn_graph_makers/test_files_output/file26.txt\n"
     ]
    },
    {
     "name": "stderr",
     "output_type": "stream",
     "text": [
      "16it [00:39,  1.48s/it]"
     ]
    },
    {
     "name": "stdout",
     "output_type": "stream",
     "text": [
      "Processed: /home/simon/Desktop/concept-tree/concept-tree/nn_graph_makers/test_files/file55.txt -> /home/simon/Desktop/concept-tree/concept-tree/nn_graph_makers/test_files_output/file55.txt\n"
     ]
    },
    {
     "name": "stderr",
     "output_type": "stream",
     "text": [
      "17it [00:40,  1.42s/it]"
     ]
    },
    {
     "name": "stdout",
     "output_type": "stream",
     "text": [
      "Processed: /home/simon/Desktop/concept-tree/concept-tree/nn_graph_makers/test_files/file49.txt -> /home/simon/Desktop/concept-tree/concept-tree/nn_graph_makers/test_files_output/file49.txt\n"
     ]
    },
    {
     "name": "stderr",
     "output_type": "stream",
     "text": [
      "18it [00:41,  1.42s/it]"
     ]
    },
    {
     "name": "stdout",
     "output_type": "stream",
     "text": [
      "Processed: /home/simon/Desktop/concept-tree/concept-tree/nn_graph_makers/test_files/file57.txt -> /home/simon/Desktop/concept-tree/concept-tree/nn_graph_makers/test_files_output/file57.txt\n"
     ]
    },
    {
     "name": "stderr",
     "output_type": "stream",
     "text": [
      "19it [00:43,  1.36s/it]"
     ]
    },
    {
     "name": "stdout",
     "output_type": "stream",
     "text": [
      "Processed: /home/simon/Desktop/concept-tree/concept-tree/nn_graph_makers/test_files/file74.txt -> /home/simon/Desktop/concept-tree/concept-tree/nn_graph_makers/test_files_output/file74.txt\n"
     ]
    },
    {
     "name": "stderr",
     "output_type": "stream",
     "text": [
      "21it [00:45,  1.25s/it]"
     ]
    },
    {
     "name": "stdout",
     "output_type": "stream",
     "text": [
      "Processed: /home/simon/Desktop/concept-tree/concept-tree/nn_graph_makers/test_files/file62.txt -> /home/simon/Desktop/concept-tree/concept-tree/nn_graph_makers/test_files_output/file62.txt\n",
      "Processed: /home/simon/Desktop/concept-tree/concept-tree/nn_graph_makers/test_files/file24_processed.txt -> /home/simon/Desktop/concept-tree/concept-tree/nn_graph_makers/test_files_output/file24_processed.txt\n"
     ]
    },
    {
     "name": "stderr",
     "output_type": "stream",
     "text": [
      "22it [00:48,  1.63s/it]"
     ]
    },
    {
     "name": "stdout",
     "output_type": "stream",
     "text": [
      "Processed: /home/simon/Desktop/concept-tree/concept-tree/nn_graph_makers/test_files/file94.txt -> /home/simon/Desktop/concept-tree/concept-tree/nn_graph_makers/test_files_output/file94.txt\n",
      "Processed: /home/simon/Desktop/concept-tree/concept-tree/nn_graph_makers/test_files/file38.txt -> /home/simon/Desktop/concept-tree/concept-tree/nn_graph_makers/test_files_output/file38.txt\n"
     ]
    },
    {
     "name": "stderr",
     "output_type": "stream",
     "text": [
      "24it [00:50,  1.48s/it]"
     ]
    },
    {
     "name": "stdout",
     "output_type": "stream",
     "text": [
      "Processed: /home/simon/Desktop/concept-tree/concept-tree/nn_graph_makers/test_files/file87.txt -> /home/simon/Desktop/concept-tree/concept-tree/nn_graph_makers/test_files_output/file87.txt\n",
      "Processed: /home/simon/Desktop/concept-tree/concept-tree/nn_graph_makers/test_files/file76.txt -> /home/simon/Desktop/concept-tree/concept-tree/nn_graph_makers/test_files_output/file76.txt\n"
     ]
    },
    {
     "name": "stderr",
     "output_type": "stream",
     "text": [
      "26it [00:53,  1.41s/it]"
     ]
    },
    {
     "name": "stdout",
     "output_type": "stream",
     "text": [
      "Processed: /home/simon/Desktop/concept-tree/concept-tree/nn_graph_makers/test_files/file50.txt -> /home/simon/Desktop/concept-tree/concept-tree/nn_graph_makers/test_files_output/file50.txt\n",
      "Processed: /home/simon/Desktop/concept-tree/concept-tree/nn_graph_makers/test_files/file47.txt -> /home/simon/Desktop/concept-tree/concept-tree/nn_graph_makers/test_files_output/file47.txt\n"
     ]
    },
    {
     "name": "stderr",
     "output_type": "stream",
     "text": [
      "28it [00:56,  1.40s/it]"
     ]
    },
    {
     "name": "stdout",
     "output_type": "stream",
     "text": [
      "Processed: /home/simon/Desktop/concept-tree/concept-tree/nn_graph_makers/test_files/file63.txt -> /home/simon/Desktop/concept-tree/concept-tree/nn_graph_makers/test_files_output/file63.txt\n",
      "Processed: /home/simon/Desktop/concept-tree/concept-tree/nn_graph_makers/test_files/file96.txt -> /home/simon/Desktop/concept-tree/concept-tree/nn_graph_makers/test_files_output/file96.txt\n"
     ]
    },
    {
     "name": "stderr",
     "output_type": "stream",
     "text": [
      "30it [00:58,  1.37s/it]"
     ]
    },
    {
     "name": "stdout",
     "output_type": "stream",
     "text": [
      "Processed: /home/simon/Desktop/concept-tree/concept-tree/nn_graph_makers/test_files/file64.txt -> /home/simon/Desktop/concept-tree/concept-tree/nn_graph_makers/test_files_output/file64.txt\n",
      "Processed: /home/simon/Desktop/concept-tree/concept-tree/nn_graph_makers/test_files/file77.txt -> /home/simon/Desktop/concept-tree/concept-tree/nn_graph_makers/test_files_output/file77.txt\n"
     ]
    },
    {
     "name": "stderr",
     "output_type": "stream",
     "text": [
      "32it [01:01,  1.36s/it]"
     ]
    },
    {
     "name": "stdout",
     "output_type": "stream",
     "text": [
      "Processed: /home/simon/Desktop/concept-tree/concept-tree/nn_graph_makers/test_files/file36.txt -> /home/simon/Desktop/concept-tree/concept-tree/nn_graph_makers/test_files_output/file36.txt\n"
     ]
    },
    {
     "name": "stderr",
     "output_type": "stream",
     "text": [
      "33it [01:02,  1.36s/it]"
     ]
    },
    {
     "name": "stdout",
     "output_type": "stream",
     "text": [
      "Processed: /home/simon/Desktop/concept-tree/concept-tree/nn_graph_makers/test_files/file39_processed.txt -> /home/simon/Desktop/concept-tree/concept-tree/nn_graph_makers/test_files_output/file39_processed.txt\n"
     ]
    },
    {
     "name": "stderr",
     "output_type": "stream",
     "text": [
      "34it [01:04,  1.35s/it]"
     ]
    },
    {
     "name": "stdout",
     "output_type": "stream",
     "text": [
      "Processed: /home/simon/Desktop/concept-tree/concept-tree/nn_graph_makers/test_files/file91.txt -> /home/simon/Desktop/concept-tree/concept-tree/nn_graph_makers/test_files_output/file91.txt\n"
     ]
    },
    {
     "name": "stderr",
     "output_type": "stream",
     "text": [
      "35it [01:05,  1.37s/it]"
     ]
    },
    {
     "name": "stdout",
     "output_type": "stream",
     "text": [
      "Processed: /home/simon/Desktop/concept-tree/concept-tree/nn_graph_makers/test_files/file67.txt -> /home/simon/Desktop/concept-tree/concept-tree/nn_graph_makers/test_files_output/file67.txt\n"
     ]
    },
    {
     "name": "stderr",
     "output_type": "stream",
     "text": [
      "36it [01:08,  1.70s/it]"
     ]
    },
    {
     "name": "stdout",
     "output_type": "stream",
     "text": [
      "Processed: /home/simon/Desktop/concept-tree/concept-tree/nn_graph_makers/test_files/file42_processed.txt -> /home/simon/Desktop/concept-tree/concept-tree/nn_graph_makers/test_files_output/file42_processed.txt\n"
     ]
    },
    {
     "name": "stderr",
     "output_type": "stream",
     "text": [
      "37it [01:09,  1.61s/it]"
     ]
    },
    {
     "name": "stdout",
     "output_type": "stream",
     "text": [
      "Processed: /home/simon/Desktop/concept-tree/concept-tree/nn_graph_makers/test_files/file55_processed.txt -> /home/simon/Desktop/concept-tree/concept-tree/nn_graph_makers/test_files_output/file55_processed.txt\n"
     ]
    },
    {
     "name": "stderr",
     "output_type": "stream",
     "text": [
      "38it [01:12,  1.89s/it]"
     ]
    },
    {
     "name": "stdout",
     "output_type": "stream",
     "text": [
      "Processed: /home/simon/Desktop/concept-tree/concept-tree/nn_graph_makers/test_files/file75.txt -> /home/simon/Desktop/concept-tree/concept-tree/nn_graph_makers/test_files_output/file75.txt\n",
      "Processed: /home/simon/Desktop/concept-tree/concept-tree/nn_graph_makers/test_files/file50_processed.txt -> /home/simon/Desktop/concept-tree/concept-tree/nn_graph_makers/test_files_output/file50_processed.txt\n"
     ]
    },
    {
     "name": "stderr",
     "output_type": "stream",
     "text": [
      "40it [01:15,  1.66s/it]"
     ]
    },
    {
     "name": "stdout",
     "output_type": "stream",
     "text": [
      "Processed: /home/simon/Desktop/concept-tree/concept-tree/nn_graph_makers/test_files/file89.txt -> /home/simon/Desktop/concept-tree/concept-tree/nn_graph_makers/test_files_output/file89.txt\n"
     ]
    },
    {
     "name": "stderr",
     "output_type": "stream",
     "text": [
      "40it [01:15,  1.89s/it]\n"
     ]
    },
    {
     "name": "stdout",
     "output_type": "stream",
     "text": [
      "Processed: /home/simon/Desktop/concept-tree/concept-tree/nn_graph_makers/test_files/file31_processed.txt -> /home/simon/Desktop/concept-tree/concept-tree/nn_graph_makers/test_files_output/file31_processed.txt\n",
      "Processed: /home/simon/Desktop/concept-tree/concept-tree/nn_graph_makers/test_files/file48.txt -> /home/simon/Desktop/concept-tree/concept-tree/nn_graph_makers/test_files_output/file48.txt\n",
      "Processed: /home/simon/Desktop/concept-tree/concept-tree/nn_graph_makers/test_files/file54_processed.txt -> /home/simon/Desktop/concept-tree/concept-tree/nn_graph_makers/test_files_output/file54_processed.txt\n",
      "Processed: /home/simon/Desktop/concept-tree/concept-tree/nn_graph_makers/test_files/file49_processed.txt -> /home/simon/Desktop/concept-tree/concept-tree/nn_graph_makers/test_files_output/file49_processed.txt\n",
      "Processed: /home/simon/Desktop/concept-tree/concept-tree/nn_graph_makers/test_files/file46.txt -> /home/simon/Desktop/concept-tree/concept-tree/nn_graph_makers/test_files_output/file46.txt\n",
      "Processed: /home/simon/Desktop/concept-tree/concept-tree/nn_graph_makers/test_files/file86.txt -> /home/simon/Desktop/concept-tree/concept-tree/nn_graph_makers/test_files_output/file86.txt\n",
      "Processed: /home/simon/Desktop/concept-tree/concept-tree/nn_graph_makers/test_files/file42.txt -> /home/simon/Desktop/concept-tree/concept-tree/nn_graph_makers/test_files_output/file42.txt\n",
      "Processed: /home/simon/Desktop/concept-tree/concept-tree/nn_graph_makers/test_files/file92.txt -> /home/simon/Desktop/concept-tree/concept-tree/nn_graph_makers/test_files_output/file92.txt\n"
     ]
    }
   ],
   "source": [
    "resolver.process_files(input_files, output_files, algorithm=\"neural\", verbose=True)"
   ]
  }
 ],
 "metadata": {
  "kernelspec": {
   "display_name": ".venv-concept-graph",
   "language": "python",
   "name": "python3"
  },
  "language_info": {
   "codemirror_mode": {
    "name": "ipython",
    "version": 3
   },
   "file_extension": ".py",
   "mimetype": "text/x-python",
   "name": "python",
   "nbconvert_exporter": "python",
   "pygments_lexer": "ipython3",
   "version": "3.10.12"
  }
 },
 "nbformat": 4,
 "nbformat_minor": 2
}
