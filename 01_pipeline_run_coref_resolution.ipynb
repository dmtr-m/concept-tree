{
 "cells": [
  {
   "cell_type": "markdown",
   "metadata": {},
   "source": [
    "# Решаем анафору в текстах"
   ]
  },
  {
   "cell_type": "code",
   "execution_count": 1,
   "metadata": {},
   "outputs": [
    {
     "name": "stderr",
     "output_type": "stream",
     "text": [
      "/home/simon/Desktop/concept-tree/concept-tree/.venv-concept-graph/lib/python3.10/site-packages/tqdm/auto.py:21: TqdmWarning: IProgress not found. Please update jupyter and ipywidgets. See https://ipywidgets.readthedocs.io/en/stable/user_install.html\n",
      "  from .autonotebook import tqdm as notebook_tqdm\n"
     ]
    }
   ],
   "source": [
    "from nn_graph_makers.corenlp_coref_resolver_en import CoreferenceResolver, process_files_parallel"
   ]
  },
  {
   "cell_type": "code",
   "execution_count": 2,
   "metadata": {},
   "outputs": [],
   "source": [
    "import os\n",
    "from pathlib import Path"
   ]
  },
  {
   "cell_type": "code",
   "execution_count": null,
   "metadata": {},
   "outputs": [],
   "source": [
    "input_directory = Path(\"/home/kdemyokhin_1/concept-tree-course-work/articles_parsed_splitted/arxiv-txt-cs\")\n",
    "output_directory = Path(\"/home/kdemyokhin_1/concept-tree-course-work/articles_anaphora_resolved_splitted/arxiv-txt-cs\")"
   ]
  },
  {
   "cell_type": "code",
   "execution_count": null,
   "metadata": {},
   "outputs": [],
   "source": [
    "# input_directory = Path(\"/home/simon/Desktop/concept-tree/concept-tree/nn_graph_makers/test_files\")\n",
    "# output_directory = Path(\"/home/simon/Desktop/concept-tree/concept-tree/nn_graph_makers/test_files_output\")"
   ]
  },
  {
   "cell_type": "code",
   "execution_count": 5,
   "metadata": {},
   "outputs": [],
   "source": [
    "# Получаем список всех txt файлов рекурсивно (включая поддиректории)\n",
    "input_files = list(input_directory.rglob(\"*.txt\"))\n",
    "\n",
    "# Формируем список выходных файлов, сохраняя структуру поддиректорий\n",
    "output_files = []\n",
    "for file in input_files:\n",
    "    # Вычисляем относительный путь файла относительно input_directory\n",
    "    relative_path = file.relative_to(input_directory)\n",
    "    # Формируем путь к файлу в выходной директории\n",
    "    out_file = output_directory / relative_path\n",
    "    # Создаем директорию, если её ещё нет\n",
    "    out_file.parent.mkdir(parents=True, exist_ok=True)\n",
    "    output_files.append(out_file)"
   ]
  },
  {
   "cell_type": "code",
   "execution_count": 6,
   "metadata": {},
   "outputs": [],
   "source": [
    "# print(output_files)"
   ]
  },
  {
   "cell_type": "code",
   "execution_count": null,
   "metadata": {},
   "outputs": [],
   "source": [
    "THREADS_AMOUNT = os.cpu_count()\n",
    "NUM_SERVERS = 2\n",
    "MAX_CHAR_COUNT = 1035573*100\n",
    "MEMORY_IN_GS_PER_SERVER = 2"
   ]
  },
  {
   "cell_type": "code",
   "execution_count": null,
   "metadata": {},
   "outputs": [
    {
     "name": "stderr",
     "output_type": "stream",
     "text": [
      "2025-03-25 19:55:50 INFO: Writing properties to tmp file: corenlp_server-4c682bddfe8d4e19.props\n",
      "2025-03-25 19:55:50 INFO: Starting server with command: java -Xmx5G -cp /home/simon/Desktop/concept-tree/concept-tree/nn_graph_makers/stanford-corenlp-4.5.8/* edu.stanford.nlp.pipeline.StanfordCoreNLPServer -port 9000 -timeout 60000 -threads 8 -maxCharLength 100000 -quiet True -serverProperties corenlp_server-4c682bddfe8d4e19.props -preload -outputFormat serialized\n",
      "2025-03-25 19:55:50 INFO: Writing properties to tmp file: corenlp_server-e8805561760845aa.props\n",
      "2025-03-25 19:55:50 INFO: Starting server with command: java -Xmx5G -cp /home/simon/Desktop/concept-tree/concept-tree/nn_graph_makers/stanford-corenlp-4.5.8/* edu.stanford.nlp.pipeline.StanfordCoreNLPServer -port 9001 -timeout 60000 -threads 8 -maxCharLength 100000 -quiet True -serverProperties corenlp_server-e8805561760845aa.props -preload -outputFormat serialized\n",
      "132it [00:00, 5985.00it/s]\n"
     ]
    }
   ],
   "source": [
    "process_files_parallel(THREADS_AMOUNT, NUM_SERVERS, MAX_CHAR_COUNT, MEMORY_IN_GS_PER_SERVER, \"statistical\", input_files, output_files)"
   ]
  }
 ],
 "metadata": {
  "kernelspec": {
   "display_name": ".venv-concept-graph",
   "language": "python",
   "name": "python3"
  },
  "language_info": {
   "codemirror_mode": {
    "name": "ipython",
    "version": 3
   },
   "file_extension": ".py",
   "mimetype": "text/x-python",
   "name": "python",
   "nbconvert_exporter": "python",
   "pygments_lexer": "ipython3",
   "version": "3.10.12"
  }
 },
 "nbformat": 4,
 "nbformat_minor": 2
}
