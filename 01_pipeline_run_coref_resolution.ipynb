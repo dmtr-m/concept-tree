{
 "cells": [
  {
   "cell_type": "markdown",
   "metadata": {},
   "source": [
    "# Решаем анафору в текстах"
   ]
  },
  {
   "cell_type": "code",
   "execution_count": 1,
   "metadata": {},
   "outputs": [
    {
     "name": "stderr",
     "output_type": "stream",
     "text": [
      "/home/simon/Desktop/concept-tree/concept-tree/.venv-concept-graph/lib/python3.10/site-packages/tqdm/auto.py:21: TqdmWarning: IProgress not found. Please update jupyter and ipywidgets. See https://ipywidgets.readthedocs.io/en/stable/user_install.html\n",
      "  from .autonotebook import tqdm as notebook_tqdm\n"
     ]
    }
   ],
   "source": [
    "from nn_graph_makers.corenlp_coref_resolver_en import CoreferenceResolver\n",
    "from nn_graph_makers.find_free_ports import find_free_ports"
   ]
  },
  {
   "cell_type": "code",
   "execution_count": 2,
   "metadata": {},
   "outputs": [],
   "source": [
    "import os\n",
    "from pathlib import Path"
   ]
  },
  {
   "cell_type": "code",
   "execution_count": 3,
   "metadata": {},
   "outputs": [],
   "source": [
    "# input_directory = Path(\"/home/kdemyokhin_1/concept-tree-course-work/articles_parsed_splitted/arxiv-txt-cs\")\n",
    "# output_directory = Path(\"/home/kdemyokhin_1/concept-tree-course-work/articles_anaphora_resolved_splitted/arxiv-txt-cs\")"
   ]
  },
  {
   "cell_type": "code",
   "execution_count": 4,
   "metadata": {},
   "outputs": [],
   "source": [
    "input_directory = Path(\"/home/simon/Desktop/concept-tree/concept-tree/nn_graph_makers/test_files_output\")\n",
    "output_directory = Path(\"/home/simon/Desktop/concept-tree/concept-tree/nn_graph_makers/test_files_output_anaphora_splitted\")"
   ]
  },
  {
   "cell_type": "code",
   "execution_count": 5,
   "metadata": {},
   "outputs": [],
   "source": [
    "# Получаем список всех txt файлов рекурсивно (включая поддиректории)\n",
    "input_files = list(input_directory.rglob(\"*.txt\"))\n",
    "\n",
    "# Формируем список выходных файлов, сохраняя структуру поддиректорий\n",
    "output_files = []\n",
    "for file in input_files:\n",
    "    # Вычисляем относительный путь файла относительно input_directory\n",
    "    relative_path = file.relative_to(input_directory)\n",
    "    # Формируем путь к файлу в выходной директории\n",
    "    out_file = output_directory / relative_path\n",
    "    # Создаем директорию, если её ещё нет\n",
    "    out_file.parent.mkdir(parents=True, exist_ok=True)\n",
    "    output_files.append(out_file)"
   ]
  },
  {
   "cell_type": "code",
   "execution_count": 6,
   "metadata": {},
   "outputs": [],
   "source": [
    "# print(output_files)"
   ]
  },
  {
   "cell_type": "code",
   "execution_count": null,
   "metadata": {},
   "outputs": [],
   "source": [
    "THREADS_AMOUNT = os.cpu_count()\n",
    "MAX_CHAR_COUNT = 1035573*2\n",
    "MEMORY_IN_GS_SERVER = 4\n",
    "ALGORITHM = \"statistical\"\n",
    "LOCAL_PORT = f\"http://localhost:{find_free_ports(1)[0]}\""
   ]
  },
  {
   "cell_type": "code",
   "execution_count": 8,
   "metadata": {},
   "outputs": [],
   "source": [
    "coref_resolver = CoreferenceResolver(\n",
    "    LOCAL_PORT,\n",
    "    threads=THREADS_AMOUNT,\n",
    "    max_char_length=MAX_CHAR_COUNT,\n",
    "    memory=MEMORY_IN_GS_SERVER,\n",
    "    algorithm=ALGORITHM,\n",
    ")"
   ]
  },
  {
   "cell_type": "code",
   "execution_count": null,
   "metadata": {},
   "outputs": [
    {
     "name": "stderr",
     "output_type": "stream",
     "text": [
      "2025-03-26 15:50:47 INFO: Writing properties to tmp file: corenlp_server-8cce3511bc3049f9.props\n",
      "2025-03-26 15:50:47 INFO: Starting server with command: java -Xmx4G -cp /home/simon/Desktop/concept-tree/concept-tree/nn_graph_makers/stanford-corenlp-4.5.8/* edu.stanford.nlp.pipeline.StanfordCoreNLPServer -port 9010 -timeout 60000 -threads 16 -maxCharLength 2071146 -quiet True -serverProperties corenlp_server-8cce3511bc3049f9.props -preload -outputFormat serialized\n",
      "1it [00:21, 21.03s/it]"
     ]
    },
    {
     "name": "stdout",
     "output_type": "stream",
     "text": [
      "Processed: /home/simon/Desktop/concept-tree/concept-tree/nn_graph_makers/test_files_output/file50/part_3.txt -> /home/simon/Desktop/concept-tree/concept-tree/nn_graph_makers/test_files_output_anaphora_splitted/file50/part_3.txtProcessed: /home/simon/Desktop/concept-tree/concept-tree/nn_graph_makers/test_files_output/file70/part_3.txt -> /home/simon/Desktop/concept-tree/concept-tree/nn_graph_makers/test_files_output_anaphora_splitted/file70/part_3.txt\n",
      "\n",
      "Processed: /home/simon/Desktop/concept-tree/concept-tree/nn_graph_makers/test_files_output/file29/part_3.txt -> /home/simon/Desktop/concept-tree/concept-tree/nn_graph_makers/test_files_output_anaphora_splitted/file29/part_3.txt\n",
      "Processed: /home/simon/Desktop/concept-tree/concept-tree/nn_graph_makers/test_files_output/file32/part_3.txt -> /home/simon/Desktop/concept-tree/concept-tree/nn_graph_makers/test_files_output_anaphora_splitted/file32/part_3.txt\n",
      "Processed: /home/simon/Desktop/concept-tree/concept-tree/nn_graph_makers/test_files_output/file100/part_3.txt -> /home/simon/Desktop/concept-tree/concept-tree/nn_graph_makers/test_files_output_anaphora_splitted/file100/part_3.txt\n"
     ]
    },
    {
     "name": "stderr",
     "output_type": "stream",
     "text": [
      "10it [00:21,  1.33s/it]"
     ]
    },
    {
     "name": "stdout",
     "output_type": "stream",
     "text": [
      "Processed: /home/simon/Desktop/concept-tree/concept-tree/nn_graph_makers/test_files_output/file32/part_1.txt -> /home/simon/Desktop/concept-tree/concept-tree/nn_graph_makers/test_files_output_anaphora_splitted/file32/part_1.txt\n",
      "Processed: /home/simon/Desktop/concept-tree/concept-tree/nn_graph_makers/test_files_output/file100/part_1.txt -> /home/simon/Desktop/concept-tree/concept-tree/nn_graph_makers/test_files_output_anaphora_splitted/file100/part_1.txt\n",
      "Processed: /home/simon/Desktop/concept-tree/concept-tree/nn_graph_makers/test_files_output/file50/part_1.txt -> /home/simon/Desktop/concept-tree/concept-tree/nn_graph_makers/test_files_output_anaphora_splitted/file50/part_1.txt\n",
      "Processed: /home/simon/Desktop/concept-tree/concept-tree/nn_graph_makers/test_files_output/file29/part_1.txt -> /home/simon/Desktop/concept-tree/concept-tree/nn_graph_makers/test_files_output_anaphora_splitted/file29/part_1.txt\n",
      "Processed: /home/simon/Desktop/concept-tree/concept-tree/nn_graph_makers/test_files_output/file97/part_1.txt -> /home/simon/Desktop/concept-tree/concept-tree/nn_graph_makers/test_files_output_anaphora_splitted/file97/part_1.txt\n"
     ]
    },
    {
     "name": "stderr",
     "output_type": "stream",
     "text": [
      "13it [00:21,  1.12it/s]"
     ]
    },
    {
     "name": "stdout",
     "output_type": "stream",
     "text": [
      "Processed: /home/simon/Desktop/concept-tree/concept-tree/nn_graph_makers/test_files_output/file70/part_1.txt -> /home/simon/Desktop/concept-tree/concept-tree/nn_graph_makers/test_files_output_anaphora_splitted/file70/part_1.txt\n",
      "Processed: /home/simon/Desktop/concept-tree/concept-tree/nn_graph_makers/test_files_output/file100/part_2.txt -> /home/simon/Desktop/concept-tree/concept-tree/nn_graph_makers/test_files_output_anaphora_splitted/file100/part_2.txt\n",
      "Processed: /home/simon/Desktop/concept-tree/concept-tree/nn_graph_makers/test_files_output/file70/part_2.txt -> /home/simon/Desktop/concept-tree/concept-tree/nn_graph_makers/test_files_output_anaphora_splitted/file70/part_2.txt\n"
     ]
    },
    {
     "name": "stderr",
     "output_type": "stream",
     "text": [
      "15it [00:21,  1.41it/s]"
     ]
    },
    {
     "name": "stdout",
     "output_type": "stream",
     "text": [
      "Processed: /home/simon/Desktop/concept-tree/concept-tree/nn_graph_makers/test_files_output/file29/part_2.txt -> /home/simon/Desktop/concept-tree/concept-tree/nn_graph_makers/test_files_output_anaphora_splitted/file29/part_2.txt\n",
      "Processed: /home/simon/Desktop/concept-tree/concept-tree/nn_graph_makers/test_files_output/file32/part_2.txt -> /home/simon/Desktop/concept-tree/concept-tree/nn_graph_makers/test_files_output_anaphora_splitted/file32/part_2.txt\n",
      "Processed: /home/simon/Desktop/concept-tree/concept-tree/nn_graph_makers/test_files_output/file50/part_2.txt -> /home/simon/Desktop/concept-tree/concept-tree/nn_graph_makers/test_files_output_anaphora_splitted/file50/part_2.txt\n"
     ]
    },
    {
     "name": "stderr",
     "output_type": "stream",
     "text": [
      "18it [00:23,  1.77it/s]"
     ]
    },
    {
     "name": "stdout",
     "output_type": "stream",
     "text": [
      "Processed: /home/simon/Desktop/concept-tree/concept-tree/nn_graph_makers/test_files_output/file67/part_3.txt -> /home/simon/Desktop/concept-tree/concept-tree/nn_graph_makers/test_files_output_anaphora_splitted/file67/part_3.txt\n",
      "Processed: /home/simon/Desktop/concept-tree/concept-tree/nn_graph_makers/test_files_output/file97/part_3.txt -> /home/simon/Desktop/concept-tree/concept-tree/nn_graph_makers/test_files_output_anaphora_splitted/file97/part_3.txt\n"
     ]
    },
    {
     "name": "stderr",
     "output_type": "stream",
     "text": [
      "19it [00:23,  2.06it/s]"
     ]
    },
    {
     "name": "stdout",
     "output_type": "stream",
     "text": [
      "Processed: /home/simon/Desktop/concept-tree/concept-tree/nn_graph_makers/test_files_output/file99/part_3.txt -> /home/simon/Desktop/concept-tree/concept-tree/nn_graph_makers/test_files_output_anaphora_splitted/file99/part_3.txt\n"
     ]
    },
    {
     "name": "stderr",
     "output_type": "stream",
     "text": [
      "20it [00:23,  2.06it/s]"
     ]
    },
    {
     "name": "stdout",
     "output_type": "stream",
     "text": [
      "Processed: /home/simon/Desktop/concept-tree/concept-tree/nn_graph_makers/test_files_output/file84/part_3.txt -> /home/simon/Desktop/concept-tree/concept-tree/nn_graph_makers/test_files_output_anaphora_splitted/file84/part_3.txtProcessed: /home/simon/Desktop/concept-tree/concept-tree/nn_graph_makers/test_files_output/file34/part_3.txt -> /home/simon/Desktop/concept-tree/concept-tree/nn_graph_makers/test_files_output_anaphora_splitted/file34/part_3.txt\n",
      "\n"
     ]
    },
    {
     "name": "stderr",
     "output_type": "stream",
     "text": [
      "23it [00:24,  2.61it/s]"
     ]
    },
    {
     "name": "stdout",
     "output_type": "stream",
     "text": [
      "Processed: /home/simon/Desktop/concept-tree/concept-tree/nn_graph_makers/test_files_output/file67/part_2.txt -> /home/simon/Desktop/concept-tree/concept-tree/nn_graph_makers/test_files_output_anaphora_splitted/file67/part_2.txt\n",
      "Processed: /home/simon/Desktop/concept-tree/concept-tree/nn_graph_makers/test_files_output/file67/part_1.txt -> /home/simon/Desktop/concept-tree/concept-tree/nn_graph_makers/test_files_output_anaphora_splitted/file67/part_1.txt\n"
     ]
    },
    {
     "name": "stderr",
     "output_type": "stream",
     "text": [
      "27it [00:24,  5.53it/s]"
     ]
    },
    {
     "name": "stdout",
     "output_type": "stream",
     "text": [
      "Processed: /home/simon/Desktop/concept-tree/concept-tree/nn_graph_makers/test_files_output/file84/part_1.txt -> /home/simon/Desktop/concept-tree/concept-tree/nn_graph_makers/test_files_output_anaphora_splitted/file84/part_1.txt\n",
      "Processed: /home/simon/Desktop/concept-tree/concept-tree/nn_graph_makers/test_files_output/file97/part_2.txt -> /home/simon/Desktop/concept-tree/concept-tree/nn_graph_makers/test_files_output_anaphora_splitted/file97/part_2.txt\n",
      "Processed: /home/simon/Desktop/concept-tree/concept-tree/nn_graph_makers/test_files_output/file42/part_3.txt -> /home/simon/Desktop/concept-tree/concept-tree/nn_graph_makers/test_files_output_anaphora_splitted/file42/part_3.txt\n",
      "Processed: /home/simon/Desktop/concept-tree/concept-tree/nn_graph_makers/test_files_output/file99/part_1.txt -> /home/simon/Desktop/concept-tree/concept-tree/nn_graph_makers/test_files_output_anaphora_splitted/file99/part_1.txt\n"
     ]
    },
    {
     "name": "stderr",
     "output_type": "stream",
     "text": [
      "29it [00:25,  6.26it/s]"
     ]
    },
    {
     "name": "stdout",
     "output_type": "stream",
     "text": [
      "Processed: /home/simon/Desktop/concept-tree/concept-tree/nn_graph_makers/test_files_output/file99/part_2.txt -> /home/simon/Desktop/concept-tree/concept-tree/nn_graph_makers/test_files_output_anaphora_splitted/file99/part_2.txt\n",
      "Processed: /home/simon/Desktop/concept-tree/concept-tree/nn_graph_makers/test_files_output/file42/part_1.txt -> /home/simon/Desktop/concept-tree/concept-tree/nn_graph_makers/test_files_output_anaphora_splitted/file42/part_1.txt\n",
      "Processed: /home/simon/Desktop/concept-tree/concept-tree/nn_graph_makers/test_files_output/file84/part_2.txt -> /home/simon/Desktop/concept-tree/concept-tree/nn_graph_makers/test_files_output_anaphora_splitted/file84/part_2.txt\n"
     ]
    },
    {
     "name": "stderr",
     "output_type": "stream",
     "text": [
      "31it [00:25,  7.24it/s]"
     ]
    },
    {
     "name": "stdout",
     "output_type": "stream",
     "text": [
      "Processed: /home/simon/Desktop/concept-tree/concept-tree/nn_graph_makers/test_files_output/file34/part_2.txt -> /home/simon/Desktop/concept-tree/concept-tree/nn_graph_makers/test_files_output_anaphora_splitted/file34/part_2.txt\n",
      "Processed: /home/simon/Desktop/concept-tree/concept-tree/nn_graph_makers/test_files_output/file62/part_3.txt -> /home/simon/Desktop/concept-tree/concept-tree/nn_graph_makers/test_files_output_anaphora_splitted/file62/part_3.txt\n",
      "Processed: /home/simon/Desktop/concept-tree/concept-tree/nn_graph_makers/test_files_output/file34/part_1.txt -> /home/simon/Desktop/concept-tree/concept-tree/nn_graph_makers/test_files_output_anaphora_splitted/file34/part_1.txt\n"
     ]
    },
    {
     "name": "stderr",
     "output_type": "stream",
     "text": [
      "34it [00:25,  5.33it/s]"
     ]
    },
    {
     "name": "stdout",
     "output_type": "stream",
     "text": [
      "Processed: /home/simon/Desktop/concept-tree/concept-tree/nn_graph_makers/test_files_output/file42/part_2.txt -> /home/simon/Desktop/concept-tree/concept-tree/nn_graph_makers/test_files_output_anaphora_splitted/file42/part_2.txt\n"
     ]
    },
    {
     "name": "stderr",
     "output_type": "stream",
     "text": [
      "38it [00:26,  6.10it/s]"
     ]
    },
    {
     "name": "stdout",
     "output_type": "stream",
     "text": [
      "Processed: /home/simon/Desktop/concept-tree/concept-tree/nn_graph_makers/test_files_output/file28/part_3.txt -> /home/simon/Desktop/concept-tree/concept-tree/nn_graph_makers/test_files_output_anaphora_splitted/file28/part_3.txt\n",
      "Processed: /home/simon/Desktop/concept-tree/concept-tree/nn_graph_makers/test_files_output/file28/part_1.txt -> /home/simon/Desktop/concept-tree/concept-tree/nn_graph_makers/test_files_output_anaphora_splitted/file28/part_1.txt\n",
      "Processed: /home/simon/Desktop/concept-tree/concept-tree/nn_graph_makers/test_files_output/file62/part_1.txt -> /home/simon/Desktop/concept-tree/concept-tree/nn_graph_makers/test_files_output_anaphora_splitted/file62/part_1.txt\n",
      "Processed: /home/simon/Desktop/concept-tree/concept-tree/nn_graph_makers/test_files_output/file62/part_2.txt -> /home/simon/Desktop/concept-tree/concept-tree/nn_graph_makers/test_files_output_anaphora_splitted/file62/part_2.txt\n",
      "Processed: /home/simon/Desktop/concept-tree/concept-tree/nn_graph_makers/test_files_output/file43/part_3.txt -> /home/simon/Desktop/concept-tree/concept-tree/nn_graph_makers/test_files_output_anaphora_splitted/file43/part_3.txt\n"
     ]
    },
    {
     "name": "stderr",
     "output_type": "stream",
     "text": [
      "40it [00:27,  5.51it/s]"
     ]
    },
    {
     "name": "stdout",
     "output_type": "stream",
     "text": [
      "Processed: /home/simon/Desktop/concept-tree/concept-tree/nn_graph_makers/test_files_output/file52/part_3.txt -> /home/simon/Desktop/concept-tree/concept-tree/nn_graph_makers/test_files_output_anaphora_splitted/file52/part_3.txt\n",
      "Processed: /home/simon/Desktop/concept-tree/concept-tree/nn_graph_makers/test_files_output/file87/part_3.txt -> /home/simon/Desktop/concept-tree/concept-tree/nn_graph_makers/test_files_output_anaphora_splitted/file87/part_3.txt\n"
     ]
    },
    {
     "name": "stderr",
     "output_type": "stream",
     "text": [
      "44it [00:28,  4.54it/s]"
     ]
    },
    {
     "name": "stdout",
     "output_type": "stream",
     "text": [
      "Processed: /home/simon/Desktop/concept-tree/concept-tree/nn_graph_makers/test_files_output/file89/part_3.txt -> /home/simon/Desktop/concept-tree/concept-tree/nn_graph_makers/test_files_output_anaphora_splitted/file89/part_3.txt\n",
      "Processed: /home/simon/Desktop/concept-tree/concept-tree/nn_graph_makers/test_files_output/file43/part_1.txt -> /home/simon/Desktop/concept-tree/concept-tree/nn_graph_makers/test_files_output_anaphora_splitted/file43/part_1.txt\n",
      "Processed: /home/simon/Desktop/concept-tree/concept-tree/nn_graph_makers/test_files_output/file52/part_1.txt -> /home/simon/Desktop/concept-tree/concept-tree/nn_graph_makers/test_files_output_anaphora_splitted/file52/part_1.txt\n",
      "Processed: /home/simon/Desktop/concept-tree/concept-tree/nn_graph_makers/test_files_output/file28/part_2.txt -> /home/simon/Desktop/concept-tree/concept-tree/nn_graph_makers/test_files_output_anaphora_splitted/file28/part_2.txt\n"
     ]
    },
    {
     "name": "stderr",
     "output_type": "stream",
     "text": [
      "46it [00:28,  5.13it/s]"
     ]
    },
    {
     "name": "stdout",
     "output_type": "stream",
     "text": [
      "Processed: /home/simon/Desktop/concept-tree/concept-tree/nn_graph_makers/test_files_output/file66/part_3.txt -> /home/simon/Desktop/concept-tree/concept-tree/nn_graph_makers/test_files_output_anaphora_splitted/file66/part_3.txt\n"
     ]
    },
    {
     "name": "stderr",
     "output_type": "stream",
     "text": [
      "48it [00:29,  3.30it/s]"
     ]
    },
    {
     "name": "stdout",
     "output_type": "stream",
     "text": [
      "Processed: /home/simon/Desktop/concept-tree/concept-tree/nn_graph_makers/test_files_output/file43/part_2.txt -> /home/simon/Desktop/concept-tree/concept-tree/nn_graph_makers/test_files_output_anaphora_splitted/file43/part_2.txt\n",
      "Processed: /home/simon/Desktop/concept-tree/concept-tree/nn_graph_makers/test_files_output/file87/part_1.txt -> /home/simon/Desktop/concept-tree/concept-tree/nn_graph_makers/test_files_output_anaphora_splitted/file87/part_1.txt\n"
     ]
    },
    {
     "name": "stderr",
     "output_type": "stream",
     "text": [
      "49it [00:29,  3.52it/s]"
     ]
    },
    {
     "name": "stdout",
     "output_type": "stream",
     "text": [
      "Processed: /home/simon/Desktop/concept-tree/concept-tree/nn_graph_makers/test_files_output/file52/part_2.txt -> /home/simon/Desktop/concept-tree/concept-tree/nn_graph_makers/test_files_output_anaphora_splitted/file52/part_2.txt\n",
      "Processed: /home/simon/Desktop/concept-tree/concept-tree/nn_graph_makers/test_files_output/file89/part_1.txt -> /home/simon/Desktop/concept-tree/concept-tree/nn_graph_makers/test_files_output_anaphora_splitted/file89/part_1.txt\n"
     ]
    },
    {
     "name": "stderr",
     "output_type": "stream",
     "text": [
      "51it [00:30,  4.38it/s]"
     ]
    },
    {
     "name": "stdout",
     "output_type": "stream",
     "text": [
      "Processed: /home/simon/Desktop/concept-tree/concept-tree/nn_graph_makers/test_files_output/file87/part_2.txt -> /home/simon/Desktop/concept-tree/concept-tree/nn_graph_makers/test_files_output_anaphora_splitted/file87/part_2.txt\n",
      "Processed: /home/simon/Desktop/concept-tree/concept-tree/nn_graph_makers/test_files_output/file30/part_3.txt -> /home/simon/Desktop/concept-tree/concept-tree/nn_graph_makers/test_files_output_anaphora_splitted/file30/part_3.txt\n"
     ]
    },
    {
     "name": "stderr",
     "output_type": "stream",
     "text": [
      "53it [00:30,  4.50it/s]"
     ]
    },
    {
     "name": "stdout",
     "output_type": "stream",
     "text": [
      "Processed: /home/simon/Desktop/concept-tree/concept-tree/nn_graph_makers/test_files_output/file89/part_2.txt -> /home/simon/Desktop/concept-tree/concept-tree/nn_graph_makers/test_files_output_anaphora_splitted/file89/part_2.txt\n"
     ]
    },
    {
     "name": "stderr",
     "output_type": "stream",
     "text": [
      "55it [00:31,  4.60it/s]"
     ]
    },
    {
     "name": "stdout",
     "output_type": "stream",
     "text": [
      "Processed: /home/simon/Desktop/concept-tree/concept-tree/nn_graph_makers/test_files_output/file48/part_3.txt -> /home/simon/Desktop/concept-tree/concept-tree/nn_graph_makers/test_files_output_anaphora_splitted/file48/part_3.txt\n",
      "Processed: /home/simon/Desktop/concept-tree/concept-tree/nn_graph_makers/test_files_output/file66/part_1.txt -> /home/simon/Desktop/concept-tree/concept-tree/nn_graph_makers/test_files_output_anaphora_splitted/file66/part_1.txt\n",
      "Processed: /home/simon/Desktop/concept-tree/concept-tree/nn_graph_makers/test_files_output/file30/part_1.txt -> /home/simon/Desktop/concept-tree/concept-tree/nn_graph_makers/test_files_output_anaphora_splitted/file30/part_1.txt\n",
      "Processed: /home/simon/Desktop/concept-tree/concept-tree/nn_graph_makers/test_files_output/file25/part_3.txt -> /home/simon/Desktop/concept-tree/concept-tree/nn_graph_makers/test_files_output_anaphora_splitted/file25/part_3.txt\n"
     ]
    },
    {
     "name": "stderr",
     "output_type": "stream",
     "text": [
      "59it [00:31,  6.60it/s]"
     ]
    },
    {
     "name": "stdout",
     "output_type": "stream",
     "text": [
      "Processed: /home/simon/Desktop/concept-tree/concept-tree/nn_graph_makers/test_files_output/file66/part_2.txt -> /home/simon/Desktop/concept-tree/concept-tree/nn_graph_makers/test_files_output_anaphora_splitted/file66/part_2.txt\n",
      "Processed: /home/simon/Desktop/concept-tree/concept-tree/nn_graph_makers/test_files_output/file30/part_2.txt -> /home/simon/Desktop/concept-tree/concept-tree/nn_graph_makers/test_files_output_anaphora_splitted/file30/part_2.txt\n"
     ]
    },
    {
     "name": "stderr",
     "output_type": "stream",
     "text": [
      "60it [00:31,  5.10it/s]"
     ]
    },
    {
     "name": "stdout",
     "output_type": "stream",
     "text": [
      "Processed: /home/simon/Desktop/concept-tree/concept-tree/nn_graph_makers/test_files_output/file74/part_3.txt -> /home/simon/Desktop/concept-tree/concept-tree/nn_graph_makers/test_files_output_anaphora_splitted/file74/part_3.txt\n"
     ]
    },
    {
     "name": "stderr",
     "output_type": "stream",
     "text": [
      "61it [00:32,  4.14it/s]"
     ]
    },
    {
     "name": "stdout",
     "output_type": "stream",
     "text": [
      "Processed: /home/simon/Desktop/concept-tree/concept-tree/nn_graph_makers/test_files_output/file48/part_1.txt -> /home/simon/Desktop/concept-tree/concept-tree/nn_graph_makers/test_files_output_anaphora_splitted/file48/part_1.txt\n"
     ]
    },
    {
     "name": "stderr",
     "output_type": "stream",
     "text": [
      "63it [00:32,  4.47it/s]"
     ]
    },
    {
     "name": "stdout",
     "output_type": "stream",
     "text": [
      "Processed: /home/simon/Desktop/concept-tree/concept-tree/nn_graph_makers/test_files_output/file25/part_1.txt -> /home/simon/Desktop/concept-tree/concept-tree/nn_graph_makers/test_files_output_anaphora_splitted/file25/part_1.txt\n",
      "Processed: /home/simon/Desktop/concept-tree/concept-tree/nn_graph_makers/test_files_output/file92/part_3.txt -> /home/simon/Desktop/concept-tree/concept-tree/nn_graph_makers/test_files_output_anaphora_splitted/file92/part_3.txt\n"
     ]
    },
    {
     "name": "stderr",
     "output_type": "stream",
     "text": [
      "65it [00:32,  5.54it/s]"
     ]
    },
    {
     "name": "stdout",
     "output_type": "stream",
     "text": [
      "Processed: /home/simon/Desktop/concept-tree/concept-tree/nn_graph_makers/test_files_output/file48/part_2.txt -> /home/simon/Desktop/concept-tree/concept-tree/nn_graph_makers/test_files_output_anaphora_splitted/file48/part_2.txt\n",
      "Processed: /home/simon/Desktop/concept-tree/concept-tree/nn_graph_makers/test_files_output/file47/part_3.txt -> /home/simon/Desktop/concept-tree/concept-tree/nn_graph_makers/test_files_output_anaphora_splitted/file47/part_3.txt\n",
      "Processed: /home/simon/Desktop/concept-tree/concept-tree/nn_graph_makers/test_files_output/file39/part_3.txt -> /home/simon/Desktop/concept-tree/concept-tree/nn_graph_makers/test_files_output_anaphora_splitted/file39/part_3.txt\n"
     ]
    },
    {
     "name": "stderr",
     "output_type": "stream",
     "text": [
      "67it [00:33,  5.63it/s]"
     ]
    },
    {
     "name": "stdout",
     "output_type": "stream",
     "text": [
      "Processed: /home/simon/Desktop/concept-tree/concept-tree/nn_graph_makers/test_files_output/file74/part_1.txt -> /home/simon/Desktop/concept-tree/concept-tree/nn_graph_makers/test_files_output_anaphora_splitted/file74/part_1.txt\n",
      "Processed: /home/simon/Desktop/concept-tree/concept-tree/nn_graph_makers/test_files_output/file25/part_2.txt -> /home/simon/Desktop/concept-tree/concept-tree/nn_graph_makers/test_files_output_anaphora_splitted/file25/part_2.txt\n"
     ]
    },
    {
     "name": "stderr",
     "output_type": "stream",
     "text": [
      "69it [00:33,  6.01it/s]"
     ]
    },
    {
     "name": "stdout",
     "output_type": "stream",
     "text": [
      "Processed: /home/simon/Desktop/concept-tree/concept-tree/nn_graph_makers/test_files_output/file92/part_1.txt -> /home/simon/Desktop/concept-tree/concept-tree/nn_graph_makers/test_files_output_anaphora_splitted/file92/part_1.txt\n",
      "Processed: /home/simon/Desktop/concept-tree/concept-tree/nn_graph_makers/test_files_output/file92/part_2.txt -> /home/simon/Desktop/concept-tree/concept-tree/nn_graph_makers/test_files_output_anaphora_splitted/file92/part_2.txt\n",
      "Processed: /home/simon/Desktop/concept-tree/concept-tree/nn_graph_makers/test_files_output/file74/part_2.txt -> /home/simon/Desktop/concept-tree/concept-tree/nn_graph_makers/test_files_output_anaphora_splitted/file74/part_2.txt\n"
     ]
    },
    {
     "name": "stderr",
     "output_type": "stream",
     "text": [
      "72it [00:33,  6.79it/s]"
     ]
    },
    {
     "name": "stdout",
     "output_type": "stream",
     "text": [
      "Processed: /home/simon/Desktop/concept-tree/concept-tree/nn_graph_makers/test_files_output/file39/part_1.txt -> /home/simon/Desktop/concept-tree/concept-tree/nn_graph_makers/test_files_output_anaphora_splitted/file39/part_1.txt\n",
      "Processed: /home/simon/Desktop/concept-tree/concept-tree/nn_graph_makers/test_files_output/file47/part_1.txt -> /home/simon/Desktop/concept-tree/concept-tree/nn_graph_makers/test_files_output_anaphora_splitted/file47/part_1.txt\n"
     ]
    },
    {
     "name": "stderr",
     "output_type": "stream",
     "text": [
      "77it [00:34,  7.54it/s]"
     ]
    },
    {
     "name": "stdout",
     "output_type": "stream",
     "text": [
      "Processed: /home/simon/Desktop/concept-tree/concept-tree/nn_graph_makers/test_files_output/file90/part_3.txt -> /home/simon/Desktop/concept-tree/concept-tree/nn_graph_makers/test_files_output_anaphora_splitted/file90/part_3.txt\n",
      "Processed: /home/simon/Desktop/concept-tree/concept-tree/nn_graph_makers/test_files_output/file90/part_1.txt -> /home/simon/Desktop/concept-tree/concept-tree/nn_graph_makers/test_files_output_anaphora_splitted/file90/part_1.txt\n",
      "Processed: /home/simon/Desktop/concept-tree/concept-tree/nn_graph_makers/test_files_output/file39/part_2.txt -> /home/simon/Desktop/concept-tree/concept-tree/nn_graph_makers/test_files_output_anaphora_splitted/file39/part_2.txt\n",
      "Processed: /home/simon/Desktop/concept-tree/concept-tree/nn_graph_makers/test_files_output/file47/part_2.txt -> /home/simon/Desktop/concept-tree/concept-tree/nn_graph_makers/test_files_output_anaphora_splitted/file47/part_2.txt\n"
     ]
    },
    {
     "name": "stderr",
     "output_type": "stream",
     "text": [
      "78it [00:34,  7.72it/s]"
     ]
    },
    {
     "name": "stdout",
     "output_type": "stream",
     "text": [
      "Processed: /home/simon/Desktop/concept-tree/concept-tree/nn_graph_makers/test_files_output/file95/part_3.txt -> /home/simon/Desktop/concept-tree/concept-tree/nn_graph_makers/test_files_output_anaphora_splitted/file95/part_3.txt\n"
     ]
    },
    {
     "name": "stderr",
     "output_type": "stream",
     "text": [
      "79it [00:35,  5.30it/s]"
     ]
    },
    {
     "name": "stdout",
     "output_type": "stream",
     "text": [
      "Processed: /home/simon/Desktop/concept-tree/concept-tree/nn_graph_makers/test_files_output/subdir_1/file7/part_3.txt -> /home/simon/Desktop/concept-tree/concept-tree/nn_graph_makers/test_files_output_anaphora_splitted/subdir_1/file7/part_3.txt\n"
     ]
    },
    {
     "name": "stderr",
     "output_type": "stream",
     "text": [
      "82it [00:35,  6.24it/s]"
     ]
    },
    {
     "name": "stdout",
     "output_type": "stream",
     "text": [
      "Processed: /home/simon/Desktop/concept-tree/concept-tree/nn_graph_makers/test_files_output/subdir_1/file8/part_3.txt -> /home/simon/Desktop/concept-tree/concept-tree/nn_graph_makers/test_files_output_anaphora_splitted/subdir_1/file8/part_3.txt\n",
      "Processed: /home/simon/Desktop/concept-tree/concept-tree/nn_graph_makers/test_files_output/file95/part_1.txt -> /home/simon/Desktop/concept-tree/concept-tree/nn_graph_makers/test_files_output_anaphora_splitted/file95/part_1.txt\n",
      "Processed: /home/simon/Desktop/concept-tree/concept-tree/nn_graph_makers/test_files_output/file90/part_2.txt -> /home/simon/Desktop/concept-tree/concept-tree/nn_graph_makers/test_files_output_anaphora_splitted/file90/part_2.txt\n"
     ]
    },
    {
     "name": "stderr",
     "output_type": "stream",
     "text": [
      "82it [00:35,  2.29it/s]\n"
     ]
    },
    {
     "name": "stdout",
     "output_type": "stream",
     "text": [
      "Processed: /home/simon/Desktop/concept-tree/concept-tree/nn_graph_makers/test_files_output/subdir_1/file7/part_1.txt -> /home/simon/Desktop/concept-tree/concept-tree/nn_graph_makers/test_files_output_anaphora_splitted/subdir_1/file7/part_1.txt\n",
      "Processed: /home/simon/Desktop/concept-tree/concept-tree/nn_graph_makers/test_files_output/subdir_1/file1/part_3.txt -> /home/simon/Desktop/concept-tree/concept-tree/nn_graph_makers/test_files_output_anaphora_splitted/subdir_1/file1/part_3.txt\n",
      "Processed: /home/simon/Desktop/concept-tree/concept-tree/nn_graph_makers/test_files_output/file95/part_2.txt -> /home/simon/Desktop/concept-tree/concept-tree/nn_graph_makers/test_files_output_anaphora_splitted/file95/part_2.txt\n",
      "Processed: /home/simon/Desktop/concept-tree/concept-tree/nn_graph_makers/test_files_output/subdir_1/file3/part_3.txt -> /home/simon/Desktop/concept-tree/concept-tree/nn_graph_makers/test_files_output_anaphora_splitted/subdir_1/file3/part_3.txt\n",
      "Processed: /home/simon/Desktop/concept-tree/concept-tree/nn_graph_makers/test_files_output/subdir_1/file8/part_1.txt -> /home/simon/Desktop/concept-tree/concept-tree/nn_graph_makers/test_files_output_anaphora_splitted/subdir_1/file8/part_1.txt\n",
      "Processed: /home/simon/Desktop/concept-tree/concept-tree/nn_graph_makers/test_files_output/subdir_1/file7/part_2.txt -> /home/simon/Desktop/concept-tree/concept-tree/nn_graph_makers/test_files_output_anaphora_splitted/subdir_1/file7/part_2.txt\n",
      "Processed: /home/simon/Desktop/concept-tree/concept-tree/nn_graph_makers/test_files_output/subdir_1/file1/part_1.txt -> /home/simon/Desktop/concept-tree/concept-tree/nn_graph_makers/test_files_output_anaphora_splitted/subdir_1/file1/part_1.txt\n",
      "Processed: /home/simon/Desktop/concept-tree/concept-tree/nn_graph_makers/test_files_output/subdir_1/file8/part_2.txt -> /home/simon/Desktop/concept-tree/concept-tree/nn_graph_makers/test_files_output_anaphora_splitted/subdir_1/file8/part_2.txt\n",
      "Processed: /home/simon/Desktop/concept-tree/concept-tree/nn_graph_makers/test_files_output/subdir_1/file10/part_3.txt -> /home/simon/Desktop/concept-tree/concept-tree/nn_graph_makers/test_files_output_anaphora_splitted/subdir_1/file10/part_3.txt\n",
      "Processed: /home/simon/Desktop/concept-tree/concept-tree/nn_graph_makers/test_files_output/subdir_1/file10/part_1.txt -> /home/simon/Desktop/concept-tree/concept-tree/nn_graph_makers/test_files_output_anaphora_splitted/subdir_1/file10/part_1.txt\n",
      "Processed: /home/simon/Desktop/concept-tree/concept-tree/nn_graph_makers/test_files_output/subdir_1/file1/part_2.txt -> /home/simon/Desktop/concept-tree/concept-tree/nn_graph_makers/test_files_output_anaphora_splitted/subdir_1/file1/part_2.txt\n",
      "Processed: /home/simon/Desktop/concept-tree/concept-tree/nn_graph_makers/test_files_output/subdir_1/file3/part_1.txt -> /home/simon/Desktop/concept-tree/concept-tree/nn_graph_makers/test_files_output_anaphora_splitted/subdir_1/file3/part_1.txt\n",
      "Processed: /home/simon/Desktop/concept-tree/concept-tree/nn_graph_makers/test_files_output/subdir_1/file5/part_3.txt -> /home/simon/Desktop/concept-tree/concept-tree/nn_graph_makers/test_files_output_anaphora_splitted/subdir_1/file5/part_3.txt\n",
      "Processed: /home/simon/Desktop/concept-tree/concept-tree/nn_graph_makers/test_files_output/subdir_1/file3/part_2.txt -> /home/simon/Desktop/concept-tree/concept-tree/nn_graph_makers/test_files_output_anaphora_splitted/subdir_1/file3/part_2.txt\n",
      "Processed: /home/simon/Desktop/concept-tree/concept-tree/nn_graph_makers/test_files_output/subdir_1/file4/part_3.txt -> /home/simon/Desktop/concept-tree/concept-tree/nn_graph_makers/test_files_output_anaphora_splitted/subdir_1/file4/part_3.txt\n",
      "Processed: /home/simon/Desktop/concept-tree/concept-tree/nn_graph_makers/test_files_output/subdir_1/file5/part_2.txt -> /home/simon/Desktop/concept-tree/concept-tree/nn_graph_makers/test_files_output_anaphora_splitted/subdir_1/file5/part_2.txt\n",
      "Processed: /home/simon/Desktop/concept-tree/concept-tree/nn_graph_makers/test_files_output/subdir_1/file5/part_1.txt -> /home/simon/Desktop/concept-tree/concept-tree/nn_graph_makers/test_files_output_anaphora_splitted/subdir_1/file5/part_1.txt\n",
      "Processed: /home/simon/Desktop/concept-tree/concept-tree/nn_graph_makers/test_files_output/subdir_1/file10/part_2.txt -> /home/simon/Desktop/concept-tree/concept-tree/nn_graph_makers/test_files_output_anaphora_splitted/subdir_1/file10/part_2.txt\n",
      "Processed: /home/simon/Desktop/concept-tree/concept-tree/nn_graph_makers/test_files_output/subdir_1/file6/part_3.txt -> /home/simon/Desktop/concept-tree/concept-tree/nn_graph_makers/test_files_output_anaphora_splitted/subdir_1/file6/part_3.txt\n",
      "Processed: /home/simon/Desktop/concept-tree/concept-tree/nn_graph_makers/test_files_output/subdir_1/file9/part_3.txt -> /home/simon/Desktop/concept-tree/concept-tree/nn_graph_makers/test_files_output_anaphora_splitted/subdir_1/file9/part_3.txt\n",
      "Processed: /home/simon/Desktop/concept-tree/concept-tree/nn_graph_makers/test_files_output/subdir_1/file4/part_2.txt -> /home/simon/Desktop/concept-tree/concept-tree/nn_graph_makers/test_files_output_anaphora_splitted/subdir_1/file4/part_2.txt\n",
      "Processed: /home/simon/Desktop/concept-tree/concept-tree/nn_graph_makers/test_files_output/subdir_1/file6/part_1.txt -> /home/simon/Desktop/concept-tree/concept-tree/nn_graph_makers/test_files_output_anaphora_splitted/subdir_1/file6/part_1.txt\n",
      "Processed: /home/simon/Desktop/concept-tree/concept-tree/nn_graph_makers/test_files_output/subdir_1/file9/part_1.txt -> /home/simon/Desktop/concept-tree/concept-tree/nn_graph_makers/test_files_output_anaphora_splitted/subdir_1/file9/part_1.txt\n",
      "Processed: /home/simon/Desktop/concept-tree/concept-tree/nn_graph_makers/test_files_output/subdir_1/file4/part_1.txt -> /home/simon/Desktop/concept-tree/concept-tree/nn_graph_makers/test_files_output_anaphora_splitted/subdir_1/file4/part_1.txt\n",
      "Processed: /home/simon/Desktop/concept-tree/concept-tree/nn_graph_makers/test_files_output/subdir_1/file2/part_3.txt -> /home/simon/Desktop/concept-tree/concept-tree/nn_graph_makers/test_files_output_anaphora_splitted/subdir_1/file2/part_3.txt\n",
      "Processed: /home/simon/Desktop/concept-tree/concept-tree/nn_graph_makers/test_files_output/subdir_1/file6/part_2.txt -> /home/simon/Desktop/concept-tree/concept-tree/nn_graph_makers/test_files_output_anaphora_splitted/subdir_1/file6/part_2.txt\n",
      "Processed: /home/simon/Desktop/concept-tree/concept-tree/nn_graph_makers/test_files_output/file80/part_3.txt -> /home/simon/Desktop/concept-tree/concept-tree/nn_graph_makers/test_files_output_anaphora_splitted/file80/part_3.txt\n",
      "Processed: /home/simon/Desktop/concept-tree/concept-tree/nn_graph_makers/test_files_output/file40/part_3.txt -> /home/simon/Desktop/concept-tree/concept-tree/nn_graph_makers/test_files_output_anaphora_splitted/file40/part_3.txt\n",
      "Processed: /home/simon/Desktop/concept-tree/concept-tree/nn_graph_makers/test_files_output/subdir_1/file9/part_2.txt -> /home/simon/Desktop/concept-tree/concept-tree/nn_graph_makers/test_files_output_anaphora_splitted/subdir_1/file9/part_2.txt\n",
      "Processed: /home/simon/Desktop/concept-tree/concept-tree/nn_graph_makers/test_files_output/subdir_1/file2/part_1.txt -> /home/simon/Desktop/concept-tree/concept-tree/nn_graph_makers/test_files_output_anaphora_splitted/subdir_1/file2/part_1.txt\n",
      "Processed: /home/simon/Desktop/concept-tree/concept-tree/nn_graph_makers/test_files_output/file40/part_1.txt -> /home/simon/Desktop/concept-tree/concept-tree/nn_graph_makers/test_files_output_anaphora_splitted/file40/part_1.txt\n",
      "Processed: /home/simon/Desktop/concept-tree/concept-tree/nn_graph_makers/test_files_output/file80/part_1.txt -> /home/simon/Desktop/concept-tree/concept-tree/nn_graph_makers/test_files_output_anaphora_splitted/file80/part_1.txt\n",
      "Processed: /home/simon/Desktop/concept-tree/concept-tree/nn_graph_makers/test_files_output/file40/part_2.txt -> /home/simon/Desktop/concept-tree/concept-tree/nn_graph_makers/test_files_output_anaphora_splitted/file40/part_2.txt\n",
      "Processed: /home/simon/Desktop/concept-tree/concept-tree/nn_graph_makers/test_files_output/subdir_1/file2/part_2.txt -> /home/simon/Desktop/concept-tree/concept-tree/nn_graph_makers/test_files_output_anaphora_splitted/subdir_1/file2/part_2.txt\n",
      "Processed: /home/simon/Desktop/concept-tree/concept-tree/nn_graph_makers/test_files_output/file58/part_3.txt -> /home/simon/Desktop/concept-tree/concept-tree/nn_graph_makers/test_files_output_anaphora_splitted/file58/part_3.txt\n",
      "Processed: /home/simon/Desktop/concept-tree/concept-tree/nn_graph_makers/test_files_output/file76/part_3.txt -> /home/simon/Desktop/concept-tree/concept-tree/nn_graph_makers/test_files_output_anaphora_splitted/file76/part_3.txt\n",
      "Processed: /home/simon/Desktop/concept-tree/concept-tree/nn_graph_makers/test_files_output/file80/part_2.txt -> /home/simon/Desktop/concept-tree/concept-tree/nn_graph_makers/test_files_output_anaphora_splitted/file80/part_2.txt\n",
      "Processed: /home/simon/Desktop/concept-tree/concept-tree/nn_graph_makers/test_files_output/subdir_2/file12/part_3.txt -> /home/simon/Desktop/concept-tree/concept-tree/nn_graph_makers/test_files_output_anaphora_splitted/subdir_2/file12/part_3.txt\n",
      "Processed: /home/simon/Desktop/concept-tree/concept-tree/nn_graph_makers/test_files_output/file58/part_1.txt -> /home/simon/Desktop/concept-tree/concept-tree/nn_graph_makers/test_files_output_anaphora_splitted/file58/part_1.txt\n",
      "Processed: /home/simon/Desktop/concept-tree/concept-tree/nn_graph_makers/test_files_output/file76/part_1.txt -> /home/simon/Desktop/concept-tree/concept-tree/nn_graph_makers/test_files_output_anaphora_splitted/file76/part_1.txt\n",
      "Processed: /home/simon/Desktop/concept-tree/concept-tree/nn_graph_makers/test_files_output/subdir_2/file17/part_3.txt -> /home/simon/Desktop/concept-tree/concept-tree/nn_graph_makers/test_files_output_anaphora_splitted/subdir_2/file17/part_3.txt\n",
      "Processed: /home/simon/Desktop/concept-tree/concept-tree/nn_graph_makers/test_files_output/file76/part_2.txt -> /home/simon/Desktop/concept-tree/concept-tree/nn_graph_makers/test_files_output_anaphora_splitted/file76/part_2.txt\n",
      "Processed: /home/simon/Desktop/concept-tree/concept-tree/nn_graph_makers/test_files_output/file58/part_2.txt -> /home/simon/Desktop/concept-tree/concept-tree/nn_graph_makers/test_files_output_anaphora_splitted/file58/part_2.txt\n",
      "Processed: /home/simon/Desktop/concept-tree/concept-tree/nn_graph_makers/test_files_output/subdir_2/file14/part_3.txt -> /home/simon/Desktop/concept-tree/concept-tree/nn_graph_makers/test_files_output_anaphora_splitted/subdir_2/file14/part_3.txt\n",
      "Processed: /home/simon/Desktop/concept-tree/concept-tree/nn_graph_makers/test_files_output/subdir_2/file12/part_1.txt -> /home/simon/Desktop/concept-tree/concept-tree/nn_graph_makers/test_files_output_anaphora_splitted/subdir_2/file12/part_1.txt\n",
      "Processed: /home/simon/Desktop/concept-tree/concept-tree/nn_graph_makers/test_files_output/subdir_2/file16/part_3.txt -> /home/simon/Desktop/concept-tree/concept-tree/nn_graph_makers/test_files_output_anaphora_splitted/subdir_2/file16/part_3.txt\n",
      "Processed: /home/simon/Desktop/concept-tree/concept-tree/nn_graph_makers/test_files_output/subdir_2/file17/part_1.txt -> /home/simon/Desktop/concept-tree/concept-tree/nn_graph_makers/test_files_output_anaphora_splitted/subdir_2/file17/part_1.txt\n",
      "Processed: /home/simon/Desktop/concept-tree/concept-tree/nn_graph_makers/test_files_output/subdir_2/file12/part_2.txt -> /home/simon/Desktop/concept-tree/concept-tree/nn_graph_makers/test_files_output_anaphora_splitted/subdir_2/file12/part_2.txt\n",
      "Processed: /home/simon/Desktop/concept-tree/concept-tree/nn_graph_makers/test_files_output/subdir_2/file17/part_2.txt -> /home/simon/Desktop/concept-tree/concept-tree/nn_graph_makers/test_files_output_anaphora_splitted/subdir_2/file17/part_2.txt\n",
      "Processed: /home/simon/Desktop/concept-tree/concept-tree/nn_graph_makers/test_files_output/subdir_2/file23/part_3.txt -> /home/simon/Desktop/concept-tree/concept-tree/nn_graph_makers/test_files_output_anaphora_splitted/subdir_2/file23/part_3.txt\n",
      "Processed: /home/simon/Desktop/concept-tree/concept-tree/nn_graph_makers/test_files_output/subdir_2/file11/part_3.txt -> /home/simon/Desktop/concept-tree/concept-tree/nn_graph_makers/test_files_output_anaphora_splitted/subdir_2/file11/part_3.txt\n",
      "Processed: /home/simon/Desktop/concept-tree/concept-tree/nn_graph_makers/test_files_output/subdir_2/file16/part_1.txt -> /home/simon/Desktop/concept-tree/concept-tree/nn_graph_makers/test_files_output_anaphora_splitted/subdir_2/file16/part_1.txt\n",
      "Processed: /home/simon/Desktop/concept-tree/concept-tree/nn_graph_makers/test_files_output/subdir_2/file14/part_2.txt -> /home/simon/Desktop/concept-tree/concept-tree/nn_graph_makers/test_files_output_anaphora_splitted/subdir_2/file14/part_2.txt\n",
      "Processed: /home/simon/Desktop/concept-tree/concept-tree/nn_graph_makers/test_files_output/subdir_2/file14/part_1.txt -> /home/simon/Desktop/concept-tree/concept-tree/nn_graph_makers/test_files_output_anaphora_splitted/subdir_2/file14/part_1.txt\n",
      "Processed: /home/simon/Desktop/concept-tree/concept-tree/nn_graph_makers/test_files_output/subdir_2/file16/part_2.txt -> /home/simon/Desktop/concept-tree/concept-tree/nn_graph_makers/test_files_output_anaphora_splitted/subdir_2/file16/part_2.txt\n",
      "Processed: /home/simon/Desktop/concept-tree/concept-tree/nn_graph_makers/test_files_output/subdir_2/file13/part_3.txt -> /home/simon/Desktop/concept-tree/concept-tree/nn_graph_makers/test_files_output_anaphora_splitted/subdir_2/file13/part_3.txt\n",
      "Processed: /home/simon/Desktop/concept-tree/concept-tree/nn_graph_makers/test_files_output/subdir_2/file11/part_1.txt -> /home/simon/Desktop/concept-tree/concept-tree/nn_graph_makers/test_files_output_anaphora_splitted/subdir_2/file11/part_1.txt\n",
      "Processed: /home/simon/Desktop/concept-tree/concept-tree/nn_graph_makers/test_files_output/subdir_2/file20/part_3.txt -> /home/simon/Desktop/concept-tree/concept-tree/nn_graph_makers/test_files_output_anaphora_splitted/subdir_2/file20/part_3.txt\n",
      "Processed: /home/simon/Desktop/concept-tree/concept-tree/nn_graph_makers/test_files_output/subdir_2/file11/part_2.txt -> /home/simon/Desktop/concept-tree/concept-tree/nn_graph_makers/test_files_output_anaphora_splitted/subdir_2/file11/part_2.txt\n",
      "Processed: /home/simon/Desktop/concept-tree/concept-tree/nn_graph_makers/test_files_output/subdir_2/file21/part_3.txt -> /home/simon/Desktop/concept-tree/concept-tree/nn_graph_makers/test_files_output_anaphora_splitted/subdir_2/file21/part_3.txt\n",
      "Processed: /home/simon/Desktop/concept-tree/concept-tree/nn_graph_makers/test_files_output/subdir_2/file13/part_1.txt -> /home/simon/Desktop/concept-tree/concept-tree/nn_graph_makers/test_files_output_anaphora_splitted/subdir_2/file13/part_1.txt\n",
      "Processed: /home/simon/Desktop/concept-tree/concept-tree/nn_graph_makers/test_files_output/subdir_2/file23/part_1.txt -> /home/simon/Desktop/concept-tree/concept-tree/nn_graph_makers/test_files_output_anaphora_splitted/subdir_2/file23/part_1.txt\n",
      "Processed: /home/simon/Desktop/concept-tree/concept-tree/nn_graph_makers/test_files_output/subdir_2/file23/part_2.txt -> /home/simon/Desktop/concept-tree/concept-tree/nn_graph_makers/test_files_output_anaphora_splitted/subdir_2/file23/part_2.txt\n",
      "Processed: /home/simon/Desktop/concept-tree/concept-tree/nn_graph_makers/test_files_output/subdir_2/file20/part_1.txt -> /home/simon/Desktop/concept-tree/concept-tree/nn_graph_makers/test_files_output_anaphora_splitted/subdir_2/file20/part_1.txt\n",
      "Processed: /home/simon/Desktop/concept-tree/concept-tree/nn_graph_makers/test_files_output/subdir_2/file20/part_2.txt -> /home/simon/Desktop/concept-tree/concept-tree/nn_graph_makers/test_files_output_anaphora_splitted/subdir_2/file20/part_2.txt\n",
      "Processed: /home/simon/Desktop/concept-tree/concept-tree/nn_graph_makers/test_files_output/subdir_2/file22/part_3.txt -> /home/simon/Desktop/concept-tree/concept-tree/nn_graph_makers/test_files_output_anaphora_splitted/subdir_2/file22/part_3.txt\n",
      "Processed: /home/simon/Desktop/concept-tree/concept-tree/nn_graph_makers/test_files_output/subdir_2/file13/part_2.txt -> /home/simon/Desktop/concept-tree/concept-tree/nn_graph_makers/test_files_output_anaphora_splitted/subdir_2/file13/part_2.txt\n",
      "Processed: /home/simon/Desktop/concept-tree/concept-tree/nn_graph_makers/test_files_output/subdir_2/file21/part_1.txt -> /home/simon/Desktop/concept-tree/concept-tree/nn_graph_makers/test_files_output_anaphora_splitted/subdir_2/file21/part_1.txt\n",
      "Processed: /home/simon/Desktop/concept-tree/concept-tree/nn_graph_makers/test_files_output/subdir_2/file18/part_3.txt -> /home/simon/Desktop/concept-tree/concept-tree/nn_graph_makers/test_files_output_anaphora_splitted/subdir_2/file18/part_3.txt\n",
      "Processed: /home/simon/Desktop/concept-tree/concept-tree/nn_graph_makers/test_files_output/subdir_2/file21/part_2.txt -> /home/simon/Desktop/concept-tree/concept-tree/nn_graph_makers/test_files_output_anaphora_splitted/subdir_2/file21/part_2.txt\n",
      "Processed: /home/simon/Desktop/concept-tree/concept-tree/nn_graph_makers/test_files_output/subdir_2/file15/part_3.txt -> /home/simon/Desktop/concept-tree/concept-tree/nn_graph_makers/test_files_output_anaphora_splitted/subdir_2/file15/part_3.txt\n",
      "Processed: /home/simon/Desktop/concept-tree/concept-tree/nn_graph_makers/test_files_output/subdir_2/file22/part_1.txt -> /home/simon/Desktop/concept-tree/concept-tree/nn_graph_makers/test_files_output_anaphora_splitted/subdir_2/file22/part_1.txt\n",
      "Processed: /home/simon/Desktop/concept-tree/concept-tree/nn_graph_makers/test_files_output/subdir_2/file22/part_2.txt -> /home/simon/Desktop/concept-tree/concept-tree/nn_graph_makers/test_files_output_anaphora_splitted/subdir_2/file22/part_2.txt\n",
      "Processed: /home/simon/Desktop/concept-tree/concept-tree/nn_graph_makers/test_files_output/subdir_2/file18/part_1.txt -> /home/simon/Desktop/concept-tree/concept-tree/nn_graph_makers/test_files_output_anaphora_splitted/subdir_2/file18/part_1.txt\n",
      "Processed: /home/simon/Desktop/concept-tree/concept-tree/nn_graph_makers/test_files_output/file31/part_3.txt -> /home/simon/Desktop/concept-tree/concept-tree/nn_graph_makers/test_files_output_anaphora_splitted/file31/part_3.txt\n",
      "Processed: /home/simon/Desktop/concept-tree/concept-tree/nn_graph_makers/test_files_output/subdir_2/file18/part_2.txt -> /home/simon/Desktop/concept-tree/concept-tree/nn_graph_makers/test_files_output_anaphora_splitted/subdir_2/file18/part_2.txt\n",
      "Processed: /home/simon/Desktop/concept-tree/concept-tree/nn_graph_makers/test_files_output/subdir_2/file19/part_3.txt -> /home/simon/Desktop/concept-tree/concept-tree/nn_graph_makers/test_files_output_anaphora_splitted/subdir_2/file19/part_3.txt\n"
     ]
    }
   ],
   "source": [
    "coref_resolver.process_files(input_files, output_files)"
   ]
  }
 ],
 "metadata": {
  "kernelspec": {
   "display_name": ".venv-concept-graph",
   "language": "python",
   "name": "python3"
  },
  "language_info": {
   "codemirror_mode": {
    "name": "ipython",
    "version": 3
   },
   "file_extension": ".py",
   "mimetype": "text/x-python",
   "name": "python",
   "nbconvert_exporter": "python",
   "pygments_lexer": "ipython3",
   "version": "3.10.12"
  }
 },
 "nbformat": 4,
 "nbformat_minor": 2
}
