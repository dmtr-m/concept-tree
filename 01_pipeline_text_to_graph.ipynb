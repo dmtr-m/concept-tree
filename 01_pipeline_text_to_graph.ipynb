{
 "cells": [
  {
   "cell_type": "code",
   "execution_count": 1,
   "metadata": {},
   "outputs": [],
   "source": [
    "def clean_text(text: str) -> str:\n",
    "    text = text.replace(\"\\n\", \" \")\n",
    "    text = text.replace(\"[ [ [\", \"[[[\").replace(\"] ] ]\", \"]]]\")\n",
    "    return text"
   ]
  },
  {
   "cell_type": "code",
   "execution_count": 2,
   "metadata": {},
   "outputs": [
    {
     "name": "stderr",
     "output_type": "stream",
     "text": [
      "/Users/dmitry/Desktop/Projects/concept-tree/.venv/lib/python3.11/site-packages/tqdm/auto.py:21: TqdmWarning: IProgress not found. Please update jupyter and ipywidgets. See https://ipywidgets.readthedocs.io/en/stable/user_install.html\n",
      "  from .autonotebook import tqdm as notebook_tqdm\n"
     ]
    }
   ],
   "source": [
    "from make_eng_graphs import get_syntactic_relations, nlp\n",
    "\n",
    "def get_triplets(text: str) -> list[str]:\n",
    "    doc = nlp(text)\n",
    "    triplets = get_syntactic_relations(doc)\n",
    "    return triplets"
   ]
  },
  {
   "cell_type": "code",
   "execution_count": 3,
   "metadata": {},
   "outputs": [],
   "source": [
    "import re\n",
    "\n",
    "def clean_word(word: str) -> str:\n",
    "    reference = False\n",
    "    if word.startswith(\"[ [ [ \"):\n",
    "        reference = True\n",
    "    word = word.replace(\"[\", \"\").replace(\"]\", \"\")\n",
    "    word = word.replace(\"(\", \"\").replace(\")\", \"\")\n",
    "    word = word.replace(\",\", \"\").replace(\";\", \"\")\n",
    "    word = word.replace(\"-\", \"\").replace(\".\", \"\")\n",
    "    word = word.replace(\":\", \"\").replace(\".\", \"\")\n",
    "    word = word.replace(\"‘\", \"\").replace(\"’\", \"\")\n",
    "    word = word.strip()\n",
    "    word = re.sub(r'\\s{2,}', ' ', word).strip()\n",
    "    if reference:\n",
    "        word = \"[[[\" + word + \"]]]\"\n",
    "    return word\n",
    "\n",
    "def clean_triplet(triplet: tuple[str]) -> tuple[str]:\n",
    "    triplet = (clean_word(word) for word in triplet)\n",
    "    return triplet"
   ]
  },
  {
   "cell_type": "code",
   "execution_count": 4,
   "metadata": {},
   "outputs": [],
   "source": [
    "import csv\n",
    "\n",
    "def process_file(input_file: str, output_file: str):\n",
    "    with open(input_file, 'r') as f:\n",
    "        text = f.read()\n",
    "\n",
    "    text = clean_text(text)\n",
    "    triplets = get_triplets(text)\n",
    "\n",
    "    writer = csv.writer(open(output_file, 'w'), delimiter=\",\")\n",
    "    for triplet in triplets:\n",
    "        triplet = clean_triplet(triplet)\n",
    "        writer.writerow(triplet)"
   ]
  },
  {
   "cell_type": "code",
   "execution_count": 5,
   "metadata": {},
   "outputs": [
    {
     "name": "stderr",
     "output_type": "stream",
     "text": [
      "102it [01:42,  1.01s/it]\n"
     ]
    }
   ],
   "source": [
    "from pathlib import Path\n",
    "import tqdm\n",
    "\n",
    "pathlist = Path(\"process_text/data/cs.NE.processed/\").glob('*.txt')\n",
    "for path in tqdm.tqdm(pathlist):\n",
    "    path_in_str = str(path)\n",
    "    output_file = path_in_str.replace(\"cs.NE.processed\", \"cs.NE.triplets\")\n",
    "    process_file(path_in_str, output_file)"
   ]
  }
 ],
 "metadata": {
  "kernelspec": {
   "display_name": ".venv",
   "language": "python",
   "name": "python3"
  },
  "language_info": {
   "codemirror_mode": {
    "name": "ipython",
    "version": 3
   },
   "file_extension": ".py",
   "mimetype": "text/x-python",
   "name": "python",
   "nbconvert_exporter": "python",
   "pygments_lexer": "ipython3",
   "version": "3.11.10"
  }
 },
 "nbformat": 4,
 "nbformat_minor": 2
}
