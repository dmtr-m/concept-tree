{
 "cells": [
  {
   "cell_type": "code",
   "execution_count": 1,
   "metadata": {},
   "outputs": [],
   "source": [
    "from directed_graph.graph import Graph, load_graph\n",
    "\n",
    "graph = load_graph(\"graph.pickle\")"
   ]
  },
  {
   "cell_type": "code",
   "execution_count": 2,
   "metadata": {},
   "outputs": [],
   "source": [
    "\"\"\"\n",
    "Cluster vertices\n",
    "\"\"\"\n",
    "\n",
    "from process_graph.squeezing import squeeze\n",
    "\n",
    "(\n",
    "    (words_to_cluster, merged_words_map),\n",
    "    (bigrams_to_cluster, merged_bigrams_map),\n",
    "    (trigrams_to_cluster, merged_trigrams_map),\n",
    ") = squeeze(graph.vertices.values())"
   ]
  },
  {
   "cell_type": "code",
   "execution_count": 3,
   "metadata": {},
   "outputs": [],
   "source": [
    "\"\"\"\n",
    "Cluster edges\n",
    "\"\"\"\n",
    "\n",
    "edge_map = {\n",
    "    \"follow\": \"follow\",\n",
    "    \"bark\": \"bark\",\n",
    "    \"fear\": \"bark\"\n",
    "}"
   ]
  },
  {
   "cell_type": "code",
   "execution_count": null,
   "metadata": {},
   "outputs": [],
   "source": [
    "clustered_graph = Graph()\n",
    "\n",
    "for new_vertice_words in merged_words_map.keys():\n",
    "    clustered_graph.add_vertex(new_vertice_words)\n",
    "for new_vertice_bigram in merged_bigrams_map.keys():\n",
    "    clustered_graph.add_vertex(new_vertice_bigram)\n",
    "for new_vertice_trigram in merged_trigrams_map.keys():\n",
    "    clustered_graph.add_vertex(new_vertice_trigram)\n",
    "\n",
    "def match_new_vertice(label: str) -> str:\n",
    "    new_label = str()\n",
    "    if label in merged_words_map:\n",
    "        new_label = words_to_cluster[label]\n",
    "    elif label in merged_bigrams_map:\n",
    "        new_label = bigrams_to_cluster[label]\n",
    "    elif label in merged_trigrams_map:\n",
    "        new_label = trigrams_to_cluster[label]\n",
    "    return new_label\n",
    "\n",
    "added_edges = set()  # keeps added_edges in (agent_1, agent_2, label) format\n",
    "\n",
    "for edge in graph.edges:\n",
    "    new_edge = (\n",
    "        match_new_vertice(edge.agent_1),\n",
    "        match_new_vertice(edge.agent_2),\n",
    "        edge_map[edge.label]\n",
    "    )\n",
    "    if new_edge in added_edges:\n",
    "        continue\n",
    "\n",
    "    clustered_graph.add_edge(*new_edge)"
   ]
  },
  {
   "cell_type": "code",
   "execution_count": 6,
   "metadata": {},
   "outputs": [
    {
     "name": "stdout",
     "output_type": "stream",
     "text": [
      "Graph(\n",
      "\tvertices=[Vertex(concept='cat', words=['cat']), Vertex(concept='dog', words=['dog']), Vertex(concept='orange cat', words=['orange', 'cat']), Vertex(concept='black dog', words=['black', 'dog'])],\n",
      "\tedges=[Edge(dog <--[bark]--> cat), Edge(orange cat <--[follow]--> cat), Edge(black dog <--[fear]--> orange cat)]\n",
      ")\n",
      "Graph(\n",
      "\tvertices=[Vertex(concept='cat', words=['cat']), Vertex(concept='dog', words=['dog']), Vertex(concept='black dog', words=['black dog']), Vertex(concept='orange cat', words=['orange cat'])],\n",
      "\tedges=[Edge(dog <--[bark]--> cat), Edge(orange cat <--[follow]--> cat), Edge(black dog <--[bark]--> orange cat)]\n",
      ")\n"
     ]
    }
   ],
   "source": [
    "print(graph)\n",
    "\n",
    "print(clustered_graph)"
   ]
  }
 ],
 "metadata": {
  "kernelspec": {
   "display_name": ".venv",
   "language": "python",
   "name": "python3"
  },
  "language_info": {
   "codemirror_mode": {
    "name": "ipython",
    "version": 3
   },
   "file_extension": ".py",
   "mimetype": "text/x-python",
   "name": "python",
   "nbconvert_exporter": "python",
   "pygments_lexer": "ipython3",
   "version": "3.11.10"
  }
 },
 "nbformat": 4,
 "nbformat_minor": 2
}
