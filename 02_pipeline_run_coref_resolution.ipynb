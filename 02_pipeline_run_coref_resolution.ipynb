{
 "cells": [
  {
   "cell_type": "markdown",
   "metadata": {},
   "source": [
    "# Решаем анафору в текстах"
   ]
  },
  {
   "cell_type": "code",
   "execution_count": 17,
   "metadata": {},
   "outputs": [],
   "source": [
    "from nn_graph_makers.corenlp_coref_resolver_en import CoreferenceResolver\n",
    "from nn_graph_makers.find_free_ports import find_free_ports"
   ]
  },
  {
   "cell_type": "code",
   "execution_count": 18,
   "metadata": {},
   "outputs": [],
   "source": [
    "import os\n",
    "from pathlib import Path"
   ]
  },
  {
   "cell_type": "code",
   "execution_count": null,
   "metadata": {},
   "outputs": [],
   "source": [
    "input_directory = Path(\"/home/kdemyokhin_1/concept-tree-course-work/articles_parsed/arxiv-txt-cs\")\n",
    "output_directory = Path(\"/home/kdemyokhin_1/concept-tree-course-work/articles_anaphora_resolved/arxiv-txt-cs\")"
   ]
  },
  {
   "cell_type": "code",
   "execution_count": null,
   "metadata": {},
   "outputs": [],
   "source": [
    "# input_directory = Path(\"/home/simon/Desktop/concept-tree/concept-tree/nn_graph_makers/test_files\")\n",
    "# output_directory = Path(\"/home/simon/Desktop/concept-tree/concept-tree/nn_graph_makers/test_files_output\")"
   ]
  },
  {
   "cell_type": "code",
   "execution_count": 20,
   "metadata": {},
   "outputs": [],
   "source": [
    "# Получаем список всех txt файлов рекурсивно (включая поддиректории)\n",
    "input_files = list(input_directory.rglob(\"*.txt\"))\n",
    "\n",
    "# Формируем список выходных файлов, сохраняя структуру поддиректорий\n",
    "output_files = []\n",
    "for file in input_files:\n",
    "    # Вычисляем относительный путь файла относительно input_directory\n",
    "    relative_path = file.relative_to(input_directory)\n",
    "    # Формируем путь к файлу в выходной директории\n",
    "    out_file = output_directory / relative_path\n",
    "    # Создаем директорию, если её ещё нет\n",
    "    out_file.parent.mkdir(parents=True, exist_ok=True)\n",
    "    output_files.append(out_file)"
   ]
  },
  {
   "cell_type": "code",
   "execution_count": 21,
   "metadata": {},
   "outputs": [
    {
     "name": "stdout",
     "output_type": "stream",
     "text": [
      "[PosixPath('/home/simon/Desktop/concept-tree/concept-tree/nn_graph_makers/test_files_output/file34.txt'), PosixPath('/home/simon/Desktop/concept-tree/concept-tree/nn_graph_makers/test_files_output/file28.txt'), PosixPath('/home/simon/Desktop/concept-tree/concept-tree/nn_graph_makers/test_files_output/file54.txt'), PosixPath('/home/simon/Desktop/concept-tree/concept-tree/nn_graph_makers/test_files_output/file35.txt'), PosixPath('/home/simon/Desktop/concept-tree/concept-tree/nn_graph_makers/test_files_output/file98.txt'), PosixPath('/home/simon/Desktop/concept-tree/concept-tree/nn_graph_makers/test_files_output/file60.txt'), PosixPath('/home/simon/Desktop/concept-tree/concept-tree/nn_graph_makers/test_files_output/file69.txt'), PosixPath('/home/simon/Desktop/concept-tree/concept-tree/nn_graph_makers/test_files_output/file59.txt'), PosixPath('/home/simon/Desktop/concept-tree/concept-tree/nn_graph_makers/test_files_output/file68.txt'), PosixPath('/home/simon/Desktop/concept-tree/concept-tree/nn_graph_makers/test_files_output/file78.txt'), PosixPath('/home/simon/Desktop/concept-tree/concept-tree/nn_graph_makers/test_files_output/file26.txt'), PosixPath('/home/simon/Desktop/concept-tree/concept-tree/nn_graph_makers/test_files_output/file55.txt'), PosixPath('/home/simon/Desktop/concept-tree/concept-tree/nn_graph_makers/test_files_output/file49.txt'), PosixPath('/home/simon/Desktop/concept-tree/concept-tree/nn_graph_makers/test_files_output/file57.txt'), PosixPath('/home/simon/Desktop/concept-tree/concept-tree/nn_graph_makers/test_files_output/file74.txt'), PosixPath('/home/simon/Desktop/concept-tree/concept-tree/nn_graph_makers/test_files_output/file62.txt'), PosixPath('/home/simon/Desktop/concept-tree/concept-tree/nn_graph_makers/test_files_output/file94.txt'), PosixPath('/home/simon/Desktop/concept-tree/concept-tree/nn_graph_makers/test_files_output/file38.txt'), PosixPath('/home/simon/Desktop/concept-tree/concept-tree/nn_graph_makers/test_files_output/file76.txt'), PosixPath('/home/simon/Desktop/concept-tree/concept-tree/nn_graph_makers/test_files_output/file87.txt'), PosixPath('/home/simon/Desktop/concept-tree/concept-tree/nn_graph_makers/test_files_output/file47.txt'), PosixPath('/home/simon/Desktop/concept-tree/concept-tree/nn_graph_makers/test_files_output/file50.txt'), PosixPath('/home/simon/Desktop/concept-tree/concept-tree/nn_graph_makers/test_files_output/file63.txt'), PosixPath('/home/simon/Desktop/concept-tree/concept-tree/nn_graph_makers/test_files_output/file96.txt'), PosixPath('/home/simon/Desktop/concept-tree/concept-tree/nn_graph_makers/test_files_output/file77.txt'), PosixPath('/home/simon/Desktop/concept-tree/concept-tree/nn_graph_makers/test_files_output/file64.txt'), PosixPath('/home/simon/Desktop/concept-tree/concept-tree/nn_graph_makers/test_files_output/file36.txt'), PosixPath('/home/simon/Desktop/concept-tree/concept-tree/nn_graph_makers/test_files_output/file91.txt'), PosixPath('/home/simon/Desktop/concept-tree/concept-tree/nn_graph_makers/test_files_output/file67.txt'), PosixPath('/home/simon/Desktop/concept-tree/concept-tree/nn_graph_makers/test_files_output/file75.txt'), PosixPath('/home/simon/Desktop/concept-tree/concept-tree/nn_graph_makers/test_files_output/file89.txt'), PosixPath('/home/simon/Desktop/concept-tree/concept-tree/nn_graph_makers/test_files_output/file48.txt'), PosixPath('/home/simon/Desktop/concept-tree/concept-tree/nn_graph_makers/test_files_output/file46.txt'), PosixPath('/home/simon/Desktop/concept-tree/concept-tree/nn_graph_makers/test_files_output/file86.txt'), PosixPath('/home/simon/Desktop/concept-tree/concept-tree/nn_graph_makers/test_files_output/file42.txt'), PosixPath('/home/simon/Desktop/concept-tree/concept-tree/nn_graph_makers/test_files_output/file92.txt'), PosixPath('/home/simon/Desktop/concept-tree/concept-tree/nn_graph_makers/test_files_output/file43.txt'), PosixPath('/home/simon/Desktop/concept-tree/concept-tree/nn_graph_makers/test_files_output/file53.txt'), PosixPath('/home/simon/Desktop/concept-tree/concept-tree/nn_graph_makers/test_files_output/file30.txt'), PosixPath('/home/simon/Desktop/concept-tree/concept-tree/nn_graph_makers/test_files_output/file45.txt'), PosixPath('/home/simon/Desktop/concept-tree/concept-tree/nn_graph_makers/test_files_output/file72.txt'), PosixPath('/home/simon/Desktop/concept-tree/concept-tree/nn_graph_makers/test_files_output/file56.txt'), PosixPath('/home/simon/Desktop/concept-tree/concept-tree/nn_graph_makers/test_files_output/file27.txt'), PosixPath('/home/simon/Desktop/concept-tree/concept-tree/nn_graph_makers/test_files_output/file85.txt'), PosixPath('/home/simon/Desktop/concept-tree/concept-tree/nn_graph_makers/test_files_output/file79.txt'), PosixPath('/home/simon/Desktop/concept-tree/concept-tree/nn_graph_makers/test_files_output/file24.txt'), PosixPath('/home/simon/Desktop/concept-tree/concept-tree/nn_graph_makers/test_files_output/file52.txt'), PosixPath('/home/simon/Desktop/concept-tree/concept-tree/nn_graph_makers/test_files_output/file80.txt'), PosixPath('/home/simon/Desktop/concept-tree/concept-tree/nn_graph_makers/test_files_output/file88.txt'), PosixPath('/home/simon/Desktop/concept-tree/concept-tree/nn_graph_makers/test_files_output/file65.txt'), PosixPath('/home/simon/Desktop/concept-tree/concept-tree/nn_graph_makers/test_files_output/file95.txt'), PosixPath('/home/simon/Desktop/concept-tree/concept-tree/nn_graph_makers/test_files_output/file84.txt'), PosixPath('/home/simon/Desktop/concept-tree/concept-tree/nn_graph_makers/test_files_output/file39.txt'), PosixPath('/home/simon/Desktop/concept-tree/concept-tree/nn_graph_makers/test_files_output/file73.txt'), PosixPath('/home/simon/Desktop/concept-tree/concept-tree/nn_graph_makers/test_files_output/file32.txt'), PosixPath('/home/simon/Desktop/concept-tree/concept-tree/nn_graph_makers/test_files_output/file82.txt'), PosixPath('/home/simon/Desktop/concept-tree/concept-tree/nn_graph_makers/test_files_output/file66.txt'), PosixPath('/home/simon/Desktop/concept-tree/concept-tree/nn_graph_makers/test_files_output/file31.txt'), PosixPath('/home/simon/Desktop/concept-tree/concept-tree/nn_graph_makers/test_files_output/file100.txt'), PosixPath('/home/simon/Desktop/concept-tree/concept-tree/nn_graph_makers/test_files_output/file90.txt'), PosixPath('/home/simon/Desktop/concept-tree/concept-tree/nn_graph_makers/test_files_output/file40.txt'), PosixPath('/home/simon/Desktop/concept-tree/concept-tree/nn_graph_makers/test_files_output/file58.txt'), PosixPath('/home/simon/Desktop/concept-tree/concept-tree/nn_graph_makers/test_files_output/file51.txt'), PosixPath('/home/simon/Desktop/concept-tree/concept-tree/nn_graph_makers/test_files_output/file25.txt'), PosixPath('/home/simon/Desktop/concept-tree/concept-tree/nn_graph_makers/test_files_output/file33.txt'), PosixPath('/home/simon/Desktop/concept-tree/concept-tree/nn_graph_makers/test_files_output/file37.txt'), PosixPath('/home/simon/Desktop/concept-tree/concept-tree/nn_graph_makers/test_files_output/file70.txt'), PosixPath('/home/simon/Desktop/concept-tree/concept-tree/nn_graph_makers/test_files_output/file83.txt'), PosixPath('/home/simon/Desktop/concept-tree/concept-tree/nn_graph_makers/test_files_output/file93.txt'), PosixPath('/home/simon/Desktop/concept-tree/concept-tree/nn_graph_makers/test_files_output/file81.txt'), PosixPath('/home/simon/Desktop/concept-tree/concept-tree/nn_graph_makers/test_files_output/file61.txt'), PosixPath('/home/simon/Desktop/concept-tree/concept-tree/nn_graph_makers/test_files_output/file97.txt'), PosixPath('/home/simon/Desktop/concept-tree/concept-tree/nn_graph_makers/test_files_output/file99.txt'), PosixPath('/home/simon/Desktop/concept-tree/concept-tree/nn_graph_makers/test_files_output/file71.txt'), PosixPath('/home/simon/Desktop/concept-tree/concept-tree/nn_graph_makers/test_files_output/file29.txt'), PosixPath('/home/simon/Desktop/concept-tree/concept-tree/nn_graph_makers/test_files_output/file41.txt'), PosixPath('/home/simon/Desktop/concept-tree/concept-tree/nn_graph_makers/test_files_output/file44.txt'), PosixPath('/home/simon/Desktop/concept-tree/concept-tree/nn_graph_makers/test_files_output/subdir_1/file7.txt'), PosixPath('/home/simon/Desktop/concept-tree/concept-tree/nn_graph_makers/test_files_output/subdir_1/file8.txt'), PosixPath('/home/simon/Desktop/concept-tree/concept-tree/nn_graph_makers/test_files_output/subdir_1/file6.txt'), PosixPath('/home/simon/Desktop/concept-tree/concept-tree/nn_graph_makers/test_files_output/subdir_1/file4.txt'), PosixPath('/home/simon/Desktop/concept-tree/concept-tree/nn_graph_makers/test_files_output/subdir_1/file10.txt'), PosixPath('/home/simon/Desktop/concept-tree/concept-tree/nn_graph_makers/test_files_output/subdir_1/file5.txt'), PosixPath('/home/simon/Desktop/concept-tree/concept-tree/nn_graph_makers/test_files_output/subdir_1/file2.txt'), PosixPath('/home/simon/Desktop/concept-tree/concept-tree/nn_graph_makers/test_files_output/subdir_1/file9.txt'), PosixPath('/home/simon/Desktop/concept-tree/concept-tree/nn_graph_makers/test_files_output/subdir_1/file3.txt'), PosixPath('/home/simon/Desktop/concept-tree/concept-tree/nn_graph_makers/test_files_output/subdir_1/file1.txt'), PosixPath('/home/simon/Desktop/concept-tree/concept-tree/nn_graph_makers/test_files_output/subdir_2/file21.txt'), PosixPath('/home/simon/Desktop/concept-tree/concept-tree/nn_graph_makers/test_files_output/subdir_2/file18.txt'), PosixPath('/home/simon/Desktop/concept-tree/concept-tree/nn_graph_makers/test_files_output/subdir_2/file16.txt'), PosixPath('/home/simon/Desktop/concept-tree/concept-tree/nn_graph_makers/test_files_output/subdir_2/file20.txt'), PosixPath('/home/simon/Desktop/concept-tree/concept-tree/nn_graph_makers/test_files_output/subdir_2/file19.txt'), PosixPath('/home/simon/Desktop/concept-tree/concept-tree/nn_graph_makers/test_files_output/subdir_2/file14.txt'), PosixPath('/home/simon/Desktop/concept-tree/concept-tree/nn_graph_makers/test_files_output/subdir_2/file15.txt'), PosixPath('/home/simon/Desktop/concept-tree/concept-tree/nn_graph_makers/test_files_output/subdir_2/file12.txt'), PosixPath('/home/simon/Desktop/concept-tree/concept-tree/nn_graph_makers/test_files_output/subdir_2/file23.txt'), PosixPath('/home/simon/Desktop/concept-tree/concept-tree/nn_graph_makers/test_files_output/subdir_2/file17.txt'), PosixPath('/home/simon/Desktop/concept-tree/concept-tree/nn_graph_makers/test_files_output/subdir_2/file22.txt'), PosixPath('/home/simon/Desktop/concept-tree/concept-tree/nn_graph_makers/test_files_output/subdir_2/file13.txt'), PosixPath('/home/simon/Desktop/concept-tree/concept-tree/nn_graph_makers/test_files_output/subdir_2/file11.txt')]\n"
     ]
    }
   ],
   "source": [
    "print(output_files)"
   ]
  },
  {
   "cell_type": "code",
   "execution_count": 22,
   "metadata": {},
   "outputs": [],
   "source": [
    "free_ports = find_free_ports(10)"
   ]
  },
  {
   "cell_type": "code",
   "execution_count": 23,
   "metadata": {},
   "outputs": [],
   "source": [
    "THREADS_AMOUNT = 16"
   ]
  },
  {
   "cell_type": "code",
   "execution_count": 24,
   "metadata": {},
   "outputs": [],
   "source": [
    "resolver = CoreferenceResolver(None, f\"http://localhost:{free_ports[0]}\", threads=THREADS_AMOUNT)"
   ]
  },
  {
   "cell_type": "code",
   "execution_count": 25,
   "metadata": {},
   "outputs": [
    {
     "name": "stderr",
     "output_type": "stream",
     "text": [
      "2025-03-25 17:55:09 INFO: Writing properties to tmp file: corenlp_server-a89a99296d76487b.props\n",
      "2025-03-25 17:55:09 INFO: Starting server with command: java -Xmx5G -cp /home/simon/Desktop/concept-tree/concept-tree/nn_graph_makers/stanford-corenlp-4.5.8/* edu.stanford.nlp.pipeline.StanfordCoreNLPServer -port 9000 -timeout 60000 -threads 16 -maxCharLength 100000 -quiet True -serverProperties corenlp_server-a89a99296d76487b.props -annotators tokenize,ssplit,pos,lemma,ner,parse,coref -preload -outputFormat serialized\n",
      "9it [00:25,  2.02s/it]"
     ]
    },
    {
     "name": "stdout",
     "output_type": "stream",
     "text": [
      "Processed: /home/simon/Desktop/concept-tree/concept-tree/nn_graph_makers/test_files/file34.txt -> /home/simon/Desktop/concept-tree/concept-tree/nn_graph_makers/test_files_output/file34.txt\n",
      "Processed: /home/simon/Desktop/concept-tree/concept-tree/nn_graph_makers/test_files/file49.txt -> /home/simon/Desktop/concept-tree/concept-tree/nn_graph_makers/test_files_output/file49.txt\n",
      "Processed: /home/simon/Desktop/concept-tree/concept-tree/nn_graph_makers/test_files/file26.txt -> /home/simon/Desktop/concept-tree/concept-tree/nn_graph_makers/test_files_output/file26.txt\n",
      "Processed: /home/simon/Desktop/concept-tree/concept-tree/nn_graph_makers/test_files/file28.txt -> /home/simon/Desktop/concept-tree/concept-tree/nn_graph_makers/test_files_output/file28.txt\n",
      "Processed: /home/simon/Desktop/concept-tree/concept-tree/nn_graph_makers/test_files/file62.txt -> /home/simon/Desktop/concept-tree/concept-tree/nn_graph_makers/test_files_output/file62.txt\n",
      "Processed: /home/simon/Desktop/concept-tree/concept-tree/nn_graph_makers/test_files/file57.txt -> /home/simon/Desktop/concept-tree/concept-tree/nn_graph_makers/test_files_output/file57.txt\n",
      "Processed: /home/simon/Desktop/concept-tree/concept-tree/nn_graph_makers/test_files/file68.txt -> /home/simon/Desktop/concept-tree/concept-tree/nn_graph_makers/test_files_output/file68.txt\n",
      "Processed: /home/simon/Desktop/concept-tree/concept-tree/nn_graph_makers/test_files/file74.txt -> /home/simon/Desktop/concept-tree/concept-tree/nn_graph_makers/test_files_output/file74.txt\n",
      "Processed: /home/simon/Desktop/concept-tree/concept-tree/nn_graph_makers/test_files/file78.txt -> /home/simon/Desktop/concept-tree/concept-tree/nn_graph_makers/test_files_output/file78.txt\n",
      "Processed: /home/simon/Desktop/concept-tree/concept-tree/nn_graph_makers/test_files/file35.txt -> /home/simon/Desktop/concept-tree/concept-tree/nn_graph_makers/test_files_output/file35.txt\n",
      "Processed: /home/simon/Desktop/concept-tree/concept-tree/nn_graph_makers/test_files/file69.txt -> /home/simon/Desktop/concept-tree/concept-tree/nn_graph_makers/test_files_output/file69.txt\n",
      "Processed: /home/simon/Desktop/concept-tree/concept-tree/nn_graph_makers/test_files/file59.txt -> /home/simon/Desktop/concept-tree/concept-tree/nn_graph_makers/test_files_output/file59.txt\n",
      "Processed: /home/simon/Desktop/concept-tree/concept-tree/nn_graph_makers/test_files/file60.txt -> /home/simon/Desktop/concept-tree/concept-tree/nn_graph_makers/test_files_output/file60.txt\n",
      "Processed: /home/simon/Desktop/concept-tree/concept-tree/nn_graph_makers/test_files/file54.txt -> /home/simon/Desktop/concept-tree/concept-tree/nn_graph_makers/test_files_output/file54.txt\n",
      "Processed: /home/simon/Desktop/concept-tree/concept-tree/nn_graph_makers/test_files/file98.txt -> /home/simon/Desktop/concept-tree/concept-tree/nn_graph_makers/test_files_output/file98.txt\n",
      "Processed: /home/simon/Desktop/concept-tree/concept-tree/nn_graph_makers/test_files/file55.txt -> /home/simon/Desktop/concept-tree/concept-tree/nn_graph_makers/test_files_output/file55.txt\n"
     ]
    },
    {
     "name": "stderr",
     "output_type": "stream",
     "text": [
      "17it [00:34,  1.57s/it]"
     ]
    },
    {
     "name": "stdout",
     "output_type": "stream",
     "text": [
      "Processed: /home/simon/Desktop/concept-tree/concept-tree/nn_graph_makers/test_files/file38.txt -> /home/simon/Desktop/concept-tree/concept-tree/nn_graph_makers/test_files_output/file38.txtProcessed: /home/simon/Desktop/concept-tree/concept-tree/nn_graph_makers/test_files/file87.txt -> /home/simon/Desktop/concept-tree/concept-tree/nn_graph_makers/test_files_output/file87.txt\n",
      "\n",
      "Processed: /home/simon/Desktop/concept-tree/concept-tree/nn_graph_makers/test_files/file63.txt -> /home/simon/Desktop/concept-tree/concept-tree/nn_graph_makers/test_files_output/file63.txt\n"
     ]
    },
    {
     "name": "stderr",
     "output_type": "stream",
     "text": [
      "24it [00:35,  1.13it/s]"
     ]
    },
    {
     "name": "stdout",
     "output_type": "stream",
     "text": [
      "Processed: /home/simon/Desktop/concept-tree/concept-tree/nn_graph_makers/test_files/file77.txt -> /home/simon/Desktop/concept-tree/concept-tree/nn_graph_makers/test_files_output/file77.txt\n",
      "Processed: /home/simon/Desktop/concept-tree/concept-tree/nn_graph_makers/test_files/file76.txt -> /home/simon/Desktop/concept-tree/concept-tree/nn_graph_makers/test_files_output/file76.txt\n",
      "Processed: /home/simon/Desktop/concept-tree/concept-tree/nn_graph_makers/test_files/file50.txt -> /home/simon/Desktop/concept-tree/concept-tree/nn_graph_makers/test_files_output/file50.txt\n",
      "Processed: /home/simon/Desktop/concept-tree/concept-tree/nn_graph_makers/test_files/file75.txt -> /home/simon/Desktop/concept-tree/concept-tree/nn_graph_makers/test_files_output/file75.txt\n",
      "Processed: /home/simon/Desktop/concept-tree/concept-tree/nn_graph_makers/test_files/file96.txt -> /home/simon/Desktop/concept-tree/concept-tree/nn_graph_makers/test_files_output/file96.txt\n"
     ]
    },
    {
     "name": "stderr",
     "output_type": "stream",
     "text": [
      "27it [00:35,  1.49it/s]"
     ]
    },
    {
     "name": "stdout",
     "output_type": "stream",
     "text": [
      "Processed: /home/simon/Desktop/concept-tree/concept-tree/nn_graph_makers/test_files/file36.txt -> /home/simon/Desktop/concept-tree/concept-tree/nn_graph_makers/test_files_output/file36.txt\n",
      "Processed: /home/simon/Desktop/concept-tree/concept-tree/nn_graph_makers/test_files/file64.txt -> /home/simon/Desktop/concept-tree/concept-tree/nn_graph_makers/test_files_output/file64.txt\n",
      "Processed: /home/simon/Desktop/concept-tree/concept-tree/nn_graph_makers/test_files/file94.txt -> /home/simon/Desktop/concept-tree/concept-tree/nn_graph_makers/test_files_output/file94.txt\n"
     ]
    },
    {
     "name": "stderr",
     "output_type": "stream",
     "text": [
      "30it [00:35,  1.91it/s]"
     ]
    },
    {
     "name": "stdout",
     "output_type": "stream",
     "text": [
      "Processed: /home/simon/Desktop/concept-tree/concept-tree/nn_graph_makers/test_files/file47.txt -> /home/simon/Desktop/concept-tree/concept-tree/nn_graph_makers/test_files_output/file47.txt\n",
      "Processed: /home/simon/Desktop/concept-tree/concept-tree/nn_graph_makers/test_files/file67.txt -> /home/simon/Desktop/concept-tree/concept-tree/nn_graph_makers/test_files_output/file67.txt\n",
      "Processed: /home/simon/Desktop/concept-tree/concept-tree/nn_graph_makers/test_files/file89.txt -> /home/simon/Desktop/concept-tree/concept-tree/nn_graph_makers/test_files_output/file89.txt\n",
      "Processed: /home/simon/Desktop/concept-tree/concept-tree/nn_graph_makers/test_files/file48.txt -> /home/simon/Desktop/concept-tree/concept-tree/nn_graph_makers/test_files_output/file48.txt\n"
     ]
    },
    {
     "name": "stderr",
     "output_type": "stream",
     "text": [
      "32it [00:36,  2.03it/s]"
     ]
    },
    {
     "name": "stdout",
     "output_type": "stream",
     "text": [
      "Processed: /home/simon/Desktop/concept-tree/concept-tree/nn_graph_makers/test_files/file91.txt -> /home/simon/Desktop/concept-tree/concept-tree/nn_graph_makers/test_files_output/file91.txt\n"
     ]
    },
    {
     "name": "stderr",
     "output_type": "stream",
     "text": [
      "35it [00:45,  1.21s/it]"
     ]
    },
    {
     "name": "stdout",
     "output_type": "stream",
     "text": [
      "Processed: /home/simon/Desktop/concept-tree/concept-tree/nn_graph_makers/test_files/file86.txt -> /home/simon/Desktop/concept-tree/concept-tree/nn_graph_makers/test_files_output/file86.txt\n",
      "Processed: /home/simon/Desktop/concept-tree/concept-tree/nn_graph_makers/test_files/file46.txt -> /home/simon/Desktop/concept-tree/concept-tree/nn_graph_makers/test_files_output/file46.txt\n",
      "Processed: /home/simon/Desktop/concept-tree/concept-tree/nn_graph_makers/test_files/file53.txt -> /home/simon/Desktop/concept-tree/concept-tree/nn_graph_makers/test_files_output/file53.txt\n",
      "Processed: /home/simon/Desktop/concept-tree/concept-tree/nn_graph_makers/test_files/file42.txt -> /home/simon/Desktop/concept-tree/concept-tree/nn_graph_makers/test_files_output/file42.txt\n"
     ]
    },
    {
     "name": "stderr",
     "output_type": "stream",
     "text": [
      "39it [00:46,  1.52it/s]"
     ]
    },
    {
     "name": "stdout",
     "output_type": "stream",
     "text": [
      "Processed: /home/simon/Desktop/concept-tree/concept-tree/nn_graph_makers/test_files/file85.txt -> /home/simon/Desktop/concept-tree/concept-tree/nn_graph_makers/test_files_output/file85.txt\n",
      "Processed: /home/simon/Desktop/concept-tree/concept-tree/nn_graph_makers/test_files/file72.txt -> /home/simon/Desktop/concept-tree/concept-tree/nn_graph_makers/test_files_output/file72.txt\n",
      "Processed: /home/simon/Desktop/concept-tree/concept-tree/nn_graph_makers/test_files/file79.txt -> /home/simon/Desktop/concept-tree/concept-tree/nn_graph_makers/test_files_output/file79.txt\n",
      "Processed: /home/simon/Desktop/concept-tree/concept-tree/nn_graph_makers/test_files/file92.txt -> /home/simon/Desktop/concept-tree/concept-tree/nn_graph_makers/test_files_output/file92.txt\n"
     ]
    },
    {
     "name": "stderr",
     "output_type": "stream",
     "text": [
      "42it [00:46,  2.26it/s]"
     ]
    },
    {
     "name": "stdout",
     "output_type": "stream",
     "text": [
      "Processed: /home/simon/Desktop/concept-tree/concept-tree/nn_graph_makers/test_files/file43.txt -> /home/simon/Desktop/concept-tree/concept-tree/nn_graph_makers/test_files_output/file43.txt\n",
      "Processed: /home/simon/Desktop/concept-tree/concept-tree/nn_graph_makers/test_files/file45.txt -> /home/simon/Desktop/concept-tree/concept-tree/nn_graph_makers/test_files_output/file45.txt\n",
      "Processed: /home/simon/Desktop/concept-tree/concept-tree/nn_graph_makers/test_files/file27.txt -> /home/simon/Desktop/concept-tree/concept-tree/nn_graph_makers/test_files_output/file27.txt\n"
     ]
    },
    {
     "name": "stderr",
     "output_type": "stream",
     "text": [
      "44it [00:46,  2.95it/s]"
     ]
    },
    {
     "name": "stdout",
     "output_type": "stream",
     "text": [
      "Processed: /home/simon/Desktop/concept-tree/concept-tree/nn_graph_makers/test_files/file24.txt -> /home/simon/Desktop/concept-tree/concept-tree/nn_graph_makers/test_files_output/file24.txt\n",
      "Processed: /home/simon/Desktop/concept-tree/concept-tree/nn_graph_makers/test_files/file56.txt -> /home/simon/Desktop/concept-tree/concept-tree/nn_graph_makers/test_files_output/file56.txt\n",
      "Processed: /home/simon/Desktop/concept-tree/concept-tree/nn_graph_makers/test_files/file80.txt -> /home/simon/Desktop/concept-tree/concept-tree/nn_graph_makers/test_files_output/file80.txt\n",
      "Processed: /home/simon/Desktop/concept-tree/concept-tree/nn_graph_makers/test_files/file52.txt -> /home/simon/Desktop/concept-tree/concept-tree/nn_graph_makers/test_files_output/file52.txt\n"
     ]
    },
    {
     "name": "stderr",
     "output_type": "stream",
     "text": [
      "48it [00:46,  4.50it/s]"
     ]
    },
    {
     "name": "stdout",
     "output_type": "stream",
     "text": [
      "Processed: /home/simon/Desktop/concept-tree/concept-tree/nn_graph_makers/test_files/file30.txt -> /home/simon/Desktop/concept-tree/concept-tree/nn_graph_makers/test_files_output/file30.txt\n"
     ]
    },
    {
     "name": "stderr",
     "output_type": "stream",
     "text": [
      "50it [00:54,  1.12s/it]"
     ]
    },
    {
     "name": "stdout",
     "output_type": "stream",
     "text": [
      "Processed: /home/simon/Desktop/concept-tree/concept-tree/nn_graph_makers/test_files/file95.txt -> /home/simon/Desktop/concept-tree/concept-tree/nn_graph_makers/test_files_output/file95.txt\n",
      "Processed: /home/simon/Desktop/concept-tree/concept-tree/nn_graph_makers/test_files/file88.txt -> /home/simon/Desktop/concept-tree/concept-tree/nn_graph_makers/test_files_output/file88.txt\n",
      "Processed: /home/simon/Desktop/concept-tree/concept-tree/nn_graph_makers/test_files/file65.txt -> /home/simon/Desktop/concept-tree/concept-tree/nn_graph_makers/test_files_output/file65.txt\n"
     ]
    },
    {
     "name": "stderr",
     "output_type": "stream",
     "text": [
      "55it [00:55,  1.74it/s]"
     ]
    },
    {
     "name": "stdout",
     "output_type": "stream",
     "text": [
      "Processed: /home/simon/Desktop/concept-tree/concept-tree/nn_graph_makers/test_files/file73.txt -> /home/simon/Desktop/concept-tree/concept-tree/nn_graph_makers/test_files_output/file73.txt\n",
      "Processed: /home/simon/Desktop/concept-tree/concept-tree/nn_graph_makers/test_files/file39.txt -> /home/simon/Desktop/concept-tree/concept-tree/nn_graph_makers/test_files_output/file39.txt\n",
      "Processed: /home/simon/Desktop/concept-tree/concept-tree/nn_graph_makers/test_files/file66.txt -> /home/simon/Desktop/concept-tree/concept-tree/nn_graph_makers/test_files_output/file66.txt\n",
      "Processed: /home/simon/Desktop/concept-tree/concept-tree/nn_graph_makers/test_files/file84.txt -> /home/simon/Desktop/concept-tree/concept-tree/nn_graph_makers/test_files_output/file84.txt\n",
      "Processed: /home/simon/Desktop/concept-tree/concept-tree/nn_graph_makers/test_files/file100.txt -> /home/simon/Desktop/concept-tree/concept-tree/nn_graph_makers/test_files_output/file100.txt\n",
      "Processed: /home/simon/Desktop/concept-tree/concept-tree/nn_graph_makers/test_files/file90.txt -> /home/simon/Desktop/concept-tree/concept-tree/nn_graph_makers/test_files_output/file90.txt\n",
      "Processed: /home/simon/Desktop/concept-tree/concept-tree/nn_graph_makers/test_files/file31.txt -> /home/simon/Desktop/concept-tree/concept-tree/nn_graph_makers/test_files_output/file31.txt\n"
     ]
    },
    {
     "name": "stderr",
     "output_type": "stream",
     "text": [
      "60it [00:55,  3.00it/s]"
     ]
    },
    {
     "name": "stdout",
     "output_type": "stream",
     "text": [
      "Processed: /home/simon/Desktop/concept-tree/concept-tree/nn_graph_makers/test_files/file82.txt -> /home/simon/Desktop/concept-tree/concept-tree/nn_graph_makers/test_files_output/file82.txt\n",
      "Processed: /home/simon/Desktop/concept-tree/concept-tree/nn_graph_makers/test_files/file25.txt -> /home/simon/Desktop/concept-tree/concept-tree/nn_graph_makers/test_files_output/file25.txt\n"
     ]
    },
    {
     "name": "stderr",
     "output_type": "stream",
     "text": [
      "62it [00:55,  3.62it/s]"
     ]
    },
    {
     "name": "stdout",
     "output_type": "stream",
     "text": [
      "Processed: /home/simon/Desktop/concept-tree/concept-tree/nn_graph_makers/test_files/file32.txt -> /home/simon/Desktop/concept-tree/concept-tree/nn_graph_makers/test_files_output/file32.txt\n",
      "Processed: /home/simon/Desktop/concept-tree/concept-tree/nn_graph_makers/test_files/file51.txt -> /home/simon/Desktop/concept-tree/concept-tree/nn_graph_makers/test_files_output/file51.txt\n",
      "Processed: /home/simon/Desktop/concept-tree/concept-tree/nn_graph_makers/test_files/file58.txt -> /home/simon/Desktop/concept-tree/concept-tree/nn_graph_makers/test_files_output/file58.txt\n"
     ]
    },
    {
     "name": "stderr",
     "output_type": "stream",
     "text": [
      "64it [00:56,  3.49it/s]"
     ]
    },
    {
     "name": "stdout",
     "output_type": "stream",
     "text": [
      "Processed: /home/simon/Desktop/concept-tree/concept-tree/nn_graph_makers/test_files/file40.txt -> /home/simon/Desktop/concept-tree/concept-tree/nn_graph_makers/test_files_output/file40.txt\n"
     ]
    },
    {
     "name": "stderr",
     "output_type": "stream",
     "text": [
      "66it [01:04,  1.23s/it]"
     ]
    },
    {
     "name": "stdout",
     "output_type": "stream",
     "text": [
      "Processed: /home/simon/Desktop/concept-tree/concept-tree/nn_graph_makers/test_files/file33.txt -> /home/simon/Desktop/concept-tree/concept-tree/nn_graph_makers/test_files_output/file33.txt\n",
      "Processed: /home/simon/Desktop/concept-tree/concept-tree/nn_graph_makers/test_files/file70.txt -> /home/simon/Desktop/concept-tree/concept-tree/nn_graph_makers/test_files_output/file70.txt\n"
     ]
    },
    {
     "name": "stderr",
     "output_type": "stream",
     "text": [
      "71it [01:04,  1.67it/s]"
     ]
    },
    {
     "name": "stdout",
     "output_type": "stream",
     "text": [
      "Processed: /home/simon/Desktop/concept-tree/concept-tree/nn_graph_makers/test_files/file81.txt -> /home/simon/Desktop/concept-tree/concept-tree/nn_graph_makers/test_files_output/file81.txt\n",
      "Processed: /home/simon/Desktop/concept-tree/concept-tree/nn_graph_makers/test_files/file37.txt -> /home/simon/Desktop/concept-tree/concept-tree/nn_graph_makers/test_files_output/file37.txt\n",
      "Processed: /home/simon/Desktop/concept-tree/concept-tree/nn_graph_makers/test_files/file83.txt -> /home/simon/Desktop/concept-tree/concept-tree/nn_graph_makers/test_files_output/file83.txt\n",
      "Processed: /home/simon/Desktop/concept-tree/concept-tree/nn_graph_makers/test_files/subdir_1/file6.txt -> /home/simon/Desktop/concept-tree/concept-tree/nn_graph_makers/test_files_output/subdir_1/file6.txt\n",
      "Processed: /home/simon/Desktop/concept-tree/concept-tree/nn_graph_makers/test_files/file93.txt -> /home/simon/Desktop/concept-tree/concept-tree/nn_graph_makers/test_files_output/file93.txt\n",
      "Processed: /home/simon/Desktop/concept-tree/concept-tree/nn_graph_makers/test_files/file29.txt -> /home/simon/Desktop/concept-tree/concept-tree/nn_graph_makers/test_files_output/file29.txt\n"
     ]
    },
    {
     "name": "stderr",
     "output_type": "stream",
     "text": [
      "75it [01:04,  2.69it/s]"
     ]
    },
    {
     "name": "stdout",
     "output_type": "stream",
     "text": [
      "Processed: /home/simon/Desktop/concept-tree/concept-tree/nn_graph_makers/test_files/file99.txt -> /home/simon/Desktop/concept-tree/concept-tree/nn_graph_makers/test_files_output/file99.txt\n",
      "Processed: /home/simon/Desktop/concept-tree/concept-tree/nn_graph_makers/test_files/subdir_1/file8.txt -> /home/simon/Desktop/concept-tree/concept-tree/nn_graph_makers/test_files_output/subdir_1/file8.txt\n",
      "Processed: /home/simon/Desktop/concept-tree/concept-tree/nn_graph_makers/test_files/file44.txt -> /home/simon/Desktop/concept-tree/concept-tree/nn_graph_makers/test_files_output/file44.txt\n",
      "Processed: /home/simon/Desktop/concept-tree/concept-tree/nn_graph_makers/test_files/file41.txt -> /home/simon/Desktop/concept-tree/concept-tree/nn_graph_makers/test_files_output/file41.txt\n",
      "Processed: /home/simon/Desktop/concept-tree/concept-tree/nn_graph_makers/test_files/subdir_1/file7.txt -> /home/simon/Desktop/concept-tree/concept-tree/nn_graph_makers/test_files_output/subdir_1/file7.txt\n",
      "Processed: /home/simon/Desktop/concept-tree/concept-tree/nn_graph_makers/test_files/file61.txt -> /home/simon/Desktop/concept-tree/concept-tree/nn_graph_makers/test_files_output/file61.txt\n",
      "Processed: /home/simon/Desktop/concept-tree/concept-tree/nn_graph_makers/test_files/file97.txt -> /home/simon/Desktop/concept-tree/concept-tree/nn_graph_makers/test_files_output/file97.txt\n"
     ]
    },
    {
     "name": "stderr",
     "output_type": "stream",
     "text": [
      "78it [01:04,  3.63it/s]"
     ]
    },
    {
     "name": "stdout",
     "output_type": "stream",
     "text": [
      "Processed: /home/simon/Desktop/concept-tree/concept-tree/nn_graph_makers/test_files/file71.txt -> /home/simon/Desktop/concept-tree/concept-tree/nn_graph_makers/test_files_output/file71.txt\n"
     ]
    },
    {
     "name": "stderr",
     "output_type": "stream",
     "text": [
      "89it [01:13,  2.02it/s]"
     ]
    },
    {
     "name": "stdout",
     "output_type": "stream",
     "text": [
      "Processed: /home/simon/Desktop/concept-tree/concept-tree/nn_graph_makers/test_files/subdir_1/file10.txt -> /home/simon/Desktop/concept-tree/concept-tree/nn_graph_makers/test_files_output/subdir_1/file10.txt\n",
      "Processed: /home/simon/Desktop/concept-tree/concept-tree/nn_graph_makers/test_files/subdir_1/file4.txt -> /home/simon/Desktop/concept-tree/concept-tree/nn_graph_makers/test_files_output/subdir_1/file4.txt\n",
      "Processed: /home/simon/Desktop/concept-tree/concept-tree/nn_graph_makers/test_files/subdir_1/file3.txt -> /home/simon/Desktop/concept-tree/concept-tree/nn_graph_makers/test_files_output/subdir_1/file3.txt\n",
      "Processed: /home/simon/Desktop/concept-tree/concept-tree/nn_graph_makers/test_files/subdir_1/file2.txt -> /home/simon/Desktop/concept-tree/concept-tree/nn_graph_makers/test_files_output/subdir_1/file2.txt\n",
      "Processed: /home/simon/Desktop/concept-tree/concept-tree/nn_graph_makers/test_files/subdir_2/file16.txt -> /home/simon/Desktop/concept-tree/concept-tree/nn_graph_makers/test_files_output/subdir_2/file16.txt\n",
      "Processed: /home/simon/Desktop/concept-tree/concept-tree/nn_graph_makers/test_files/subdir_1/file9.txt -> /home/simon/Desktop/concept-tree/concept-tree/nn_graph_makers/test_files_output/subdir_1/file9.txt\n",
      "Processed: /home/simon/Desktop/concept-tree/concept-tree/nn_graph_makers/test_files/subdir_2/file18.txt -> /home/simon/Desktop/concept-tree/concept-tree/nn_graph_makers/test_files_output/subdir_2/file18.txt\n",
      "Processed: /home/simon/Desktop/concept-tree/concept-tree/nn_graph_makers/test_files/subdir_1/file5.txt -> /home/simon/Desktop/concept-tree/concept-tree/nn_graph_makers/test_files_output/subdir_1/file5.txt\n",
      "Processed: /home/simon/Desktop/concept-tree/concept-tree/nn_graph_makers/test_files/subdir_2/file15.txt -> /home/simon/Desktop/concept-tree/concept-tree/nn_graph_makers/test_files_output/subdir_2/file15.txt\n",
      "Processed: /home/simon/Desktop/concept-tree/concept-tree/nn_graph_makers/test_files/subdir_2/file20.txt -> /home/simon/Desktop/concept-tree/concept-tree/nn_graph_makers/test_files_output/subdir_2/file20.txt\n",
      "Processed: /home/simon/Desktop/concept-tree/concept-tree/nn_graph_makers/test_files/subdir_1/file1.txt -> /home/simon/Desktop/concept-tree/concept-tree/nn_graph_makers/test_files_output/subdir_1/file1.txt\n"
     ]
    },
    {
     "name": "stderr",
     "output_type": "stream",
     "text": [
      "92it [01:13,  2.55it/s]"
     ]
    },
    {
     "name": "stdout",
     "output_type": "stream",
     "text": [
      "Processed: /home/simon/Desktop/concept-tree/concept-tree/nn_graph_makers/test_files/subdir_2/file21.txt -> /home/simon/Desktop/concept-tree/concept-tree/nn_graph_makers/test_files_output/subdir_2/file21.txt\n",
      "Processed: /home/simon/Desktop/concept-tree/concept-tree/nn_graph_makers/test_files/subdir_2/file19.txt -> /home/simon/Desktop/concept-tree/concept-tree/nn_graph_makers/test_files_output/subdir_2/file19.txt\n",
      "Processed: /home/simon/Desktop/concept-tree/concept-tree/nn_graph_makers/test_files/subdir_2/file23.txt -> /home/simon/Desktop/concept-tree/concept-tree/nn_graph_makers/test_files_output/subdir_2/file23.txt\n"
     ]
    },
    {
     "name": "stderr",
     "output_type": "stream",
     "text": [
      "95it [01:13,  3.18it/s]"
     ]
    },
    {
     "name": "stdout",
     "output_type": "stream",
     "text": [
      "Processed: /home/simon/Desktop/concept-tree/concept-tree/nn_graph_makers/test_files/subdir_2/file12.txt -> /home/simon/Desktop/concept-tree/concept-tree/nn_graph_makers/test_files_output/subdir_2/file12.txt\n",
      "Processed: /home/simon/Desktop/concept-tree/concept-tree/nn_graph_makers/test_files/subdir_2/file14.txt -> /home/simon/Desktop/concept-tree/concept-tree/nn_graph_makers/test_files_output/subdir_2/file14.txt\n"
     ]
    },
    {
     "name": "stderr",
     "output_type": "stream",
     "text": [
      "100it [01:16,  1.30it/s]"
     ]
    },
    {
     "name": "stdout",
     "output_type": "stream",
     "text": [
      "Processed: /home/simon/Desktop/concept-tree/concept-tree/nn_graph_makers/test_files/subdir_2/file13.txt -> /home/simon/Desktop/concept-tree/concept-tree/nn_graph_makers/test_files_output/subdir_2/file13.txt\n",
      "Processed: /home/simon/Desktop/concept-tree/concept-tree/nn_graph_makers/test_files/subdir_2/file22.txt -> /home/simon/Desktop/concept-tree/concept-tree/nn_graph_makers/test_files_output/subdir_2/file22.txt\n",
      "Processed: /home/simon/Desktop/concept-tree/concept-tree/nn_graph_makers/test_files/subdir_2/file17.txt -> /home/simon/Desktop/concept-tree/concept-tree/nn_graph_makers/test_files_output/subdir_2/file17.txt\n",
      "Processed: /home/simon/Desktop/concept-tree/concept-tree/nn_graph_makers/test_files/subdir_2/file11.txt -> /home/simon/Desktop/concept-tree/concept-tree/nn_graph_makers/test_files_output/subdir_2/file11.txt\n"
     ]
    },
    {
     "name": "stderr",
     "output_type": "stream",
     "text": [
      "\n"
     ]
    },
    {
     "data": {
      "text/plain": [
       "[True,\n",
       " True,\n",
       " True,\n",
       " True,\n",
       " True,\n",
       " True,\n",
       " True,\n",
       " True,\n",
       " True,\n",
       " True,\n",
       " True,\n",
       " True,\n",
       " True,\n",
       " True,\n",
       " True,\n",
       " True,\n",
       " True,\n",
       " True,\n",
       " True,\n",
       " True,\n",
       " True,\n",
       " True,\n",
       " True,\n",
       " True,\n",
       " True,\n",
       " True,\n",
       " True,\n",
       " True,\n",
       " True,\n",
       " True,\n",
       " True,\n",
       " True,\n",
       " True,\n",
       " True,\n",
       " True,\n",
       " True,\n",
       " True,\n",
       " True,\n",
       " True,\n",
       " True,\n",
       " True,\n",
       " True,\n",
       " True,\n",
       " True,\n",
       " True,\n",
       " True,\n",
       " True,\n",
       " True,\n",
       " True,\n",
       " True,\n",
       " True,\n",
       " True,\n",
       " True,\n",
       " True,\n",
       " True,\n",
       " True,\n",
       " True,\n",
       " True,\n",
       " True,\n",
       " True,\n",
       " True,\n",
       " True,\n",
       " True,\n",
       " True,\n",
       " True,\n",
       " True,\n",
       " True,\n",
       " True,\n",
       " True,\n",
       " True,\n",
       " True,\n",
       " True,\n",
       " True,\n",
       " True,\n",
       " True,\n",
       " True,\n",
       " True,\n",
       " True,\n",
       " True,\n",
       " True,\n",
       " True,\n",
       " True,\n",
       " True,\n",
       " True,\n",
       " True,\n",
       " True,\n",
       " True,\n",
       " True,\n",
       " True,\n",
       " True,\n",
       " True,\n",
       " True,\n",
       " True,\n",
       " True,\n",
       " True,\n",
       " True,\n",
       " True,\n",
       " True,\n",
       " True,\n",
       " True]"
      ]
     },
     "execution_count": 25,
     "metadata": {},
     "output_type": "execute_result"
    }
   ],
   "source": [
    "resolver.process_files(input_files, output_files, algorithm=\"neural\", verbose=True)"
   ]
  }
 ],
 "metadata": {
  "kernelspec": {
   "display_name": ".venv-concept-graph",
   "language": "python",
   "name": "python3"
  },
  "language_info": {
   "codemirror_mode": {
    "name": "ipython",
    "version": 3
   },
   "file_extension": ".py",
   "mimetype": "text/x-python",
   "name": "python",
   "nbconvert_exporter": "python",
   "pygments_lexer": "ipython3",
   "version": "3.10.12"
  }
 },
 "nbformat": 4,
 "nbformat_minor": 2
}
