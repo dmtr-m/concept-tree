{
 "cells": [
  {
   "cell_type": "code",
   "execution_count": 1,
   "metadata": {},
   "outputs": [
    {
     "name": "stderr",
     "output_type": "stream",
     "text": [
      "/Users/dmitry/Desktop/Projects/concept-tree/.venv/lib/python3.11/site-packages/tqdm/auto.py:21: TqdmWarning: IProgress not found. Please update jupyter and ipywidgets. See https://ipywidgets.readthedocs.io/en/stable/user_install.html\n",
      "  from .autonotebook import tqdm as notebook_tqdm\n"
     ]
    }
   ],
   "source": [
    "import networkx as nx\n",
    "from directed_graph.graph import Graph, load_graph"
   ]
  },
  {
   "cell_type": "code",
   "execution_count": 2,
   "metadata": {},
   "outputs": [],
   "source": [
    "graph = load_graph(\"clustered_graph.pickle\")"
   ]
  },
  {
   "cell_type": "code",
   "execution_count": 3,
   "metadata": {},
   "outputs": [
    {
     "name": "stdout",
     "output_type": "stream",
     "text": [
      "Graph(vertices=22893, edges=87016)\n"
     ]
    }
   ],
   "source": [
    "print(repr(graph))"
   ]
  },
  {
   "cell_type": "code",
   "execution_count": 4,
   "metadata": {},
   "outputs": [],
   "source": [
    "def _convert_to_networkx(graph) -> nx.Graph:\n",
    "    \"\"\"\n",
    "    Converts a custom Graph object to a NetworkX Graph.\n",
    "    Vertices with the same vertex_type are merged into one logical vertex.\n",
    "    Edges with the same edge_type are merged into one logical edge.\n",
    "    \"\"\"\n",
    "    nx_graph = nx.Graph()\n",
    "\n",
    "    for edge in graph.get_edges():\n",
    "        nx_graph.add_node(edge.agent_1)\n",
    "        nx_graph.add_node(edge.agent_2)\n",
    "        nx_graph.add_edge(edge.agent_1, edge.agent_2)\n",
    "\n",
    "    return nx_graph\n"
   ]
  },
  {
   "cell_type": "code",
   "execution_count": 5,
   "metadata": {},
   "outputs": [],
   "source": [
    "nx_graph = _convert_to_networkx(graph)"
   ]
  },
  {
   "cell_type": "code",
   "execution_count": 22,
   "metadata": {},
   "outputs": [],
   "source": [
    "def get_subgraph_from_vertices(graph: Graph, clique: list[str]) -> Graph:\n",
    "        subgraph = Graph()\n",
    "        added_edges = set()\n",
    "        added_pairs = set()\n",
    "\n",
    "        clique = list(clique)\n",
    "        for vertex1 in clique:\n",
    "            if vertex1 not in subgraph.vertices:\n",
    "                subgraph.add_vertex(vertex1)\n",
    "\n",
    "            for vertex2_index in graph.vertex_edges[vertex1]:\n",
    "                edge = graph.edges[vertex2_index]\n",
    "                new_edge = (\n",
    "                     edge.agent_1,\n",
    "                     edge.agent_2,\n",
    "                     edge.label\n",
    "                )\n",
    "                new_pair = (\n",
    "                     edge.agent_1,\n",
    "                     edge.agent_2,\n",
    "                )\n",
    "                vertex2 = edge.agent_1 if vertex1 == edge.agent_2 else edge.agent_2\n",
    "                if vertex1 == vertex2:\n",
    "                     continue\n",
    "                if vertex2 in clique:\n",
    "                    if vertex2 not in subgraph.vertices:\n",
    "                        subgraph.add_vertex(vertex2)\n",
    "                    if new_pair not in added_pairs:\n",
    "                        added_pairs.add(new_pair)\n",
    "                        subgraph.add_edge(\n",
    "                            *new_edge\n",
    "                        )\n",
    "        return subgraph"
   ]
  },
  {
   "cell_type": "code",
   "execution_count": 23,
   "metadata": {},
   "outputs": [],
   "source": [
    "\n",
    "cliques = nx.find_cliques(nx_graph)"
   ]
  },
  {
   "cell_type": "code",
   "execution_count": 24,
   "metadata": {},
   "outputs": [],
   "source": [
    "subgraph = None\n",
    "\n",
    "for clique in cliques:\n",
    "    if len(clique) > 6:\n",
    "        subgraph = get_subgraph_from_vertices(graph, clique)\n",
    "        break"
   ]
  },
  {
   "cell_type": "code",
   "execution_count": 25,
   "metadata": {},
   "outputs": [
    {
     "name": "stdout",
     "output_type": "stream",
     "text": [
      "Excluded vertices due to inconsistent embedding dimensions: set()\n"
     ]
    },
    {
     "data": {
      "application/vnd.plotly.v1+json": {
       "config": {
        "plotlyServerURL": "https://plot.ly"
       },
       "data": [
        {
         "line": {
          "color": "gray",
          "width": 2
         },
         "mode": "lines",
         "name": "Edges",
         "type": "scatter3d",
         "x": [
          0.1776105910539627,
          -0.3916567862033844,
          null,
          0.34068024158477783,
          -0.3916567862033844,
          null,
          -0.09179303050041199,
          -0.3916567862033844,
          null,
          -0.16223038733005524,
          -0.3916567862033844,
          null,
          0.39165687561035156,
          -0.3916567862033844,
          null,
          -0.2642674148082733,
          -0.3916567862033844,
          null,
          0.1776105910539627,
          -0.2642674148082733,
          null,
          0.1776105910539627,
          -0.09179303050041199,
          null,
          -0.09179303050041199,
          0.1776105910539627,
          null,
          0.39165687561035156,
          0.1776105910539627,
          null,
          -0.16223038733005524,
          0.1776105910539627,
          null,
          0.34068024158477783,
          0.1776105910539627,
          null,
          -0.09179303050041199,
          -0.16223038733005524,
          null,
          0.39165687561035156,
          -0.09179303050041199,
          null,
          -0.09179303050041199,
          0.39165687561035156,
          null,
          -0.09179303050041199,
          0.34068024158477783,
          null,
          -0.09179303050041199,
          -0.2642674148082733,
          null,
          0.34068024158477783,
          -0.09179303050041199,
          null,
          -0.2642674148082733,
          -0.09179303050041199,
          null,
          -0.16223038733005524,
          -0.09179303050041199,
          null,
          -0.2642674148082733,
          0.39165687561035156,
          null,
          0.39165687561035156,
          -0.2642674148082733,
          null,
          -0.16223038733005524,
          0.39165687561035156,
          null,
          0.39165687561035156,
          -0.16223038733005524,
          null,
          0.34068024158477783,
          0.39165687561035156,
          null,
          -0.16223038733005524,
          -0.2642674148082733,
          null,
          0.34068024158477783,
          -0.2642674148082733,
          null,
          -0.2642674148082733,
          0.34068024158477783,
          null,
          -0.2642674148082733,
          -0.16223038733005524,
          null,
          0.34068024158477783,
          -0.16223038733005524,
          null,
          -0.16223038733005524,
          0.34068024158477783,
          null
         ],
         "y": [
          0.3747142255306244,
          3.398588077629938e-8,
          null,
          -0.26898184418678284,
          3.398588077629938e-8,
          null,
          -0.02702477015554905,
          3.398588077629938e-8,
          null,
          0.017670277506113052,
          3.398588077629938e-8,
          null,
          3.39858772235857e-8,
          3.398588077629938e-8,
          null,
          -0.09637793898582458,
          3.398588077629938e-8,
          null,
          0.3747142255306244,
          -0.09637793898582458,
          null,
          0.3747142255306244,
          -0.02702477015554905,
          null,
          -0.02702477015554905,
          0.3747142255306244,
          null,
          3.39858772235857e-8,
          0.3747142255306244,
          null,
          0.017670277506113052,
          0.3747142255306244,
          null,
          -0.26898184418678284,
          0.3747142255306244,
          null,
          -0.02702477015554905,
          0.017670277506113052,
          null,
          3.39858772235857e-8,
          -0.02702477015554905,
          null,
          -0.02702477015554905,
          3.39858772235857e-8,
          null,
          -0.02702477015554905,
          -0.26898184418678284,
          null,
          -0.02702477015554905,
          -0.09637793898582458,
          null,
          -0.26898184418678284,
          -0.02702477015554905,
          null,
          -0.09637793898582458,
          -0.02702477015554905,
          null,
          0.017670277506113052,
          -0.02702477015554905,
          null,
          -0.09637793898582458,
          3.39858772235857e-8,
          null,
          3.39858772235857e-8,
          -0.09637793898582458,
          null,
          0.017670277506113052,
          3.39858772235857e-8,
          null,
          3.39858772235857e-8,
          0.017670277506113052,
          null,
          -0.26898184418678284,
          3.39858772235857e-8,
          null,
          0.017670277506113052,
          -0.09637793898582458,
          null,
          -0.26898184418678284,
          -0.09637793898582458,
          null,
          -0.09637793898582458,
          -0.26898184418678284,
          null,
          -0.09637793898582458,
          0.017670277506113052,
          null,
          -0.26898184418678284,
          0.017670277506113052,
          null,
          0.017670277506113052,
          -0.26898184418678284,
          null
         ],
         "z": [
          0,
          0.4,
          null,
          0,
          0.4,
          null,
          0,
          0.4,
          null,
          0,
          0.4,
          null,
          0.4,
          0.4,
          null,
          0,
          0.4,
          null,
          0,
          0,
          null,
          0,
          0,
          null,
          0,
          0,
          null,
          0.4,
          0,
          null,
          0,
          0,
          null,
          0,
          0,
          null,
          0,
          0,
          null,
          0.4,
          0,
          null,
          0,
          0.4,
          null,
          0,
          0,
          null,
          0,
          0,
          null,
          0,
          0,
          null,
          0,
          0,
          null,
          0,
          0,
          null,
          0,
          0.4,
          null,
          0.4,
          0,
          null,
          0,
          0.4,
          null,
          0.4,
          0,
          null,
          0,
          0.4,
          null,
          0,
          0,
          null,
          0,
          0,
          null,
          0,
          0,
          null,
          0,
          0,
          null,
          0,
          0,
          null,
          0,
          0,
          null
         ]
        },
        {
         "marker": {
          "color": [
           "green",
           "red",
           "red",
           "red",
           "red",
           "green",
           "red"
          ],
          "opacity": 0.8,
          "size": 8
         },
         "mode": "markers+text",
         "name": "Nodes",
         "text": [
          "state transition",
          "right",
          "thousand",
          "workstation",
          "variance",
          "weighting process",
          "synthesis"
         ],
         "textposition": "top center",
         "type": "scatter3d",
         "x": [
          -0.3916567862033844,
          0.1776105910539627,
          0.34068024158477783,
          -0.09179303050041199,
          -0.16223038733005524,
          0.39165687561035156,
          -0.2642674148082733
         ],
         "y": [
          3.398588077629938e-8,
          0.3747142255306244,
          -0.26898184418678284,
          -0.02702477015554905,
          0.017670277506113052,
          3.39858772235857e-8,
          -0.09637793898582458
         ],
         "z": [
          0.4,
          0,
          0,
          0,
          0,
          0.4,
          0
         ]
        },
        {
         "mode": "text",
         "name": "Edge Labels",
         "text": [
          "in",
          "of",
          "of",
          "of",
          "demonstrate in",
          "demonstrate of",
          "lie from",
          "of",
          "grant",
          "group",
          "of",
          "of",
          "differentiate",
          "demonstrate in",
          "in",
          "demonstrate of",
          "demonstrate on",
          "of",
          "demonstrate in",
          "on",
          "of",
          "add",
          "of",
          "of",
          "in",
          "differentiate",
          "that",
          "grows with",
          "differentiate",
          "of",
          "of"
         ],
         "textposition": "middle center",
         "type": "scatter3d",
         "x": [
          -0.10702309757471085,
          -0.025488272309303284,
          -0.2417249083518982,
          -0.2769435942173004,
          4.470348358154297e-8,
          -0.32796210050582886,
          -0.043328411877155304,
          0.04290878027677536,
          0.04290878027677536,
          0.28463372588157654,
          0.007690101861953735,
          0.2591454088687897,
          -0.1270117163658142,
          0.1499319225549698,
          0.1499319225549698,
          0.12444360554218292,
          -0.17803022265434265,
          0.12444360554218292,
          -0.17803022265434265,
          -0.1270117163658142,
          0.06369473040103912,
          0.06369473040103912,
          0.11471324414014816,
          0.11471324414014816,
          0.3661685585975647,
          -0.21324890851974487,
          0.03820641338825226,
          0.03820641338825226,
          -0.21324890851974487,
          0.0892249271273613,
          0.0892249271273613
         ],
         "y": [
          0.1873571276664734,
          -0.13449090719223022,
          -0.013512368313968182,
          0.00883515551686287,
          3.39858772235857e-8,
          -0.0481889508664608,
          0.1391681432723999,
          0.17384472489356995,
          0.17384472489356995,
          0.1873571276664734,
          0.19619224965572357,
          0.052866190671920776,
          -0.0046772463247179985,
          -0.013512368313968182,
          -0.013512368313968182,
          -0.14800330996513367,
          -0.06170135363936424,
          -0.14800330996513367,
          -0.06170135363936424,
          -0.0046772463247179985,
          -0.0481889508664608,
          -0.0481889508664608,
          0.00883515551686287,
          0.00883515551686287,
          -0.13449090719223022,
          -0.039353832602500916,
          -0.1826798915863037,
          -0.1826798915863037,
          -0.039353832602500916,
          -0.12565578520298004,
          -0.12565578520298004
         ],
         "z": [
          0.2,
          0.2,
          0.2,
          0.2,
          0.4,
          0.2,
          0,
          0,
          0,
          0.2,
          0,
          0,
          0,
          0.2,
          0.2,
          0,
          0,
          0,
          0,
          0,
          0.2,
          0.2,
          0.2,
          0.2,
          0.2,
          0,
          0,
          0,
          0,
          0,
          0
         ]
        }
       ],
       "layout": {
        "height": 1000,
        "scene": {
         "xaxis": {
          "title": {
           "text": "PCA Component 1"
          },
          "visible": false
         },
         "yaxis": {
          "title": {
           "text": "PCA Component 2"
          },
          "visible": false
         },
         "zaxis": {
          "title": {
           "text": "Z Axis"
          },
          "visible": false
         }
        },
        "showlegend": false,
        "template": {
         "data": {
          "bar": [
           {
            "error_x": {
             "color": "#2a3f5f"
            },
            "error_y": {
             "color": "#2a3f5f"
            },
            "marker": {
             "line": {
              "color": "#E5ECF6",
              "width": 0.5
             },
             "pattern": {
              "fillmode": "overlay",
              "size": 10,
              "solidity": 0.2
             }
            },
            "type": "bar"
           }
          ],
          "barpolar": [
           {
            "marker": {
             "line": {
              "color": "#E5ECF6",
              "width": 0.5
             },
             "pattern": {
              "fillmode": "overlay",
              "size": 10,
              "solidity": 0.2
             }
            },
            "type": "barpolar"
           }
          ],
          "carpet": [
           {
            "aaxis": {
             "endlinecolor": "#2a3f5f",
             "gridcolor": "white",
             "linecolor": "white",
             "minorgridcolor": "white",
             "startlinecolor": "#2a3f5f"
            },
            "baxis": {
             "endlinecolor": "#2a3f5f",
             "gridcolor": "white",
             "linecolor": "white",
             "minorgridcolor": "white",
             "startlinecolor": "#2a3f5f"
            },
            "type": "carpet"
           }
          ],
          "choropleth": [
           {
            "colorbar": {
             "outlinewidth": 0,
             "ticks": ""
            },
            "type": "choropleth"
           }
          ],
          "contour": [
           {
            "colorbar": {
             "outlinewidth": 0,
             "ticks": ""
            },
            "colorscale": [
             [
              0,
              "#0d0887"
             ],
             [
              0.1111111111111111,
              "#46039f"
             ],
             [
              0.2222222222222222,
              "#7201a8"
             ],
             [
              0.3333333333333333,
              "#9c179e"
             ],
             [
              0.4444444444444444,
              "#bd3786"
             ],
             [
              0.5555555555555556,
              "#d8576b"
             ],
             [
              0.6666666666666666,
              "#ed7953"
             ],
             [
              0.7777777777777778,
              "#fb9f3a"
             ],
             [
              0.8888888888888888,
              "#fdca26"
             ],
             [
              1,
              "#f0f921"
             ]
            ],
            "type": "contour"
           }
          ],
          "contourcarpet": [
           {
            "colorbar": {
             "outlinewidth": 0,
             "ticks": ""
            },
            "type": "contourcarpet"
           }
          ],
          "heatmap": [
           {
            "colorbar": {
             "outlinewidth": 0,
             "ticks": ""
            },
            "colorscale": [
             [
              0,
              "#0d0887"
             ],
             [
              0.1111111111111111,
              "#46039f"
             ],
             [
              0.2222222222222222,
              "#7201a8"
             ],
             [
              0.3333333333333333,
              "#9c179e"
             ],
             [
              0.4444444444444444,
              "#bd3786"
             ],
             [
              0.5555555555555556,
              "#d8576b"
             ],
             [
              0.6666666666666666,
              "#ed7953"
             ],
             [
              0.7777777777777778,
              "#fb9f3a"
             ],
             [
              0.8888888888888888,
              "#fdca26"
             ],
             [
              1,
              "#f0f921"
             ]
            ],
            "type": "heatmap"
           }
          ],
          "histogram": [
           {
            "marker": {
             "pattern": {
              "fillmode": "overlay",
              "size": 10,
              "solidity": 0.2
             }
            },
            "type": "histogram"
           }
          ],
          "histogram2d": [
           {
            "colorbar": {
             "outlinewidth": 0,
             "ticks": ""
            },
            "colorscale": [
             [
              0,
              "#0d0887"
             ],
             [
              0.1111111111111111,
              "#46039f"
             ],
             [
              0.2222222222222222,
              "#7201a8"
             ],
             [
              0.3333333333333333,
              "#9c179e"
             ],
             [
              0.4444444444444444,
              "#bd3786"
             ],
             [
              0.5555555555555556,
              "#d8576b"
             ],
             [
              0.6666666666666666,
              "#ed7953"
             ],
             [
              0.7777777777777778,
              "#fb9f3a"
             ],
             [
              0.8888888888888888,
              "#fdca26"
             ],
             [
              1,
              "#f0f921"
             ]
            ],
            "type": "histogram2d"
           }
          ],
          "histogram2dcontour": [
           {
            "colorbar": {
             "outlinewidth": 0,
             "ticks": ""
            },
            "colorscale": [
             [
              0,
              "#0d0887"
             ],
             [
              0.1111111111111111,
              "#46039f"
             ],
             [
              0.2222222222222222,
              "#7201a8"
             ],
             [
              0.3333333333333333,
              "#9c179e"
             ],
             [
              0.4444444444444444,
              "#bd3786"
             ],
             [
              0.5555555555555556,
              "#d8576b"
             ],
             [
              0.6666666666666666,
              "#ed7953"
             ],
             [
              0.7777777777777778,
              "#fb9f3a"
             ],
             [
              0.8888888888888888,
              "#fdca26"
             ],
             [
              1,
              "#f0f921"
             ]
            ],
            "type": "histogram2dcontour"
           }
          ],
          "mesh3d": [
           {
            "colorbar": {
             "outlinewidth": 0,
             "ticks": ""
            },
            "type": "mesh3d"
           }
          ],
          "parcoords": [
           {
            "line": {
             "colorbar": {
              "outlinewidth": 0,
              "ticks": ""
             }
            },
            "type": "parcoords"
           }
          ],
          "pie": [
           {
            "automargin": true,
            "type": "pie"
           }
          ],
          "scatter": [
           {
            "fillpattern": {
             "fillmode": "overlay",
             "size": 10,
             "solidity": 0.2
            },
            "type": "scatter"
           }
          ],
          "scatter3d": [
           {
            "line": {
             "colorbar": {
              "outlinewidth": 0,
              "ticks": ""
             }
            },
            "marker": {
             "colorbar": {
              "outlinewidth": 0,
              "ticks": ""
             }
            },
            "type": "scatter3d"
           }
          ],
          "scattercarpet": [
           {
            "marker": {
             "colorbar": {
              "outlinewidth": 0,
              "ticks": ""
             }
            },
            "type": "scattercarpet"
           }
          ],
          "scattergeo": [
           {
            "marker": {
             "colorbar": {
              "outlinewidth": 0,
              "ticks": ""
             }
            },
            "type": "scattergeo"
           }
          ],
          "scattergl": [
           {
            "marker": {
             "colorbar": {
              "outlinewidth": 0,
              "ticks": ""
             }
            },
            "type": "scattergl"
           }
          ],
          "scattermap": [
           {
            "marker": {
             "colorbar": {
              "outlinewidth": 0,
              "ticks": ""
             }
            },
            "type": "scattermap"
           }
          ],
          "scattermapbox": [
           {
            "marker": {
             "colorbar": {
              "outlinewidth": 0,
              "ticks": ""
             }
            },
            "type": "scattermapbox"
           }
          ],
          "scatterpolar": [
           {
            "marker": {
             "colorbar": {
              "outlinewidth": 0,
              "ticks": ""
             }
            },
            "type": "scatterpolar"
           }
          ],
          "scatterpolargl": [
           {
            "marker": {
             "colorbar": {
              "outlinewidth": 0,
              "ticks": ""
             }
            },
            "type": "scatterpolargl"
           }
          ],
          "scatterternary": [
           {
            "marker": {
             "colorbar": {
              "outlinewidth": 0,
              "ticks": ""
             }
            },
            "type": "scatterternary"
           }
          ],
          "surface": [
           {
            "colorbar": {
             "outlinewidth": 0,
             "ticks": ""
            },
            "colorscale": [
             [
              0,
              "#0d0887"
             ],
             [
              0.1111111111111111,
              "#46039f"
             ],
             [
              0.2222222222222222,
              "#7201a8"
             ],
             [
              0.3333333333333333,
              "#9c179e"
             ],
             [
              0.4444444444444444,
              "#bd3786"
             ],
             [
              0.5555555555555556,
              "#d8576b"
             ],
             [
              0.6666666666666666,
              "#ed7953"
             ],
             [
              0.7777777777777778,
              "#fb9f3a"
             ],
             [
              0.8888888888888888,
              "#fdca26"
             ],
             [
              1,
              "#f0f921"
             ]
            ],
            "type": "surface"
           }
          ],
          "table": [
           {
            "cells": {
             "fill": {
              "color": "#EBF0F8"
             },
             "line": {
              "color": "white"
             }
            },
            "header": {
             "fill": {
              "color": "#C8D4E3"
             },
             "line": {
              "color": "white"
             }
            },
            "type": "table"
           }
          ]
         },
         "layout": {
          "annotationdefaults": {
           "arrowcolor": "#2a3f5f",
           "arrowhead": 0,
           "arrowwidth": 1
          },
          "autotypenumbers": "strict",
          "coloraxis": {
           "colorbar": {
            "outlinewidth": 0,
            "ticks": ""
           }
          },
          "colorscale": {
           "diverging": [
            [
             0,
             "#8e0152"
            ],
            [
             0.1,
             "#c51b7d"
            ],
            [
             0.2,
             "#de77ae"
            ],
            [
             0.3,
             "#f1b6da"
            ],
            [
             0.4,
             "#fde0ef"
            ],
            [
             0.5,
             "#f7f7f7"
            ],
            [
             0.6,
             "#e6f5d0"
            ],
            [
             0.7,
             "#b8e186"
            ],
            [
             0.8,
             "#7fbc41"
            ],
            [
             0.9,
             "#4d9221"
            ],
            [
             1,
             "#276419"
            ]
           ],
           "sequential": [
            [
             0,
             "#0d0887"
            ],
            [
             0.1111111111111111,
             "#46039f"
            ],
            [
             0.2222222222222222,
             "#7201a8"
            ],
            [
             0.3333333333333333,
             "#9c179e"
            ],
            [
             0.4444444444444444,
             "#bd3786"
            ],
            [
             0.5555555555555556,
             "#d8576b"
            ],
            [
             0.6666666666666666,
             "#ed7953"
            ],
            [
             0.7777777777777778,
             "#fb9f3a"
            ],
            [
             0.8888888888888888,
             "#fdca26"
            ],
            [
             1,
             "#f0f921"
            ]
           ],
           "sequentialminus": [
            [
             0,
             "#0d0887"
            ],
            [
             0.1111111111111111,
             "#46039f"
            ],
            [
             0.2222222222222222,
             "#7201a8"
            ],
            [
             0.3333333333333333,
             "#9c179e"
            ],
            [
             0.4444444444444444,
             "#bd3786"
            ],
            [
             0.5555555555555556,
             "#d8576b"
            ],
            [
             0.6666666666666666,
             "#ed7953"
            ],
            [
             0.7777777777777778,
             "#fb9f3a"
            ],
            [
             0.8888888888888888,
             "#fdca26"
            ],
            [
             1,
             "#f0f921"
            ]
           ]
          },
          "colorway": [
           "#636efa",
           "#EF553B",
           "#00cc96",
           "#ab63fa",
           "#FFA15A",
           "#19d3f3",
           "#FF6692",
           "#B6E880",
           "#FF97FF",
           "#FECB52"
          ],
          "font": {
           "color": "#2a3f5f"
          },
          "geo": {
           "bgcolor": "white",
           "lakecolor": "white",
           "landcolor": "#E5ECF6",
           "showlakes": true,
           "showland": true,
           "subunitcolor": "white"
          },
          "hoverlabel": {
           "align": "left"
          },
          "hovermode": "closest",
          "mapbox": {
           "style": "light"
          },
          "paper_bgcolor": "white",
          "plot_bgcolor": "#E5ECF6",
          "polar": {
           "angularaxis": {
            "gridcolor": "white",
            "linecolor": "white",
            "ticks": ""
           },
           "bgcolor": "#E5ECF6",
           "radialaxis": {
            "gridcolor": "white",
            "linecolor": "white",
            "ticks": ""
           }
          },
          "scene": {
           "xaxis": {
            "backgroundcolor": "#E5ECF6",
            "gridcolor": "white",
            "gridwidth": 2,
            "linecolor": "white",
            "showbackground": true,
            "ticks": "",
            "zerolinecolor": "white"
           },
           "yaxis": {
            "backgroundcolor": "#E5ECF6",
            "gridcolor": "white",
            "gridwidth": 2,
            "linecolor": "white",
            "showbackground": true,
            "ticks": "",
            "zerolinecolor": "white"
           },
           "zaxis": {
            "backgroundcolor": "#E5ECF6",
            "gridcolor": "white",
            "gridwidth": 2,
            "linecolor": "white",
            "showbackground": true,
            "ticks": "",
            "zerolinecolor": "white"
           }
          },
          "shapedefaults": {
           "line": {
            "color": "#2a3f5f"
           }
          },
          "ternary": {
           "aaxis": {
            "gridcolor": "white",
            "linecolor": "white",
            "ticks": ""
           },
           "baxis": {
            "gridcolor": "white",
            "linecolor": "white",
            "ticks": ""
           },
           "bgcolor": "#E5ECF6",
           "caxis": {
            "gridcolor": "white",
            "linecolor": "white",
            "ticks": ""
           }
          },
          "title": {
           "x": 0.05
          },
          "xaxis": {
           "automargin": true,
           "gridcolor": "white",
           "linecolor": "white",
           "ticks": "",
           "title": {
            "standoff": 15
           },
           "zerolinecolor": "white",
           "zerolinewidth": 2
          },
          "yaxis": {
           "automargin": true,
           "gridcolor": "white",
           "linecolor": "white",
           "ticks": "",
           "title": {
            "standoff": 15
           },
           "zerolinecolor": "white",
           "zerolinewidth": 2
          }
         }
        },
        "title": {
         "text": "3D Graph Visualization"
        },
        "width": 1000
       }
      }
     },
     "metadata": {},
     "output_type": "display_data"
    }
   ],
   "source": [
    "from directed_graph.visualize_graph import visualize_graph_ngrams_with_pca\n",
    "\n",
    "visualize_graph_ngrams_with_pca(subgraph)"
   ]
  },
  {
   "cell_type": "code",
   "execution_count": 26,
   "metadata": {},
   "outputs": [
    {
     "name": "stdout",
     "output_type": "stream",
     "text": [
      "Edge(right <--[in]--> state transition)\n",
      "Edge(thousand <--[of]--> state transition)\n",
      "Edge(workstation <--[of]--> state transition)\n",
      "Edge(variance <--[of]--> state transition)\n",
      "Edge(weighting process <--[demonstrate in]--> state transition)\n",
      "Edge(synthesis <--[demonstrate of]--> state transition)\n",
      "Edge(right <--[lie from]--> synthesis)\n",
      "Edge(right <--[of]--> workstation)\n",
      "Edge(workstation <--[grant]--> right)\n",
      "Edge(weighting process <--[group]--> right)\n",
      "Edge(variance <--[of]--> right)\n",
      "Edge(thousand <--[of]--> right)\n",
      "Edge(workstation <--[differentiate]--> variance)\n",
      "Edge(weighting process <--[demonstrate in]--> workstation)\n",
      "Edge(workstation <--[in]--> weighting process)\n",
      "Edge(workstation <--[demonstrate of]--> thousand)\n",
      "Edge(workstation <--[demonstrate on]--> synthesis)\n",
      "Edge(thousand <--[of]--> workstation)\n",
      "Edge(synthesis <--[demonstrate in]--> workstation)\n",
      "Edge(variance <--[on]--> workstation)\n",
      "Edge(synthesis <--[of]--> weighting process)\n",
      "Edge(weighting process <--[add]--> synthesis)\n",
      "Edge(variance <--[of]--> weighting process)\n",
      "Edge(weighting process <--[of]--> variance)\n",
      "Edge(thousand <--[in]--> weighting process)\n",
      "Edge(variance <--[differentiate]--> synthesis)\n",
      "Edge(thousand <--[that]--> synthesis)\n",
      "Edge(synthesis <--[grows with]--> thousand)\n",
      "Edge(synthesis <--[differentiate]--> variance)\n",
      "Edge(thousand <--[of]--> variance)\n",
      "Edge(variance <--[of]--> thousand)\n"
     ]
    }
   ],
   "source": [
    "print(*subgraph.edges, sep=\"\\n\")"
   ]
  },
  {
   "cell_type": "code",
   "execution_count": 27,
   "metadata": {},
   "outputs": [],
   "source": [
    "from directed_graph.graph import save_graph\n",
    "\n",
    "save_graph(subgraph, \"subgraph.pickle\")"
   ]
  }
 ],
 "metadata": {
  "kernelspec": {
   "display_name": ".venv",
   "language": "python",
   "name": "python3"
  },
  "language_info": {
   "codemirror_mode": {
    "name": "ipython",
    "version": 3
   },
   "file_extension": ".py",
   "mimetype": "text/x-python",
   "name": "python",
   "nbconvert_exporter": "python",
   "pygments_lexer": "ipython3",
   "version": "3.11.10"
  }
 },
 "nbformat": 4,
 "nbformat_minor": 2
}
