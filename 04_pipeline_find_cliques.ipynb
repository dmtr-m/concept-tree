{
 "cells": [
  {
   "cell_type": "code",
   "execution_count": 1,
   "metadata": {},
   "outputs": [
    {
     "name": "stderr",
     "output_type": "stream",
     "text": [
      "/Users/dmitry/Desktop/Projects/concept-tree/.venv/lib/python3.11/site-packages/tqdm/auto.py:21: TqdmWarning: IProgress not found. Please update jupyter and ipywidgets. See https://ipywidgets.readthedocs.io/en/stable/user_install.html\n",
      "  from .autonotebook import tqdm as notebook_tqdm\n"
     ]
    }
   ],
   "source": [
    "import networkx as nx\n",
    "from directed_graph.graph import Graph, load_graph"
   ]
  },
  {
   "cell_type": "code",
   "execution_count": 2,
   "metadata": {},
   "outputs": [],
   "source": [
    "graph = load_graph(\"clustered_graph.pickle\")"
   ]
  },
  {
   "cell_type": "code",
   "execution_count": 3,
   "metadata": {},
   "outputs": [
    {
     "name": "stdout",
     "output_type": "stream",
     "text": [
      "Graph(vertices=6433, edges=12121)\n"
     ]
    }
   ],
   "source": [
    "print(repr(graph))"
   ]
  },
  {
   "cell_type": "code",
   "execution_count": 4,
   "metadata": {},
   "outputs": [],
   "source": [
    "def _convert_to_networkx(graph) -> nx.Graph:\n",
    "    \"\"\"\n",
    "    Converts a custom Graph object to a NetworkX Graph.\n",
    "    Vertices with the same vertex_type are merged into one logical vertex.\n",
    "    Edges with the same edge_type are merged into one logical edge.\n",
    "    \"\"\"\n",
    "    nx_graph = nx.Graph()\n",
    "\n",
    "    for edge in graph.get_edges():\n",
    "        nx_graph.add_node(edge.agent_1)\n",
    "        nx_graph.add_node(edge.agent_2)\n",
    "        nx_graph.add_edge(edge.agent_1, edge.agent_2)\n",
    "\n",
    "    return nx_graph\n"
   ]
  },
  {
   "cell_type": "code",
   "execution_count": 5,
   "metadata": {},
   "outputs": [],
   "source": [
    "nx_graph = _convert_to_networkx(graph)"
   ]
  },
  {
   "cell_type": "code",
   "execution_count": 6,
   "metadata": {},
   "outputs": [],
   "source": [
    "def get_subgraph_from_vertices(graph: Graph, clique: list[str]) -> Graph:\n",
    "        subgraph = Graph()\n",
    "        added_edges = set()\n",
    "\n",
    "        clique = list(clique)\n",
    "        for vertex1 in clique:\n",
    "            if vertex1 not in subgraph.vertices:\n",
    "                subgraph.add_vertex(vertex1)\n",
    "\n",
    "            for vertex2_index in graph.vertex_edges[vertex1]:\n",
    "                edge = graph.edges[vertex2_index]\n",
    "                new_edge = (\n",
    "                     edge.agent_1,\n",
    "                     edge.agent_2,\n",
    "                     edge.label\n",
    "                )\n",
    "                vertex2 = edge.agent_1 if vertex1 == edge.agent_2 else edge.agent_2\n",
    "                if vertex2 in clique:\n",
    "                    if vertex2 not in subgraph.vertices:\n",
    "                        subgraph.add_vertex(vertex2)\n",
    "                    if new_edge not in added_edges:\n",
    "                        added_edges.add(new_edge)\n",
    "                        subgraph.add_edge(\n",
    "                            edge.agent_1,\n",
    "                            edge.agent_2,\n",
    "                            edge.label,\n",
    "                        )\n",
    "        return subgraph"
   ]
  },
  {
   "cell_type": "code",
   "execution_count": 7,
   "metadata": {},
   "outputs": [],
   "source": [
    "\n",
    "cliques = nx.find_cliques(nx_graph)"
   ]
  },
  {
   "cell_type": "code",
   "execution_count": 8,
   "metadata": {},
   "outputs": [],
   "source": [
    "subgraph = None\n",
    "\n",
    "for clique in cliques:\n",
    "    if len(clique) > 6:\n",
    "        subgraph = get_subgraph_from_vertices(graph, clique)\n",
    "        break"
   ]
  },
  {
   "cell_type": "code",
   "execution_count": 9,
   "metadata": {},
   "outputs": [
    {
     "name": "stdout",
     "output_type": "stream",
     "text": [
      "Excluded vertices due to inconsistent embedding dimensions: set()\n"
     ]
    },
    {
     "data": {
      "application/vnd.plotly.v1+json": {
       "config": {
        "plotlyServerURL": "https://plot.ly"
       },
       "data": [
        {
         "line": {
          "color": "gray",
          "width": 2
         },
         "mode": "lines",
         "name": "Edges",
         "type": "scatter3d",
         "x": [
          0,
          -2.6720681190490723,
          null,
          2.6720681190490723,
          0,
          null,
          0.5010796785354614,
          0,
          null,
          0,
          0,
          null,
          -0.5010795593261719,
          0,
          null,
          0,
          0,
          null,
          2.6720681190490723,
          0.5010796785354614,
          null,
          2.6720681190490723,
          2.6720681190490723,
          null,
          2.6720681190490723,
          0.5010796785354614,
          null,
          2.6720681190490723,
          0,
          null,
          2.6720681190490723,
          -0.5010795593261719,
          null,
          2.6720681190490723,
          0,
          null,
          0.5010796785354614,
          2.6720681190490723,
          null,
          0,
          2.6720681190490723,
          null,
          -0.5010795593261719,
          2.6720681190490723,
          null,
          0,
          2.6720681190490723,
          null,
          2.6720681190490723,
          -2.6720681190490723,
          null,
          0,
          0.5010796785354614,
          null,
          0.5010796785354614,
          0,
          null,
          0,
          0.5010796785354614,
          null,
          0,
          0,
          null,
          0,
          -0.5010795593261719,
          null,
          0,
          0,
          null,
          -0.5010795593261719,
          0,
          null,
          0,
          0,
          null,
          0,
          -2.6720681190490723,
          null,
          -0.5010795593261719,
          0.5010796785354614,
          null,
          0.5010796785354614,
          -0.5010795593261719,
          null,
          -0.5010795593261719,
          0.5010796785354614,
          null,
          -0.5010795593261719,
          -0.5010795593261719,
          null,
          -0.5010795593261719,
          0,
          null,
          0,
          -0.5010795593261719,
          null,
          -0.5010795593261719,
          -2.6720681190490723,
          null,
          -0.5010795593261719,
          -0.5010795593261719,
          null,
          0.5010796785354614,
          0.5010796785354614,
          null,
          0,
          0.5010796785354614,
          null,
          0.5010796785354614,
          0.5010796785354614,
          null,
          0.5010796785354614,
          0,
          null,
          0,
          0.5010796785354614,
          null,
          0.5010796785354614,
          -2.6720681190490723,
          null,
          0,
          -2.6720681190490723,
          null,
          0,
          0,
          null
         ],
         "y": [
          0,
          2.3994093112378323e-7,
          null,
          2.3994095954549266e-7,
          0,
          null,
          -6.996550183657746e-8,
          0,
          null,
          0,
          0,
          null,
          -6.996552315285953e-8,
          0,
          null,
          0,
          0,
          null,
          2.3994095954549266e-7,
          -6.996550183657746e-8,
          null,
          2.3994095954549266e-7,
          2.3994095954549266e-7,
          null,
          2.3994095954549266e-7,
          -6.996550183657746e-8,
          null,
          2.3994095954549266e-7,
          0,
          null,
          2.3994095954549266e-7,
          -6.996552315285953e-8,
          null,
          2.3994095954549266e-7,
          0,
          null,
          -6.996550183657746e-8,
          2.3994095954549266e-7,
          null,
          0,
          2.3994095954549266e-7,
          null,
          -6.996552315285953e-8,
          2.3994095954549266e-7,
          null,
          0,
          2.3994095954549266e-7,
          null,
          2.3994095954549266e-7,
          2.3994093112378323e-7,
          null,
          0,
          -6.996550183657746e-8,
          null,
          -6.996550183657746e-8,
          0,
          null,
          0,
          -6.996550183657746e-8,
          null,
          0,
          0,
          null,
          0,
          -6.996552315285953e-8,
          null,
          0,
          0,
          null,
          -6.996552315285953e-8,
          0,
          null,
          0,
          0,
          null,
          0,
          2.3994093112378323e-7,
          null,
          -6.996552315285953e-8,
          -6.996550183657746e-8,
          null,
          -6.996550183657746e-8,
          -6.996552315285953e-8,
          null,
          -6.996552315285953e-8,
          -6.996550183657746e-8,
          null,
          -6.996552315285953e-8,
          -6.996552315285953e-8,
          null,
          -6.996552315285953e-8,
          0,
          null,
          0,
          -6.996552315285953e-8,
          null,
          -6.996552315285953e-8,
          2.3994093112378323e-7,
          null,
          -6.996552315285953e-8,
          -6.996552315285953e-8,
          null,
          -6.996550183657746e-8,
          -6.996550183657746e-8,
          null,
          0,
          -6.996550183657746e-8,
          null,
          -6.996550183657746e-8,
          -6.996550183657746e-8,
          null,
          -6.996550183657746e-8,
          0,
          null,
          0,
          -6.996550183657746e-8,
          null,
          -6.996550183657746e-8,
          2.3994093112378323e-7,
          null,
          0,
          2.3994093112378323e-7,
          null,
          0,
          0,
          null
         ],
         "z": [
          0.8,
          0.4,
          null,
          0.4,
          0.8,
          null,
          0,
          0.8,
          null,
          1.2,
          0.8,
          null,
          0,
          0.8,
          null,
          1.6,
          0.8,
          null,
          0.4,
          0,
          null,
          0.4,
          0.4,
          null,
          0.4,
          0,
          null,
          0.4,
          1.2,
          null,
          0.4,
          0,
          null,
          0.4,
          1.6,
          null,
          0,
          0.4,
          null,
          1.2,
          0.4,
          null,
          0,
          0.4,
          null,
          1.6,
          0.4,
          null,
          0.4,
          0.4,
          null,
          1.2,
          0,
          null,
          0,
          1.2,
          null,
          1.2,
          0,
          null,
          1.2,
          1.2,
          null,
          1.2,
          0,
          null,
          1.2,
          1.6,
          null,
          0,
          1.2,
          null,
          1.6,
          1.2,
          null,
          1.2,
          0.4,
          null,
          0,
          0,
          null,
          0,
          0,
          null,
          0,
          0,
          null,
          0,
          0,
          null,
          0,
          1.6,
          null,
          1.6,
          0,
          null,
          0,
          0.4,
          null,
          0,
          0,
          null,
          0,
          0,
          null,
          1.6,
          0,
          null,
          0,
          0,
          null,
          0,
          1.6,
          null,
          1.6,
          0,
          null,
          0,
          0.4,
          null,
          1.6,
          0.4,
          null,
          1.6,
          1.6,
          null
         ]
        },
        {
         "marker": {
          "color": [
           "blue",
           "green",
           "green",
           "red",
           "blue",
           "red",
           "blue"
          ],
          "opacity": 0.8,
          "size": 8
         },
         "mode": "markers+text",
         "name": "Nodes",
         "text": [
          "considerably lower number",
          "equation candidate",
          "llm sr",
          "baseline",
          "other symbolic regression baseline",
          "pysr",
          "other leading symbolic regression baseline"
         ],
         "textposition": "top center",
         "type": "scatter3d",
         "x": [
          0,
          -2.6720681190490723,
          2.6720681190490723,
          0.5010796785354614,
          0,
          -0.5010795593261719,
          0
         ],
         "y": [
          0,
          2.3994093112378323e-7,
          2.3994095954549266e-7,
          -6.996550183657746e-8,
          0,
          -6.996552315285953e-8,
          0
         ],
         "z": [
          0.8,
          0.4,
          0.4,
          0,
          1.2,
          0,
          1.6
         ]
        },
        {
         "mode": "text",
         "name": "Edge Labels",
         "text": [
          "of",
          "explores",
          "explores",
          "explores",
          "explores",
          "explores",
          "outperform",
          "provides than",
          "provides than",
          "provides than",
          "provides than",
          "provides than",
          "provides than",
          "provides than",
          "provides than",
          "provides than",
          "explores of",
          "outperform",
          "provides than",
          "provides than",
          "provides than",
          "provides than",
          "provides than",
          "provides than",
          "provides than",
          "explores of",
          "outperform",
          "provides than",
          "provides than",
          "provides than",
          "provides than",
          "provides than",
          "explores of",
          "extends",
          "outperform",
          "outperform",
          "provides than",
          "provides than",
          "provides than",
          "explores of",
          "explores of",
          "provides than"
         ],
         "textposition": "middle center",
         "type": "scatter3d",
         "x": [
          -1.3360340595245361,
          1.3360340595245361,
          0.2505398392677307,
          0,
          -0.25053977966308594,
          0,
          1.586573839187622,
          2.6720681190490723,
          1.586573839187622,
          1.3360340595245361,
          1.0854942798614502,
          1.3360340595245361,
          1.586573839187622,
          1.3360340595245361,
          1.0854942798614502,
          1.3360340595245361,
          0,
          0.2505398392677307,
          0.2505398392677307,
          0.2505398392677307,
          0,
          -0.25053977966308594,
          0,
          -0.25053977966308594,
          0,
          -1.3360340595245361,
          5.960464477539063e-8,
          5.960464477539063e-8,
          5.960464477539063e-8,
          -0.5010795593261719,
          -0.25053977966308594,
          -0.25053977966308594,
          -1.586573839187622,
          -0.5010795593261719,
          0.5010796785354614,
          0.2505398392677307,
          0.5010796785354614,
          0.2505398392677307,
          0.2505398392677307,
          -1.0854942798614502,
          -1.3360340595245361,
          0
         ],
         "y": [
          1.1997046556189161e-7,
          1.1997047977274633e-7,
          -3.498275091828873e-8,
          0,
          -3.4982761576429766e-8,
          0,
          8.498773240717128e-8,
          2.3994095954549266e-7,
          8.498773240717128e-8,
          1.1997047977274633e-7,
          8.498771819631656e-8,
          1.1997047977274633e-7,
          8.498773240717128e-8,
          1.1997047977274633e-7,
          8.498771819631656e-8,
          1.1997047977274633e-7,
          2.3994095954549266e-7,
          -3.498275091828873e-8,
          -3.498275091828873e-8,
          -3.498275091828873e-8,
          0,
          -3.4982761576429766e-8,
          0,
          -3.4982761576429766e-8,
          0,
          1.1997046556189161e-7,
          -6.996550894200482e-8,
          -6.996550894200482e-8,
          -6.996550894200482e-8,
          -6.996552315285953e-8,
          -3.4982761576429766e-8,
          -3.4982761576429766e-8,
          8.498770398546185e-8,
          -6.996552315285953e-8,
          -6.996550183657746e-8,
          -3.498275091828873e-8,
          -6.996550183657746e-8,
          -3.498275091828873e-8,
          -3.498275091828873e-8,
          8.498771819631656e-8,
          1.1997046556189161e-7,
          0
         ],
         "z": [
          0.6000000000000001,
          0.6000000000000001,
          0.4,
          1,
          0.4,
          1.2000000000000002,
          0.2,
          0.4,
          0.2,
          0.8,
          0.2,
          1,
          0.2,
          0.8,
          0.2,
          1,
          0.4,
          0.6,
          0.6,
          0.6,
          1.2,
          0.6,
          1.4,
          0.6,
          1.4,
          0.8,
          0,
          0,
          0,
          0,
          0.8,
          0.8,
          0.2,
          0,
          0,
          0.8,
          0,
          0.8,
          0.8,
          0.2,
          1,
          1.6
         ]
        }
       ],
       "layout": {
        "height": 1000,
        "scene": {
         "xaxis": {
          "title": {
           "text": "PCA Component 1"
          },
          "visible": false
         },
         "yaxis": {
          "title": {
           "text": "PCA Component 2"
          },
          "visible": false
         },
         "zaxis": {
          "title": {
           "text": "Z Axis"
          },
          "visible": false
         }
        },
        "showlegend": false,
        "template": {
         "data": {
          "bar": [
           {
            "error_x": {
             "color": "#2a3f5f"
            },
            "error_y": {
             "color": "#2a3f5f"
            },
            "marker": {
             "line": {
              "color": "#E5ECF6",
              "width": 0.5
             },
             "pattern": {
              "fillmode": "overlay",
              "size": 10,
              "solidity": 0.2
             }
            },
            "type": "bar"
           }
          ],
          "barpolar": [
           {
            "marker": {
             "line": {
              "color": "#E5ECF6",
              "width": 0.5
             },
             "pattern": {
              "fillmode": "overlay",
              "size": 10,
              "solidity": 0.2
             }
            },
            "type": "barpolar"
           }
          ],
          "carpet": [
           {
            "aaxis": {
             "endlinecolor": "#2a3f5f",
             "gridcolor": "white",
             "linecolor": "white",
             "minorgridcolor": "white",
             "startlinecolor": "#2a3f5f"
            },
            "baxis": {
             "endlinecolor": "#2a3f5f",
             "gridcolor": "white",
             "linecolor": "white",
             "minorgridcolor": "white",
             "startlinecolor": "#2a3f5f"
            },
            "type": "carpet"
           }
          ],
          "choropleth": [
           {
            "colorbar": {
             "outlinewidth": 0,
             "ticks": ""
            },
            "type": "choropleth"
           }
          ],
          "contour": [
           {
            "colorbar": {
             "outlinewidth": 0,
             "ticks": ""
            },
            "colorscale": [
             [
              0,
              "#0d0887"
             ],
             [
              0.1111111111111111,
              "#46039f"
             ],
             [
              0.2222222222222222,
              "#7201a8"
             ],
             [
              0.3333333333333333,
              "#9c179e"
             ],
             [
              0.4444444444444444,
              "#bd3786"
             ],
             [
              0.5555555555555556,
              "#d8576b"
             ],
             [
              0.6666666666666666,
              "#ed7953"
             ],
             [
              0.7777777777777778,
              "#fb9f3a"
             ],
             [
              0.8888888888888888,
              "#fdca26"
             ],
             [
              1,
              "#f0f921"
             ]
            ],
            "type": "contour"
           }
          ],
          "contourcarpet": [
           {
            "colorbar": {
             "outlinewidth": 0,
             "ticks": ""
            },
            "type": "contourcarpet"
           }
          ],
          "heatmap": [
           {
            "colorbar": {
             "outlinewidth": 0,
             "ticks": ""
            },
            "colorscale": [
             [
              0,
              "#0d0887"
             ],
             [
              0.1111111111111111,
              "#46039f"
             ],
             [
              0.2222222222222222,
              "#7201a8"
             ],
             [
              0.3333333333333333,
              "#9c179e"
             ],
             [
              0.4444444444444444,
              "#bd3786"
             ],
             [
              0.5555555555555556,
              "#d8576b"
             ],
             [
              0.6666666666666666,
              "#ed7953"
             ],
             [
              0.7777777777777778,
              "#fb9f3a"
             ],
             [
              0.8888888888888888,
              "#fdca26"
             ],
             [
              1,
              "#f0f921"
             ]
            ],
            "type": "heatmap"
           }
          ],
          "histogram": [
           {
            "marker": {
             "pattern": {
              "fillmode": "overlay",
              "size": 10,
              "solidity": 0.2
             }
            },
            "type": "histogram"
           }
          ],
          "histogram2d": [
           {
            "colorbar": {
             "outlinewidth": 0,
             "ticks": ""
            },
            "colorscale": [
             [
              0,
              "#0d0887"
             ],
             [
              0.1111111111111111,
              "#46039f"
             ],
             [
              0.2222222222222222,
              "#7201a8"
             ],
             [
              0.3333333333333333,
              "#9c179e"
             ],
             [
              0.4444444444444444,
              "#bd3786"
             ],
             [
              0.5555555555555556,
              "#d8576b"
             ],
             [
              0.6666666666666666,
              "#ed7953"
             ],
             [
              0.7777777777777778,
              "#fb9f3a"
             ],
             [
              0.8888888888888888,
              "#fdca26"
             ],
             [
              1,
              "#f0f921"
             ]
            ],
            "type": "histogram2d"
           }
          ],
          "histogram2dcontour": [
           {
            "colorbar": {
             "outlinewidth": 0,
             "ticks": ""
            },
            "colorscale": [
             [
              0,
              "#0d0887"
             ],
             [
              0.1111111111111111,
              "#46039f"
             ],
             [
              0.2222222222222222,
              "#7201a8"
             ],
             [
              0.3333333333333333,
              "#9c179e"
             ],
             [
              0.4444444444444444,
              "#bd3786"
             ],
             [
              0.5555555555555556,
              "#d8576b"
             ],
             [
              0.6666666666666666,
              "#ed7953"
             ],
             [
              0.7777777777777778,
              "#fb9f3a"
             ],
             [
              0.8888888888888888,
              "#fdca26"
             ],
             [
              1,
              "#f0f921"
             ]
            ],
            "type": "histogram2dcontour"
           }
          ],
          "mesh3d": [
           {
            "colorbar": {
             "outlinewidth": 0,
             "ticks": ""
            },
            "type": "mesh3d"
           }
          ],
          "parcoords": [
           {
            "line": {
             "colorbar": {
              "outlinewidth": 0,
              "ticks": ""
             }
            },
            "type": "parcoords"
           }
          ],
          "pie": [
           {
            "automargin": true,
            "type": "pie"
           }
          ],
          "scatter": [
           {
            "fillpattern": {
             "fillmode": "overlay",
             "size": 10,
             "solidity": 0.2
            },
            "type": "scatter"
           }
          ],
          "scatter3d": [
           {
            "line": {
             "colorbar": {
              "outlinewidth": 0,
              "ticks": ""
             }
            },
            "marker": {
             "colorbar": {
              "outlinewidth": 0,
              "ticks": ""
             }
            },
            "type": "scatter3d"
           }
          ],
          "scattercarpet": [
           {
            "marker": {
             "colorbar": {
              "outlinewidth": 0,
              "ticks": ""
             }
            },
            "type": "scattercarpet"
           }
          ],
          "scattergeo": [
           {
            "marker": {
             "colorbar": {
              "outlinewidth": 0,
              "ticks": ""
             }
            },
            "type": "scattergeo"
           }
          ],
          "scattergl": [
           {
            "marker": {
             "colorbar": {
              "outlinewidth": 0,
              "ticks": ""
             }
            },
            "type": "scattergl"
           }
          ],
          "scattermap": [
           {
            "marker": {
             "colorbar": {
              "outlinewidth": 0,
              "ticks": ""
             }
            },
            "type": "scattermap"
           }
          ],
          "scattermapbox": [
           {
            "marker": {
             "colorbar": {
              "outlinewidth": 0,
              "ticks": ""
             }
            },
            "type": "scattermapbox"
           }
          ],
          "scatterpolar": [
           {
            "marker": {
             "colorbar": {
              "outlinewidth": 0,
              "ticks": ""
             }
            },
            "type": "scatterpolar"
           }
          ],
          "scatterpolargl": [
           {
            "marker": {
             "colorbar": {
              "outlinewidth": 0,
              "ticks": ""
             }
            },
            "type": "scatterpolargl"
           }
          ],
          "scatterternary": [
           {
            "marker": {
             "colorbar": {
              "outlinewidth": 0,
              "ticks": ""
             }
            },
            "type": "scatterternary"
           }
          ],
          "surface": [
           {
            "colorbar": {
             "outlinewidth": 0,
             "ticks": ""
            },
            "colorscale": [
             [
              0,
              "#0d0887"
             ],
             [
              0.1111111111111111,
              "#46039f"
             ],
             [
              0.2222222222222222,
              "#7201a8"
             ],
             [
              0.3333333333333333,
              "#9c179e"
             ],
             [
              0.4444444444444444,
              "#bd3786"
             ],
             [
              0.5555555555555556,
              "#d8576b"
             ],
             [
              0.6666666666666666,
              "#ed7953"
             ],
             [
              0.7777777777777778,
              "#fb9f3a"
             ],
             [
              0.8888888888888888,
              "#fdca26"
             ],
             [
              1,
              "#f0f921"
             ]
            ],
            "type": "surface"
           }
          ],
          "table": [
           {
            "cells": {
             "fill": {
              "color": "#EBF0F8"
             },
             "line": {
              "color": "white"
             }
            },
            "header": {
             "fill": {
              "color": "#C8D4E3"
             },
             "line": {
              "color": "white"
             }
            },
            "type": "table"
           }
          ]
         },
         "layout": {
          "annotationdefaults": {
           "arrowcolor": "#2a3f5f",
           "arrowhead": 0,
           "arrowwidth": 1
          },
          "autotypenumbers": "strict",
          "coloraxis": {
           "colorbar": {
            "outlinewidth": 0,
            "ticks": ""
           }
          },
          "colorscale": {
           "diverging": [
            [
             0,
             "#8e0152"
            ],
            [
             0.1,
             "#c51b7d"
            ],
            [
             0.2,
             "#de77ae"
            ],
            [
             0.3,
             "#f1b6da"
            ],
            [
             0.4,
             "#fde0ef"
            ],
            [
             0.5,
             "#f7f7f7"
            ],
            [
             0.6,
             "#e6f5d0"
            ],
            [
             0.7,
             "#b8e186"
            ],
            [
             0.8,
             "#7fbc41"
            ],
            [
             0.9,
             "#4d9221"
            ],
            [
             1,
             "#276419"
            ]
           ],
           "sequential": [
            [
             0,
             "#0d0887"
            ],
            [
             0.1111111111111111,
             "#46039f"
            ],
            [
             0.2222222222222222,
             "#7201a8"
            ],
            [
             0.3333333333333333,
             "#9c179e"
            ],
            [
             0.4444444444444444,
             "#bd3786"
            ],
            [
             0.5555555555555556,
             "#d8576b"
            ],
            [
             0.6666666666666666,
             "#ed7953"
            ],
            [
             0.7777777777777778,
             "#fb9f3a"
            ],
            [
             0.8888888888888888,
             "#fdca26"
            ],
            [
             1,
             "#f0f921"
            ]
           ],
           "sequentialminus": [
            [
             0,
             "#0d0887"
            ],
            [
             0.1111111111111111,
             "#46039f"
            ],
            [
             0.2222222222222222,
             "#7201a8"
            ],
            [
             0.3333333333333333,
             "#9c179e"
            ],
            [
             0.4444444444444444,
             "#bd3786"
            ],
            [
             0.5555555555555556,
             "#d8576b"
            ],
            [
             0.6666666666666666,
             "#ed7953"
            ],
            [
             0.7777777777777778,
             "#fb9f3a"
            ],
            [
             0.8888888888888888,
             "#fdca26"
            ],
            [
             1,
             "#f0f921"
            ]
           ]
          },
          "colorway": [
           "#636efa",
           "#EF553B",
           "#00cc96",
           "#ab63fa",
           "#FFA15A",
           "#19d3f3",
           "#FF6692",
           "#B6E880",
           "#FF97FF",
           "#FECB52"
          ],
          "font": {
           "color": "#2a3f5f"
          },
          "geo": {
           "bgcolor": "white",
           "lakecolor": "white",
           "landcolor": "#E5ECF6",
           "showlakes": true,
           "showland": true,
           "subunitcolor": "white"
          },
          "hoverlabel": {
           "align": "left"
          },
          "hovermode": "closest",
          "mapbox": {
           "style": "light"
          },
          "paper_bgcolor": "white",
          "plot_bgcolor": "#E5ECF6",
          "polar": {
           "angularaxis": {
            "gridcolor": "white",
            "linecolor": "white",
            "ticks": ""
           },
           "bgcolor": "#E5ECF6",
           "radialaxis": {
            "gridcolor": "white",
            "linecolor": "white",
            "ticks": ""
           }
          },
          "scene": {
           "xaxis": {
            "backgroundcolor": "#E5ECF6",
            "gridcolor": "white",
            "gridwidth": 2,
            "linecolor": "white",
            "showbackground": true,
            "ticks": "",
            "zerolinecolor": "white"
           },
           "yaxis": {
            "backgroundcolor": "#E5ECF6",
            "gridcolor": "white",
            "gridwidth": 2,
            "linecolor": "white",
            "showbackground": true,
            "ticks": "",
            "zerolinecolor": "white"
           },
           "zaxis": {
            "backgroundcolor": "#E5ECF6",
            "gridcolor": "white",
            "gridwidth": 2,
            "linecolor": "white",
            "showbackground": true,
            "ticks": "",
            "zerolinecolor": "white"
           }
          },
          "shapedefaults": {
           "line": {
            "color": "#2a3f5f"
           }
          },
          "ternary": {
           "aaxis": {
            "gridcolor": "white",
            "linecolor": "white",
            "ticks": ""
           },
           "baxis": {
            "gridcolor": "white",
            "linecolor": "white",
            "ticks": ""
           },
           "bgcolor": "#E5ECF6",
           "caxis": {
            "gridcolor": "white",
            "linecolor": "white",
            "ticks": ""
           }
          },
          "title": {
           "x": 0.05
          },
          "xaxis": {
           "automargin": true,
           "gridcolor": "white",
           "linecolor": "white",
           "ticks": "",
           "title": {
            "standoff": 15
           },
           "zerolinecolor": "white",
           "zerolinewidth": 2
          },
          "yaxis": {
           "automargin": true,
           "gridcolor": "white",
           "linecolor": "white",
           "ticks": "",
           "title": {
            "standoff": 15
           },
           "zerolinecolor": "white",
           "zerolinewidth": 2
          }
         }
        },
        "title": {
         "text": "3D Graph Visualization"
        },
        "width": 1000
       }
      }
     },
     "metadata": {},
     "output_type": "display_data"
    }
   ],
   "source": [
    "from directed_graph.visualize_graph import visualize_graph_ngrams_with_pca\n",
    "\n",
    "visualize_graph_ngrams_with_pca(subgraph)"
   ]
  },
  {
   "cell_type": "code",
   "execution_count": 29,
   "metadata": {},
   "outputs": [
    {
     "name": "stdout",
     "output_type": "stream",
     "text": [
      "Graph(\n",
      "\tvertices=[Vertex(concept='+30', words=['+30']), Vertex(concept='both approach', words=['both', 'approach']), Vertex(concept='llm', words=['llm']), Vertex(concept='effective prompt', words=['effective', 'prompt']), Vertex(concept='llm sr', words=['llm', 'sr']), Vertex(concept='pysr', words=['pysr']), Vertex(concept='other symbolic regression baseline', words=['other', 'symbolic', 'regression', 'baseline']), Vertex(concept='other leading symbolic regression baseline', words=['other', 'leading', 'symbolic', 'regression', 'baseline'])],\n",
      "\tedges=[Edge(+30 <--[of]--> +30), Edge(+30 <--[provide of]--> +30), Edge(+30 <--[of]--> both approach), Edge(both approach <--[of]--> +30), Edge(+30 <--[provide of]--> llm), Edge(llm <--[of]--> +30), Edge(+30 <--[of]--> llm), Edge(llm <--[provide of]--> +30), Edge(both approach <--[provide of]--> +30), Edge(effective prompt <--[of]--> +30), Edge(+30 <--[provide of]--> both approach), Edge(llm sr <--[of]--> +30), Edge(+30 <--[of]--> pysr), Edge(other symbolic regression baseline <--[of]--> +30), Edge(pysr <--[of]--> +30), Edge(other leading symbolic regression baseline <--[of]--> +30), Edge(+30 <--[provide of]--> llm sr), Edge(+30 <--[provide of]--> other symbolic regression baseline), Edge(+30 <--[provide of]--> pysr), Edge(+30 <--[provide of]--> other leading symbolic regression baseline), Edge(llm sr <--[provide of]--> +30), Edge(other symbolic regression baseline <--[provide of]--> +30), Edge(pysr <--[provide of]--> +30), Edge(other leading symbolic regression baseline <--[provide of]--> +30), Edge(+30 <--[of]--> effective prompt), Edge(+30 <--[of]--> llm sr), Edge(llm <--[of]--> effective prompt), Edge(effective prompt <--[of]--> llm), Edge(both approach <--[of]--> effective prompt), Edge(llm sr <--[of]--> effective prompt), Edge(other symbolic regression baseline <--[of]--> effective prompt), Edge(pysr <--[of]--> effective prompt), Edge(other leading symbolic regression baseline <--[of]--> effective prompt), Edge(both approach <--[provide of]--> llm), Edge(both approach <--[provide of]--> llm sr), Edge(both approach <--[provide of]--> other symbolic regression baseline), Edge(both approach <--[provide of]--> pysr), Edge(both approach <--[provide of]--> other leading symbolic regression baseline), Edge(llm sr <--[provide of]--> both approach), Edge(other symbolic regression baseline <--[provide of]--> both approach), Edge(pysr <--[provide of]--> both approach), Edge(other leading symbolic regression baseline <--[provide of]--> both approach), Edge(llm sr <--[of]--> llm), Edge(llm sr <--[provide of]--> llm), Edge(llm sr <--[of]--> pysr), Edge(llm sr <--[provide of]--> llm sr), Edge(llm sr <--[provide of]--> other symbolic regression baseline), Edge(llm sr <--[provide of]--> pysr), Edge(llm sr <--[provide of]--> other leading symbolic regression baseline), Edge(other symbolic regression baseline <--[provide of]--> llm sr), Edge(pysr <--[provide of]--> llm sr), Edge(other leading symbolic regression baseline <--[provide of]--> llm sr), Edge(other leading symbolic regression baseline <--[provide of]--> llm), Edge(other leading symbolic regression baseline <--[of]--> pysr), Edge(other symbolic regression baseline <--[provide of]--> other leading symbolic regression baseline), Edge(pysr <--[provide of]--> other leading symbolic regression baseline), Edge(other leading symbolic regression baseline <--[provide of]--> other symbolic regression baseline), Edge(other leading symbolic regression baseline <--[provide of]--> pysr), Edge(other leading symbolic regression baseline <--[provide of]--> other leading symbolic regression baseline), Edge(other leading symbolic regression baseline <--[of]--> llm), Edge(other symbolic regression baseline <--[of]--> pysr), Edge(other symbolic regression baseline <--[provide of]--> other symbolic regression baseline), Edge(other symbolic regression baseline <--[provide of]--> pysr), Edge(pysr <--[provide of]--> other symbolic regression baseline), Edge(other symbolic regression baseline <--[of]--> llm), Edge(other symbolic regression baseline <--[provide of]--> llm), Edge(pysr <--[of]--> llm), Edge(pysr <--[provide of]--> llm), Edge(pysr <--[of]--> pysr), Edge(pysr <--[provide of]--> pysr)]\n",
      ")\n"
     ]
    }
   ],
   "source": [
    "print(subgraph)"
   ]
  }
 ],
 "metadata": {
  "kernelspec": {
   "display_name": ".venv",
   "language": "python",
   "name": "python3"
  },
  "language_info": {
   "codemirror_mode": {
    "name": "ipython",
    "version": 3
   },
   "file_extension": ".py",
   "mimetype": "text/x-python",
   "name": "python",
   "nbconvert_exporter": "python",
   "pygments_lexer": "ipython3",
   "version": "3.11.10"
  }
 },
 "nbformat": 4,
 "nbformat_minor": 2
}
