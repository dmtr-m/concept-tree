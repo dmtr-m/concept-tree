{
 "cells": [
  {
   "cell_type": "code",
   "execution_count": 1,
   "metadata": {},
   "outputs": [],
   "source": [
    "from directed_graph.graph import Graph, load_graph"
   ]
  },
  {
   "cell_type": "code",
   "execution_count": 2,
   "metadata": {},
   "outputs": [],
   "source": [
    "graph = load_graph(\"graph.pickle\")"
   ]
  },
  {
   "cell_type": "code",
   "execution_count": 3,
   "metadata": {},
   "outputs": [],
   "source": [
    "subgraph = Graph()\n",
    "subgraph.add_vertex(\"A\")\n",
    "subgraph.add_vertex(\"B\")\n",
    "subgraph.add_edge(\"A\", \"B\", \"follow\")"
   ]
  },
  {
   "cell_type": "code",
   "execution_count": 4,
   "metadata": {},
   "outputs": [],
   "source": [
    "from process_graph.embedding_to_eps_cube import split_graph_into_cubes, get_vertices_by_cubes\n",
    "\n",
    "vertices_to_cubes = split_graph_into_cubes(2, list(graph.vertices.values()))\n",
    "grouped_vertices = get_vertices_by_cubes(vertices_to_cubes)"
   ]
  },
  {
   "cell_type": "code",
   "execution_count": 5,
   "metadata": {},
   "outputs": [
    {
     "name": "stdout",
     "output_type": "stream",
     "text": [
      "[[{'cat'}, {'dog'}], [{'orange cat'}, {'black dog'}], []]\n"
     ]
    }
   ],
   "source": [
    "print(grouped_vertices)"
   ]
  },
  {
   "cell_type": "code",
   "execution_count": 6,
   "metadata": {},
   "outputs": [
    {
     "name": "stdout",
     "output_type": "stream",
     "text": [
      "[{'cat'}, {'dog'}] [{'orange cat'}, {'black dog'}]\n"
     ]
    }
   ],
   "source": [
    "print(*[groups for groups in grouped_vertices if len(groups) > 0])"
   ]
  },
  {
   "cell_type": "code",
   "execution_count": 10,
   "metadata": {},
   "outputs": [
    {
     "data": {
      "text/plain": [
       "[Graph(vertices=2, edges=1)]"
      ]
     },
     "execution_count": 10,
     "metadata": {},
     "output_type": "execute_result"
    }
   ],
   "source": [
    "from itertools import product\n",
    "from matching.fuzzy_rdf_match import FuzzyRDFMatcher\n",
    "\n",
    "\n",
    "matches = []\n",
    "for group in product(*[groups for groups in grouped_vertices if len(groups) > 0]):\n",
    "    allowed_vertices = []\n",
    "    for g in group:\n",
    "        allowed_vertices += list(g)\n",
    "    \n",
    "    matcher = FuzzyRDFMatcher(graph, allowed_vertices)\n",
    "    matches += matcher.match(subgraph) \n",
    "\n",
    "matches"
   ]
  }
 ],
 "metadata": {
  "kernelspec": {
   "display_name": ".venv",
   "language": "python",
   "name": "python3"
  },
  "language_info": {
   "codemirror_mode": {
    "name": "ipython",
    "version": 3
   },
   "file_extension": ".py",
   "mimetype": "text/x-python",
   "name": "python",
   "nbconvert_exporter": "python",
   "pygments_lexer": "ipython3",
   "version": "3.11.10"
  }
 },
 "nbformat": 4,
 "nbformat_minor": 2
}
