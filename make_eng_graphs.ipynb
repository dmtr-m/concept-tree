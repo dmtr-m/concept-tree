{
 "cells": [
  {
   "cell_type": "code",
   "execution_count": 11,
   "metadata": {},
   "outputs": [],
   "source": [
    "import spacy\n",
    "import spacy.cli\n",
    "from spacy import displacy\n",
    "from nltk.stem import WordNetLemmatizer\n",
    "from graph.higher_dim_graph import Graph\n",
    "from graph.graph import visualize_graph\n",
    "from graph.edge import Edge\n",
    "from graph.vertex import Vertex"
   ]
  },
  {
   "cell_type": "code",
   "execution_count": 2,
   "metadata": {},
   "outputs": [
    {
     "name": "stdout",
     "output_type": "stream",
     "text": [
      "Collecting en-core-web-lg==3.7.1\n",
      "  Downloading https://github.com/explosion/spacy-models/releases/download/en_core_web_lg-3.7.1/en_core_web_lg-3.7.1-py3-none-any.whl (587.7 MB)\n",
      "\u001b[2K     \u001b[90m━━━━━━━━━━━━━━━━━━━━━━━━━━━━━━━━━━━━━━\u001b[0m \u001b[32m587.7/587.7 MB\u001b[0m \u001b[31m16.1 MB/s\u001b[0m eta \u001b[36m0:00:00\u001b[0m00:01\u001b[0m00:02\u001b[0m\n",
      "\u001b[?25hRequirement already satisfied: spacy<3.8.0,>=3.7.2 in /Library/Frameworks/Python.framework/Versions/3.11/lib/python3.11/site-packages (from en-core-web-lg==3.7.1) (3.7.4)\n",
      "Requirement already satisfied: spacy-legacy<3.1.0,>=3.0.11 in /Library/Frameworks/Python.framework/Versions/3.11/lib/python3.11/site-packages (from spacy<3.8.0,>=3.7.2->en-core-web-lg==3.7.1) (3.0.12)\n",
      "Requirement already satisfied: spacy-loggers<2.0.0,>=1.0.0 in /Library/Frameworks/Python.framework/Versions/3.11/lib/python3.11/site-packages (from spacy<3.8.0,>=3.7.2->en-core-web-lg==3.7.1) (1.0.5)\n",
      "Requirement already satisfied: murmurhash<1.1.0,>=0.28.0 in /Library/Frameworks/Python.framework/Versions/3.11/lib/python3.11/site-packages (from spacy<3.8.0,>=3.7.2->en-core-web-lg==3.7.1) (1.0.10)\n",
      "Requirement already satisfied: cymem<2.1.0,>=2.0.2 in /Library/Frameworks/Python.framework/Versions/3.11/lib/python3.11/site-packages (from spacy<3.8.0,>=3.7.2->en-core-web-lg==3.7.1) (2.0.8)\n",
      "Requirement already satisfied: preshed<3.1.0,>=3.0.2 in /Library/Frameworks/Python.framework/Versions/3.11/lib/python3.11/site-packages (from spacy<3.8.0,>=3.7.2->en-core-web-lg==3.7.1) (3.0.9)\n",
      "Requirement already satisfied: thinc<8.3.0,>=8.2.2 in /Library/Frameworks/Python.framework/Versions/3.11/lib/python3.11/site-packages (from spacy<3.8.0,>=3.7.2->en-core-web-lg==3.7.1) (8.2.5)\n",
      "Requirement already satisfied: wasabi<1.2.0,>=0.9.1 in /Library/Frameworks/Python.framework/Versions/3.11/lib/python3.11/site-packages (from spacy<3.8.0,>=3.7.2->en-core-web-lg==3.7.1) (0.10.1)\n",
      "Requirement already satisfied: srsly<3.0.0,>=2.4.3 in /Library/Frameworks/Python.framework/Versions/3.11/lib/python3.11/site-packages (from spacy<3.8.0,>=3.7.2->en-core-web-lg==3.7.1) (2.4.8)\n",
      "Requirement already satisfied: catalogue<2.1.0,>=2.0.6 in /Library/Frameworks/Python.framework/Versions/3.11/lib/python3.11/site-packages (from spacy<3.8.0,>=3.7.2->en-core-web-lg==3.7.1) (2.0.10)\n",
      "Requirement already satisfied: weasel<0.4.0,>=0.1.0 in /Library/Frameworks/Python.framework/Versions/3.11/lib/python3.11/site-packages (from spacy<3.8.0,>=3.7.2->en-core-web-lg==3.7.1) (0.3.4)\n",
      "Requirement already satisfied: typer<0.10.0,>=0.3.0 in /Library/Frameworks/Python.framework/Versions/3.11/lib/python3.11/site-packages (from spacy<3.8.0,>=3.7.2->en-core-web-lg==3.7.1) (0.4.2)\n",
      "Requirement already satisfied: smart-open<7.0.0,>=5.2.1 in /Library/Frameworks/Python.framework/Versions/3.11/lib/python3.11/site-packages (from spacy<3.8.0,>=3.7.2->en-core-web-lg==3.7.1) (6.4.0)\n",
      "Requirement already satisfied: tqdm<5.0.0,>=4.38.0 in /Library/Frameworks/Python.framework/Versions/3.11/lib/python3.11/site-packages (from spacy<3.8.0,>=3.7.2->en-core-web-lg==3.7.1) (4.66.5)\n",
      "Requirement already satisfied: requests<3.0.0,>=2.13.0 in /Library/Frameworks/Python.framework/Versions/3.11/lib/python3.11/site-packages (from spacy<3.8.0,>=3.7.2->en-core-web-lg==3.7.1) (2.32.3)\n",
      "Requirement already satisfied: pydantic!=1.8,!=1.8.1,<3.0.0,>=1.7.4 in /Library/Frameworks/Python.framework/Versions/3.11/lib/python3.11/site-packages (from spacy<3.8.0,>=3.7.2->en-core-web-lg==3.7.1) (2.8.0)\n",
      "Requirement already satisfied: jinja2 in /Library/Frameworks/Python.framework/Versions/3.11/lib/python3.11/site-packages (from spacy<3.8.0,>=3.7.2->en-core-web-lg==3.7.1) (3.1.4)\n",
      "Requirement already satisfied: setuptools in /Library/Frameworks/Python.framework/Versions/3.11/lib/python3.11/site-packages (from spacy<3.8.0,>=3.7.2->en-core-web-lg==3.7.1) (65.5.0)\n",
      "Requirement already satisfied: packaging>=20.0 in /Users/mac/Library/Python/3.11/lib/python/site-packages (from spacy<3.8.0,>=3.7.2->en-core-web-lg==3.7.1) (24.1)\n",
      "Requirement already satisfied: langcodes<4.0.0,>=3.2.0 in /Library/Frameworks/Python.framework/Versions/3.11/lib/python3.11/site-packages (from spacy<3.8.0,>=3.7.2->en-core-web-lg==3.7.1) (3.4.1)\n",
      "Requirement already satisfied: numpy>=1.19.0 in /Library/Frameworks/Python.framework/Versions/3.11/lib/python3.11/site-packages (from spacy<3.8.0,>=3.7.2->en-core-web-lg==3.7.1) (1.25.2)\n",
      "Requirement already satisfied: language-data>=1.2 in /Library/Frameworks/Python.framework/Versions/3.11/lib/python3.11/site-packages (from langcodes<4.0.0,>=3.2.0->spacy<3.8.0,>=3.7.2->en-core-web-lg==3.7.1) (1.2.0)\n",
      "Requirement already satisfied: annotated-types>=0.4.0 in /Library/Frameworks/Python.framework/Versions/3.11/lib/python3.11/site-packages (from pydantic!=1.8,!=1.8.1,<3.0.0,>=1.7.4->spacy<3.8.0,>=3.7.2->en-core-web-lg==3.7.1) (0.7.0)\n",
      "Requirement already satisfied: pydantic-core==2.20.0 in /Library/Frameworks/Python.framework/Versions/3.11/lib/python3.11/site-packages (from pydantic!=1.8,!=1.8.1,<3.0.0,>=1.7.4->spacy<3.8.0,>=3.7.2->en-core-web-lg==3.7.1) (2.20.0)\n",
      "Requirement already satisfied: typing-extensions>=4.6.1 in /Users/mac/Library/Python/3.11/lib/python/site-packages (from pydantic!=1.8,!=1.8.1,<3.0.0,>=1.7.4->spacy<3.8.0,>=3.7.2->en-core-web-lg==3.7.1) (4.12.2)\n",
      "Requirement already satisfied: charset-normalizer<4,>=2 in /Library/Frameworks/Python.framework/Versions/3.11/lib/python3.11/site-packages (from requests<3.0.0,>=2.13.0->spacy<3.8.0,>=3.7.2->en-core-web-lg==3.7.1) (3.3.2)\n",
      "Requirement already satisfied: idna<4,>=2.5 in /Library/Frameworks/Python.framework/Versions/3.11/lib/python3.11/site-packages (from requests<3.0.0,>=2.13.0->spacy<3.8.0,>=3.7.2->en-core-web-lg==3.7.1) (3.7)\n",
      "Requirement already satisfied: urllib3<3,>=1.21.1 in /Library/Frameworks/Python.framework/Versions/3.11/lib/python3.11/site-packages (from requests<3.0.0,>=2.13.0->spacy<3.8.0,>=3.7.2->en-core-web-lg==3.7.1) (2.2.1)\n",
      "Requirement already satisfied: certifi>=2017.4.17 in /Library/Frameworks/Python.framework/Versions/3.11/lib/python3.11/site-packages (from requests<3.0.0,>=2.13.0->spacy<3.8.0,>=3.7.2->en-core-web-lg==3.7.1) (2024.2.2)\n",
      "Requirement already satisfied: blis<0.8.0,>=0.7.8 in /Library/Frameworks/Python.framework/Versions/3.11/lib/python3.11/site-packages (from thinc<8.3.0,>=8.2.2->spacy<3.8.0,>=3.7.2->en-core-web-lg==3.7.1) (0.7.11)\n",
      "Requirement already satisfied: confection<1.0.0,>=0.0.1 in /Library/Frameworks/Python.framework/Versions/3.11/lib/python3.11/site-packages (from thinc<8.3.0,>=8.2.2->spacy<3.8.0,>=3.7.2->en-core-web-lg==3.7.1) (0.1.4)\n",
      "Requirement already satisfied: click<9.0.0,>=7.1.1 in /Library/Frameworks/Python.framework/Versions/3.11/lib/python3.11/site-packages (from typer<0.10.0,>=0.3.0->spacy<3.8.0,>=3.7.2->en-core-web-lg==3.7.1) (8.1.7)\n",
      "Requirement already satisfied: cloudpathlib<0.17.0,>=0.7.0 in /Library/Frameworks/Python.framework/Versions/3.11/lib/python3.11/site-packages (from weasel<0.4.0,>=0.1.0->spacy<3.8.0,>=3.7.2->en-core-web-lg==3.7.1) (0.16.0)\n",
      "Requirement already satisfied: MarkupSafe>=2.0 in /Library/Frameworks/Python.framework/Versions/3.11/lib/python3.11/site-packages (from jinja2->spacy<3.8.0,>=3.7.2->en-core-web-lg==3.7.1) (3.0.1)\n",
      "Requirement already satisfied: marisa-trie>=0.7.7 in /Library/Frameworks/Python.framework/Versions/3.11/lib/python3.11/site-packages (from language-data>=1.2->langcodes<4.0.0,>=3.2.0->spacy<3.8.0,>=3.7.2->en-core-web-lg==3.7.1) (1.2.1)\n",
      "\u001b[38;5;2m✔ Download and installation successful\u001b[0m\n",
      "You can now load the package via spacy.load('en_core_web_lg')\n",
      "\u001b[38;5;3m⚠ Restart to reload dependencies\u001b[0m\n",
      "If you are in a Jupyter or Colab notebook, you may need to restart Python in\n",
      "order to load all the package's dependencies. You can do this by selecting the\n",
      "'Restart kernel' or 'Restart runtime' option.\n"
     ]
    }
   ],
   "source": [
    "spacy.cli.download(\"en_core_web_lg\")"
   ]
  },
  {
   "cell_type": "code",
   "execution_count": 12,
   "metadata": {},
   "outputs": [],
   "source": [
    "nlp = spacy.load(\"en_core_web_lg\")\n",
    "lemmatizer = WordNetLemmatizer()"
   ]
  },
  {
   "cell_type": "markdown",
   "metadata": {},
   "source": [
    "## Обработка глагольных рёбер"
   ]
  },
  {
   "cell_type": "code",
   "execution_count": 13,
   "metadata": {},
   "outputs": [],
   "source": [
    "def get_syntactic_relations(doc):\n",
    "    \"\"\"\n",
    "    Извлекает синтаксические связи (именные группы, включая прилагательные и артикли) из текста.\n",
    "    Обрабатывает сочетания глагола с предлогом как единое ребро.\n",
    "    Обрабатывает сочинение (conj), создавая дополнительные связи.\n",
    "    \"\"\"\n",
    "    chunks = []  # Список для хранения именных групп\n",
    "    relations = []  # Список для хранения связей (субъект, глагол, объект)\n",
    "    subjects = {}  # Словарь для хранения подлежащих\n",
    "    conjunctions = {}  # Словарь для хранения связей conj (сочинение)\n",
    "    chunk_to_text = {}  # Связываем root токены с текстом именных групп\n",
    "\n",
    "    # Добавляем именные группы (NOUN CHUNKS) и нормализуем их\n",
    "    for chunk in doc.noun_chunks:\n",
    "        normalized_chunk = ' '.join([lemmatizer.lemmatize(token.text.lower(), pos='n') for token in chunk])\n",
    "        chunks.append((chunk.start_char, chunk.end_char, chunk, normalized_chunk, chunk.root.head, chunk.root.dep_))\n",
    "        chunk_to_text[chunk.root] = normalized_chunk  # Связываем root токен с нормализованным текстом\n",
    "\n",
    "    # Обрабатываем сочинение (conj)\n",
    "    for token in doc:\n",
    "        if token.dep_ == \"conj\" and token.head in chunk_to_text:\n",
    "            head_text = chunk_to_text[token.head]\n",
    "            conj_text = chunk_to_text.get(token, None)  # Используем уже обработанный chunk\n",
    "\n",
    "            if head_text and conj_text:\n",
    "                conjunctions.setdefault(head_text, []).append(conj_text)\n",
    "\n",
    "    # Добавляем подлежащие\n",
    "    for chunk in chunks:\n",
    "        if chunk[5] == 'nsubj':\n",
    "            subject_text = chunk_to_text.get(chunk[2].root, chunk[3])  # Используем нормализованный текст\n",
    "            subjects.setdefault(chunk[4], []).append(subject_text)\n",
    "\n",
    "            # Добавляем conj-подлежащие\n",
    "            if subject_text in conjunctions:\n",
    "                subjects[chunk[4]].extend(conjunctions[subject_text])\n",
    "\n",
    "    # Добавляем связи для глаголов и предлогов\n",
    "    for i, chunk in enumerate(chunks):\n",
    "        # Связи с глаголами\n",
    "        if chunk[4].pos_ == 'VERB' and chunk[5] != 'nsubj':\n",
    "            subject_list = subjects.get(chunk[4], [])\n",
    "            object_text = chunk_to_text.get(chunk[2].root, chunk[3])  # Используем нормализованный текст\n",
    "\n",
    "            for subject in subject_list:\n",
    "                relations.append((subject, chunk[4].text, object_text))\n",
    "\n",
    "                # Добавляем conj-объекты\n",
    "                if object_text in conjunctions:\n",
    "                    for conj in conjunctions[object_text]:\n",
    "                        relations.append((subject, chunk[4].text, conj))\n",
    "\n",
    "        # Обрабатываем сочетания глаголов и предлогов как единое ребро\n",
    "        if chunk[4].pos_ == 'VERB' and i + 1 < len(chunks):\n",
    "            next_chunk = chunks[i + 1]\n",
    "            if next_chunk[4].pos_ == 'ADP':  # Если следующий элемент - предлог\n",
    "                subject_list = subjects.get(chunk[4], [])\n",
    "                relation_text = f\"{chunk[4].text} {next_chunk[4].text}\"\n",
    "                object_text = chunk_to_text.get(next_chunk[2].root, next_chunk[3])\n",
    "\n",
    "                for subject in subject_list:\n",
    "                    relations.append((subject, relation_text, object_text))\n",
    "\n",
    "                    # Добавляем conj-объекты\n",
    "                    if object_text in conjunctions:\n",
    "                        for conj in conjunctions[object_text]:\n",
    "                            relations.append((subject, relation_text, conj))\n",
    "\n",
    "    return relations"
   ]
  },
  {
   "cell_type": "markdown",
   "metadata": {},
   "source": [
    "## Обработка предложных рёбер"
   ]
  },
  {
   "cell_type": "code",
   "execution_count": 14,
   "metadata": {},
   "outputs": [],
   "source": [
    "def find_nearest_vertex(token, chunk_to_vertex):\n",
    "    \"\"\"\n",
    "    Ищет ближайшую вершину для токена, поднимаясь вверх по дереву зависимостей.\n",
    "    \"\"\"\n",
    "    visited = set()\n",
    "    while token and token not in chunk_to_vertex:\n",
    "        if token in visited or token.head == token:\n",
    "            return None  # Защита от бесконечного цикла\n",
    "        visited.add(token)\n",
    "        token = token.head  # Поднимаемся выше в дереве\n",
    "    return chunk_to_vertex.get(token)"
   ]
  },
  {
   "cell_type": "code",
   "execution_count": 15,
   "metadata": {},
   "outputs": [],
   "source": [
    "def process_token(token, graph, chunk_to_vertex, conjunctions):\n",
    "    \"\"\"\n",
    "    Обрабатывает токен, добавляя рёбра между существующими вершинами (именными группами).\n",
    "    \"\"\"\n",
    "    for child in token.children:\n",
    "        head_vertex = find_nearest_vertex(token, chunk_to_vertex)\n",
    "        child_vertex = find_nearest_vertex(child, chunk_to_vertex)\n",
    "        \n",
    "        print(f\"Checking edge: {token.text} -> {child.text}\")\n",
    "        print(f\"Head vertex: {head_vertex}, Child vertex: {child_vertex}\")\n",
    "        \n",
    "        if head_vertex and child_vertex and token.pos_ == \"ADP\":  # Обрабатываем только предлоги\n",
    "            edge_tuples = [(head_vertex.concept, child_vertex.concept, token.text)]\n",
    "\n",
    "            # Добавляем связи для сочинённых существительных\n",
    "            if head_vertex.concept in conjunctions:\n",
    "                edge_tuples.extend([(conj, child_vertex.concept, token.text) for conj in conjunctions[head_vertex.concept]])\n",
    "            \n",
    "            if child_vertex.concept in conjunctions:\n",
    "                edge_tuples.extend([(head_vertex.concept, conj, token.text) for conj in conjunctions[child_vertex.concept]])\n",
    "\n",
    "            # Проверяем наличие рёбер и добавляем только новые\n",
    "            existing_edges = {(e.agent_1, e.agent_2, e.meaning) for e in graph.edges}\n",
    "            for edge_tuple in edge_tuples:\n",
    "                if edge_tuple not in existing_edges:\n",
    "                    print(f\"Adding edge: {edge_tuple[0]} --[{edge_tuple[2]}]--> {edge_tuple[1]}\")\n",
    "                    graph.add_edge(edge_tuple[0], edge_tuple[1], edge_tuple[2], 1, 0)\n",
    "        \n",
    "        process_token(child, graph, chunk_to_vertex, conjunctions)\n"
   ]
  },
  {
   "cell_type": "markdown",
   "metadata": {},
   "source": [
    "## Создание графа"
   ]
  },
  {
   "cell_type": "code",
   "execution_count": 38,
   "metadata": {},
   "outputs": [],
   "source": [
    "def get_syntactic_relations(doc):\n",
    "    \"\"\"\n",
    "    Извлекает синтаксические связи (именные группы, включая прилагательные и артикли) из текста.\n",
    "    Обрабатывает сочетания глагола с предлогом как единое ребро.\n",
    "    Обрабатывает сочинение (conj), создавая дополнительные связи.\n",
    "    \"\"\"\n",
    "    chunks = []  # Список именных групп\n",
    "    relations = []  # Список связей (субъект, глагол, объект)\n",
    "    subjects = {}  # {глагол: [список подлежащих]}\n",
    "    conjunctions = {}  # {существительное: [его conj-аналоги]}\n",
    "    chunk_to_text = {}  # {root токен: текст именной группы}\n",
    "\n",
    "    # Добавляем именные группы (NOUN CHUNKS) и нормализуем их\n",
    "    for chunk in doc.noun_chunks:\n",
    "        normalized_chunk = ' '.join([lemmatizer.lemmatize(token.text.lower(), pos='n') for token in chunk])\n",
    "        chunks.append((chunk.start_char, chunk.end_char, chunk, normalized_chunk, chunk.root.head, chunk.root.dep_))\n",
    "        chunk_to_text[chunk.root] = normalized_chunk\n",
    "\n",
    "    print(f\"Chunks extracted: {[c[3] for c in chunks]}\")\n",
    "\n",
    "    # Собираем conj-связи\n",
    "    for token in doc:\n",
    "        if token.dep_ == \"conj\" and token.head in chunk_to_text:\n",
    "            head_text = chunk_to_text[token.head]\n",
    "            conj_text = chunk_to_text.get(token, None)\n",
    "            if head_text and conj_text:\n",
    "                conjunctions.setdefault(head_text, []).append(conj_text)\n",
    "\n",
    "    print(f\"Conjunctions: {conjunctions}\")\n",
    "\n",
    "    # Добавляем подлежащие\n",
    "    for chunk in chunks:\n",
    "        if chunk[5] == 'nsubj':  # Это подлежащее\n",
    "            subject_text = chunk_to_text.get(chunk[2].root, chunk[3])\n",
    "            subjects.setdefault(chunk[4], []).append(subject_text)\n",
    "\n",
    "            # Если есть conj-аналоги, добавляем их тоже\n",
    "            if subject_text in conjunctions:\n",
    "                subjects[chunk[4]].extend(conjunctions[subject_text])\n",
    "\n",
    "    print(f\"Subjects: {subjects}\")\n",
    "\n",
    "    # Добавляем связи VERB → OBJECT\n",
    "    for chunk in chunks:\n",
    "        if chunk[4].pos_ == 'VERB' and chunk[5] not in {'nsubj', 'ROOT'}:\n",
    "            subject_list = subjects.get(chunk[4], [])\n",
    "            object_text = chunk_to_text.get(chunk[2].root, chunk[3])\n",
    "\n",
    "            for subject in subject_list:\n",
    "                print(f\"Creating relation: {subject} --[{chunk[4].text}]--> {object_text}\")\n",
    "                relations.append((subject, chunk[4].text, object_text))\n",
    "\n",
    "    print(f\"Relations extracted: {relations}\")\n",
    "    return relations"
   ]
  },
  {
   "cell_type": "code",
   "execution_count": null,
   "metadata": {},
   "outputs": [
    {
     "name": "stdout",
     "output_type": "stream",
     "text": [
      "Chunks extracted: ['the cat', 'the dog', 'fish', 'meat']\n",
      "Conjunctions: {'the cat': ['the dog'], 'fish': ['meat']}\n",
      "Subjects: {eat: ['the cat', 'the dog']}\n",
      "Creating relation: the cat --[eat]--> fish\n",
      "Creating relation: the dog --[eat]--> fish\n",
      "Relations extracted: [('the cat', 'eat', 'fish'), ('the dog', 'eat', 'fish')]\n"
     ]
    }
   ],
   "source": [
    "# text = \"\"\"How are living organisms different from inanimate matter? There are obvious answers in terms\n",
    "# of the chemical composition and structure, but when it comes to the central processes in the evolution\n",
    "# of life, the distinction is far less obvious. In the tradition of Darwin-Wallace, it is tempting to\n",
    "# posit that life is defined by evolution through the survival of the fittest. However, the\n",
    "# uniqueness of this process to life could be questioned because the entire history of the universe\n",
    "# consists of changes where the most stable structures survive. The process of\n",
    "# replication itself is not truly unique to biology either: crystals do replicate. On the macroscopic\n",
    "# scales of space and time, however, life clearly is a distinct phenomenon. To objectively define\n",
    "# the features that distinguish life from other phenomena that occur mostly in the universe, it seems\n",
    "# important to examine the key processes of biological evolution within the framework of\n",
    "# theoretical physics.\"\"\"\n",
    "text = 'The cat and the dog eat fish and meat.'\n",
    "text = text.replace('\\n', ' ')\n",
    "    \n",
    "doc = nlp(text)\n",
    "pairs = get_syntactic_relations(doc)\n",
    "graph1 = Graph()"
   ]
  },
  {
   "cell_type": "code",
   "execution_count": null,
   "metadata": {},
   "outputs": [
    {
     "name": "stdout",
     "output_type": "stream",
     "text": [
      "Adding vertex: the cat\n",
      "Adding vertex: fish\n",
      "Adding edge: the cat --[eat]--> fish\n",
      "Adding vertex: the dog\n",
      "Adding edge: the dog --[eat]--> fish\n"
     ]
    }
   ],
   "source": [
    "# # Добавляем вершины\n",
    "# for subject, verb, obj in pairs:\n",
    "#     if subject not in graph1.vertices:\n",
    "#         print(f\"Adding vertex: {subject}\")\n",
    "#         graph1.add_vertex(subject)\n",
    "#     if obj not in graph1.vertices:\n",
    "#         print(f\"Adding vertex: {obj}\")\n",
    "#         graph1.add_vertex(obj)\n",
    "\n",
    "#     # Добавляем рёбра\n",
    "#     print(f\"Adding edge: {subject} --[{verb}]--> {obj}\")\n",
    "#     graph1.add_edge(subject, obj, verb, 1, 0)"
   ]
  },
  {
   "cell_type": "code",
   "execution_count": 53,
   "metadata": {},
   "outputs": [],
   "source": [
    "# Создаём словарь для хранения связей conj\n",
    "chunk_to_vertex = {}\n",
    "conjunctions = {}  # {главная вершина: [сочинённые вершины]}\n",
    "\n",
    "# Добавляем вершины только для именных групп (исключаем глаголы и наречия)\n",
    "for chunk in doc.noun_chunks:\n",
    "    vertex = Vertex(chunk.text, [chunk.text])\n",
    "    \n",
    "    # Проверяем, существует ли вершина с таким концептом\n",
    "    if vertex.concept not in graph1.vertices:\n",
    "        graph1.add_vertex(vertex.concept, vertex.words_of_concept)\n",
    "    \n",
    "    # Привязываем root токен к вершине\n",
    "    chunk_to_vertex[chunk.root] = vertex\n",
    "\n",
    "# Собираем информацию о сочинении (conj)\n",
    "for token in doc:\n",
    "    if token.dep_ == \"conj\" and token.head in chunk_to_vertex:\n",
    "        head_text = chunk_to_vertex[token.head].concept\n",
    "        conj_text = chunk_to_vertex.get(token, None)\n",
    "\n",
    "        if head_text and conj_text:\n",
    "            conjunctions.setdefault(head_text, []).append(conj_text.concept)\n",
    "\n",
    "# Добавляем рёбра между существующими вершинами\n",
    "for token in doc:\n",
    "    if token.pos_ == \"ADP\":  # Обрабатываем только предлоги\n",
    "        print(f\"Processing token: {token.text} ({token.pos_})\")\n",
    "        process_token(token, graph1, chunk_to_vertex, conjunctions)"
   ]
  },
  {
   "cell_type": "markdown",
   "metadata": {},
   "source": [
    "Чистим граф от пустых вершин"
   ]
  },
  {
   "cell_type": "code",
   "execution_count": 56,
   "metadata": {},
   "outputs": [
    {
     "name": "stdout",
     "output_type": "stream",
     "text": [
      "{'the cat': Vertex(concept='the cat', words=[['the', 'cat']]), 'fish': Vertex(concept='fish', words=[['fish']]), 'the dog': Vertex(concept='the dog', words=[['the', 'dog']])}\n"
     ]
    }
   ],
   "source": [
    "graph_res = Graph()\n",
    "print(graph1.vertices)\n",
    "for concept in graph1.vertices.keys():\n",
    "    if graph1.get_vertex_edges(concept):\n",
    "        graph_res.add_vertex(concept)\n",
    "for edge in graph1.edges:\n",
    "    graph_res.add_edge(edge.agent_1, edge.agent_2, edge.meaning, 0, 0)"
   ]
  },
  {
   "cell_type": "code",
   "execution_count": 57,
   "metadata": {},
   "outputs": [
    {
     "name": "stdout",
     "output_type": "stream",
     "text": [
      "Graph structure:\n",
      "Graph(vertices=3, edges=2)\n",
      "\n",
      "Detailed representation:\n",
      "Graph(\n",
      "\tvertices=[Vertex(concept='the cat', words=[['the', 'cat']]), Vertex(concept='fish', words=[['fish']]), Vertex(concept='the dog', words=[['the', 'dog']])],\n",
      "\tedges=[Edge(the cat <--[eat]--> fish), Edge(the dog <--[eat]--> fish)]\n",
      ")\n",
      "\n",
      "Edges:\n",
      "Concept: the cat\n",
      "[Edge(the cat <--[eat]--> fish)]\n",
      "Concept: fish\n",
      "[Edge(the cat <--[eat]--> fish), Edge(the dog <--[eat]--> fish)]\n",
      "Concept: the dog\n",
      "[Edge(the dog <--[eat]--> fish)]\n",
      "\n",
      "Vertices:\n",
      "Vertex(concept='the cat', words=[['the', 'cat']])\n",
      "Vertex(concept='fish', words=[['fish']])\n",
      "Vertex(concept='the dog', words=[['the', 'dog']])\n"
     ]
    }
   ],
   "source": [
    "# Выводим граф\n",
    "print(\"Graph structure:\")\n",
    "print(graph_res)\n",
    "print(\"\\nDetailed representation:\")\n",
    "print(repr(graph_res))\n",
    "\n",
    "print(\"\\nEdges:\")\n",
    "for concept in graph_res.vertices.keys():\n",
    "    print(f\"Concept: {concept}\")\n",
    "    print(graph_res.get_vertex_edges(concept))\n",
    "\n",
    "print(\"\\nVertices:\")\n",
    "for concept in graph_res.vertices.keys():\n",
    "    print(graph_res.vertices[concept])"
   ]
  },
  {
   "cell_type": "code",
   "execution_count": 58,
   "metadata": {},
   "outputs": [
    {
     "data": {
      "image/png": "[encoded data removed]",
      "text/plain": [
       "<Figure size 1200x800 with 1 Axes>"
      ]
     },
     "metadata": {},
     "output_type": "display_data"
    }
   ],
   "source": [
    "visualize_graph(graph_res)"
   ]
  },
  {
   "cell_type": "code",
   "execution_count": 26,
   "metadata": {},
   "outputs": [
    {
     "data": {
      "text/html": [
       "<span class=\"tex2jax_ignore\"><svg xmlns=\"http://www.w3.org/2000/svg\" xmlns:xlink=\"http://www.w3.org/1999/xlink\" xml:lang=\"en\" id=\"8ca6ac8fa1d24d11bb1b21f22c95ae0b-0\" class=\"displacy\" width=\"925\" height=\"399.5\" direction=\"ltr\" style=\"max-width: none; height: 399.5px; color: #000000; background: #ffffff; font-family: Arial; direction: ltr\">\n",
       "<text class=\"displacy-token\" fill=\"currentColor\" text-anchor=\"middle\" y=\"309.5\">\n",
       "    <tspan class=\"displacy-word\" fill=\"currentColor\" x=\"50\">Cat</tspan>\n",
       "    <tspan class=\"displacy-tag\" dy=\"2em\" fill=\"currentColor\" x=\"50\">NOUN</tspan>\n",
       "</text>\n",
       "\n",
       "<text class=\"displacy-token\" fill=\"currentColor\" text-anchor=\"middle\" y=\"309.5\">\n",
       "    <tspan class=\"displacy-word\" fill=\"currentColor\" x=\"225\">or</tspan>\n",
       "    <tspan class=\"displacy-tag\" dy=\"2em\" fill=\"currentColor\" x=\"225\">CCONJ</tspan>\n",
       "</text>\n",
       "\n",
       "<text class=\"displacy-token\" fill=\"currentColor\" text-anchor=\"middle\" y=\"309.5\">\n",
       "    <tspan class=\"displacy-word\" fill=\"currentColor\" x=\"400\">dog</tspan>\n",
       "    <tspan class=\"displacy-tag\" dy=\"2em\" fill=\"currentColor\" x=\"400\">NOUN</tspan>\n",
       "</text>\n",
       "\n",
       "<text class=\"displacy-token\" fill=\"currentColor\" text-anchor=\"middle\" y=\"309.5\">\n",
       "    <tspan class=\"displacy-word\" fill=\"currentColor\" x=\"575\">eat</tspan>\n",
       "    <tspan class=\"displacy-tag\" dy=\"2em\" fill=\"currentColor\" x=\"575\">VERB</tspan>\n",
       "</text>\n",
       "\n",
       "<text class=\"displacy-token\" fill=\"currentColor\" text-anchor=\"middle\" y=\"309.5\">\n",
       "    <tspan class=\"displacy-word\" fill=\"currentColor\" x=\"750\">fish.</tspan>\n",
       "    <tspan class=\"displacy-tag\" dy=\"2em\" fill=\"currentColor\" x=\"750\">NOUN</tspan>\n",
       "</text>\n",
       "\n",
       "<g class=\"displacy-arrow\">\n",
       "    <path class=\"displacy-arc\" id=\"arrow-8ca6ac8fa1d24d11bb1b21f22c95ae0b-0-0\" stroke-width=\"2px\" d=\"M70,264.5 C70,2.0 575.0,2.0 575.0,264.5\" fill=\"none\" stroke=\"currentColor\"/>\n",
       "    <text dy=\"1.25em\" style=\"font-size: 0.8em; letter-spacing: 1px\">\n",
       "        <textPath xlink:href=\"#arrow-8ca6ac8fa1d24d11bb1b21f22c95ae0b-0-0\" class=\"displacy-label\" startOffset=\"50%\" side=\"left\" fill=\"currentColor\" text-anchor=\"middle\">nsubj</textPath>\n",
       "    </text>\n",
       "    <path class=\"displacy-arrowhead\" d=\"M70,266.5 L62,254.5 78,254.5\" fill=\"currentColor\"/>\n",
       "</g>\n",
       "\n",
       "<g class=\"displacy-arrow\">\n",
       "    <path class=\"displacy-arc\" id=\"arrow-8ca6ac8fa1d24d11bb1b21f22c95ae0b-0-1\" stroke-width=\"2px\" d=\"M70,264.5 C70,177.0 215.0,177.0 215.0,264.5\" fill=\"none\" stroke=\"currentColor\"/>\n",
       "    <text dy=\"1.25em\" style=\"font-size: 0.8em; letter-spacing: 1px\">\n",
       "        <textPath xlink:href=\"#arrow-8ca6ac8fa1d24d11bb1b21f22c95ae0b-0-1\" class=\"displacy-label\" startOffset=\"50%\" side=\"left\" fill=\"currentColor\" text-anchor=\"middle\">cc</textPath>\n",
       "    </text>\n",
       "    <path class=\"displacy-arrowhead\" d=\"M215.0,266.5 L223.0,254.5 207.0,254.5\" fill=\"currentColor\"/>\n",
       "</g>\n",
       "\n",
       "<g class=\"displacy-arrow\">\n",
       "    <path class=\"displacy-arc\" id=\"arrow-8ca6ac8fa1d24d11bb1b21f22c95ae0b-0-2\" stroke-width=\"2px\" d=\"M70,264.5 C70,89.5 395.0,89.5 395.0,264.5\" fill=\"none\" stroke=\"currentColor\"/>\n",
       "    <text dy=\"1.25em\" style=\"font-size: 0.8em; letter-spacing: 1px\">\n",
       "        <textPath xlink:href=\"#arrow-8ca6ac8fa1d24d11bb1b21f22c95ae0b-0-2\" class=\"displacy-label\" startOffset=\"50%\" side=\"left\" fill=\"currentColor\" text-anchor=\"middle\">conj</textPath>\n",
       "    </text>\n",
       "    <path class=\"displacy-arrowhead\" d=\"M395.0,266.5 L403.0,254.5 387.0,254.5\" fill=\"currentColor\"/>\n",
       "</g>\n",
       "\n",
       "<g class=\"displacy-arrow\">\n",
       "    <path class=\"displacy-arc\" id=\"arrow-8ca6ac8fa1d24d11bb1b21f22c95ae0b-0-3\" stroke-width=\"2px\" d=\"M595,264.5 C595,177.0 740.0,177.0 740.0,264.5\" fill=\"none\" stroke=\"currentColor\"/>\n",
       "    <text dy=\"1.25em\" style=\"font-size: 0.8em; letter-spacing: 1px\">\n",
       "        <textPath xlink:href=\"#arrow-8ca6ac8fa1d24d11bb1b21f22c95ae0b-0-3\" class=\"displacy-label\" startOffset=\"50%\" side=\"left\" fill=\"currentColor\" text-anchor=\"middle\">dobj</textPath>\n",
       "    </text>\n",
       "    <path class=\"displacy-arrowhead\" d=\"M740.0,266.5 L748.0,254.5 732.0,254.5\" fill=\"currentColor\"/>\n",
       "</g>\n",
       "</svg></span>"
      ],
      "text/plain": [
       "<IPython.core.display.HTML object>"
      ]
     },
     "metadata": {},
     "output_type": "display_data"
    }
   ],
   "source": [
    "displacy.render(doc, style='dep')"
   ]
  },
  {
   "cell_type": "markdown",
   "metadata": {},
   "source": [
    "To Do:\n",
    "- плохо справляется с эллипсисом (survival of the fittest)\n",
    "- различать и или два разных симплекса\n",
    "- спросить у димы симплекс\n",
    "- связать сочинение отдельной категорией\n"
   ]
  }
 ],
 "metadata": {
  "kernelspec": {
   "display_name": "Python 3",
   "language": "python",
   "name": "python3"
  },
  "language_info": {
   "codemirror_mode": {
    "name": "ipython",
    "version": 3
   },
   "file_extension": ".py",
   "mimetype": "text/x-python",
   "name": "python",
   "nbconvert_exporter": "python",
   "pygments_lexer": "ipython3",
   "version": "3.11.5"
  }
 },
 "nbformat": 4,
 "nbformat_minor": 2
}
