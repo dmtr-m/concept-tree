{
 "cells": [
  {
   "cell_type": "code",
   "execution_count": null,
   "metadata": {},
   "outputs": [],
   "source": [
    "from bs4 import BeautifulSoup\n",
    "import re"
   ]
  },
  {
   "cell_type": "code",
   "execution_count": 1,
   "metadata": {},
   "outputs": [],
   "source": [
    "def clean_html(path_to_input: str, path_to_output: str) -> str:\n",
    "    # Open html file with text\n",
    "    with open(path_to_input, \"r\", encoding=\"utf-8\") as file:\n",
    "        soup = BeautifulSoup(file, \"lxml\")\n",
    "\n",
    "    # --------- CLEANUP: REMOVE unwanted elements ---------\n",
    "    # Find all <math> elements (MathML equations)\n",
    "    math_tags = soup.find_all(\"math\")\n",
    "\n",
    "    # Replace each <math> with [[[formula]]]\n",
    "    for tag in math_tags:\n",
    "        tag.replace_with(\" [[[formula]]] \")\n",
    "\n",
    "    # Find all <cite> elements (MathML equations)\n",
    "    cite_tags = soup.find_all(\"cite\")\n",
    "\n",
    "    # Replace each <cite> with [[[cite]]]\n",
    "    for tag in cite_tags:\n",
    "        tag.replace_with(\" [[[cite]]] \")\n",
    "\n",
    "    # --------- BODY TEXT ---------\n",
    "    # You can extract body text from paragraphs or specific divs\n",
    "    paragraphs = soup.find_all([\"p\", \"div\"], class_=\"ltx_para\")\n",
    "    text_parts = [p.get_text(separator=\" \", strip=True) for p in paragraphs if p.get_text(strip=True)]\n",
    "\n",
    "    # Combine into full text\n",
    "    text = \"\\n\\n\".join(text_parts)\n",
    "\n",
    "    text = re.sub(r'Eqs?\\.\\s*\\(\\s*\\d+\\s*\\)(?:\\s*[–-]\\s*\\(\\s*\\d+\\s*\\))?', '[[[Equation Reference]]]', text)\n",
    "    text = re.sub(\n",
    "        r'Figs?\\.\\s*(?:S)?\\d+(?:\\s*(?:\\([a-z]\\)|\\([a-z]\\)-\\([a-z]\\)))?(?:\\s*(?:and|–|-)\\s*(?:S)?\\d+(?:\\s*\\([a-z]\\))?)?',\n",
    "        '[[[Figure Reference]]]',\n",
    "        text,\n",
    "        flags=re.IGNORECASE\n",
    "    )\n",
    "    text = re.sub(\n",
    "        r'(?:Sec(?:tion)?\\.?|Appendix)\\s+(?:[A-Z]+|\\d+)(?:\\.(?:\\d+|[A-Z]+)){0,3}(?:\\s+in\\s+\\[?SI\\]?)?',\n",
    "        '[[[Sequence Reference]]]',\n",
    "        text,\n",
    "        flags=re.IGNORECASE\n",
    "    )\n",
    "    text = re.sub(r'\\(\\s*\\d+\\s*\\)', '', text)\n",
    "\n",
    "    # Write prcoessed text to file\n",
    "    with open(path_to_output, 'w', encoding='utf-8') as out_f:\n",
    "        out_f.write(text)"
   ]
  },
  {
   "cell_type": "code",
   "execution_count": 2,
   "metadata": {},
   "outputs": [
    {
     "ename": "NameError",
     "evalue": "name 'BeautifulSoup' is not defined",
     "output_type": "error",
     "traceback": [
      "\u001b[0;31m---------------------------------------------------------------------------\u001b[0m",
      "\u001b[0;31mNameError\u001b[0m                                 Traceback (most recent call last)",
      "Cell \u001b[0;32mIn[2], line 7\u001b[0m\n\u001b[1;32m      5\u001b[0m path_in_str \u001b[38;5;241m=\u001b[39m \u001b[38;5;28mstr\u001b[39m(path)   \n\u001b[1;32m      6\u001b[0m output_file \u001b[38;5;241m=\u001b[39m path_in_str[:\u001b[38;5;241m-\u001b[39m\u001b[38;5;241m5\u001b[39m] \u001b[38;5;241m+\u001b[39m \u001b[38;5;124m\"\u001b[39m\u001b[38;5;124m.txt\u001b[39m\u001b[38;5;124m\"\u001b[39m\n\u001b[0;32m----> 7\u001b[0m \u001b[43mclean_html\u001b[49m\u001b[43m(\u001b[49m\u001b[43mpath_in_str\u001b[49m\u001b[43m,\u001b[49m\u001b[43m \u001b[49m\u001b[43moutput_file\u001b[49m\u001b[43m)\u001b[49m\n",
      "Cell \u001b[0;32mIn[1], line 4\u001b[0m, in \u001b[0;36mclean_html\u001b[0;34m(path_to_input, path_to_output)\u001b[0m\n\u001b[1;32m      1\u001b[0m \u001b[38;5;28;01mdef\u001b[39;00m\u001b[38;5;250m \u001b[39m\u001b[38;5;21mclean_html\u001b[39m(path_to_input: \u001b[38;5;28mstr\u001b[39m, path_to_output: \u001b[38;5;28mstr\u001b[39m) \u001b[38;5;241m-\u001b[39m\u001b[38;5;241m>\u001b[39m \u001b[38;5;28mstr\u001b[39m:\n\u001b[1;32m      2\u001b[0m     \u001b[38;5;66;03m# Open html file with text\u001b[39;00m\n\u001b[1;32m      3\u001b[0m     \u001b[38;5;28;01mwith\u001b[39;00m \u001b[38;5;28mopen\u001b[39m(path_to_input, \u001b[38;5;124m\"\u001b[39m\u001b[38;5;124mr\u001b[39m\u001b[38;5;124m\"\u001b[39m, encoding\u001b[38;5;241m=\u001b[39m\u001b[38;5;124m\"\u001b[39m\u001b[38;5;124mutf-8\u001b[39m\u001b[38;5;124m\"\u001b[39m) \u001b[38;5;28;01mas\u001b[39;00m file:\n\u001b[0;32m----> 4\u001b[0m         soup \u001b[38;5;241m=\u001b[39m \u001b[43mBeautifulSoup\u001b[49m(file, \u001b[38;5;124m\"\u001b[39m\u001b[38;5;124mlxml\u001b[39m\u001b[38;5;124m\"\u001b[39m)\n\u001b[1;32m      6\u001b[0m     \u001b[38;5;66;03m# --------- CLEANUP: REMOVE unwanted elements ---------\u001b[39;00m\n\u001b[1;32m      7\u001b[0m     \u001b[38;5;66;03m# Find all <math> elements (MathML equations)\u001b[39;00m\n\u001b[1;32m      8\u001b[0m     math_tags \u001b[38;5;241m=\u001b[39m soup\u001b[38;5;241m.\u001b[39mfind_all(\u001b[38;5;124m\"\u001b[39m\u001b[38;5;124mmath\u001b[39m\u001b[38;5;124m\"\u001b[39m)\n",
      "\u001b[0;31mNameError\u001b[0m: name 'BeautifulSoup' is not defined"
     ]
    }
   ],
   "source": [
    "from pathlib import Path\n",
    "\n",
    "pathlist = Path(\"data/\").glob('*.html')\n",
    "for path in pathlist:\n",
    "    path_in_str = str(path)   \n",
    "    output_file = path_in_str[:-5] + \".txt\"\n",
    "    clean_html(path_in_str, output_file)\n"
   ]
  }
 ],
 "metadata": {
  "kernelspec": {
   "display_name": ".venv",
   "language": "python",
   "name": "python3"
  },
  "language_info": {
   "codemirror_mode": {
    "name": "ipython",
    "version": 3
   },
   "file_extension": ".py",
   "mimetype": "text/x-python",
   "name": "python",
   "nbconvert_exporter": "python",
   "pygments_lexer": "ipython3",
   "version": "3.11.10"
  }
 },
 "nbformat": 4,
 "nbformat_minor": 2
}
