{
 "cells": [
  {
   "cell_type": "code",
   "execution_count": 4,
   "metadata": {},
   "outputs": [],
   "source": [
    "from bs4 import BeautifulSoup\n",
    "\n",
    "with open(\"2503.16184v1.html\", \"r\", encoding=\"utf-8\") as file:\n",
    "    soup = BeautifulSoup(file, \"lxml\")"
   ]
  },
  {
   "cell_type": "code",
   "execution_count": 5,
   "metadata": {},
   "outputs": [],
   "source": [
    "# --------- CLEANUP: REMOVE unwanted elements ---------\n",
    "# Find all <math> elements (MathML equations)\n",
    "math_tags = soup.find_all(\"math\")\n",
    "\n",
    "# Replace each <math> with [[[formula]]]\n",
    "for tag in math_tags:\n",
    "    tag.replace_with(\" [[[formula]]] \")\n",
    "\n",
    "# Find all <cite> elements (MathML equations)\n",
    "cite_tags = soup.find_all(\"cite\")\n",
    "\n",
    "# Replace each <cite> with [[[cite]]]\n",
    "for tag in cite_tags:\n",
    "    tag.decompose()\n",
    "\n",
    "# --------- BODY TEXT ---------\n",
    "# You can extract body text from paragraphs or specific divs\n",
    "paragraphs = soup.find_all([\"p\", \"div\"], class_=\"ltx_para\")\n",
    "text_parts = [p.get_text(separator=\" \", strip=True) for p in paragraphs if p.get_text(strip=True)]\n",
    "\n",
    "# Combine into full text\n",
    "text = \"\\n\\n\".join(text_parts)"
   ]
  },
  {
   "cell_type": "code",
   "execution_count": 6,
   "metadata": {},
   "outputs": [],
   "source": [
    "with open(\"parsed_html_text.txt\", 'w', encoding='utf-8') as out_f:\n",
    "    out_f.write(text)"
   ]
  }
 ],
 "metadata": {
  "kernelspec": {
   "display_name": ".venv",
   "language": "python",
   "name": "python3"
  },
  "language_info": {
   "codemirror_mode": {
    "name": "ipython",
    "version": 3
   },
   "file_extension": ".py",
   "mimetype": "text/x-python",
   "name": "python",
   "nbconvert_exporter": "python",
   "pygments_lexer": "ipython3",
   "version": "3.11.10"
  }
 },
 "nbformat": 4,
 "nbformat_minor": 2
}
