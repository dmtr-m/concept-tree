{
 "cells": [
  {
   "cell_type": "code",
   "execution_count": 1,
   "metadata": {},
   "outputs": [],
   "source": [
    "from bs4 import BeautifulSoup\n",
    "from pathlib import Path\n",
    "from concurrent.futures import ProcessPoolExecutor, as_completed\n",
    "import re\n",
    "import os"
   ]
  },
  {
   "cell_type": "code",
   "execution_count": 2,
   "metadata": {},
   "outputs": [],
   "source": [
    "def clean_html(path_to_input: str, path_to_output: str) -> str:\n",
    "    # Open html file with text\n",
    "    with open(path_to_input, \"r\", encoding=\"utf-8\") as file:\n",
    "        soup = BeautifulSoup(file, \"lxml\")\n",
    "\n",
    "    # --------- CLEANUP: REMOVE unwanted elements ---------\n",
    "    # Find all <math> elements (MathML equations)\n",
    "    math_tags = soup.find_all(\"math\")\n",
    "\n",
    "    # Replace each <math> with [[[formula]]]\n",
    "    for tag in math_tags:\n",
    "        tag.replace_with(\" [[[formula]]] \")\n",
    "\n",
    "    # Find all <cite> elements (MathML equations)\n",
    "    cite_tags = soup.find_all(\"cite\")\n",
    "\n",
    "    # Replace each <cite> with [[[cite]]]\n",
    "    for tag in cite_tags:\n",
    "        tag.replace_with(\" [[[cite]]] \")\n",
    "\n",
    "    # --------- BODY TEXT ---------\n",
    "    # You can extract body text from paragraphs or specific divs\n",
    "    paragraphs = soup.find_all([\"p\", \"div\"], class_=\"ltx_para\")\n",
    "    text_parts = [p.get_text(separator=\" \", strip=True) for p in paragraphs if p.get_text(strip=True)]\n",
    "\n",
    "    # Combine into full text\n",
    "    text = \"\\n\\n\".join(text_parts)\n",
    "\n",
    "    text = re.sub(r'Eqs?\\.\\s*\\(\\s*\\d+\\s*\\)(?:\\s*[–-]\\s*\\(\\s*\\d+\\s*\\))?', '[[[Equation Reference]]]', text)\n",
    "    text = re.sub(\n",
    "        r'Figs?\\.\\s*(?:S)?\\d+(?:\\s*(?:\\([a-z]\\)|\\([a-z]\\)-\\([a-z]\\)))?(?:\\s*(?:and|–|-)\\s*(?:S)?\\d+(?:\\s*\\([a-z]\\))?)?',\n",
    "        '[[[Figure Reference]]]',\n",
    "        text,\n",
    "        flags=re.IGNORECASE\n",
    "    )\n",
    "    text = re.sub(\n",
    "        r'(?:Sec(?:tion)?\\.?|Appendix)\\s+(?:[A-Z]+|\\d+)(?:\\.(?:\\d+|[A-Z]+)){0,3}(?:\\s+in\\s+\\[?SI\\]?)?',\n",
    "        '[[[Sequence Reference]]]',\n",
    "        text,\n",
    "        flags=re.IGNORECASE\n",
    "    )\n",
    "    text = re.sub(r'\\(\\s*\\d+\\s*\\)', '', text)\n",
    "\n",
    "    os.makedirs(os.path.dirname(path_to_output), exist_ok=True)  # Create output directory if it doesn't exist\n",
    "    # Write prcoessed text to file\n",
    "    with open(path_to_output, 'w', encoding='utf-8') as out_f:\n",
    "        out_f.write(text)\n",
    "    print(f\"{path_to_output} saved!\")"
   ]
  },
  {
   "cell_type": "code",
   "execution_count": 3,
   "metadata": {},
   "outputs": [],
   "source": [
    "def process_files_in_parallel():\n",
    "    \"\"\"\n",
    "    Основная функция для параллельной обработки файлов.\n",
    "    \"\"\"\n",
    "    base_input_dir = Path(\"/home/kdemyokhin_1/concept-tree-course-work/articles_raw/arxiv-html-cs/\")  # Исходная директория\n",
    "    base_output_dir = Path(\"/home/kdemyokhin_1/concept-tree-course-work/articles_parsed/arxiv-txt-cs/\")  # Целевая директория\n",
    "\n",
    "    # Рекурсивно находим все HTML-файлы\n",
    "    html_files = list(base_input_dir.rglob('*.html'))\n",
    "    print(f\"Found {len(html_files)} HTML files in input directory.\")\n",
    "\n",
    "    if not html_files:\n",
    "        print(\"No HTML files found. Please check the input directory.\")\n",
    "        return\n",
    "\n",
    "    tasks = []\n",
    "    for path in html_files:\n",
    "        relative_path = path.relative_to(base_input_dir)\n",
    "        output_path = base_output_dir / relative_path.with_suffix('.txt')\n",
    "        tasks.append((str(path), str(output_path)))\n",
    "\n",
    "    print(f\"Scheduled {len(tasks)} tasks for processing.\")\n",
    "\n",
    "    # Используем ProcessPoolExecutor для параллельной обработки\n",
    "    try:\n",
    "        with ProcessPoolExecutor(max_workers=os.cpu_count()) as executor:  # Укажите количество процессов\n",
    "            futures = {executor.submit(clean_html, task[0], task[1]): task for task in tasks}\n",
    "\n",
    "            for future in as_completed(futures):\n",
    "                task = futures[future]\n",
    "                try:\n",
    "                    result = future.result()\n",
    "                    if result is None:\n",
    "                        print(f\"Task for file {task[0]} returned None (possible error).\")\n",
    "                except Exception as e:\n",
    "                    print(f\"Exception occurred during processing of file {task[0]}: {e}\")\n",
    "\n",
    "    except Exception as e:\n",
    "        print(f\"An error occurred during parallel processing: {e}\")"
   ]
  },
  {
   "cell_type": "code",
   "execution_count": 4,
   "metadata": {},
   "outputs": [
    {
     "name": "stdout",
     "output_type": "stream",
     "text": [
      "Found 0 HTML files in input directory.\n",
      "No HTML files found. Please check the input directory.\n"
     ]
    }
   ],
   "source": [
    "process_files_in_parallel()"
   ]
  }
 ],
 "metadata": {
  "kernelspec": {
   "display_name": ".venv-concept-graph",
   "language": "python",
   "name": "python3"
  },
  "language_info": {
   "codemirror_mode": {
    "name": "ipython",
    "version": 3
   },
   "file_extension": ".py",
   "mimetype": "text/x-python",
   "name": "python",
   "nbconvert_exporter": "python",
   "pygments_lexer": "ipython3",
   "version": "3.10.12"
  }
 },
 "nbformat": 4,
 "nbformat_minor": 4
}
