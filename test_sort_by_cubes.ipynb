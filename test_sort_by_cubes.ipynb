{
 "cells": [
  {
   "cell_type": "code",
   "execution_count": 1,
   "metadata": {},
   "outputs": [],
   "source": [
    "from directed_graph.graph import Graph"
   ]
  },
  {
   "cell_type": "code",
   "execution_count": 2,
   "metadata": {},
   "outputs": [],
   "source": [
    "graph = Graph()\n",
    "\n",
    "sample_words = [\n",
    "    \"apple\", \"banana\", \"cherry\", \"dog\", \"elephant\", \"forest\", \"guitar\", \"house\", \"ice\", \"jungle\",\n",
    "    \"kangaroo\", \"lemon\", \"mountain\", \"notebook\", \"ocean\", \"pencil\", \"queen\", \"rainbow\", \"sunshine\", \"tiger\",\n",
    "    \"umbrella\", \"violin\", \"whale\", \"xylophone\", \"yogurt\", \"zebra\", \"adventure\", \"butterfly\", \"courage\", \"diamond\",\n",
    "    \"energy\", \"friendship\", \"galaxy\", \"happiness\", \"island\", \"journey\", \"knowledge\", \"laughter\", \"mystery\", \"nostalgia\",\n",
    "    \"orchestra\", \"passion\", \"quasar\", \"radiance\", \"serenity\", \"tranquility\", \"universe\", \"victory\", \"wisdom\", \"xenon\",\n",
    "    \"yearning\", \"zephyr\", \"astronomy\", \"blossom\", \"celebration\", \"delight\", \"enigma\", \"fascination\", \"gratitude\", \"harmony\",\n",
    "    \"inspiration\", \"jubilation\", \"kindness\", \"luminous\", \"marvelous\", \"nurture\", \"opulence\", \"phenomenon\", \"quintessential\",\n",
    "    \"resilience\", \"spectacular\", \"tenacity\", \"unravel\", \"vibrant\", \"wanderlust\", \"x-factor\", \"yonder\", \"zenith\",\n",
    "    \"allegory\", \"benevolence\", \"charisma\", \"dazzling\", \"effervescent\", \"felicity\", \"glistening\", \"halcyon\", \"illuminate\",\n",
    "    \"jovial\", \"kaleidoscope\", \"luminary\", \"metamorphosis\", \"noble\", \"oblivion\", \"paradigm\", \"quiescent\", \"reverie\",\n",
    "    \"symphony\", \"tantalizing\", \"utopia\", \"vortex\", \"whimsical\", \"xylophonist\", \"yearn\", \"zestful\"\n",
    "]\n",
    "\n",
    "for word in sample_words:\n",
    "    graph.add_vertex(word)"
   ]
  },
  {
   "cell_type": "code",
   "execution_count": 3,
   "metadata": {},
   "outputs": [],
   "source": [
    "from matching.embedding_to_eps_cube import process_all_vertices\n",
    "from matching.sort_by_cubes import sort_by_cubes"
   ]
  },
  {
   "cell_type": "code",
   "execution_count": 4,
   "metadata": {},
   "outputs": [],
   "source": [
    "vertices_to_cube = process_all_vertices(0.3, list(graph.vertices.values()))\n",
    "vertices_to_cube = sort_by_cubes(vertices_to_cube)"
   ]
  },
  {
   "cell_type": "code",
   "execution_count": 9,
   "metadata": {},
   "outputs": [
    {
     "data": {
      "application/vnd.plotly.v1+json": {
       "config": {
        "plotlyServerURL": "https://plot.ly"
       },
       "data": [
        {
         "marker": {
          "color": [
           0.9418861841822948,
           0.6206569915340678,
           0.9476817013712614,
           0.31304371672614184,
           0.27786756296826465,
           0.5100235037462117,
           0.3333124251884405,
           0.36750314237965565,
           0.6172374656525357,
           0.4654686462936767,
           0.625503832118194,
           0.8905191674145546,
           0.9157298425400482,
           0.6663839625596449,
           0.32383884739135405,
           0.8605859880788185,
           0.34222878088404074,
           0.9749822668984119,
           0.12462121042646623,
           0.18442308371800042,
           0.43453638765771563,
           0.10128830687677326,
           0.7455395381179142,
           0.6423611482197674,
           0.860630049927372,
           0.6144296462157229,
           0.9528735129887195,
           0.2663619882785373,
           0.4339016369065365,
           0.4366944332152245,
           0.12366663099790376,
           0.3136942261195328,
           0.8080796638687142,
           0.9767777833867808,
           0.9809791458161555,
           0.2130419794287406,
           0.4874160594129189,
           0.6611274346366608,
           0.7476703031345192,
           0.9119397972524317,
           0.5725380732372473,
           0.7810904987293414,
           0.5660717813612953,
           0.9791972832164056,
           0.9512648158637335,
           0.21272606752561474,
           0.9879809803085963,
           0.6599481428050851,
           0.5408396098390772,
           0.3870041413994044,
           0.5920118500847033,
           0.7378247599820995,
           0.3019074434870772,
           0.2684707319768638,
           0.7825741214591221,
           0.5822676306537931,
           0.22548556747765713,
           0.45491676257406166,
           0.03316301472897032,
           0.8661562331607692,
           0.1545174170960555,
           0.042221842304513424,
           0.48963015838926505,
           0.01865139035727481,
           0.22603797203838272,
           0.10650207051770166,
           0.5487206764832947,
           0.31906086383402654,
           0.7067770135119519,
           0.8169873675747353,
           0.2755892877603193,
           0.14753913757228543,
           0.3826643238271431,
           0.6059240606946488,
           0.5707053673705277,
           0.912144915368635,
           0.05764043386255002,
           0.6377242700285045,
           0.15553824540080863,
           0.747506093940197,
           0.5766933702539657,
           0.04464087885986334,
           0.9699448751900746,
           0.07813017409315237,
           0.7273597321912179,
           0.7545780423085623,
           0.08327895829466947,
           0.7994051414609432,
           0.25284177618700787,
           0.14419108385830903,
           0.9041271087529402,
           0.6702540646809566,
           0.5792088610091024,
           0.8687533053648085,
           0.05924497765902992,
           0.5271016719841742,
           0.5495612749132084,
           0.2654962080982961,
           0.7839508855977542,
           0.017477573433093974,
           0.9245441825376226,
           0.2673315298248393,
           0.38688106852891113,
           0.13927184776622292
          ],
          "colorscale": [
           [
            0,
            "#440154"
           ],
           [
            0.1111111111111111,
            "#482878"
           ],
           [
            0.2222222222222222,
            "#3e4989"
           ],
           [
            0.3333333333333333,
            "#31688e"
           ],
           [
            0.4444444444444444,
            "#26828e"
           ],
           [
            0.5555555555555556,
            "#1f9e89"
           ],
           [
            0.6666666666666666,
            "#35b779"
           ],
           [
            0.7777777777777778,
            "#6ece58"
           ],
           [
            0.8888888888888888,
            "#b5de2b"
           ],
           [
            1,
            "#fde725"
           ]
          ],
          "opacity": 0.8,
          "size": 8
         },
         "mode": "markers+text",
         "text": [
          "apple",
          "banana",
          "cherry",
          "dog",
          "elephant",
          "forest",
          "guitar",
          "house",
          "ice",
          "jungle",
          "kangaroo",
          "lemon",
          "mountain",
          "notebook",
          "ocean",
          "pencil",
          "queen",
          "rainbow",
          "sunshine",
          "tiger",
          "umbrella",
          "violin",
          "whale",
          "xylophone",
          "yogurt",
          "zebra",
          "adventure",
          "butterfly",
          "courage",
          "diamond",
          "energy",
          "friendship",
          "galaxy",
          "happiness",
          "island",
          "journey",
          "knowledge",
          "laughter",
          "mystery",
          "nostalgia",
          "orchestra",
          "passion",
          "quasar",
          "radiance",
          "serenity",
          "tranquility",
          "universe",
          "victory",
          "wisdom",
          "xenon",
          "yearning",
          "zephyr",
          "astronomy",
          "blossom",
          "celebration",
          "delight",
          "enigma",
          "fascination",
          "gratitude",
          "harmony",
          "inspiration",
          "jubilation",
          "kindness",
          "luminous",
          "marvelous",
          "nurture",
          "opulence",
          "phenomenon",
          "quintessential",
          "resilience",
          "spectacular",
          "tenacity",
          "unravel",
          "vibrant",
          "wanderlust",
          "x-factor",
          "yonder",
          "zenith",
          "allegory",
          "benevolence",
          "charisma",
          "dazzling",
          "effervescent",
          "felicity",
          "glistening",
          "halcyon",
          "illuminate",
          "jovial",
          "kaleidoscope",
          "luminary",
          "metamorphosis",
          "noble",
          "oblivion",
          "paradigm",
          "quiescent",
          "reverie",
          "symphony",
          "tantalizing",
          "utopia",
          "vortex",
          "whimsical",
          "xylophonist",
          "yearn",
          "zestful"
         ],
         "textposition": "top center",
         "type": "scatter3d",
         "x": [
          0.019650943550724942,
          0.09275529313866182,
          0.7872977834410336,
          0.21316533886736067,
          0.766005972545503,
          0.30819251133260905,
          0.18367245562323575,
          0.27918764022549236,
          0.6664599881670232,
          0.47733141312258,
          0.6345103890436141,
          0.8895986913514583,
          0.7049767224790245,
          0.8525131404935001,
          0.12353790029215406,
          0.6640889227683873,
          0.3392154690076513,
          0.6980987091743758,
          0.08026819882982261,
          0.6394620010871345,
          0.014087367946864826,
          0.9317633524386051,
          0.5381056639245712,
          0.8800363285975317,
          0.3709389853270767,
          0.5791160728545269,
          0.8879814894087131,
          0.13101840307250312,
          0.5304864514534251,
          0.5164847226617733,
          0.591091083700366,
          0.5898499091506102,
          0.9330254628663884,
          0.522809672965724,
          0.6071615339482251,
          0.38534418392611314,
          0.2828992372091289,
          0.9581586327413323,
          0.3560584555092038,
          0.8118204255108095,
          0.28806461509814707,
          0.39880786806363155,
          0.3682263604592051,
          0.16139031656194291,
          0.8306634585928332,
          0.5513385388119922,
          0.6230812342469473,
          0.11999423855433722,
          0.32618064426783766,
          0.49491992823530273,
          0.44579232081809006,
          0.8662224033969463,
          0.45816354893708433,
          0.36613921924674353,
          0.7893433947617099,
          0.8567917779670647,
          0.3699448262656957,
          0.982018700215471,
          0.17787328235343824,
          0.9289190768038695,
          0.2826075933568186,
          0.09803210987807076,
          0.5171940131720314,
          0.7791101166147123,
          0.4231927857452469,
          0.04808970374825261,
          0.737793276045343,
          0.4564760481170228,
          0.8191051218268784,
          0.4407273617663411,
          0.3003256149519343,
          0.8323429197783244,
          0.9115124357830513,
          0.17670447532711797,
          0.04275177339351299,
          0.08507439089575453,
          0.1422992717098548,
          0.9933170324484636,
          0.7633088181941294,
          0.6413015869549061,
          0.03467568874034832,
          0.6378069327298733,
          0.5463850976967549,
          0.566524998462006,
          0.27177426737210697,
          0.5014769809313296,
          0.9284608997162113,
          0.36455640106478127,
          0.40235084721790537,
          0.006758507319923002,
          0.7939740892146667,
          0.4113299262248493,
          0.7062967167004803,
          0.13319350453651535,
          0.4038317908855459,
          0.3755719782447494,
          0.1428819188759155,
          0.027663098818206944,
          0.06827970369725411,
          0.6375876710984235,
          0.7659213111749829,
          0.7729030046523847,
          0.33514658237328254,
          0.3731138381641801
         ],
         "y": [
          0.7096141626803215,
          0.18976791670976445,
          0.053851366368918185,
          0.45800704980019646,
          0.3714467062785135,
          0.3773255138990439,
          0.9152384218706765,
          0.5242088862813054,
          0.016081932412903677,
          0.408641820147557,
          0.00046284977536092953,
          0.22339895469369775,
          0.31419579741388504,
          0.7097338742104108,
          0.4196462031866097,
          0.4441520908230283,
          0.1508594502499383,
          0.07059234247392032,
          0.8447887836567514,
          0.3111648350855132,
          0.15631746829507476,
          0.6006542022116261,
          0.5309842526900109,
          0.8071369989378682,
          0.26703615549756754,
          0.47620366647120393,
          0.21374931809912012,
          0.9659953425651222,
          0.3436298051802692,
          0.4203498865173533,
          0.12208618216706979,
          0.6344114569976155,
          0.5245829664505556,
          0.08362950134624958,
          0.1505973781242459,
          0.6153791956854743,
          0.7756862227804834,
          0.9902514690250629,
          0.9229331897273848,
          0.8602531937041089,
          0.017067643742927685,
          0.7800631791749499,
          0.6177919617503335,
          0.030058970737694812,
          0.6397435936415456,
          0.6064139084104645,
          0.8970725132672256,
          0.7501948433813527,
          0.18951864840862165,
          0.28776824088833897,
          0.08629371026257937,
          0.2813410328856565,
          0.902254518269879,
          0.562032692580818,
          0.05194555784827626,
          0.9658631392382261,
          0.3640077138860993,
          0.783717628442507,
          0.25352184279026535,
          0.2209443545869727,
          0.801951667160598,
          0.1579636133524004,
          0.7075590324994887,
          0.7513007232382416,
          0.40848755813286997,
          0.597411427005335,
          0.40222978489178307,
          0.8861386559538882,
          0.18921734247699273,
          0.7705414512399756,
          0.5557245523875054,
          0.37172945881695096,
          0.3363133561611681,
          0.6495350285976625,
          0.28248540194245775,
          0.21983963879363166,
          0.6455413253730065,
          0.192152078416977,
          0.08822003145174007,
          0.22487873689336035,
          0.05806633116964921,
          0.6656155738539933,
          0.5586765721008666,
          0.07763243875028158,
          0.3251881697329687,
          0.0076447655639093615,
          0.16598071228686806,
          0.43143302959341334,
          0.679085323264689,
          0.16664427567864637,
          0.988327987345158,
          0.674499002243476,
          0.5325909685318677,
          0.7927854806516652,
          0.14289171664748324,
          0.5668077882517983,
          0.44106835799135313,
          0.5503550716622332,
          0.5960365271740119,
          0.16757125137858542,
          0.7967404887617436,
          0.758351543343216,
          0.8060033071523618,
          0.2911840355123162
         ],
         "z": [
          0.9418861841822948,
          0.6206569915340678,
          0.9476817013712614,
          0.31304371672614184,
          0.27786756296826465,
          0.5100235037462117,
          0.3333124251884405,
          0.36750314237965565,
          0.6172374656525357,
          0.4654686462936767,
          0.625503832118194,
          0.8905191674145546,
          0.9157298425400482,
          0.6663839625596449,
          0.32383884739135405,
          0.8605859880788185,
          0.34222878088404074,
          0.9749822668984119,
          0.12462121042646623,
          0.18442308371800042,
          0.43453638765771563,
          0.10128830687677326,
          0.7455395381179142,
          0.6423611482197674,
          0.860630049927372,
          0.6144296462157229,
          0.9528735129887195,
          0.2663619882785373,
          0.4339016369065365,
          0.4366944332152245,
          0.12366663099790376,
          0.3136942261195328,
          0.8080796638687142,
          0.9767777833867808,
          0.9809791458161555,
          0.2130419794287406,
          0.4874160594129189,
          0.6611274346366608,
          0.7476703031345192,
          0.9119397972524317,
          0.5725380732372473,
          0.7810904987293414,
          0.5660717813612953,
          0.9791972832164056,
          0.9512648158637335,
          0.21272606752561474,
          0.9879809803085963,
          0.6599481428050851,
          0.5408396098390772,
          0.3870041413994044,
          0.5920118500847033,
          0.7378247599820995,
          0.3019074434870772,
          0.2684707319768638,
          0.7825741214591221,
          0.5822676306537931,
          0.22548556747765713,
          0.45491676257406166,
          0.03316301472897032,
          0.8661562331607692,
          0.1545174170960555,
          0.042221842304513424,
          0.48963015838926505,
          0.01865139035727481,
          0.22603797203838272,
          0.10650207051770166,
          0.5487206764832947,
          0.31906086383402654,
          0.7067770135119519,
          0.8169873675747353,
          0.2755892877603193,
          0.14753913757228543,
          0.3826643238271431,
          0.6059240606946488,
          0.5707053673705277,
          0.912144915368635,
          0.05764043386255002,
          0.6377242700285045,
          0.15553824540080863,
          0.747506093940197,
          0.5766933702539657,
          0.04464087885986334,
          0.9699448751900746,
          0.07813017409315237,
          0.7273597321912179,
          0.7545780423085623,
          0.08327895829466947,
          0.7994051414609432,
          0.25284177618700787,
          0.14419108385830903,
          0.9041271087529402,
          0.6702540646809566,
          0.5792088610091024,
          0.8687533053648085,
          0.05924497765902992,
          0.5271016719841742,
          0.5495612749132084,
          0.2654962080982961,
          0.7839508855977542,
          0.017477573433093974,
          0.9245441825376226,
          0.2673315298248393,
          0.38688106852891113,
          0.13927184776622292
         ]
        }
       ],
       "layout": {
        "scene": {
         "xaxis": {
          "title": {
           "text": "X Axis"
          }
         },
         "yaxis": {
          "title": {
           "text": "Y Axis"
          }
         },
         "zaxis": {
          "title": {
           "text": "Z Axis"
          }
         }
        },
        "template": {
         "data": {
          "bar": [
           {
            "error_x": {
             "color": "#2a3f5f"
            },
            "error_y": {
             "color": "#2a3f5f"
            },
            "marker": {
             "line": {
              "color": "#E5ECF6",
              "width": 0.5
             },
             "pattern": {
              "fillmode": "overlay",
              "size": 10,
              "solidity": 0.2
             }
            },
            "type": "bar"
           }
          ],
          "barpolar": [
           {
            "marker": {
             "line": {
              "color": "#E5ECF6",
              "width": 0.5
             },
             "pattern": {
              "fillmode": "overlay",
              "size": 10,
              "solidity": 0.2
             }
            },
            "type": "barpolar"
           }
          ],
          "carpet": [
           {
            "aaxis": {
             "endlinecolor": "#2a3f5f",
             "gridcolor": "white",
             "linecolor": "white",
             "minorgridcolor": "white",
             "startlinecolor": "#2a3f5f"
            },
            "baxis": {
             "endlinecolor": "#2a3f5f",
             "gridcolor": "white",
             "linecolor": "white",
             "minorgridcolor": "white",
             "startlinecolor": "#2a3f5f"
            },
            "type": "carpet"
           }
          ],
          "choropleth": [
           {
            "colorbar": {
             "outlinewidth": 0,
             "ticks": ""
            },
            "type": "choropleth"
           }
          ],
          "contour": [
           {
            "colorbar": {
             "outlinewidth": 0,
             "ticks": ""
            },
            "colorscale": [
             [
              0,
              "#0d0887"
             ],
             [
              0.1111111111111111,
              "#46039f"
             ],
             [
              0.2222222222222222,
              "#7201a8"
             ],
             [
              0.3333333333333333,
              "#9c179e"
             ],
             [
              0.4444444444444444,
              "#bd3786"
             ],
             [
              0.5555555555555556,
              "#d8576b"
             ],
             [
              0.6666666666666666,
              "#ed7953"
             ],
             [
              0.7777777777777778,
              "#fb9f3a"
             ],
             [
              0.8888888888888888,
              "#fdca26"
             ],
             [
              1,
              "#f0f921"
             ]
            ],
            "type": "contour"
           }
          ],
          "contourcarpet": [
           {
            "colorbar": {
             "outlinewidth": 0,
             "ticks": ""
            },
            "type": "contourcarpet"
           }
          ],
          "heatmap": [
           {
            "colorbar": {
             "outlinewidth": 0,
             "ticks": ""
            },
            "colorscale": [
             [
              0,
              "#0d0887"
             ],
             [
              0.1111111111111111,
              "#46039f"
             ],
             [
              0.2222222222222222,
              "#7201a8"
             ],
             [
              0.3333333333333333,
              "#9c179e"
             ],
             [
              0.4444444444444444,
              "#bd3786"
             ],
             [
              0.5555555555555556,
              "#d8576b"
             ],
             [
              0.6666666666666666,
              "#ed7953"
             ],
             [
              0.7777777777777778,
              "#fb9f3a"
             ],
             [
              0.8888888888888888,
              "#fdca26"
             ],
             [
              1,
              "#f0f921"
             ]
            ],
            "type": "heatmap"
           }
          ],
          "histogram": [
           {
            "marker": {
             "pattern": {
              "fillmode": "overlay",
              "size": 10,
              "solidity": 0.2
             }
            },
            "type": "histogram"
           }
          ],
          "histogram2d": [
           {
            "colorbar": {
             "outlinewidth": 0,
             "ticks": ""
            },
            "colorscale": [
             [
              0,
              "#0d0887"
             ],
             [
              0.1111111111111111,
              "#46039f"
             ],
             [
              0.2222222222222222,
              "#7201a8"
             ],
             [
              0.3333333333333333,
              "#9c179e"
             ],
             [
              0.4444444444444444,
              "#bd3786"
             ],
             [
              0.5555555555555556,
              "#d8576b"
             ],
             [
              0.6666666666666666,
              "#ed7953"
             ],
             [
              0.7777777777777778,
              "#fb9f3a"
             ],
             [
              0.8888888888888888,
              "#fdca26"
             ],
             [
              1,
              "#f0f921"
             ]
            ],
            "type": "histogram2d"
           }
          ],
          "histogram2dcontour": [
           {
            "colorbar": {
             "outlinewidth": 0,
             "ticks": ""
            },
            "colorscale": [
             [
              0,
              "#0d0887"
             ],
             [
              0.1111111111111111,
              "#46039f"
             ],
             [
              0.2222222222222222,
              "#7201a8"
             ],
             [
              0.3333333333333333,
              "#9c179e"
             ],
             [
              0.4444444444444444,
              "#bd3786"
             ],
             [
              0.5555555555555556,
              "#d8576b"
             ],
             [
              0.6666666666666666,
              "#ed7953"
             ],
             [
              0.7777777777777778,
              "#fb9f3a"
             ],
             [
              0.8888888888888888,
              "#fdca26"
             ],
             [
              1,
              "#f0f921"
             ]
            ],
            "type": "histogram2dcontour"
           }
          ],
          "mesh3d": [
           {
            "colorbar": {
             "outlinewidth": 0,
             "ticks": ""
            },
            "type": "mesh3d"
           }
          ],
          "parcoords": [
           {
            "line": {
             "colorbar": {
              "outlinewidth": 0,
              "ticks": ""
             }
            },
            "type": "parcoords"
           }
          ],
          "pie": [
           {
            "automargin": true,
            "type": "pie"
           }
          ],
          "scatter": [
           {
            "fillpattern": {
             "fillmode": "overlay",
             "size": 10,
             "solidity": 0.2
            },
            "type": "scatter"
           }
          ],
          "scatter3d": [
           {
            "line": {
             "colorbar": {
              "outlinewidth": 0,
              "ticks": ""
             }
            },
            "marker": {
             "colorbar": {
              "outlinewidth": 0,
              "ticks": ""
             }
            },
            "type": "scatter3d"
           }
          ],
          "scattercarpet": [
           {
            "marker": {
             "colorbar": {
              "outlinewidth": 0,
              "ticks": ""
             }
            },
            "type": "scattercarpet"
           }
          ],
          "scattergeo": [
           {
            "marker": {
             "colorbar": {
              "outlinewidth": 0,
              "ticks": ""
             }
            },
            "type": "scattergeo"
           }
          ],
          "scattergl": [
           {
            "marker": {
             "colorbar": {
              "outlinewidth": 0,
              "ticks": ""
             }
            },
            "type": "scattergl"
           }
          ],
          "scattermap": [
           {
            "marker": {
             "colorbar": {
              "outlinewidth": 0,
              "ticks": ""
             }
            },
            "type": "scattermap"
           }
          ],
          "scattermapbox": [
           {
            "marker": {
             "colorbar": {
              "outlinewidth": 0,
              "ticks": ""
             }
            },
            "type": "scattermapbox"
           }
          ],
          "scatterpolar": [
           {
            "marker": {
             "colorbar": {
              "outlinewidth": 0,
              "ticks": ""
             }
            },
            "type": "scatterpolar"
           }
          ],
          "scatterpolargl": [
           {
            "marker": {
             "colorbar": {
              "outlinewidth": 0,
              "ticks": ""
             }
            },
            "type": "scatterpolargl"
           }
          ],
          "scatterternary": [
           {
            "marker": {
             "colorbar": {
              "outlinewidth": 0,
              "ticks": ""
             }
            },
            "type": "scatterternary"
           }
          ],
          "surface": [
           {
            "colorbar": {
             "outlinewidth": 0,
             "ticks": ""
            },
            "colorscale": [
             [
              0,
              "#0d0887"
             ],
             [
              0.1111111111111111,
              "#46039f"
             ],
             [
              0.2222222222222222,
              "#7201a8"
             ],
             [
              0.3333333333333333,
              "#9c179e"
             ],
             [
              0.4444444444444444,
              "#bd3786"
             ],
             [
              0.5555555555555556,
              "#d8576b"
             ],
             [
              0.6666666666666666,
              "#ed7953"
             ],
             [
              0.7777777777777778,
              "#fb9f3a"
             ],
             [
              0.8888888888888888,
              "#fdca26"
             ],
             [
              1,
              "#f0f921"
             ]
            ],
            "type": "surface"
           }
          ],
          "table": [
           {
            "cells": {
             "fill": {
              "color": "#EBF0F8"
             },
             "line": {
              "color": "white"
             }
            },
            "header": {
             "fill": {
              "color": "#C8D4E3"
             },
             "line": {
              "color": "white"
             }
            },
            "type": "table"
           }
          ]
         },
         "layout": {
          "annotationdefaults": {
           "arrowcolor": "#2a3f5f",
           "arrowhead": 0,
           "arrowwidth": 1
          },
          "autotypenumbers": "strict",
          "coloraxis": {
           "colorbar": {
            "outlinewidth": 0,
            "ticks": ""
           }
          },
          "colorscale": {
           "diverging": [
            [
             0,
             "#8e0152"
            ],
            [
             0.1,
             "#c51b7d"
            ],
            [
             0.2,
             "#de77ae"
            ],
            [
             0.3,
             "#f1b6da"
            ],
            [
             0.4,
             "#fde0ef"
            ],
            [
             0.5,
             "#f7f7f7"
            ],
            [
             0.6,
             "#e6f5d0"
            ],
            [
             0.7,
             "#b8e186"
            ],
            [
             0.8,
             "#7fbc41"
            ],
            [
             0.9,
             "#4d9221"
            ],
            [
             1,
             "#276419"
            ]
           ],
           "sequential": [
            [
             0,
             "#0d0887"
            ],
            [
             0.1111111111111111,
             "#46039f"
            ],
            [
             0.2222222222222222,
             "#7201a8"
            ],
            [
             0.3333333333333333,
             "#9c179e"
            ],
            [
             0.4444444444444444,
             "#bd3786"
            ],
            [
             0.5555555555555556,
             "#d8576b"
            ],
            [
             0.6666666666666666,
             "#ed7953"
            ],
            [
             0.7777777777777778,
             "#fb9f3a"
            ],
            [
             0.8888888888888888,
             "#fdca26"
            ],
            [
             1,
             "#f0f921"
            ]
           ],
           "sequentialminus": [
            [
             0,
             "#0d0887"
            ],
            [
             0.1111111111111111,
             "#46039f"
            ],
            [
             0.2222222222222222,
             "#7201a8"
            ],
            [
             0.3333333333333333,
             "#9c179e"
            ],
            [
             0.4444444444444444,
             "#bd3786"
            ],
            [
             0.5555555555555556,
             "#d8576b"
            ],
            [
             0.6666666666666666,
             "#ed7953"
            ],
            [
             0.7777777777777778,
             "#fb9f3a"
            ],
            [
             0.8888888888888888,
             "#fdca26"
            ],
            [
             1,
             "#f0f921"
            ]
           ]
          },
          "colorway": [
           "#636efa",
           "#EF553B",
           "#00cc96",
           "#ab63fa",
           "#FFA15A",
           "#19d3f3",
           "#FF6692",
           "#B6E880",
           "#FF97FF",
           "#FECB52"
          ],
          "font": {
           "color": "#2a3f5f"
          },
          "geo": {
           "bgcolor": "white",
           "lakecolor": "white",
           "landcolor": "#E5ECF6",
           "showlakes": true,
           "showland": true,
           "subunitcolor": "white"
          },
          "hoverlabel": {
           "align": "left"
          },
          "hovermode": "closest",
          "mapbox": {
           "style": "light"
          },
          "paper_bgcolor": "white",
          "plot_bgcolor": "#E5ECF6",
          "polar": {
           "angularaxis": {
            "gridcolor": "white",
            "linecolor": "white",
            "ticks": ""
           },
           "bgcolor": "#E5ECF6",
           "radialaxis": {
            "gridcolor": "white",
            "linecolor": "white",
            "ticks": ""
           }
          },
          "scene": {
           "xaxis": {
            "backgroundcolor": "#E5ECF6",
            "gridcolor": "white",
            "gridwidth": 2,
            "linecolor": "white",
            "showbackground": true,
            "ticks": "",
            "zerolinecolor": "white"
           },
           "yaxis": {
            "backgroundcolor": "#E5ECF6",
            "gridcolor": "white",
            "gridwidth": 2,
            "linecolor": "white",
            "showbackground": true,
            "ticks": "",
            "zerolinecolor": "white"
           },
           "zaxis": {
            "backgroundcolor": "#E5ECF6",
            "gridcolor": "white",
            "gridwidth": 2,
            "linecolor": "white",
            "showbackground": true,
            "ticks": "",
            "zerolinecolor": "white"
           }
          },
          "shapedefaults": {
           "line": {
            "color": "#2a3f5f"
           }
          },
          "ternary": {
           "aaxis": {
            "gridcolor": "white",
            "linecolor": "white",
            "ticks": ""
           },
           "baxis": {
            "gridcolor": "white",
            "linecolor": "white",
            "ticks": ""
           },
           "bgcolor": "#E5ECF6",
           "caxis": {
            "gridcolor": "white",
            "linecolor": "white",
            "ticks": ""
           }
          },
          "title": {
           "x": 0.05
          },
          "xaxis": {
           "automargin": true,
           "gridcolor": "white",
           "linecolor": "white",
           "ticks": "",
           "title": {
            "standoff": 15
           },
           "zerolinecolor": "white",
           "zerolinewidth": 2
          },
          "yaxis": {
           "automargin": true,
           "gridcolor": "white",
           "linecolor": "white",
           "ticks": "",
           "title": {
            "standoff": 15
           },
           "zerolinecolor": "white",
           "zerolinewidth": 2
          }
         }
        },
        "title": {
         "text": "3D Scatter Plot with Labels"
        }
       }
      }
     },
     "metadata": {},
     "output_type": "display_data"
    }
   ],
   "source": [
    "import plotly.graph_objects as go\n",
    "\n",
    "# Extract coordinates and labels\n",
    "x_vals = [item.embedding[0] for item in list(graph.vertices.values())]\n",
    "y_vals = [item.embedding[1] for item in list(graph.vertices.values())]\n",
    "z_vals = [item.embedding[2] for item in list(graph.vertices.values())]\n",
    "labels = [item for item in list(graph.vertices.keys())]\n",
    "\n",
    "# Create 3D scatter plot\n",
    "fig = go.Figure()\n",
    "\n",
    "fig.add_trace(go.Scatter3d(\n",
    "    x=x_vals, y=y_vals, z=z_vals,\n",
    "    mode='markers+text',\n",
    "    marker=dict(size=8, color=z_vals, colorscale='Viridis', opacity=0.8),\n",
    "    text=labels,\n",
    "    textposition=\"top center\"\n",
    "))\n",
    "\n",
    "# Update layout\n",
    "fig.update_layout(\n",
    "    title=\"3D Scatter Plot with Labels\",\n",
    "    scene=dict(\n",
    "        xaxis_title=\"X Axis\",\n",
    "        yaxis_title=\"Y Axis\",\n",
    "        zaxis_title=\"Z Axis\"\n",
    "    )\n",
    ")\n",
    "\n",
    "# Show the plot\n",
    "fig.show()"
   ]
  }
 ],
 "metadata": {
  "kernelspec": {
   "display_name": ".venv",
   "language": "python",
   "name": "python3"
  },
  "language_info": {
   "codemirror_mode": {
    "name": "ipython",
    "version": 3
   },
   "file_extension": ".py",
   "mimetype": "text/x-python",
   "name": "python",
   "nbconvert_exporter": "python",
   "pygments_lexer": "ipython3",
   "version": "3.11.10"
  }
 },
 "nbformat": 4,
 "nbformat_minor": 2
}
