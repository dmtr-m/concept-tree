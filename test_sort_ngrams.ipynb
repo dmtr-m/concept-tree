{
 "cells": [
  {
   "cell_type": "code",
   "execution_count": 1,
   "metadata": {},
   "outputs": [],
   "source": [
    "from directed_graph.graph import Graph"
   ]
  },
  {
   "cell_type": "code",
   "execution_count": 2,
   "metadata": {},
   "outputs": [],
   "source": [
    "import random\n",
    "graph = Graph()\n",
    "\n",
    "nouns = [\n",
    "    \"apple\", \"mountain\", \"river\", \"car\", \"guitar\", \n",
    "    \"elephant\", \"planet\", \"ocean\", \"forest\", \"castle\",\n",
    "    \"bicycle\", \"computer\", \"bridge\", \"island\", \"clock\",\n",
    "    \"painting\", \"telescope\", \"train\", \"dragon\", \"backpack\"\n",
    "]\n",
    "\n",
    "bigrams = [\n",
    "    \"red apple\", \"tall mountain\", \"flowing river\", \"fast car\", \"wooden guitar\",\n",
    "    \"giant elephant\", \"distant planet\", \"deep ocean\", \"dense forest\", \"ancient castle\",\n",
    "    \"rusty bicycle\", \"powerful computer\", \"stone bridge\", \"tropical island\", \"old clock\",\n",
    "    \"famous painting\", \"high telescope\", \"speeding train\", \"fire-breathing dragon\", \"leather backpack\"\n",
    "]\n",
    "\n",
    "trigrams = [\n",
    "    \"bright red apple\", \"snowy mountain peak\", \"fast flowing river\", \"sleek sport car\", \"brown wooden guitar\",\n",
    "    \"massive african elephant\", \"faraway mysterious planet\", \"vast deep ocean\", \"thick green forest\", \"majestic medieval castle\",\n",
    "    \"dusty mountain bicycle\", \"powerful gaming computer\", \"ancient stone bridge\", \"sun-kissed tropical island\", \"intricately designed clock\",\n",
    "    \"world-renowned painting masterpiece\", \"high-powered space telescope\", \"ultra-modern bullet train\", \"ferocious fire-breathing dragon\", \"sturdy leather travel backpack\"\n",
    "]\n",
    "\n",
    "sample_words = nouns[:10] + bigrams[:10] + trigrams[:10]\n",
    "\n",
    "edges = [\n",
    "    \"a\", \"b\", \"c\"\n",
    "]\n",
    "\n",
    "for word in sample_words:\n",
    "    graph.add_vertex(word, word.split())\n",
    "\n",
    "for word1 in sample_words:\n",
    "    for word2 in sample_words:\n",
    "        if word1 != word2:\n",
    "            if random.randint(0, 10) == 1:\n",
    "                graph.add_edge(word1, word2, edges[random.randint(0, 2)])"
   ]
  },
  {
   "cell_type": "code",
   "execution_count": 3,
   "metadata": {},
   "outputs": [
    {
     "data": {
      "text/plain": [
       "[[{'forest'},\n",
       "  {'mountain'},\n",
       "  {'castle'},\n",
       "  {'river'},\n",
       "  {'car'},\n",
       "  {'apple'},\n",
       "  {'guitar'},\n",
       "  {'planet'},\n",
       "  {'ocean'},\n",
       "  {'elephant'}],\n",
       " [{'dense forest'},\n",
       "  {'tall mountain'},\n",
       "  {'ancient castle'},\n",
       "  {'flowing river'},\n",
       "  {'fast car'},\n",
       "  {'red apple'},\n",
       "  {'wooden guitar'},\n",
       "  {'distant planet'},\n",
       "  {'deep ocean'},\n",
       "  {'giant elephant'}],\n",
       " [{'thick green forest'},\n",
       "  {'majestic medieval castle'},\n",
       "  {'fast flowing river'},\n",
       "  {'sleek sport car'},\n",
       "  {'bright red apple'},\n",
       "  {'brown wooden guitar'},\n",
       "  {'snowy mountain peak'},\n",
       "  {'faraway mysterious planet'},\n",
       "  {'vast deep ocean'},\n",
       "  {'massive african elephant'}]]"
      ]
     },
     "execution_count": 3,
     "metadata": {},
     "output_type": "execute_result"
    }
   ],
   "source": [
    "from process_graph.embedding_to_eps_cube import split_graph_into_cubes, get_vertices_by_cubes\n",
    "\n",
    "vertices_to_cubes = split_graph_into_cubes(2, list(graph.vertices.values()))\n",
    "grouped_vertices = get_vertices_by_cubes(vertices_to_cubes)\n",
    "\n",
    "grouped_vertices"
   ]
  },
  {
   "cell_type": "code",
   "execution_count": 4,
   "metadata": {},
   "outputs": [
    {
     "name": "stdout",
     "output_type": "stream",
     "text": [
      "['forest', 'dense forest', 'thick green forest']\n",
      "['forest', 'dense forest', 'majestic medieval castle']\n",
      "['forest', 'dense forest', 'fast flowing river']\n",
      "['forest', 'dense forest', 'sleek sport car']\n",
      "['forest', 'dense forest', 'bright red apple']\n",
      "['forest', 'dense forest', 'brown wooden guitar']\n",
      "['forest', 'dense forest', 'snowy mountain peak']\n",
      "['forest', 'dense forest', 'faraway mysterious planet']\n",
      "['forest', 'dense forest', 'vast deep ocean']\n",
      "['forest', 'dense forest', 'massive african elephant']\n",
      "['forest', 'tall mountain', 'thick green forest']\n",
      "['forest', 'tall mountain', 'majestic medieval castle']\n",
      "['forest', 'tall mountain', 'fast flowing river']\n",
      "['forest', 'tall mountain', 'sleek sport car']\n",
      "['forest', 'tall mountain', 'bright red apple']\n",
      "['forest', 'tall mountain', 'brown wooden guitar']\n",
      "['forest', 'tall mountain', 'snowy mountain peak']\n",
      "['forest', 'tall mountain', 'faraway mysterious planet']\n",
      "['forest', 'tall mountain', 'vast deep ocean']\n",
      "['forest', 'tall mountain', 'massive african elephant']\n",
      "['forest', 'ancient castle', 'thick green forest']\n",
      "['forest', 'ancient castle', 'majestic medieval castle']\n",
      "['forest', 'ancient castle', 'fast flowing river']\n",
      "['forest', 'ancient castle', 'sleek sport car']\n",
      "['forest', 'ancient castle', 'bright red apple']\n",
      "['forest', 'ancient castle', 'brown wooden guitar']\n",
      "['forest', 'ancient castle', 'snowy mountain peak']\n",
      "['forest', 'ancient castle', 'faraway mysterious planet']\n",
      "['forest', 'ancient castle', 'vast deep ocean']\n",
      "['forest', 'ancient castle', 'massive african elephant']\n",
      "['forest', 'flowing river', 'thick green forest']\n",
      "['forest', 'flowing river', 'majestic medieval castle']\n",
      "['forest', 'flowing river', 'fast flowing river']\n",
      "['forest', 'flowing river', 'sleek sport car']\n",
      "['forest', 'flowing river', 'bright red apple']\n",
      "['forest', 'flowing river', 'brown wooden guitar']\n",
      "['forest', 'flowing river', 'snowy mountain peak']\n",
      "['forest', 'flowing river', 'faraway mysterious planet']\n",
      "['forest', 'flowing river', 'vast deep ocean']\n",
      "['forest', 'flowing river', 'massive african elephant']\n",
      "['forest', 'fast car', 'thick green forest']\n",
      "['forest', 'fast car', 'majestic medieval castle']\n",
      "['forest', 'fast car', 'fast flowing river']\n",
      "['forest', 'fast car', 'sleek sport car']\n",
      "['forest', 'fast car', 'bright red apple']\n",
      "['forest', 'fast car', 'brown wooden guitar']\n",
      "['forest', 'fast car', 'snowy mountain peak']\n",
      "['forest', 'fast car', 'faraway mysterious planet']\n",
      "['forest', 'fast car', 'vast deep ocean']\n",
      "['forest', 'fast car', 'massive african elephant']\n",
      "['forest', 'red apple', 'thick green forest']\n",
      "['forest', 'red apple', 'majestic medieval castle']\n",
      "['forest', 'red apple', 'fast flowing river']\n",
      "['forest', 'red apple', 'sleek sport car']\n",
      "['forest', 'red apple', 'bright red apple']\n",
      "['forest', 'red apple', 'brown wooden guitar']\n",
      "['forest', 'red apple', 'snowy mountain peak']\n",
      "['forest', 'red apple', 'faraway mysterious planet']\n",
      "['forest', 'red apple', 'vast deep ocean']\n",
      "['forest', 'red apple', 'massive african elephant']\n",
      "['forest', 'wooden guitar', 'thick green forest']\n",
      "['forest', 'wooden guitar', 'majestic medieval castle']\n",
      "['forest', 'wooden guitar', 'fast flowing river']\n",
      "['forest', 'wooden guitar', 'sleek sport car']\n",
      "['forest', 'wooden guitar', 'bright red apple']\n",
      "['forest', 'wooden guitar', 'brown wooden guitar']\n",
      "['forest', 'wooden guitar', 'snowy mountain peak']\n",
      "['forest', 'wooden guitar', 'faraway mysterious planet']\n",
      "['forest', 'wooden guitar', 'vast deep ocean']\n",
      "['forest', 'wooden guitar', 'massive african elephant']\n",
      "['forest', 'distant planet', 'thick green forest']\n",
      "['forest', 'distant planet', 'majestic medieval castle']\n",
      "['forest', 'distant planet', 'fast flowing river']\n",
      "['forest', 'distant planet', 'sleek sport car']\n",
      "['forest', 'distant planet', 'bright red apple']\n",
      "['forest', 'distant planet', 'brown wooden guitar']\n",
      "['forest', 'distant planet', 'snowy mountain peak']\n",
      "['forest', 'distant planet', 'faraway mysterious planet']\n",
      "['forest', 'distant planet', 'vast deep ocean']\n",
      "['forest', 'distant planet', 'massive african elephant']\n",
      "['forest', 'deep ocean', 'thick green forest']\n",
      "['forest', 'deep ocean', 'majestic medieval castle']\n",
      "['forest', 'deep ocean', 'fast flowing river']\n",
      "['forest', 'deep ocean', 'sleek sport car']\n",
      "['forest', 'deep ocean', 'bright red apple']\n",
      "['forest', 'deep ocean', 'brown wooden guitar']\n",
      "['forest', 'deep ocean', 'snowy mountain peak']\n",
      "['forest', 'deep ocean', 'faraway mysterious planet']\n",
      "['forest', 'deep ocean', 'vast deep ocean']\n",
      "['forest', 'deep ocean', 'massive african elephant']\n",
      "['forest', 'giant elephant', 'thick green forest']\n",
      "['forest', 'giant elephant', 'majestic medieval castle']\n",
      "['forest', 'giant elephant', 'fast flowing river']\n",
      "['forest', 'giant elephant', 'sleek sport car']\n",
      "['forest', 'giant elephant', 'bright red apple']\n",
      "['forest', 'giant elephant', 'brown wooden guitar']\n",
      "['forest', 'giant elephant', 'snowy mountain peak']\n",
      "['forest', 'giant elephant', 'faraway mysterious planet']\n",
      "['forest', 'giant elephant', 'vast deep ocean']\n",
      "['forest', 'giant elephant', 'massive african elephant']\n",
      "['mountain', 'dense forest', 'thick green forest']\n",
      "['mountain', 'dense forest', 'majestic medieval castle']\n",
      "['mountain', 'dense forest', 'fast flowing river']\n",
      "['mountain', 'dense forest', 'sleek sport car']\n",
      "['mountain', 'dense forest', 'bright red apple']\n",
      "['mountain', 'dense forest', 'brown wooden guitar']\n",
      "['mountain', 'dense forest', 'snowy mountain peak']\n",
      "['mountain', 'dense forest', 'faraway mysterious planet']\n",
      "['mountain', 'dense forest', 'vast deep ocean']\n",
      "['mountain', 'dense forest', 'massive african elephant']\n",
      "['mountain', 'tall mountain', 'thick green forest']\n",
      "['mountain', 'tall mountain', 'majestic medieval castle']\n",
      "['mountain', 'tall mountain', 'fast flowing river']\n",
      "['mountain', 'tall mountain', 'sleek sport car']\n",
      "['mountain', 'tall mountain', 'bright red apple']\n",
      "['mountain', 'tall mountain', 'brown wooden guitar']\n",
      "['mountain', 'tall mountain', 'snowy mountain peak']\n",
      "['mountain', 'tall mountain', 'faraway mysterious planet']\n",
      "['mountain', 'tall mountain', 'vast deep ocean']\n",
      "['mountain', 'tall mountain', 'massive african elephant']\n",
      "['mountain', 'ancient castle', 'thick green forest']\n",
      "['mountain', 'ancient castle', 'majestic medieval castle']\n",
      "['mountain', 'ancient castle', 'fast flowing river']\n",
      "['mountain', 'ancient castle', 'sleek sport car']\n",
      "['mountain', 'ancient castle', 'bright red apple']\n",
      "['mountain', 'ancient castle', 'brown wooden guitar']\n",
      "['mountain', 'ancient castle', 'snowy mountain peak']\n",
      "['mountain', 'ancient castle', 'faraway mysterious planet']\n",
      "['mountain', 'ancient castle', 'vast deep ocean']\n",
      "['mountain', 'ancient castle', 'massive african elephant']\n",
      "['mountain', 'flowing river', 'thick green forest']\n",
      "['mountain', 'flowing river', 'majestic medieval castle']\n",
      "['mountain', 'flowing river', 'fast flowing river']\n",
      "['mountain', 'flowing river', 'sleek sport car']\n",
      "['mountain', 'flowing river', 'bright red apple']\n",
      "['mountain', 'flowing river', 'brown wooden guitar']\n",
      "['mountain', 'flowing river', 'snowy mountain peak']\n",
      "['mountain', 'flowing river', 'faraway mysterious planet']\n",
      "['mountain', 'flowing river', 'vast deep ocean']\n",
      "['mountain', 'flowing river', 'massive african elephant']\n",
      "['mountain', 'fast car', 'thick green forest']\n",
      "['mountain', 'fast car', 'majestic medieval castle']\n",
      "['mountain', 'fast car', 'fast flowing river']\n",
      "['mountain', 'fast car', 'sleek sport car']\n",
      "['mountain', 'fast car', 'bright red apple']\n",
      "['mountain', 'fast car', 'brown wooden guitar']\n",
      "['mountain', 'fast car', 'snowy mountain peak']\n",
      "['mountain', 'fast car', 'faraway mysterious planet']\n",
      "['mountain', 'fast car', 'vast deep ocean']\n",
      "['mountain', 'fast car', 'massive african elephant']\n",
      "['mountain', 'red apple', 'thick green forest']\n",
      "['mountain', 'red apple', 'majestic medieval castle']\n",
      "['mountain', 'red apple', 'fast flowing river']\n",
      "['mountain', 'red apple', 'sleek sport car']\n",
      "['mountain', 'red apple', 'bright red apple']\n",
      "['mountain', 'red apple', 'brown wooden guitar']\n",
      "['mountain', 'red apple', 'snowy mountain peak']\n",
      "['mountain', 'red apple', 'faraway mysterious planet']\n",
      "['mountain', 'red apple', 'vast deep ocean']\n",
      "['mountain', 'red apple', 'massive african elephant']\n",
      "['mountain', 'wooden guitar', 'thick green forest']\n",
      "['mountain', 'wooden guitar', 'majestic medieval castle']\n",
      "['mountain', 'wooden guitar', 'fast flowing river']\n",
      "['mountain', 'wooden guitar', 'sleek sport car']\n",
      "['mountain', 'wooden guitar', 'bright red apple']\n",
      "['mountain', 'wooden guitar', 'brown wooden guitar']\n",
      "['mountain', 'wooden guitar', 'snowy mountain peak']\n",
      "['mountain', 'wooden guitar', 'faraway mysterious planet']\n",
      "['mountain', 'wooden guitar', 'vast deep ocean']\n",
      "['mountain', 'wooden guitar', 'massive african elephant']\n",
      "['mountain', 'distant planet', 'thick green forest']\n",
      "['mountain', 'distant planet', 'majestic medieval castle']\n",
      "['mountain', 'distant planet', 'fast flowing river']\n",
      "['mountain', 'distant planet', 'sleek sport car']\n",
      "['mountain', 'distant planet', 'bright red apple']\n",
      "['mountain', 'distant planet', 'brown wooden guitar']\n",
      "['mountain', 'distant planet', 'snowy mountain peak']\n",
      "['mountain', 'distant planet', 'faraway mysterious planet']\n",
      "['mountain', 'distant planet', 'vast deep ocean']\n",
      "['mountain', 'distant planet', 'massive african elephant']\n",
      "['mountain', 'deep ocean', 'thick green forest']\n",
      "['mountain', 'deep ocean', 'majestic medieval castle']\n",
      "['mountain', 'deep ocean', 'fast flowing river']\n",
      "['mountain', 'deep ocean', 'sleek sport car']\n",
      "['mountain', 'deep ocean', 'bright red apple']\n",
      "['mountain', 'deep ocean', 'brown wooden guitar']\n",
      "['mountain', 'deep ocean', 'snowy mountain peak']\n",
      "['mountain', 'deep ocean', 'faraway mysterious planet']\n",
      "['mountain', 'deep ocean', 'vast deep ocean']\n",
      "['mountain', 'deep ocean', 'massive african elephant']\n",
      "['mountain', 'giant elephant', 'thick green forest']\n",
      "['mountain', 'giant elephant', 'majestic medieval castle']\n",
      "['mountain', 'giant elephant', 'fast flowing river']\n",
      "['mountain', 'giant elephant', 'sleek sport car']\n",
      "['mountain', 'giant elephant', 'bright red apple']\n",
      "['mountain', 'giant elephant', 'brown wooden guitar']\n",
      "['mountain', 'giant elephant', 'snowy mountain peak']\n",
      "['mountain', 'giant elephant', 'faraway mysterious planet']\n",
      "['mountain', 'giant elephant', 'vast deep ocean']\n",
      "['mountain', 'giant elephant', 'massive african elephant']\n",
      "['castle', 'dense forest', 'thick green forest']\n",
      "['castle', 'dense forest', 'majestic medieval castle']\n",
      "['castle', 'dense forest', 'fast flowing river']\n",
      "['castle', 'dense forest', 'sleek sport car']\n",
      "['castle', 'dense forest', 'bright red apple']\n",
      "['castle', 'dense forest', 'brown wooden guitar']\n",
      "['castle', 'dense forest', 'snowy mountain peak']\n",
      "['castle', 'dense forest', 'faraway mysterious planet']\n",
      "['castle', 'dense forest', 'vast deep ocean']\n",
      "['castle', 'dense forest', 'massive african elephant']\n",
      "['castle', 'tall mountain', 'thick green forest']\n",
      "['castle', 'tall mountain', 'majestic medieval castle']\n",
      "['castle', 'tall mountain', 'fast flowing river']\n",
      "['castle', 'tall mountain', 'sleek sport car']\n",
      "['castle', 'tall mountain', 'bright red apple']\n",
      "['castle', 'tall mountain', 'brown wooden guitar']\n",
      "['castle', 'tall mountain', 'snowy mountain peak']\n",
      "['castle', 'tall mountain', 'faraway mysterious planet']\n",
      "['castle', 'tall mountain', 'vast deep ocean']\n",
      "['castle', 'tall mountain', 'massive african elephant']\n",
      "['castle', 'ancient castle', 'thick green forest']\n",
      "['castle', 'ancient castle', 'majestic medieval castle']\n",
      "['castle', 'ancient castle', 'fast flowing river']\n",
      "['castle', 'ancient castle', 'sleek sport car']\n",
      "['castle', 'ancient castle', 'bright red apple']\n",
      "['castle', 'ancient castle', 'brown wooden guitar']\n",
      "['castle', 'ancient castle', 'snowy mountain peak']\n",
      "['castle', 'ancient castle', 'faraway mysterious planet']\n",
      "['castle', 'ancient castle', 'vast deep ocean']\n",
      "['castle', 'ancient castle', 'massive african elephant']\n",
      "['castle', 'flowing river', 'thick green forest']\n",
      "['castle', 'flowing river', 'majestic medieval castle']\n",
      "['castle', 'flowing river', 'fast flowing river']\n",
      "['castle', 'flowing river', 'sleek sport car']\n",
      "['castle', 'flowing river', 'bright red apple']\n",
      "['castle', 'flowing river', 'brown wooden guitar']\n",
      "['castle', 'flowing river', 'snowy mountain peak']\n",
      "['castle', 'flowing river', 'faraway mysterious planet']\n",
      "['castle', 'flowing river', 'vast deep ocean']\n",
      "['castle', 'flowing river', 'massive african elephant']\n",
      "['castle', 'fast car', 'thick green forest']\n",
      "['castle', 'fast car', 'majestic medieval castle']\n",
      "['castle', 'fast car', 'fast flowing river']\n",
      "['castle', 'fast car', 'sleek sport car']\n",
      "['castle', 'fast car', 'bright red apple']\n",
      "['castle', 'fast car', 'brown wooden guitar']\n",
      "['castle', 'fast car', 'snowy mountain peak']\n",
      "['castle', 'fast car', 'faraway mysterious planet']\n",
      "['castle', 'fast car', 'vast deep ocean']\n",
      "['castle', 'fast car', 'massive african elephant']\n",
      "['castle', 'red apple', 'thick green forest']\n",
      "['castle', 'red apple', 'majestic medieval castle']\n",
      "['castle', 'red apple', 'fast flowing river']\n",
      "['castle', 'red apple', 'sleek sport car']\n",
      "['castle', 'red apple', 'bright red apple']\n",
      "['castle', 'red apple', 'brown wooden guitar']\n",
      "['castle', 'red apple', 'snowy mountain peak']\n",
      "['castle', 'red apple', 'faraway mysterious planet']\n",
      "['castle', 'red apple', 'vast deep ocean']\n",
      "['castle', 'red apple', 'massive african elephant']\n",
      "['castle', 'wooden guitar', 'thick green forest']\n",
      "['castle', 'wooden guitar', 'majestic medieval castle']\n",
      "['castle', 'wooden guitar', 'fast flowing river']\n",
      "['castle', 'wooden guitar', 'sleek sport car']\n",
      "['castle', 'wooden guitar', 'bright red apple']\n",
      "['castle', 'wooden guitar', 'brown wooden guitar']\n",
      "['castle', 'wooden guitar', 'snowy mountain peak']\n",
      "['castle', 'wooden guitar', 'faraway mysterious planet']\n",
      "['castle', 'wooden guitar', 'vast deep ocean']\n",
      "['castle', 'wooden guitar', 'massive african elephant']\n",
      "['castle', 'distant planet', 'thick green forest']\n",
      "['castle', 'distant planet', 'majestic medieval castle']\n",
      "['castle', 'distant planet', 'fast flowing river']\n",
      "['castle', 'distant planet', 'sleek sport car']\n",
      "['castle', 'distant planet', 'bright red apple']\n",
      "['castle', 'distant planet', 'brown wooden guitar']\n",
      "['castle', 'distant planet', 'snowy mountain peak']\n",
      "['castle', 'distant planet', 'faraway mysterious planet']\n",
      "['castle', 'distant planet', 'vast deep ocean']\n",
      "['castle', 'distant planet', 'massive african elephant']\n",
      "['castle', 'deep ocean', 'thick green forest']\n",
      "['castle', 'deep ocean', 'majestic medieval castle']\n",
      "['castle', 'deep ocean', 'fast flowing river']\n",
      "['castle', 'deep ocean', 'sleek sport car']\n",
      "['castle', 'deep ocean', 'bright red apple']\n",
      "['castle', 'deep ocean', 'brown wooden guitar']\n",
      "['castle', 'deep ocean', 'snowy mountain peak']\n",
      "['castle', 'deep ocean', 'faraway mysterious planet']\n",
      "['castle', 'deep ocean', 'vast deep ocean']\n",
      "['castle', 'deep ocean', 'massive african elephant']\n",
      "['castle', 'giant elephant', 'thick green forest']\n",
      "['castle', 'giant elephant', 'majestic medieval castle']\n",
      "['castle', 'giant elephant', 'fast flowing river']\n",
      "['castle', 'giant elephant', 'sleek sport car']\n",
      "['castle', 'giant elephant', 'bright red apple']\n",
      "['castle', 'giant elephant', 'brown wooden guitar']\n",
      "['castle', 'giant elephant', 'snowy mountain peak']\n",
      "['castle', 'giant elephant', 'faraway mysterious planet']\n",
      "['castle', 'giant elephant', 'vast deep ocean']\n",
      "['castle', 'giant elephant', 'massive african elephant']\n",
      "['river', 'dense forest', 'thick green forest']\n",
      "['river', 'dense forest', 'majestic medieval castle']\n",
      "['river', 'dense forest', 'fast flowing river']\n",
      "['river', 'dense forest', 'sleek sport car']\n",
      "['river', 'dense forest', 'bright red apple']\n",
      "['river', 'dense forest', 'brown wooden guitar']\n",
      "['river', 'dense forest', 'snowy mountain peak']\n",
      "['river', 'dense forest', 'faraway mysterious planet']\n",
      "['river', 'dense forest', 'vast deep ocean']\n",
      "['river', 'dense forest', 'massive african elephant']\n",
      "['river', 'tall mountain', 'thick green forest']\n",
      "['river', 'tall mountain', 'majestic medieval castle']\n",
      "['river', 'tall mountain', 'fast flowing river']\n",
      "['river', 'tall mountain', 'sleek sport car']\n",
      "['river', 'tall mountain', 'bright red apple']\n",
      "['river', 'tall mountain', 'brown wooden guitar']\n",
      "['river', 'tall mountain', 'snowy mountain peak']\n",
      "['river', 'tall mountain', 'faraway mysterious planet']\n",
      "['river', 'tall mountain', 'vast deep ocean']\n",
      "['river', 'tall mountain', 'massive african elephant']\n",
      "['river', 'ancient castle', 'thick green forest']\n",
      "['river', 'ancient castle', 'majestic medieval castle']\n",
      "['river', 'ancient castle', 'fast flowing river']\n",
      "['river', 'ancient castle', 'sleek sport car']\n",
      "['river', 'ancient castle', 'bright red apple']\n",
      "['river', 'ancient castle', 'brown wooden guitar']\n",
      "['river', 'ancient castle', 'snowy mountain peak']\n",
      "['river', 'ancient castle', 'faraway mysterious planet']\n",
      "['river', 'ancient castle', 'vast deep ocean']\n",
      "['river', 'ancient castle', 'massive african elephant']\n",
      "['river', 'flowing river', 'thick green forest']\n",
      "['river', 'flowing river', 'majestic medieval castle']\n",
      "['river', 'flowing river', 'fast flowing river']\n",
      "['river', 'flowing river', 'sleek sport car']\n",
      "['river', 'flowing river', 'bright red apple']\n",
      "['river', 'flowing river', 'brown wooden guitar']\n",
      "['river', 'flowing river', 'snowy mountain peak']\n",
      "['river', 'flowing river', 'faraway mysterious planet']\n",
      "['river', 'flowing river', 'vast deep ocean']\n",
      "['river', 'flowing river', 'massive african elephant']\n",
      "['river', 'fast car', 'thick green forest']\n",
      "['river', 'fast car', 'majestic medieval castle']\n",
      "['river', 'fast car', 'fast flowing river']\n",
      "['river', 'fast car', 'sleek sport car']\n",
      "['river', 'fast car', 'bright red apple']\n",
      "['river', 'fast car', 'brown wooden guitar']\n",
      "['river', 'fast car', 'snowy mountain peak']\n",
      "['river', 'fast car', 'faraway mysterious planet']\n",
      "['river', 'fast car', 'vast deep ocean']\n",
      "['river', 'fast car', 'massive african elephant']\n",
      "['river', 'red apple', 'thick green forest']\n",
      "['river', 'red apple', 'majestic medieval castle']\n",
      "['river', 'red apple', 'fast flowing river']\n",
      "['river', 'red apple', 'sleek sport car']\n",
      "['river', 'red apple', 'bright red apple']\n",
      "['river', 'red apple', 'brown wooden guitar']\n",
      "['river', 'red apple', 'snowy mountain peak']\n",
      "['river', 'red apple', 'faraway mysterious planet']\n",
      "['river', 'red apple', 'vast deep ocean']\n",
      "['river', 'red apple', 'massive african elephant']\n",
      "['river', 'wooden guitar', 'thick green forest']\n",
      "['river', 'wooden guitar', 'majestic medieval castle']\n",
      "['river', 'wooden guitar', 'fast flowing river']\n",
      "['river', 'wooden guitar', 'sleek sport car']\n",
      "['river', 'wooden guitar', 'bright red apple']\n",
      "['river', 'wooden guitar', 'brown wooden guitar']\n",
      "['river', 'wooden guitar', 'snowy mountain peak']\n",
      "['river', 'wooden guitar', 'faraway mysterious planet']\n",
      "['river', 'wooden guitar', 'vast deep ocean']\n",
      "['river', 'wooden guitar', 'massive african elephant']\n",
      "['river', 'distant planet', 'thick green forest']\n",
      "['river', 'distant planet', 'majestic medieval castle']\n",
      "['river', 'distant planet', 'fast flowing river']\n",
      "['river', 'distant planet', 'sleek sport car']\n",
      "['river', 'distant planet', 'bright red apple']\n",
      "['river', 'distant planet', 'brown wooden guitar']\n",
      "['river', 'distant planet', 'snowy mountain peak']\n",
      "['river', 'distant planet', 'faraway mysterious planet']\n",
      "['river', 'distant planet', 'vast deep ocean']\n",
      "['river', 'distant planet', 'massive african elephant']\n",
      "['river', 'deep ocean', 'thick green forest']\n",
      "['river', 'deep ocean', 'majestic medieval castle']\n",
      "['river', 'deep ocean', 'fast flowing river']\n",
      "['river', 'deep ocean', 'sleek sport car']\n",
      "['river', 'deep ocean', 'bright red apple']\n",
      "['river', 'deep ocean', 'brown wooden guitar']\n",
      "['river', 'deep ocean', 'snowy mountain peak']\n",
      "['river', 'deep ocean', 'faraway mysterious planet']\n",
      "['river', 'deep ocean', 'vast deep ocean']\n",
      "['river', 'deep ocean', 'massive african elephant']\n",
      "['river', 'giant elephant', 'thick green forest']\n",
      "['river', 'giant elephant', 'majestic medieval castle']\n",
      "['river', 'giant elephant', 'fast flowing river']\n",
      "['river', 'giant elephant', 'sleek sport car']\n",
      "['river', 'giant elephant', 'bright red apple']\n",
      "['river', 'giant elephant', 'brown wooden guitar']\n",
      "['river', 'giant elephant', 'snowy mountain peak']\n",
      "['river', 'giant elephant', 'faraway mysterious planet']\n",
      "['river', 'giant elephant', 'vast deep ocean']\n",
      "['river', 'giant elephant', 'massive african elephant']\n",
      "['car', 'dense forest', 'thick green forest']\n",
      "['car', 'dense forest', 'majestic medieval castle']\n",
      "['car', 'dense forest', 'fast flowing river']\n",
      "['car', 'dense forest', 'sleek sport car']\n",
      "['car', 'dense forest', 'bright red apple']\n",
      "['car', 'dense forest', 'brown wooden guitar']\n",
      "['car', 'dense forest', 'snowy mountain peak']\n",
      "['car', 'dense forest', 'faraway mysterious planet']\n",
      "['car', 'dense forest', 'vast deep ocean']\n",
      "['car', 'dense forest', 'massive african elephant']\n",
      "['car', 'tall mountain', 'thick green forest']\n",
      "['car', 'tall mountain', 'majestic medieval castle']\n",
      "['car', 'tall mountain', 'fast flowing river']\n",
      "['car', 'tall mountain', 'sleek sport car']\n",
      "['car', 'tall mountain', 'bright red apple']\n",
      "['car', 'tall mountain', 'brown wooden guitar']\n",
      "['car', 'tall mountain', 'snowy mountain peak']\n",
      "['car', 'tall mountain', 'faraway mysterious planet']\n",
      "['car', 'tall mountain', 'vast deep ocean']\n",
      "['car', 'tall mountain', 'massive african elephant']\n",
      "['car', 'ancient castle', 'thick green forest']\n",
      "['car', 'ancient castle', 'majestic medieval castle']\n",
      "['car', 'ancient castle', 'fast flowing river']\n",
      "['car', 'ancient castle', 'sleek sport car']\n",
      "['car', 'ancient castle', 'bright red apple']\n",
      "['car', 'ancient castle', 'brown wooden guitar']\n",
      "['car', 'ancient castle', 'snowy mountain peak']\n",
      "['car', 'ancient castle', 'faraway mysterious planet']\n",
      "['car', 'ancient castle', 'vast deep ocean']\n",
      "['car', 'ancient castle', 'massive african elephant']\n",
      "['car', 'flowing river', 'thick green forest']\n",
      "['car', 'flowing river', 'majestic medieval castle']\n",
      "['car', 'flowing river', 'fast flowing river']\n",
      "['car', 'flowing river', 'sleek sport car']\n",
      "['car', 'flowing river', 'bright red apple']\n",
      "['car', 'flowing river', 'brown wooden guitar']\n",
      "['car', 'flowing river', 'snowy mountain peak']\n",
      "['car', 'flowing river', 'faraway mysterious planet']\n",
      "['car', 'flowing river', 'vast deep ocean']\n",
      "['car', 'flowing river', 'massive african elephant']\n",
      "['car', 'fast car', 'thick green forest']\n",
      "['car', 'fast car', 'majestic medieval castle']\n",
      "['car', 'fast car', 'fast flowing river']\n",
      "['car', 'fast car', 'sleek sport car']\n",
      "['car', 'fast car', 'bright red apple']\n",
      "['car', 'fast car', 'brown wooden guitar']\n",
      "['car', 'fast car', 'snowy mountain peak']\n",
      "['car', 'fast car', 'faraway mysterious planet']\n",
      "['car', 'fast car', 'vast deep ocean']\n",
      "['car', 'fast car', 'massive african elephant']\n",
      "['car', 'red apple', 'thick green forest']\n",
      "['car', 'red apple', 'majestic medieval castle']\n",
      "['car', 'red apple', 'fast flowing river']\n",
      "['car', 'red apple', 'sleek sport car']\n",
      "['car', 'red apple', 'bright red apple']\n",
      "['car', 'red apple', 'brown wooden guitar']\n",
      "['car', 'red apple', 'snowy mountain peak']\n",
      "['car', 'red apple', 'faraway mysterious planet']\n",
      "['car', 'red apple', 'vast deep ocean']\n",
      "['car', 'red apple', 'massive african elephant']\n",
      "['car', 'wooden guitar', 'thick green forest']\n",
      "['car', 'wooden guitar', 'majestic medieval castle']\n",
      "['car', 'wooden guitar', 'fast flowing river']\n",
      "['car', 'wooden guitar', 'sleek sport car']\n",
      "['car', 'wooden guitar', 'bright red apple']\n",
      "['car', 'wooden guitar', 'brown wooden guitar']\n",
      "['car', 'wooden guitar', 'snowy mountain peak']\n",
      "['car', 'wooden guitar', 'faraway mysterious planet']\n",
      "['car', 'wooden guitar', 'vast deep ocean']\n",
      "['car', 'wooden guitar', 'massive african elephant']\n",
      "['car', 'distant planet', 'thick green forest']\n",
      "['car', 'distant planet', 'majestic medieval castle']\n",
      "['car', 'distant planet', 'fast flowing river']\n",
      "['car', 'distant planet', 'sleek sport car']\n",
      "['car', 'distant planet', 'bright red apple']\n",
      "['car', 'distant planet', 'brown wooden guitar']\n",
      "['car', 'distant planet', 'snowy mountain peak']\n",
      "['car', 'distant planet', 'faraway mysterious planet']\n",
      "['car', 'distant planet', 'vast deep ocean']\n",
      "['car', 'distant planet', 'massive african elephant']\n",
      "['car', 'deep ocean', 'thick green forest']\n",
      "['car', 'deep ocean', 'majestic medieval castle']\n",
      "['car', 'deep ocean', 'fast flowing river']\n",
      "['car', 'deep ocean', 'sleek sport car']\n",
      "['car', 'deep ocean', 'bright red apple']\n",
      "['car', 'deep ocean', 'brown wooden guitar']\n",
      "['car', 'deep ocean', 'snowy mountain peak']\n",
      "['car', 'deep ocean', 'faraway mysterious planet']\n",
      "['car', 'deep ocean', 'vast deep ocean']\n",
      "['car', 'deep ocean', 'massive african elephant']\n",
      "['car', 'giant elephant', 'thick green forest']\n",
      "['car', 'giant elephant', 'majestic medieval castle']\n",
      "['car', 'giant elephant', 'fast flowing river']\n",
      "['car', 'giant elephant', 'sleek sport car']\n",
      "['car', 'giant elephant', 'bright red apple']\n",
      "['car', 'giant elephant', 'brown wooden guitar']\n",
      "['car', 'giant elephant', 'snowy mountain peak']\n",
      "['car', 'giant elephant', 'faraway mysterious planet']\n",
      "['car', 'giant elephant', 'vast deep ocean']\n",
      "['car', 'giant elephant', 'massive african elephant']\n",
      "['apple', 'dense forest', 'thick green forest']\n",
      "['apple', 'dense forest', 'majestic medieval castle']\n",
      "['apple', 'dense forest', 'fast flowing river']\n",
      "['apple', 'dense forest', 'sleek sport car']\n",
      "['apple', 'dense forest', 'bright red apple']\n",
      "['apple', 'dense forest', 'brown wooden guitar']\n",
      "['apple', 'dense forest', 'snowy mountain peak']\n",
      "['apple', 'dense forest', 'faraway mysterious planet']\n",
      "['apple', 'dense forest', 'vast deep ocean']\n",
      "['apple', 'dense forest', 'massive african elephant']\n",
      "['apple', 'tall mountain', 'thick green forest']\n",
      "['apple', 'tall mountain', 'majestic medieval castle']\n",
      "['apple', 'tall mountain', 'fast flowing river']\n",
      "['apple', 'tall mountain', 'sleek sport car']\n",
      "['apple', 'tall mountain', 'bright red apple']\n",
      "['apple', 'tall mountain', 'brown wooden guitar']\n",
      "['apple', 'tall mountain', 'snowy mountain peak']\n",
      "['apple', 'tall mountain', 'faraway mysterious planet']\n",
      "['apple', 'tall mountain', 'vast deep ocean']\n",
      "['apple', 'tall mountain', 'massive african elephant']\n",
      "['apple', 'ancient castle', 'thick green forest']\n",
      "['apple', 'ancient castle', 'majestic medieval castle']\n",
      "['apple', 'ancient castle', 'fast flowing river']\n",
      "['apple', 'ancient castle', 'sleek sport car']\n",
      "['apple', 'ancient castle', 'bright red apple']\n",
      "['apple', 'ancient castle', 'brown wooden guitar']\n",
      "['apple', 'ancient castle', 'snowy mountain peak']\n",
      "['apple', 'ancient castle', 'faraway mysterious planet']\n",
      "['apple', 'ancient castle', 'vast deep ocean']\n",
      "['apple', 'ancient castle', 'massive african elephant']\n",
      "['apple', 'flowing river', 'thick green forest']\n",
      "['apple', 'flowing river', 'majestic medieval castle']\n",
      "['apple', 'flowing river', 'fast flowing river']\n",
      "['apple', 'flowing river', 'sleek sport car']\n",
      "['apple', 'flowing river', 'bright red apple']\n",
      "['apple', 'flowing river', 'brown wooden guitar']\n",
      "['apple', 'flowing river', 'snowy mountain peak']\n",
      "['apple', 'flowing river', 'faraway mysterious planet']\n",
      "['apple', 'flowing river', 'vast deep ocean']\n",
      "['apple', 'flowing river', 'massive african elephant']\n",
      "['apple', 'fast car', 'thick green forest']\n",
      "['apple', 'fast car', 'majestic medieval castle']\n",
      "['apple', 'fast car', 'fast flowing river']\n",
      "['apple', 'fast car', 'sleek sport car']\n",
      "['apple', 'fast car', 'bright red apple']\n",
      "['apple', 'fast car', 'brown wooden guitar']\n",
      "['apple', 'fast car', 'snowy mountain peak']\n",
      "['apple', 'fast car', 'faraway mysterious planet']\n",
      "['apple', 'fast car', 'vast deep ocean']\n",
      "['apple', 'fast car', 'massive african elephant']\n",
      "['apple', 'red apple', 'thick green forest']\n",
      "['apple', 'red apple', 'majestic medieval castle']\n",
      "['apple', 'red apple', 'fast flowing river']\n",
      "['apple', 'red apple', 'sleek sport car']\n",
      "['apple', 'red apple', 'bright red apple']\n",
      "['apple', 'red apple', 'brown wooden guitar']\n",
      "['apple', 'red apple', 'snowy mountain peak']\n",
      "['apple', 'red apple', 'faraway mysterious planet']\n",
      "['apple', 'red apple', 'vast deep ocean']\n",
      "['apple', 'red apple', 'massive african elephant']\n",
      "['apple', 'wooden guitar', 'thick green forest']\n",
      "['apple', 'wooden guitar', 'majestic medieval castle']\n",
      "['apple', 'wooden guitar', 'fast flowing river']\n",
      "['apple', 'wooden guitar', 'sleek sport car']\n",
      "['apple', 'wooden guitar', 'bright red apple']\n",
      "['apple', 'wooden guitar', 'brown wooden guitar']\n",
      "['apple', 'wooden guitar', 'snowy mountain peak']\n",
      "['apple', 'wooden guitar', 'faraway mysterious planet']\n",
      "['apple', 'wooden guitar', 'vast deep ocean']\n",
      "['apple', 'wooden guitar', 'massive african elephant']\n",
      "['apple', 'distant planet', 'thick green forest']\n",
      "['apple', 'distant planet', 'majestic medieval castle']\n",
      "['apple', 'distant planet', 'fast flowing river']\n",
      "['apple', 'distant planet', 'sleek sport car']\n",
      "['apple', 'distant planet', 'bright red apple']\n",
      "['apple', 'distant planet', 'brown wooden guitar']\n",
      "['apple', 'distant planet', 'snowy mountain peak']\n",
      "['apple', 'distant planet', 'faraway mysterious planet']\n",
      "['apple', 'distant planet', 'vast deep ocean']\n",
      "['apple', 'distant planet', 'massive african elephant']\n",
      "['apple', 'deep ocean', 'thick green forest']\n",
      "['apple', 'deep ocean', 'majestic medieval castle']\n",
      "['apple', 'deep ocean', 'fast flowing river']\n",
      "['apple', 'deep ocean', 'sleek sport car']\n",
      "['apple', 'deep ocean', 'bright red apple']\n",
      "['apple', 'deep ocean', 'brown wooden guitar']\n",
      "['apple', 'deep ocean', 'snowy mountain peak']\n",
      "['apple', 'deep ocean', 'faraway mysterious planet']\n",
      "['apple', 'deep ocean', 'vast deep ocean']\n",
      "['apple', 'deep ocean', 'massive african elephant']\n",
      "['apple', 'giant elephant', 'thick green forest']\n",
      "['apple', 'giant elephant', 'majestic medieval castle']\n",
      "['apple', 'giant elephant', 'fast flowing river']\n",
      "['apple', 'giant elephant', 'sleek sport car']\n",
      "['apple', 'giant elephant', 'bright red apple']\n",
      "['apple', 'giant elephant', 'brown wooden guitar']\n",
      "['apple', 'giant elephant', 'snowy mountain peak']\n",
      "['apple', 'giant elephant', 'faraway mysterious planet']\n",
      "['apple', 'giant elephant', 'vast deep ocean']\n",
      "['apple', 'giant elephant', 'massive african elephant']\n",
      "['guitar', 'dense forest', 'thick green forest']\n",
      "['guitar', 'dense forest', 'majestic medieval castle']\n",
      "['guitar', 'dense forest', 'fast flowing river']\n",
      "['guitar', 'dense forest', 'sleek sport car']\n",
      "['guitar', 'dense forest', 'bright red apple']\n",
      "['guitar', 'dense forest', 'brown wooden guitar']\n",
      "['guitar', 'dense forest', 'snowy mountain peak']\n",
      "['guitar', 'dense forest', 'faraway mysterious planet']\n",
      "['guitar', 'dense forest', 'vast deep ocean']\n",
      "['guitar', 'dense forest', 'massive african elephant']\n",
      "['guitar', 'tall mountain', 'thick green forest']\n",
      "['guitar', 'tall mountain', 'majestic medieval castle']\n",
      "['guitar', 'tall mountain', 'fast flowing river']\n",
      "['guitar', 'tall mountain', 'sleek sport car']\n",
      "['guitar', 'tall mountain', 'bright red apple']\n",
      "['guitar', 'tall mountain', 'brown wooden guitar']\n",
      "['guitar', 'tall mountain', 'snowy mountain peak']\n",
      "['guitar', 'tall mountain', 'faraway mysterious planet']\n",
      "['guitar', 'tall mountain', 'vast deep ocean']\n",
      "['guitar', 'tall mountain', 'massive african elephant']\n",
      "['guitar', 'ancient castle', 'thick green forest']\n",
      "['guitar', 'ancient castle', 'majestic medieval castle']\n",
      "['guitar', 'ancient castle', 'fast flowing river']\n",
      "['guitar', 'ancient castle', 'sleek sport car']\n",
      "['guitar', 'ancient castle', 'bright red apple']\n",
      "['guitar', 'ancient castle', 'brown wooden guitar']\n",
      "['guitar', 'ancient castle', 'snowy mountain peak']\n",
      "['guitar', 'ancient castle', 'faraway mysterious planet']\n",
      "['guitar', 'ancient castle', 'vast deep ocean']\n",
      "['guitar', 'ancient castle', 'massive african elephant']\n",
      "['guitar', 'flowing river', 'thick green forest']\n",
      "['guitar', 'flowing river', 'majestic medieval castle']\n",
      "['guitar', 'flowing river', 'fast flowing river']\n",
      "['guitar', 'flowing river', 'sleek sport car']\n",
      "['guitar', 'flowing river', 'bright red apple']\n",
      "['guitar', 'flowing river', 'brown wooden guitar']\n",
      "['guitar', 'flowing river', 'snowy mountain peak']\n",
      "['guitar', 'flowing river', 'faraway mysterious planet']\n",
      "['guitar', 'flowing river', 'vast deep ocean']\n",
      "['guitar', 'flowing river', 'massive african elephant']\n",
      "['guitar', 'fast car', 'thick green forest']\n",
      "['guitar', 'fast car', 'majestic medieval castle']\n",
      "['guitar', 'fast car', 'fast flowing river']\n",
      "['guitar', 'fast car', 'sleek sport car']\n",
      "['guitar', 'fast car', 'bright red apple']\n",
      "['guitar', 'fast car', 'brown wooden guitar']\n",
      "['guitar', 'fast car', 'snowy mountain peak']\n",
      "['guitar', 'fast car', 'faraway mysterious planet']\n",
      "['guitar', 'fast car', 'vast deep ocean']\n",
      "['guitar', 'fast car', 'massive african elephant']\n",
      "['guitar', 'red apple', 'thick green forest']\n",
      "['guitar', 'red apple', 'majestic medieval castle']\n",
      "['guitar', 'red apple', 'fast flowing river']\n",
      "['guitar', 'red apple', 'sleek sport car']\n",
      "['guitar', 'red apple', 'bright red apple']\n",
      "['guitar', 'red apple', 'brown wooden guitar']\n",
      "['guitar', 'red apple', 'snowy mountain peak']\n",
      "['guitar', 'red apple', 'faraway mysterious planet']\n",
      "['guitar', 'red apple', 'vast deep ocean']\n",
      "['guitar', 'red apple', 'massive african elephant']\n",
      "['guitar', 'wooden guitar', 'thick green forest']\n",
      "['guitar', 'wooden guitar', 'majestic medieval castle']\n",
      "['guitar', 'wooden guitar', 'fast flowing river']\n",
      "['guitar', 'wooden guitar', 'sleek sport car']\n",
      "['guitar', 'wooden guitar', 'bright red apple']\n",
      "['guitar', 'wooden guitar', 'brown wooden guitar']\n",
      "['guitar', 'wooden guitar', 'snowy mountain peak']\n",
      "['guitar', 'wooden guitar', 'faraway mysterious planet']\n",
      "['guitar', 'wooden guitar', 'vast deep ocean']\n",
      "['guitar', 'wooden guitar', 'massive african elephant']\n",
      "['guitar', 'distant planet', 'thick green forest']\n",
      "['guitar', 'distant planet', 'majestic medieval castle']\n",
      "['guitar', 'distant planet', 'fast flowing river']\n",
      "['guitar', 'distant planet', 'sleek sport car']\n",
      "['guitar', 'distant planet', 'bright red apple']\n",
      "['guitar', 'distant planet', 'brown wooden guitar']\n",
      "['guitar', 'distant planet', 'snowy mountain peak']\n",
      "['guitar', 'distant planet', 'faraway mysterious planet']\n",
      "['guitar', 'distant planet', 'vast deep ocean']\n",
      "['guitar', 'distant planet', 'massive african elephant']\n",
      "['guitar', 'deep ocean', 'thick green forest']\n",
      "['guitar', 'deep ocean', 'majestic medieval castle']\n",
      "['guitar', 'deep ocean', 'fast flowing river']\n",
      "['guitar', 'deep ocean', 'sleek sport car']\n",
      "['guitar', 'deep ocean', 'bright red apple']\n",
      "['guitar', 'deep ocean', 'brown wooden guitar']\n",
      "['guitar', 'deep ocean', 'snowy mountain peak']\n",
      "['guitar', 'deep ocean', 'faraway mysterious planet']\n",
      "['guitar', 'deep ocean', 'vast deep ocean']\n",
      "['guitar', 'deep ocean', 'massive african elephant']\n",
      "['guitar', 'giant elephant', 'thick green forest']\n",
      "['guitar', 'giant elephant', 'majestic medieval castle']\n",
      "['guitar', 'giant elephant', 'fast flowing river']\n",
      "['guitar', 'giant elephant', 'sleek sport car']\n",
      "['guitar', 'giant elephant', 'bright red apple']\n",
      "['guitar', 'giant elephant', 'brown wooden guitar']\n",
      "['guitar', 'giant elephant', 'snowy mountain peak']\n",
      "['guitar', 'giant elephant', 'faraway mysterious planet']\n",
      "['guitar', 'giant elephant', 'vast deep ocean']\n",
      "['guitar', 'giant elephant', 'massive african elephant']\n",
      "['planet', 'dense forest', 'thick green forest']\n",
      "['planet', 'dense forest', 'majestic medieval castle']\n",
      "['planet', 'dense forest', 'fast flowing river']\n",
      "['planet', 'dense forest', 'sleek sport car']\n",
      "['planet', 'dense forest', 'bright red apple']\n",
      "['planet', 'dense forest', 'brown wooden guitar']\n",
      "['planet', 'dense forest', 'snowy mountain peak']\n",
      "['planet', 'dense forest', 'faraway mysterious planet']\n",
      "['planet', 'dense forest', 'vast deep ocean']\n",
      "['planet', 'dense forest', 'massive african elephant']\n",
      "['planet', 'tall mountain', 'thick green forest']\n",
      "['planet', 'tall mountain', 'majestic medieval castle']\n",
      "['planet', 'tall mountain', 'fast flowing river']\n",
      "['planet', 'tall mountain', 'sleek sport car']\n",
      "['planet', 'tall mountain', 'bright red apple']\n",
      "['planet', 'tall mountain', 'brown wooden guitar']\n",
      "['planet', 'tall mountain', 'snowy mountain peak']\n",
      "['planet', 'tall mountain', 'faraway mysterious planet']\n",
      "['planet', 'tall mountain', 'vast deep ocean']\n",
      "['planet', 'tall mountain', 'massive african elephant']\n",
      "['planet', 'ancient castle', 'thick green forest']\n",
      "['planet', 'ancient castle', 'majestic medieval castle']\n",
      "['planet', 'ancient castle', 'fast flowing river']\n",
      "['planet', 'ancient castle', 'sleek sport car']\n",
      "['planet', 'ancient castle', 'bright red apple']\n",
      "['planet', 'ancient castle', 'brown wooden guitar']\n",
      "['planet', 'ancient castle', 'snowy mountain peak']\n",
      "['planet', 'ancient castle', 'faraway mysterious planet']\n",
      "['planet', 'ancient castle', 'vast deep ocean']\n",
      "['planet', 'ancient castle', 'massive african elephant']\n",
      "['planet', 'flowing river', 'thick green forest']\n",
      "['planet', 'flowing river', 'majestic medieval castle']\n",
      "['planet', 'flowing river', 'fast flowing river']\n",
      "['planet', 'flowing river', 'sleek sport car']\n",
      "['planet', 'flowing river', 'bright red apple']\n",
      "['planet', 'flowing river', 'brown wooden guitar']\n",
      "['planet', 'flowing river', 'snowy mountain peak']\n",
      "['planet', 'flowing river', 'faraway mysterious planet']\n",
      "['planet', 'flowing river', 'vast deep ocean']\n",
      "['planet', 'flowing river', 'massive african elephant']\n",
      "['planet', 'fast car', 'thick green forest']\n",
      "['planet', 'fast car', 'majestic medieval castle']\n",
      "['planet', 'fast car', 'fast flowing river']\n",
      "['planet', 'fast car', 'sleek sport car']\n",
      "['planet', 'fast car', 'bright red apple']\n",
      "['planet', 'fast car', 'brown wooden guitar']\n",
      "['planet', 'fast car', 'snowy mountain peak']\n",
      "['planet', 'fast car', 'faraway mysterious planet']\n",
      "['planet', 'fast car', 'vast deep ocean']\n",
      "['planet', 'fast car', 'massive african elephant']\n",
      "['planet', 'red apple', 'thick green forest']\n",
      "['planet', 'red apple', 'majestic medieval castle']\n",
      "['planet', 'red apple', 'fast flowing river']\n",
      "['planet', 'red apple', 'sleek sport car']\n",
      "['planet', 'red apple', 'bright red apple']\n",
      "['planet', 'red apple', 'brown wooden guitar']\n",
      "['planet', 'red apple', 'snowy mountain peak']\n",
      "['planet', 'red apple', 'faraway mysterious planet']\n",
      "['planet', 'red apple', 'vast deep ocean']\n",
      "['planet', 'red apple', 'massive african elephant']\n",
      "['planet', 'wooden guitar', 'thick green forest']\n",
      "['planet', 'wooden guitar', 'majestic medieval castle']\n",
      "['planet', 'wooden guitar', 'fast flowing river']\n",
      "['planet', 'wooden guitar', 'sleek sport car']\n",
      "['planet', 'wooden guitar', 'bright red apple']\n",
      "['planet', 'wooden guitar', 'brown wooden guitar']\n",
      "['planet', 'wooden guitar', 'snowy mountain peak']\n",
      "['planet', 'wooden guitar', 'faraway mysterious planet']\n",
      "['planet', 'wooden guitar', 'vast deep ocean']\n",
      "['planet', 'wooden guitar', 'massive african elephant']\n",
      "['planet', 'distant planet', 'thick green forest']\n",
      "['planet', 'distant planet', 'majestic medieval castle']\n",
      "['planet', 'distant planet', 'fast flowing river']\n",
      "['planet', 'distant planet', 'sleek sport car']\n",
      "['planet', 'distant planet', 'bright red apple']\n",
      "['planet', 'distant planet', 'brown wooden guitar']\n",
      "['planet', 'distant planet', 'snowy mountain peak']\n",
      "['planet', 'distant planet', 'faraway mysterious planet']\n",
      "['planet', 'distant planet', 'vast deep ocean']\n",
      "['planet', 'distant planet', 'massive african elephant']\n",
      "['planet', 'deep ocean', 'thick green forest']\n",
      "['planet', 'deep ocean', 'majestic medieval castle']\n",
      "['planet', 'deep ocean', 'fast flowing river']\n",
      "['planet', 'deep ocean', 'sleek sport car']\n",
      "['planet', 'deep ocean', 'bright red apple']\n",
      "['planet', 'deep ocean', 'brown wooden guitar']\n",
      "['planet', 'deep ocean', 'snowy mountain peak']\n",
      "['planet', 'deep ocean', 'faraway mysterious planet']\n",
      "['planet', 'deep ocean', 'vast deep ocean']\n",
      "['planet', 'deep ocean', 'massive african elephant']\n",
      "['planet', 'giant elephant', 'thick green forest']\n",
      "['planet', 'giant elephant', 'majestic medieval castle']\n",
      "['planet', 'giant elephant', 'fast flowing river']\n",
      "['planet', 'giant elephant', 'sleek sport car']\n",
      "['planet', 'giant elephant', 'bright red apple']\n",
      "['planet', 'giant elephant', 'brown wooden guitar']\n",
      "['planet', 'giant elephant', 'snowy mountain peak']\n",
      "['planet', 'giant elephant', 'faraway mysterious planet']\n",
      "['planet', 'giant elephant', 'vast deep ocean']\n",
      "['planet', 'giant elephant', 'massive african elephant']\n",
      "['ocean', 'dense forest', 'thick green forest']\n",
      "['ocean', 'dense forest', 'majestic medieval castle']\n",
      "['ocean', 'dense forest', 'fast flowing river']\n",
      "['ocean', 'dense forest', 'sleek sport car']\n",
      "['ocean', 'dense forest', 'bright red apple']\n",
      "['ocean', 'dense forest', 'brown wooden guitar']\n",
      "['ocean', 'dense forest', 'snowy mountain peak']\n",
      "['ocean', 'dense forest', 'faraway mysterious planet']\n",
      "['ocean', 'dense forest', 'vast deep ocean']\n",
      "['ocean', 'dense forest', 'massive african elephant']\n",
      "['ocean', 'tall mountain', 'thick green forest']\n",
      "['ocean', 'tall mountain', 'majestic medieval castle']\n",
      "['ocean', 'tall mountain', 'fast flowing river']\n",
      "['ocean', 'tall mountain', 'sleek sport car']\n",
      "['ocean', 'tall mountain', 'bright red apple']\n",
      "['ocean', 'tall mountain', 'brown wooden guitar']\n",
      "['ocean', 'tall mountain', 'snowy mountain peak']\n",
      "['ocean', 'tall mountain', 'faraway mysterious planet']\n",
      "['ocean', 'tall mountain', 'vast deep ocean']\n",
      "['ocean', 'tall mountain', 'massive african elephant']\n",
      "['ocean', 'ancient castle', 'thick green forest']\n",
      "['ocean', 'ancient castle', 'majestic medieval castle']\n",
      "['ocean', 'ancient castle', 'fast flowing river']\n",
      "['ocean', 'ancient castle', 'sleek sport car']\n",
      "['ocean', 'ancient castle', 'bright red apple']\n",
      "['ocean', 'ancient castle', 'brown wooden guitar']\n",
      "['ocean', 'ancient castle', 'snowy mountain peak']\n",
      "['ocean', 'ancient castle', 'faraway mysterious planet']\n",
      "['ocean', 'ancient castle', 'vast deep ocean']\n",
      "['ocean', 'ancient castle', 'massive african elephant']\n",
      "['ocean', 'flowing river', 'thick green forest']\n",
      "['ocean', 'flowing river', 'majestic medieval castle']\n",
      "['ocean', 'flowing river', 'fast flowing river']\n",
      "['ocean', 'flowing river', 'sleek sport car']\n",
      "['ocean', 'flowing river', 'bright red apple']\n",
      "['ocean', 'flowing river', 'brown wooden guitar']\n",
      "['ocean', 'flowing river', 'snowy mountain peak']\n",
      "['ocean', 'flowing river', 'faraway mysterious planet']\n",
      "['ocean', 'flowing river', 'vast deep ocean']\n",
      "['ocean', 'flowing river', 'massive african elephant']\n",
      "['ocean', 'fast car', 'thick green forest']\n",
      "['ocean', 'fast car', 'majestic medieval castle']\n",
      "['ocean', 'fast car', 'fast flowing river']\n",
      "['ocean', 'fast car', 'sleek sport car']\n",
      "['ocean', 'fast car', 'bright red apple']\n",
      "['ocean', 'fast car', 'brown wooden guitar']\n",
      "['ocean', 'fast car', 'snowy mountain peak']\n",
      "['ocean', 'fast car', 'faraway mysterious planet']\n",
      "['ocean', 'fast car', 'vast deep ocean']\n",
      "['ocean', 'fast car', 'massive african elephant']\n",
      "['ocean', 'red apple', 'thick green forest']\n",
      "['ocean', 'red apple', 'majestic medieval castle']\n",
      "['ocean', 'red apple', 'fast flowing river']\n",
      "['ocean', 'red apple', 'sleek sport car']\n",
      "['ocean', 'red apple', 'bright red apple']\n",
      "['ocean', 'red apple', 'brown wooden guitar']\n",
      "['ocean', 'red apple', 'snowy mountain peak']\n",
      "['ocean', 'red apple', 'faraway mysterious planet']\n",
      "['ocean', 'red apple', 'vast deep ocean']\n",
      "['ocean', 'red apple', 'massive african elephant']\n",
      "['ocean', 'wooden guitar', 'thick green forest']\n",
      "['ocean', 'wooden guitar', 'majestic medieval castle']\n",
      "['ocean', 'wooden guitar', 'fast flowing river']\n",
      "['ocean', 'wooden guitar', 'sleek sport car']\n",
      "['ocean', 'wooden guitar', 'bright red apple']\n",
      "['ocean', 'wooden guitar', 'brown wooden guitar']\n",
      "['ocean', 'wooden guitar', 'snowy mountain peak']\n",
      "['ocean', 'wooden guitar', 'faraway mysterious planet']\n",
      "['ocean', 'wooden guitar', 'vast deep ocean']\n",
      "['ocean', 'wooden guitar', 'massive african elephant']\n",
      "['ocean', 'distant planet', 'thick green forest']\n",
      "['ocean', 'distant planet', 'majestic medieval castle']\n",
      "['ocean', 'distant planet', 'fast flowing river']\n",
      "['ocean', 'distant planet', 'sleek sport car']\n",
      "['ocean', 'distant planet', 'bright red apple']\n",
      "['ocean', 'distant planet', 'brown wooden guitar']\n",
      "['ocean', 'distant planet', 'snowy mountain peak']\n",
      "['ocean', 'distant planet', 'faraway mysterious planet']\n",
      "['ocean', 'distant planet', 'vast deep ocean']\n",
      "['ocean', 'distant planet', 'massive african elephant']\n",
      "['ocean', 'deep ocean', 'thick green forest']\n",
      "['ocean', 'deep ocean', 'majestic medieval castle']\n",
      "['ocean', 'deep ocean', 'fast flowing river']\n",
      "['ocean', 'deep ocean', 'sleek sport car']\n",
      "['ocean', 'deep ocean', 'bright red apple']\n",
      "['ocean', 'deep ocean', 'brown wooden guitar']\n",
      "['ocean', 'deep ocean', 'snowy mountain peak']\n",
      "['ocean', 'deep ocean', 'faraway mysterious planet']\n",
      "['ocean', 'deep ocean', 'vast deep ocean']\n",
      "['ocean', 'deep ocean', 'massive african elephant']\n",
      "['ocean', 'giant elephant', 'thick green forest']\n",
      "['ocean', 'giant elephant', 'majestic medieval castle']\n",
      "['ocean', 'giant elephant', 'fast flowing river']\n",
      "['ocean', 'giant elephant', 'sleek sport car']\n",
      "['ocean', 'giant elephant', 'bright red apple']\n",
      "['ocean', 'giant elephant', 'brown wooden guitar']\n",
      "['ocean', 'giant elephant', 'snowy mountain peak']\n",
      "['ocean', 'giant elephant', 'faraway mysterious planet']\n",
      "['ocean', 'giant elephant', 'vast deep ocean']\n",
      "['ocean', 'giant elephant', 'massive african elephant']\n",
      "['elephant', 'dense forest', 'thick green forest']\n",
      "['elephant', 'dense forest', 'majestic medieval castle']\n",
      "['elephant', 'dense forest', 'fast flowing river']\n",
      "['elephant', 'dense forest', 'sleek sport car']\n",
      "['elephant', 'dense forest', 'bright red apple']\n",
      "['elephant', 'dense forest', 'brown wooden guitar']\n",
      "['elephant', 'dense forest', 'snowy mountain peak']\n",
      "['elephant', 'dense forest', 'faraway mysterious planet']\n",
      "['elephant', 'dense forest', 'vast deep ocean']\n",
      "['elephant', 'dense forest', 'massive african elephant']\n",
      "['elephant', 'tall mountain', 'thick green forest']\n",
      "['elephant', 'tall mountain', 'majestic medieval castle']\n",
      "['elephant', 'tall mountain', 'fast flowing river']\n",
      "['elephant', 'tall mountain', 'sleek sport car']\n",
      "['elephant', 'tall mountain', 'bright red apple']\n",
      "['elephant', 'tall mountain', 'brown wooden guitar']\n",
      "['elephant', 'tall mountain', 'snowy mountain peak']\n",
      "['elephant', 'tall mountain', 'faraway mysterious planet']\n",
      "['elephant', 'tall mountain', 'vast deep ocean']\n",
      "['elephant', 'tall mountain', 'massive african elephant']\n",
      "['elephant', 'ancient castle', 'thick green forest']\n",
      "['elephant', 'ancient castle', 'majestic medieval castle']\n",
      "['elephant', 'ancient castle', 'fast flowing river']\n",
      "['elephant', 'ancient castle', 'sleek sport car']\n",
      "['elephant', 'ancient castle', 'bright red apple']\n",
      "['elephant', 'ancient castle', 'brown wooden guitar']\n",
      "['elephant', 'ancient castle', 'snowy mountain peak']\n",
      "['elephant', 'ancient castle', 'faraway mysterious planet']\n",
      "['elephant', 'ancient castle', 'vast deep ocean']\n",
      "['elephant', 'ancient castle', 'massive african elephant']\n",
      "['elephant', 'flowing river', 'thick green forest']\n",
      "['elephant', 'flowing river', 'majestic medieval castle']\n",
      "['elephant', 'flowing river', 'fast flowing river']\n",
      "['elephant', 'flowing river', 'sleek sport car']\n",
      "['elephant', 'flowing river', 'bright red apple']\n",
      "['elephant', 'flowing river', 'brown wooden guitar']\n",
      "['elephant', 'flowing river', 'snowy mountain peak']\n",
      "['elephant', 'flowing river', 'faraway mysterious planet']\n",
      "['elephant', 'flowing river', 'vast deep ocean']\n",
      "['elephant', 'flowing river', 'massive african elephant']\n",
      "['elephant', 'fast car', 'thick green forest']\n",
      "['elephant', 'fast car', 'majestic medieval castle']\n",
      "['elephant', 'fast car', 'fast flowing river']\n",
      "['elephant', 'fast car', 'sleek sport car']\n",
      "['elephant', 'fast car', 'bright red apple']\n",
      "['elephant', 'fast car', 'brown wooden guitar']\n",
      "['elephant', 'fast car', 'snowy mountain peak']\n",
      "['elephant', 'fast car', 'faraway mysterious planet']\n",
      "['elephant', 'fast car', 'vast deep ocean']\n",
      "['elephant', 'fast car', 'massive african elephant']\n",
      "['elephant', 'red apple', 'thick green forest']\n",
      "['elephant', 'red apple', 'majestic medieval castle']\n",
      "['elephant', 'red apple', 'fast flowing river']\n",
      "['elephant', 'red apple', 'sleek sport car']\n",
      "['elephant', 'red apple', 'bright red apple']\n",
      "['elephant', 'red apple', 'brown wooden guitar']\n",
      "['elephant', 'red apple', 'snowy mountain peak']\n",
      "['elephant', 'red apple', 'faraway mysterious planet']\n",
      "['elephant', 'red apple', 'vast deep ocean']\n",
      "['elephant', 'red apple', 'massive african elephant']\n",
      "['elephant', 'wooden guitar', 'thick green forest']\n",
      "['elephant', 'wooden guitar', 'majestic medieval castle']\n",
      "['elephant', 'wooden guitar', 'fast flowing river']\n",
      "['elephant', 'wooden guitar', 'sleek sport car']\n",
      "['elephant', 'wooden guitar', 'bright red apple']\n",
      "['elephant', 'wooden guitar', 'brown wooden guitar']\n",
      "['elephant', 'wooden guitar', 'snowy mountain peak']\n",
      "['elephant', 'wooden guitar', 'faraway mysterious planet']\n",
      "['elephant', 'wooden guitar', 'vast deep ocean']\n",
      "['elephant', 'wooden guitar', 'massive african elephant']\n",
      "['elephant', 'distant planet', 'thick green forest']\n",
      "['elephant', 'distant planet', 'majestic medieval castle']\n",
      "['elephant', 'distant planet', 'fast flowing river']\n",
      "['elephant', 'distant planet', 'sleek sport car']\n",
      "['elephant', 'distant planet', 'bright red apple']\n",
      "['elephant', 'distant planet', 'brown wooden guitar']\n",
      "['elephant', 'distant planet', 'snowy mountain peak']\n",
      "['elephant', 'distant planet', 'faraway mysterious planet']\n",
      "['elephant', 'distant planet', 'vast deep ocean']\n",
      "['elephant', 'distant planet', 'massive african elephant']\n",
      "['elephant', 'deep ocean', 'thick green forest']\n",
      "['elephant', 'deep ocean', 'majestic medieval castle']\n",
      "['elephant', 'deep ocean', 'fast flowing river']\n",
      "['elephant', 'deep ocean', 'sleek sport car']\n",
      "['elephant', 'deep ocean', 'bright red apple']\n",
      "['elephant', 'deep ocean', 'brown wooden guitar']\n",
      "['elephant', 'deep ocean', 'snowy mountain peak']\n",
      "['elephant', 'deep ocean', 'faraway mysterious planet']\n",
      "['elephant', 'deep ocean', 'vast deep ocean']\n",
      "['elephant', 'deep ocean', 'massive african elephant']\n",
      "['elephant', 'giant elephant', 'thick green forest']\n",
      "['elephant', 'giant elephant', 'majestic medieval castle']\n",
      "['elephant', 'giant elephant', 'fast flowing river']\n",
      "['elephant', 'giant elephant', 'sleek sport car']\n",
      "['elephant', 'giant elephant', 'bright red apple']\n",
      "['elephant', 'giant elephant', 'brown wooden guitar']\n",
      "['elephant', 'giant elephant', 'snowy mountain peak']\n",
      "['elephant', 'giant elephant', 'faraway mysterious planet']\n",
      "['elephant', 'giant elephant', 'vast deep ocean']\n",
      "['elephant', 'giant elephant', 'massive african elephant']\n"
     ]
    }
   ],
   "source": [
    "from itertools import product\n",
    "\n",
    "for group in product(*grouped_vertices):\n",
    "    print(list(group[0]) + list(group[1]) + list(group[2]))"
   ]
  },
  {
   "cell_type": "code",
   "execution_count": 5,
   "metadata": {},
   "outputs": [],
   "source": [
    "from directed_graph.visualize_graph import visualize_graph_3d\n",
    "from directed_graph.visualize_graph import visualize_graph_ngrams"
   ]
  },
  {
   "cell_type": "code",
   "execution_count": 6,
   "metadata": {},
   "outputs": [
    {
     "data": {
      "application/vnd.plotly.v1+json": {
       "config": {
        "plotlyServerURL": "https://plot.ly"
       },
       "data": [
        {
         "line": {
          "color": "gray",
          "width": 2
         },
         "mode": "lines",
         "name": "Edges",
         "type": "scatter3d",
         "x": [
          -0.05203971266746521,
          -0.1114741712808609,
          null,
          -0.05203971266746521,
          -0.05203971266746521,
          null,
          -0.014227792620658875,
          -0.036338940262794495,
          null,
          -0.014227792620658875,
          0.06207411363720894,
          null,
          -0.1114741712808609,
          -0.1114741712808609,
          null,
          -0.1114741712808609,
          -0.036338940262794495,
          null,
          0.037272050976753235,
          -0.1114741712808609,
          null,
          0.037272050976753235,
          0.037272050976753235,
          null,
          0.03048853576183319,
          -0.1114741712808609,
          null,
          -0.036338940262794495,
          0.03048853576183319,
          null,
          -0.036338940262794495,
          -0.014227792620658875,
          null,
          -0.036338940262794495,
          0.06207411363720894,
          null,
          -0.036338940262794495,
          0.03048853576183319,
          null,
          -0.08069515228271484,
          -0.036772288382053375,
          null,
          -0.05203971266746521,
          0.037272050976753235,
          null,
          -0.05203971266746521,
          0.03048853576183319,
          null,
          -0.05203971266746521,
          -0.014227792620658875,
          null,
          -0.05203971266746521,
          -0.08069515228271484,
          null,
          -0.05203971266746521,
          -0.036338940262794495,
          null,
          -0.011485828086733818,
          -0.036772288382053375,
          null,
          -0.011485828086733818,
          -0.014227792620658875,
          null,
          -0.011485828086733818,
          0.03048853576183319,
          null,
          -0.036772288382053375,
          -0.036772288382053375,
          null,
          -0.036772288382053375,
          0.03048853576183319,
          null,
          -0.014227792620658875,
          0.06207411363720894,
          null,
          -0.014227792620658875,
          0.06207411363720894,
          null,
          -0.014227792620658875,
          -0.036772288382053375,
          null,
          -0.014227792620658875,
          -0.08069515228271484,
          null,
          -0.1114741712808609,
          -0.05203971266746521,
          null,
          -0.1114741712808609,
          -0.08069515228271484,
          null,
          -0.1114741712808609,
          -0.011485828086733818,
          null,
          0.037272050976753235,
          -0.014227792620658875,
          null,
          0.037272050976753235,
          -0.08069515228271484,
          null,
          0.037272050976753235,
          -0.05203971266746521,
          null,
          0.06207411363720894,
          -0.014227792620658875,
          null,
          0.06207411363720894,
          0.037272050976753235,
          null,
          0.06207411363720894,
          0.03048853576183319,
          null,
          0.03048853576183319,
          -0.036338940262794495,
          null,
          -0.036338940262794495,
          0.06207411363720894,
          null,
          -0.036338940262794495,
          -0.036772288382053375,
          null,
          -0.036338940262794495,
          -0.014227792620658875,
          null,
          -0.08069515228271484,
          -0.05203971266746521,
          null,
          -0.08069515228271484,
          -0.011485828086733818,
          null,
          -0.05203971266746521,
          -0.1114741712808609,
          null,
          -0.05203971266746521,
          0.037272050976753235,
          null,
          0.118242047727108,
          -0.014227792620658875,
          null,
          0.118242047727108,
          -0.05203971266746521,
          null,
          0.118242047727108,
          -0.014227792620658875,
          null,
          0.118242047727108,
          0.037272050976753235,
          null,
          0.118242047727108,
          0.06207411363720894,
          null,
          -0.036772288382053375,
          0.037272050976753235,
          null,
          -0.036772288382053375,
          -0.036338940262794495,
          null,
          -0.014227792620658875,
          -0.036338940262794495,
          null,
          -0.014227792620658875,
          -0.1114741712808609,
          null,
          -0.014227792620658875,
          -0.036772288382053375,
          null,
          -0.1114741712808609,
          -0.014227792620658875,
          null,
          -0.1114741712808609,
          0.037272050976753235,
          null,
          -0.1114741712808609,
          0.06207411363720894,
          null,
          -0.1114741712808609,
          0.03048853576183319,
          null,
          0.037272050976753235,
          -0.014227792620658875,
          null,
          0.037272050976753235,
          -0.08069515228271484,
          null,
          0.037272050976753235,
          -0.011485828086733818,
          null,
          0.037272050976753235,
          -0.1114741712808609,
          null,
          0.06207411363720894,
          -0.036772288382053375,
          null,
          0.03048853576183319,
          0.037272050976753235,
          null,
          0.03048853576183319,
          -0.036338940262794495,
          null,
          -0.036338940262794495,
          -0.036772288382053375,
          null,
          -0.036338940262794495,
          -0.1114741712808609,
          null,
          -0.036338940262794495,
          0.037272050976753235,
          null,
          -0.036338940262794495,
          0.037272050976753235,
          null,
          -0.036338940262794495,
          0.06207411363720894,
          null,
          -0.08069515228271484,
          0.037272050976753235,
          null,
          -0.08069515228271484,
          -0.08069515228271484,
          null,
          -0.08069515228271484,
          0.037272050976753235,
          null,
          -0.08069515228271484,
          -0.036338940262794495,
          null
         ],
         "y": [
          -0.18845660984516144,
          -0.08602813631296158,
          null,
          -0.18845660984516144,
          -0.18845660984516144,
          null,
          -0.25031036138534546,
          -0.10467127710580826,
          null,
          -0.25031036138534546,
          -0.08160383999347687,
          null,
          -0.08602813631296158,
          -0.08602813631296158,
          null,
          -0.08602813631296158,
          -0.10467127710580826,
          null,
          -0.05381302908062935,
          -0.08602813631296158,
          null,
          -0.05381302908062935,
          -0.05381302908062935,
          null,
          -0.15408095717430115,
          -0.08602813631296158,
          null,
          -0.10467127710580826,
          -0.15408095717430115,
          null,
          -0.10467127710580826,
          -0.25031036138534546,
          null,
          -0.10467127710580826,
          -0.08160383999347687,
          null,
          -0.10467127710580826,
          -0.15408095717430115,
          null,
          -0.04085889458656311,
          -0.040802113711833954,
          null,
          -0.18845660984516144,
          -0.05381302908062935,
          null,
          -0.18845660984516144,
          -0.15408095717430115,
          null,
          -0.18845660984516144,
          -0.25031036138534546,
          null,
          -0.18845660984516144,
          -0.04085889458656311,
          null,
          -0.18845660984516144,
          -0.10467127710580826,
          null,
          -0.05056517571210861,
          -0.040802113711833954,
          null,
          -0.05056517571210861,
          -0.25031036138534546,
          null,
          -0.05056517571210861,
          -0.15408095717430115,
          null,
          -0.040802113711833954,
          -0.040802113711833954,
          null,
          -0.040802113711833954,
          -0.15408095717430115,
          null,
          -0.25031036138534546,
          -0.08160383999347687,
          null,
          -0.25031036138534546,
          -0.08160383999347687,
          null,
          -0.25031036138534546,
          -0.040802113711833954,
          null,
          -0.25031036138534546,
          -0.04085889458656311,
          null,
          -0.08602813631296158,
          -0.18845660984516144,
          null,
          -0.08602813631296158,
          -0.04085889458656311,
          null,
          -0.08602813631296158,
          -0.05056517571210861,
          null,
          -0.05381302908062935,
          -0.25031036138534546,
          null,
          -0.05381302908062935,
          -0.04085889458656311,
          null,
          -0.05381302908062935,
          -0.18845660984516144,
          null,
          -0.08160383999347687,
          -0.25031036138534546,
          null,
          -0.08160383999347687,
          -0.05381302908062935,
          null,
          -0.08160383999347687,
          -0.15408095717430115,
          null,
          -0.15408095717430115,
          -0.10467127710580826,
          null,
          -0.10467127710580826,
          -0.08160383999347687,
          null,
          -0.10467127710580826,
          -0.040802113711833954,
          null,
          -0.10467127710580826,
          -0.25031036138534546,
          null,
          -0.04085889458656311,
          -0.18845660984516144,
          null,
          -0.04085889458656311,
          -0.05056517571210861,
          null,
          -0.18845660984516144,
          -0.08602813631296158,
          null,
          -0.18845660984516144,
          -0.05381302908062935,
          null,
          -0.08350902050733566,
          -0.25031036138534546,
          null,
          -0.08350902050733566,
          -0.18845660984516144,
          null,
          -0.08350902050733566,
          -0.25031036138534546,
          null,
          -0.08350902050733566,
          -0.05381302908062935,
          null,
          -0.08350902050733566,
          -0.08160383999347687,
          null,
          -0.040802113711833954,
          -0.05381302908062935,
          null,
          -0.040802113711833954,
          -0.10467127710580826,
          null,
          -0.25031036138534546,
          -0.10467127710580826,
          null,
          -0.25031036138534546,
          -0.08602813631296158,
          null,
          -0.25031036138534546,
          -0.040802113711833954,
          null,
          -0.08602813631296158,
          -0.25031036138534546,
          null,
          -0.08602813631296158,
          -0.05381302908062935,
          null,
          -0.08602813631296158,
          -0.08160383999347687,
          null,
          -0.08602813631296158,
          -0.15408095717430115,
          null,
          -0.05381302908062935,
          -0.25031036138534546,
          null,
          -0.05381302908062935,
          -0.04085889458656311,
          null,
          -0.05381302908062935,
          -0.05056517571210861,
          null,
          -0.05381302908062935,
          -0.08602813631296158,
          null,
          -0.08160383999347687,
          -0.040802113711833954,
          null,
          -0.15408095717430115,
          -0.05381302908062935,
          null,
          -0.15408095717430115,
          -0.10467127710580826,
          null,
          -0.10467127710580826,
          -0.040802113711833954,
          null,
          -0.10467127710580826,
          -0.08602813631296158,
          null,
          -0.10467127710580826,
          -0.05381302908062935,
          null,
          -0.10467127710580826,
          -0.05381302908062935,
          null,
          -0.10467127710580826,
          -0.08160383999347687,
          null,
          -0.04085889458656311,
          -0.05381302908062935,
          null,
          -0.04085889458656311,
          -0.04085889458656311,
          null,
          -0.04085889458656311,
          -0.05381302908062935,
          null,
          -0.04085889458656311,
          -0.10467127710580826,
          null
         ],
         "z": [
          0.06425358355045319,
          0.13392935693264008,
          null,
          0.06425358355045319,
          0.06425358355045319,
          null,
          0.10015210509300232,
          0.13254085183143616,
          null,
          0.10015210509300232,
          0.07621145993471146,
          null,
          0.13392935693264008,
          0.13392935693264008,
          null,
          0.13392935693264008,
          0.13254085183143616,
          null,
          0.11090980470180511,
          0.13392935693264008,
          null,
          0.11090980470180511,
          0.11090980470180511,
          null,
          0.10816722363233566,
          0.13392935693264008,
          null,
          0.13254085183143616,
          0.10816722363233566,
          null,
          0.13254085183143616,
          0.10015210509300232,
          null,
          0.13254085183143616,
          0.07621145993471146,
          null,
          0.13254085183143616,
          0.10816722363233566,
          null,
          0.18736964464187622,
          0.196653351187706,
          null,
          0.06425358355045319,
          0.11090980470180511,
          null,
          0.06425358355045319,
          0.10816722363233566,
          null,
          0.06425358355045319,
          0.10015210509300232,
          null,
          0.06425358355045319,
          0.18736964464187622,
          null,
          0.06425358355045319,
          0.13254085183143616,
          null,
          0.08721377700567245,
          0.196653351187706,
          null,
          0.08721377700567245,
          0.10015210509300232,
          null,
          0.08721377700567245,
          0.10816722363233566,
          null,
          0.196653351187706,
          0.196653351187706,
          null,
          0.196653351187706,
          0.10816722363233566,
          null,
          0.10015210509300232,
          0.07621145993471146,
          null,
          0.10015210509300232,
          0.07621145993471146,
          null,
          0.10015210509300232,
          0.196653351187706,
          null,
          0.10015210509300232,
          0.18736964464187622,
          null,
          0.13392935693264008,
          0.06425358355045319,
          null,
          0.13392935693264008,
          0.18736964464187622,
          null,
          0.13392935693264008,
          0.08721377700567245,
          null,
          0.11090980470180511,
          0.10015210509300232,
          null,
          0.11090980470180511,
          0.18736964464187622,
          null,
          0.11090980470180511,
          0.06425358355045319,
          null,
          0.07621145993471146,
          0.10015210509300232,
          null,
          0.07621145993471146,
          0.11090980470180511,
          null,
          0.07621145993471146,
          0.10816722363233566,
          null,
          0.10816722363233566,
          0.13254085183143616,
          null,
          0.13254085183143616,
          0.07621145993471146,
          null,
          0.13254085183143616,
          0.196653351187706,
          null,
          0.13254085183143616,
          0.10015210509300232,
          null,
          0.18736964464187622,
          0.06425358355045319,
          null,
          0.18736964464187622,
          0.08721377700567245,
          null,
          0.06425358355045319,
          0.13392935693264008,
          null,
          0.06425358355045319,
          0.11090980470180511,
          null,
          -0.017251186072826385,
          0.10015210509300232,
          null,
          -0.017251186072826385,
          0.06425358355045319,
          null,
          -0.017251186072826385,
          0.10015210509300232,
          null,
          -0.017251186072826385,
          0.11090980470180511,
          null,
          -0.017251186072826385,
          0.07621145993471146,
          null,
          0.196653351187706,
          0.11090980470180511,
          null,
          0.196653351187706,
          0.13254085183143616,
          null,
          0.10015210509300232,
          0.13254085183143616,
          null,
          0.10015210509300232,
          0.13392935693264008,
          null,
          0.10015210509300232,
          0.196653351187706,
          null,
          0.13392935693264008,
          0.10015210509300232,
          null,
          0.13392935693264008,
          0.11090980470180511,
          null,
          0.13392935693264008,
          0.07621145993471146,
          null,
          0.13392935693264008,
          0.10816722363233566,
          null,
          0.11090980470180511,
          0.10015210509300232,
          null,
          0.11090980470180511,
          0.18736964464187622,
          null,
          0.11090980470180511,
          0.08721377700567245,
          null,
          0.11090980470180511,
          0.13392935693264008,
          null,
          0.07621145993471146,
          0.196653351187706,
          null,
          0.10816722363233566,
          0.11090980470180511,
          null,
          0.10816722363233566,
          0.13254085183143616,
          null,
          0.13254085183143616,
          0.196653351187706,
          null,
          0.13254085183143616,
          0.13392935693264008,
          null,
          0.13254085183143616,
          0.11090980470180511,
          null,
          0.13254085183143616,
          0.11090980470180511,
          null,
          0.13254085183143616,
          0.07621145993471146,
          null,
          0.18736964464187622,
          0.11090980470180511,
          null,
          0.18736964464187622,
          0.18736964464187622,
          null,
          0.18736964464187622,
          0.11090980470180511,
          null,
          0.18736964464187622,
          0.13254085183143616,
          null
         ]
        },
        {
         "marker": {
          "color": "blue",
          "opacity": 0.8,
          "size": 8
         },
         "mode": "markers+text",
         "name": "Nodes",
         "text": [
          "apple",
          "mountain",
          "river",
          "car",
          "guitar",
          "elephant",
          "planet",
          "ocean",
          "forest",
          "castle",
          "red apple",
          "tall mountain",
          "flowing river",
          "fast car",
          "wooden guitar",
          "giant elephant",
          "distant planet",
          "deep ocean",
          "dense forest",
          "ancient castle",
          "bright red apple",
          "snowy mountain peak",
          "fast flowing river",
          "sleek sport car",
          "brown wooden guitar",
          "massive african elephant",
          "faraway mysterious planet",
          "vast deep ocean",
          "thick green forest",
          "majestic medieval castle"
         ],
         "textposition": "top center",
         "type": "scatter3d",
         "x": [
          -0.05203971266746521,
          -0.011485828086733818,
          -0.036772288382053375,
          -0.014227792620658875,
          -0.1114741712808609,
          0.037272050976753235,
          0.06207411363720894,
          0.03048853576183319,
          -0.036338940262794495,
          -0.08069515228271484,
          -0.05203971266746521,
          -0.011485828086733818,
          -0.036772288382053375,
          -0.014227792620658875,
          -0.1114741712808609,
          0.037272050976753235,
          0.06207411363720894,
          0.03048853576183319,
          -0.036338940262794495,
          -0.08069515228271484,
          -0.05203971266746521,
          0.118242047727108,
          -0.036772288382053375,
          -0.014227792620658875,
          -0.1114741712808609,
          0.037272050976753235,
          0.06207411363720894,
          0.03048853576183319,
          -0.036338940262794495,
          -0.08069515228271484
         ],
         "y": [
          -0.18845660984516144,
          -0.05056517571210861,
          -0.040802113711833954,
          -0.25031036138534546,
          -0.08602813631296158,
          -0.05381302908062935,
          -0.08160383999347687,
          -0.15408095717430115,
          -0.10467127710580826,
          -0.04085889458656311,
          -0.18845660984516144,
          -0.05056517571210861,
          -0.040802113711833954,
          -0.25031036138534546,
          -0.08602813631296158,
          -0.05381302908062935,
          -0.08160383999347687,
          -0.15408095717430115,
          -0.10467127710580826,
          -0.04085889458656311,
          -0.18845660984516144,
          -0.08350902050733566,
          -0.040802113711833954,
          -0.25031036138534546,
          -0.08602813631296158,
          -0.05381302908062935,
          -0.08160383999347687,
          -0.15408095717430115,
          -0.10467127710580826,
          -0.04085889458656311
         ],
         "z": [
          0.06425358355045319,
          0.08721377700567245,
          0.196653351187706,
          0.10015210509300232,
          0.13392935693264008,
          0.11090980470180511,
          0.07621145993471146,
          0.10816722363233566,
          0.13254085183143616,
          0.18736964464187622,
          0.06425358355045319,
          0.08721377700567245,
          0.196653351187706,
          0.10015210509300232,
          0.13392935693264008,
          0.11090980470180511,
          0.07621145993471146,
          0.10816722363233566,
          0.13254085183143616,
          0.18736964464187622,
          0.06425358355045319,
          -0.017251186072826385,
          0.196653351187706,
          0.10015210509300232,
          0.13392935693264008,
          0.11090980470180511,
          0.07621145993471146,
          0.10816722363233566,
          0.13254085183143616,
          0.18736964464187622
         ]
        },
        {
         "mode": "text",
         "name": "Edge Labels",
         "text": [
          "b",
          "a",
          "c",
          "c",
          "c",
          "c",
          "b",
          "c",
          "c",
          "a",
          "b",
          "a",
          "b",
          "a",
          "a",
          "a",
          "a",
          "a",
          "c",
          "c",
          "a",
          "c",
          "c",
          "c",
          "c",
          "a",
          "a",
          "a",
          "a",
          "a",
          "c",
          "c",
          "c",
          "a",
          "a",
          "c",
          "b",
          "b",
          "a",
          "a",
          "b",
          "b",
          "b",
          "a",
          "a",
          "c",
          "a",
          "c",
          "c",
          "c",
          "b",
          "a",
          "b",
          "a",
          "b",
          "b",
          "c",
          "a",
          "b",
          "a",
          "b",
          "c",
          "b",
          "c",
          "c",
          "c",
          "b",
          "a",
          "a",
          "b",
          "c",
          "b",
          "b",
          "a",
          "b"
         ],
         "textposition": "middle center",
         "type": "scatter3d",
         "x": [
          -0.08175694197416306,
          -0.05203971266746521,
          -0.025283366441726685,
          0.023923160508275032,
          -0.1114741712808609,
          -0.0739065557718277,
          -0.03710106015205383,
          0.037272050976753235,
          -0.040492817759513855,
          -0.002925202250480652,
          -0.025283366441726685,
          0.012867586687207222,
          -0.002925202250480652,
          -0.05873372033238411,
          -0.0073838308453559875,
          -0.01077558845281601,
          -0.03313375264406204,
          -0.06636743247509003,
          -0.04418932646512985,
          -0.02412905916571617,
          -0.012856810353696346,
          0.009501353837549686,
          -0.036772288382053375,
          -0.003141876310110092,
          0.023923160508275032,
          0.023923160508275032,
          -0.025500040501356125,
          -0.04746147245168686,
          -0.08175694197416306,
          -0.09608466178178787,
          -0.061480000615119934,
          0.01152212917804718,
          -0.021711550652980804,
          -0.0073838308453559875,
          0.023923160508275032,
          0.04967308044433594,
          0.046281322836875916,
          -0.002925202250480652,
          0.012867586687207222,
          -0.036555614322423935,
          -0.025283366441726685,
          -0.06636743247509003,
          -0.046090491116046906,
          -0.08175694197416306,
          -0.0073838308453559875,
          0.052007127553224564,
          0.033101167529821396,
          0.052007127553224564,
          0.07775704562664032,
          0.09015808254480362,
          0.0002498812973499298,
          -0.036555614322423935,
          -0.025283366441726685,
          -0.06285098195075989,
          -0.025500040501356125,
          -0.06285098195075989,
          -0.03710106015205383,
          -0.02470002882182598,
          -0.040492817759513855,
          0.01152212917804718,
          -0.021711550652980804,
          0.012893111445009708,
          -0.03710106015205383,
          0.012650912627577782,
          0.03388029336929321,
          -0.002925202250480652,
          -0.036555614322423935,
          -0.0739065557718277,
          0.0004665553569793701,
          0.0004665553569793701,
          0.012867586687207222,
          -0.021711550652980804,
          -0.08069515228271484,
          -0.021711550652980804,
          -0.05851704627275467
         ],
         "y": [
          -0.1372423768043518,
          -0.18845660984516144,
          -0.17749081552028656,
          -0.16595709323883057,
          -0.08602813631296158,
          -0.09534970670938492,
          -0.06992058455944061,
          -0.05381302908062935,
          -0.12005454301834106,
          -0.1293761134147644,
          -0.17749081552028656,
          -0.09313756227493286,
          -0.1293761134147644,
          -0.04083050414919853,
          -0.12113481760025024,
          -0.1712687909603119,
          -0.21938347816467285,
          -0.11465775221586227,
          -0.14656394720077515,
          -0.04568364471197128,
          -0.15043777227401733,
          -0.10232307016849518,
          -0.040802113711833954,
          -0.09744153916835785,
          -0.16595709323883057,
          -0.16595709323883057,
          -0.14555624127388,
          -0.14558462798595428,
          -0.1372423768043518,
          -0.06344351172447205,
          -0.0682966560125351,
          -0.15206170082092285,
          -0.04733595997095108,
          -0.12113481760025024,
          -0.16595709323883057,
          -0.06770843267440796,
          -0.11784239858388901,
          -0.1293761134147644,
          -0.09313756227493286,
          -0.0727366954088211,
          -0.17749081552028656,
          -0.11465775221586227,
          -0.04571203514933586,
          -0.1372423768043518,
          -0.12113481760025024,
          -0.16690969467163086,
          -0.13598281145095825,
          -0.16690969467163086,
          -0.06866102665662766,
          -0.08255642652511597,
          -0.0473075732588768,
          -0.0727366954088211,
          -0.17749081552028656,
          -0.16816924512386322,
          -0.14555624127388,
          -0.16816924512386322,
          -0.06992058455944061,
          -0.08381599187850952,
          -0.12005454301834106,
          -0.15206170082092285,
          -0.04733595997095108,
          -0.05218910425901413,
          -0.06992058455944061,
          -0.06120297685265541,
          -0.1039469912648201,
          -0.1293761134147644,
          -0.0727366954088211,
          -0.09534970670938492,
          -0.07924215495586395,
          -0.07924215495586395,
          -0.09313756227493286,
          -0.04733595997095108,
          -0.04085889458656311,
          -0.04733595997095108,
          -0.07276508212089539
         ],
         "z": [
          0.09909147024154663,
          0.06425358355045319,
          0.11634647846221924,
          0.08818177878856659,
          0.13392935693264008,
          0.13323509693145752,
          0.1224195808172226,
          0.11090980470180511,
          0.12104828655719757,
          0.12035404145717621,
          0.11634647846221924,
          0.10437615215778351,
          0.12035404145717621,
          0.1920115053653717,
          0.08758169412612915,
          0.08621039986610413,
          0.08220284432172775,
          0.1258116066455841,
          0.09839721769094467,
          0.14193356037139893,
          0.09368294477462769,
          0.09769050031900406,
          0.196653351187706,
          0.15241028368473053,
          0.08818177878856659,
          0.08818177878856659,
          0.14840272068977356,
          0.14376087486743927,
          0.09909147024154663,
          0.16064950823783875,
          0.11057156324386597,
          0.10553095489740372,
          0.14913973212242126,
          0.08758169412612915,
          0.08818177878856659,
          0.09356063604354858,
          0.09218934178352356,
          0.12035404145717621,
          0.10437615215778351,
          0.16459709405899048,
          0.11634647846221924,
          0.1258116066455841,
          0.13729171454906464,
          0.09909147024154663,
          0.08758169412612915,
          0.04145045951008797,
          0.0235011987388134,
          0.04145045951008797,
          0.046829309314489365,
          0.029480136930942535,
          0.15378157794475555,
          0.16459709405899048,
          0.11634647846221924,
          0.1170407310128212,
          0.14840272068977356,
          0.1170407310128212,
          0.1224195808172226,
          0.10507041215896606,
          0.12104828655719757,
          0.10553095489740372,
          0.14913973212242126,
          0.09906178712844849,
          0.1224195808172226,
          0.13643240928649902,
          0.10953851044178009,
          0.12035404145717621,
          0.16459709405899048,
          0.13323509693145752,
          0.12172532826662064,
          0.12172532826662064,
          0.10437615215778351,
          0.14913973212242126,
          0.18736964464187622,
          0.14913973212242126,
          0.1599552482366562
         ]
        }
       ],
       "layout": {
        "height": 1000,
        "scene": {
         "xaxis": {
          "title": {
           "text": "X Axis"
          }
         },
         "yaxis": {
          "title": {
           "text": "Y Axis"
          }
         },
         "zaxis": {
          "title": {
           "text": "Z Axis"
          }
         }
        },
        "showlegend": false,
        "template": {
         "data": {
          "bar": [
           {
            "error_x": {
             "color": "#2a3f5f"
            },
            "error_y": {
             "color": "#2a3f5f"
            },
            "marker": {
             "line": {
              "color": "#E5ECF6",
              "width": 0.5
             },
             "pattern": {
              "fillmode": "overlay",
              "size": 10,
              "solidity": 0.2
             }
            },
            "type": "bar"
           }
          ],
          "barpolar": [
           {
            "marker": {
             "line": {
              "color": "#E5ECF6",
              "width": 0.5
             },
             "pattern": {
              "fillmode": "overlay",
              "size": 10,
              "solidity": 0.2
             }
            },
            "type": "barpolar"
           }
          ],
          "carpet": [
           {
            "aaxis": {
             "endlinecolor": "#2a3f5f",
             "gridcolor": "white",
             "linecolor": "white",
             "minorgridcolor": "white",
             "startlinecolor": "#2a3f5f"
            },
            "baxis": {
             "endlinecolor": "#2a3f5f",
             "gridcolor": "white",
             "linecolor": "white",
             "minorgridcolor": "white",
             "startlinecolor": "#2a3f5f"
            },
            "type": "carpet"
           }
          ],
          "choropleth": [
           {
            "colorbar": {
             "outlinewidth": 0,
             "ticks": ""
            },
            "type": "choropleth"
           }
          ],
          "contour": [
           {
            "colorbar": {
             "outlinewidth": 0,
             "ticks": ""
            },
            "colorscale": [
             [
              0,
              "#0d0887"
             ],
             [
              0.1111111111111111,
              "#46039f"
             ],
             [
              0.2222222222222222,
              "#7201a8"
             ],
             [
              0.3333333333333333,
              "#9c179e"
             ],
             [
              0.4444444444444444,
              "#bd3786"
             ],
             [
              0.5555555555555556,
              "#d8576b"
             ],
             [
              0.6666666666666666,
              "#ed7953"
             ],
             [
              0.7777777777777778,
              "#fb9f3a"
             ],
             [
              0.8888888888888888,
              "#fdca26"
             ],
             [
              1,
              "#f0f921"
             ]
            ],
            "type": "contour"
           }
          ],
          "contourcarpet": [
           {
            "colorbar": {
             "outlinewidth": 0,
             "ticks": ""
            },
            "type": "contourcarpet"
           }
          ],
          "heatmap": [
           {
            "colorbar": {
             "outlinewidth": 0,
             "ticks": ""
            },
            "colorscale": [
             [
              0,
              "#0d0887"
             ],
             [
              0.1111111111111111,
              "#46039f"
             ],
             [
              0.2222222222222222,
              "#7201a8"
             ],
             [
              0.3333333333333333,
              "#9c179e"
             ],
             [
              0.4444444444444444,
              "#bd3786"
             ],
             [
              0.5555555555555556,
              "#d8576b"
             ],
             [
              0.6666666666666666,
              "#ed7953"
             ],
             [
              0.7777777777777778,
              "#fb9f3a"
             ],
             [
              0.8888888888888888,
              "#fdca26"
             ],
             [
              1,
              "#f0f921"
             ]
            ],
            "type": "heatmap"
           }
          ],
          "histogram": [
           {
            "marker": {
             "pattern": {
              "fillmode": "overlay",
              "size": 10,
              "solidity": 0.2
             }
            },
            "type": "histogram"
           }
          ],
          "histogram2d": [
           {
            "colorbar": {
             "outlinewidth": 0,
             "ticks": ""
            },
            "colorscale": [
             [
              0,
              "#0d0887"
             ],
             [
              0.1111111111111111,
              "#46039f"
             ],
             [
              0.2222222222222222,
              "#7201a8"
             ],
             [
              0.3333333333333333,
              "#9c179e"
             ],
             [
              0.4444444444444444,
              "#bd3786"
             ],
             [
              0.5555555555555556,
              "#d8576b"
             ],
             [
              0.6666666666666666,
              "#ed7953"
             ],
             [
              0.7777777777777778,
              "#fb9f3a"
             ],
             [
              0.8888888888888888,
              "#fdca26"
             ],
             [
              1,
              "#f0f921"
             ]
            ],
            "type": "histogram2d"
           }
          ],
          "histogram2dcontour": [
           {
            "colorbar": {
             "outlinewidth": 0,
             "ticks": ""
            },
            "colorscale": [
             [
              0,
              "#0d0887"
             ],
             [
              0.1111111111111111,
              "#46039f"
             ],
             [
              0.2222222222222222,
              "#7201a8"
             ],
             [
              0.3333333333333333,
              "#9c179e"
             ],
             [
              0.4444444444444444,
              "#bd3786"
             ],
             [
              0.5555555555555556,
              "#d8576b"
             ],
             [
              0.6666666666666666,
              "#ed7953"
             ],
             [
              0.7777777777777778,
              "#fb9f3a"
             ],
             [
              0.8888888888888888,
              "#fdca26"
             ],
             [
              1,
              "#f0f921"
             ]
            ],
            "type": "histogram2dcontour"
           }
          ],
          "mesh3d": [
           {
            "colorbar": {
             "outlinewidth": 0,
             "ticks": ""
            },
            "type": "mesh3d"
           }
          ],
          "parcoords": [
           {
            "line": {
             "colorbar": {
              "outlinewidth": 0,
              "ticks": ""
             }
            },
            "type": "parcoords"
           }
          ],
          "pie": [
           {
            "automargin": true,
            "type": "pie"
           }
          ],
          "scatter": [
           {
            "fillpattern": {
             "fillmode": "overlay",
             "size": 10,
             "solidity": 0.2
            },
            "type": "scatter"
           }
          ],
          "scatter3d": [
           {
            "line": {
             "colorbar": {
              "outlinewidth": 0,
              "ticks": ""
             }
            },
            "marker": {
             "colorbar": {
              "outlinewidth": 0,
              "ticks": ""
             }
            },
            "type": "scatter3d"
           }
          ],
          "scattercarpet": [
           {
            "marker": {
             "colorbar": {
              "outlinewidth": 0,
              "ticks": ""
             }
            },
            "type": "scattercarpet"
           }
          ],
          "scattergeo": [
           {
            "marker": {
             "colorbar": {
              "outlinewidth": 0,
              "ticks": ""
             }
            },
            "type": "scattergeo"
           }
          ],
          "scattergl": [
           {
            "marker": {
             "colorbar": {
              "outlinewidth": 0,
              "ticks": ""
             }
            },
            "type": "scattergl"
           }
          ],
          "scattermap": [
           {
            "marker": {
             "colorbar": {
              "outlinewidth": 0,
              "ticks": ""
             }
            },
            "type": "scattermap"
           }
          ],
          "scattermapbox": [
           {
            "marker": {
             "colorbar": {
              "outlinewidth": 0,
              "ticks": ""
             }
            },
            "type": "scattermapbox"
           }
          ],
          "scatterpolar": [
           {
            "marker": {
             "colorbar": {
              "outlinewidth": 0,
              "ticks": ""
             }
            },
            "type": "scatterpolar"
           }
          ],
          "scatterpolargl": [
           {
            "marker": {
             "colorbar": {
              "outlinewidth": 0,
              "ticks": ""
             }
            },
            "type": "scatterpolargl"
           }
          ],
          "scatterternary": [
           {
            "marker": {
             "colorbar": {
              "outlinewidth": 0,
              "ticks": ""
             }
            },
            "type": "scatterternary"
           }
          ],
          "surface": [
           {
            "colorbar": {
             "outlinewidth": 0,
             "ticks": ""
            },
            "colorscale": [
             [
              0,
              "#0d0887"
             ],
             [
              0.1111111111111111,
              "#46039f"
             ],
             [
              0.2222222222222222,
              "#7201a8"
             ],
             [
              0.3333333333333333,
              "#9c179e"
             ],
             [
              0.4444444444444444,
              "#bd3786"
             ],
             [
              0.5555555555555556,
              "#d8576b"
             ],
             [
              0.6666666666666666,
              "#ed7953"
             ],
             [
              0.7777777777777778,
              "#fb9f3a"
             ],
             [
              0.8888888888888888,
              "#fdca26"
             ],
             [
              1,
              "#f0f921"
             ]
            ],
            "type": "surface"
           }
          ],
          "table": [
           {
            "cells": {
             "fill": {
              "color": "#EBF0F8"
             },
             "line": {
              "color": "white"
             }
            },
            "header": {
             "fill": {
              "color": "#C8D4E3"
             },
             "line": {
              "color": "white"
             }
            },
            "type": "table"
           }
          ]
         },
         "layout": {
          "annotationdefaults": {
           "arrowcolor": "#2a3f5f",
           "arrowhead": 0,
           "arrowwidth": 1
          },
          "autotypenumbers": "strict",
          "coloraxis": {
           "colorbar": {
            "outlinewidth": 0,
            "ticks": ""
           }
          },
          "colorscale": {
           "diverging": [
            [
             0,
             "#8e0152"
            ],
            [
             0.1,
             "#c51b7d"
            ],
            [
             0.2,
             "#de77ae"
            ],
            [
             0.3,
             "#f1b6da"
            ],
            [
             0.4,
             "#fde0ef"
            ],
            [
             0.5,
             "#f7f7f7"
            ],
            [
             0.6,
             "#e6f5d0"
            ],
            [
             0.7,
             "#b8e186"
            ],
            [
             0.8,
             "#7fbc41"
            ],
            [
             0.9,
             "#4d9221"
            ],
            [
             1,
             "#276419"
            ]
           ],
           "sequential": [
            [
             0,
             "#0d0887"
            ],
            [
             0.1111111111111111,
             "#46039f"
            ],
            [
             0.2222222222222222,
             "#7201a8"
            ],
            [
             0.3333333333333333,
             "#9c179e"
            ],
            [
             0.4444444444444444,
             "#bd3786"
            ],
            [
             0.5555555555555556,
             "#d8576b"
            ],
            [
             0.6666666666666666,
             "#ed7953"
            ],
            [
             0.7777777777777778,
             "#fb9f3a"
            ],
            [
             0.8888888888888888,
             "#fdca26"
            ],
            [
             1,
             "#f0f921"
            ]
           ],
           "sequentialminus": [
            [
             0,
             "#0d0887"
            ],
            [
             0.1111111111111111,
             "#46039f"
            ],
            [
             0.2222222222222222,
             "#7201a8"
            ],
            [
             0.3333333333333333,
             "#9c179e"
            ],
            [
             0.4444444444444444,
             "#bd3786"
            ],
            [
             0.5555555555555556,
             "#d8576b"
            ],
            [
             0.6666666666666666,
             "#ed7953"
            ],
            [
             0.7777777777777778,
             "#fb9f3a"
            ],
            [
             0.8888888888888888,
             "#fdca26"
            ],
            [
             1,
             "#f0f921"
            ]
           ]
          },
          "colorway": [
           "#636efa",
           "#EF553B",
           "#00cc96",
           "#ab63fa",
           "#FFA15A",
           "#19d3f3",
           "#FF6692",
           "#B6E880",
           "#FF97FF",
           "#FECB52"
          ],
          "font": {
           "color": "#2a3f5f"
          },
          "geo": {
           "bgcolor": "white",
           "lakecolor": "white",
           "landcolor": "#E5ECF6",
           "showlakes": true,
           "showland": true,
           "subunitcolor": "white"
          },
          "hoverlabel": {
           "align": "left"
          },
          "hovermode": "closest",
          "mapbox": {
           "style": "light"
          },
          "paper_bgcolor": "white",
          "plot_bgcolor": "#E5ECF6",
          "polar": {
           "angularaxis": {
            "gridcolor": "white",
            "linecolor": "white",
            "ticks": ""
           },
           "bgcolor": "#E5ECF6",
           "radialaxis": {
            "gridcolor": "white",
            "linecolor": "white",
            "ticks": ""
           }
          },
          "scene": {
           "xaxis": {
            "backgroundcolor": "#E5ECF6",
            "gridcolor": "white",
            "gridwidth": 2,
            "linecolor": "white",
            "showbackground": true,
            "ticks": "",
            "zerolinecolor": "white"
           },
           "yaxis": {
            "backgroundcolor": "#E5ECF6",
            "gridcolor": "white",
            "gridwidth": 2,
            "linecolor": "white",
            "showbackground": true,
            "ticks": "",
            "zerolinecolor": "white"
           },
           "zaxis": {
            "backgroundcolor": "#E5ECF6",
            "gridcolor": "white",
            "gridwidth": 2,
            "linecolor": "white",
            "showbackground": true,
            "ticks": "",
            "zerolinecolor": "white"
           }
          },
          "shapedefaults": {
           "line": {
            "color": "#2a3f5f"
           }
          },
          "ternary": {
           "aaxis": {
            "gridcolor": "white",
            "linecolor": "white",
            "ticks": ""
           },
           "baxis": {
            "gridcolor": "white",
            "linecolor": "white",
            "ticks": ""
           },
           "bgcolor": "#E5ECF6",
           "caxis": {
            "gridcolor": "white",
            "linecolor": "white",
            "ticks": ""
           }
          },
          "title": {
           "x": 0.05
          },
          "xaxis": {
           "automargin": true,
           "gridcolor": "white",
           "linecolor": "white",
           "ticks": "",
           "title": {
            "standoff": 15
           },
           "zerolinecolor": "white",
           "zerolinewidth": 2
          },
          "yaxis": {
           "automargin": true,
           "gridcolor": "white",
           "linecolor": "white",
           "ticks": "",
           "title": {
            "standoff": 15
           },
           "zerolinecolor": "white",
           "zerolinewidth": 2
          }
         }
        },
        "title": {
         "text": "3D Graph Visualization"
        },
        "width": 1000
       }
      }
     },
     "metadata": {},
     "output_type": "display_data"
    }
   ],
   "source": [
    "visualize_graph_3d(graph)"
   ]
  },
  {
   "cell_type": "code",
   "execution_count": 7,
   "metadata": {},
   "outputs": [
    {
     "data": {
      "application/vnd.plotly.v1+json": {
       "config": {
        "plotlyServerURL": "https://plot.ly"
       },
       "data": [
        {
         "line": {
          "color": "gray",
          "width": 2
         },
         "mode": "lines",
         "name": "Edges",
         "type": "scatter3d",
         "x": [
          -0.05203971266746521,
          -0.1114741712808609,
          null,
          -0.05203971266746521,
          -0.05203971266746521,
          null,
          -0.014227792620658875,
          -0.036338940262794495,
          null,
          -0.014227792620658875,
          0.06207411363720894,
          null,
          -0.1114741712808609,
          -0.1114741712808609,
          null,
          -0.1114741712808609,
          -0.036338940262794495,
          null,
          0.037272050976753235,
          -0.1114741712808609,
          null,
          0.037272050976753235,
          0.037272050976753235,
          null,
          0.03048853576183319,
          -0.1114741712808609,
          null,
          -0.036338940262794495,
          0.03048853576183319,
          null,
          -0.036338940262794495,
          -0.014227792620658875,
          null,
          -0.036338940262794495,
          0.06207411363720894,
          null,
          -0.036338940262794495,
          0.03048853576183319,
          null,
          -0.08069515228271484,
          -0.036772288382053375,
          null,
          -0.05203971266746521,
          0.037272050976753235,
          null,
          -0.05203971266746521,
          0.03048853576183319,
          null,
          -0.05203971266746521,
          -0.014227792620658875,
          null,
          -0.05203971266746521,
          -0.08069515228271484,
          null,
          -0.05203971266746521,
          -0.036338940262794495,
          null,
          -0.011485828086733818,
          -0.036772288382053375,
          null,
          -0.011485828086733818,
          -0.014227792620658875,
          null,
          -0.011485828086733818,
          0.03048853576183319,
          null,
          -0.036772288382053375,
          -0.036772288382053375,
          null,
          -0.036772288382053375,
          0.03048853576183319,
          null,
          -0.014227792620658875,
          0.06207411363720894,
          null,
          -0.014227792620658875,
          0.06207411363720894,
          null,
          -0.014227792620658875,
          -0.036772288382053375,
          null,
          -0.014227792620658875,
          -0.08069515228271484,
          null,
          -0.1114741712808609,
          -0.05203971266746521,
          null,
          -0.1114741712808609,
          -0.08069515228271484,
          null,
          -0.1114741712808609,
          -0.011485828086733818,
          null,
          0.037272050976753235,
          -0.014227792620658875,
          null,
          0.037272050976753235,
          -0.08069515228271484,
          null,
          0.037272050976753235,
          -0.05203971266746521,
          null,
          0.06207411363720894,
          -0.014227792620658875,
          null,
          0.06207411363720894,
          0.037272050976753235,
          null,
          0.06207411363720894,
          0.03048853576183319,
          null,
          0.03048853576183319,
          -0.036338940262794495,
          null,
          -0.036338940262794495,
          0.06207411363720894,
          null,
          -0.036338940262794495,
          -0.036772288382053375,
          null,
          -0.036338940262794495,
          -0.014227792620658875,
          null,
          -0.08069515228271484,
          -0.05203971266746521,
          null,
          -0.08069515228271484,
          -0.011485828086733818,
          null,
          -0.05203971266746521,
          -0.1114741712808609,
          null,
          -0.05203971266746521,
          0.037272050976753235,
          null,
          0.118242047727108,
          -0.014227792620658875,
          null,
          0.118242047727108,
          -0.05203971266746521,
          null,
          0.118242047727108,
          -0.014227792620658875,
          null,
          0.118242047727108,
          0.037272050976753235,
          null,
          0.118242047727108,
          0.06207411363720894,
          null,
          -0.036772288382053375,
          0.037272050976753235,
          null,
          -0.036772288382053375,
          -0.036338940262794495,
          null,
          -0.014227792620658875,
          -0.036338940262794495,
          null,
          -0.014227792620658875,
          -0.1114741712808609,
          null,
          -0.014227792620658875,
          -0.036772288382053375,
          null,
          -0.1114741712808609,
          -0.014227792620658875,
          null,
          -0.1114741712808609,
          0.037272050976753235,
          null,
          -0.1114741712808609,
          0.06207411363720894,
          null,
          -0.1114741712808609,
          0.03048853576183319,
          null,
          0.037272050976753235,
          -0.014227792620658875,
          null,
          0.037272050976753235,
          -0.08069515228271484,
          null,
          0.037272050976753235,
          -0.011485828086733818,
          null,
          0.037272050976753235,
          -0.1114741712808609,
          null,
          0.06207411363720894,
          -0.036772288382053375,
          null,
          0.03048853576183319,
          0.037272050976753235,
          null,
          0.03048853576183319,
          -0.036338940262794495,
          null,
          -0.036338940262794495,
          -0.036772288382053375,
          null,
          -0.036338940262794495,
          -0.1114741712808609,
          null,
          -0.036338940262794495,
          0.037272050976753235,
          null,
          -0.036338940262794495,
          0.037272050976753235,
          null,
          -0.036338940262794495,
          0.06207411363720894,
          null,
          -0.08069515228271484,
          0.037272050976753235,
          null,
          -0.08069515228271484,
          -0.08069515228271484,
          null,
          -0.08069515228271484,
          0.037272050976753235,
          null,
          -0.08069515228271484,
          -0.036338940262794495,
          null
         ],
         "y": [
          -0.18845660984516144,
          -0.08602813631296158,
          null,
          -0.18845660984516144,
          -0.18845660984516144,
          null,
          -0.25031036138534546,
          -0.10467127710580826,
          null,
          -0.25031036138534546,
          -0.08160383999347687,
          null,
          -0.08602813631296158,
          -0.08602813631296158,
          null,
          -0.08602813631296158,
          -0.10467127710580826,
          null,
          -0.05381302908062935,
          -0.08602813631296158,
          null,
          -0.05381302908062935,
          -0.05381302908062935,
          null,
          -0.15408095717430115,
          -0.08602813631296158,
          null,
          -0.10467127710580826,
          -0.15408095717430115,
          null,
          -0.10467127710580826,
          -0.25031036138534546,
          null,
          -0.10467127710580826,
          -0.08160383999347687,
          null,
          -0.10467127710580826,
          -0.15408095717430115,
          null,
          -0.04085889458656311,
          -0.040802113711833954,
          null,
          -0.18845660984516144,
          -0.05381302908062935,
          null,
          -0.18845660984516144,
          -0.15408095717430115,
          null,
          -0.18845660984516144,
          -0.25031036138534546,
          null,
          -0.18845660984516144,
          -0.04085889458656311,
          null,
          -0.18845660984516144,
          -0.10467127710580826,
          null,
          -0.05056517571210861,
          -0.040802113711833954,
          null,
          -0.05056517571210861,
          -0.25031036138534546,
          null,
          -0.05056517571210861,
          -0.15408095717430115,
          null,
          -0.040802113711833954,
          -0.040802113711833954,
          null,
          -0.040802113711833954,
          -0.15408095717430115,
          null,
          -0.25031036138534546,
          -0.08160383999347687,
          null,
          -0.25031036138534546,
          -0.08160383999347687,
          null,
          -0.25031036138534546,
          -0.040802113711833954,
          null,
          -0.25031036138534546,
          -0.04085889458656311,
          null,
          -0.08602813631296158,
          -0.18845660984516144,
          null,
          -0.08602813631296158,
          -0.04085889458656311,
          null,
          -0.08602813631296158,
          -0.05056517571210861,
          null,
          -0.05381302908062935,
          -0.25031036138534546,
          null,
          -0.05381302908062935,
          -0.04085889458656311,
          null,
          -0.05381302908062935,
          -0.18845660984516144,
          null,
          -0.08160383999347687,
          -0.25031036138534546,
          null,
          -0.08160383999347687,
          -0.05381302908062935,
          null,
          -0.08160383999347687,
          -0.15408095717430115,
          null,
          -0.15408095717430115,
          -0.10467127710580826,
          null,
          -0.10467127710580826,
          -0.08160383999347687,
          null,
          -0.10467127710580826,
          -0.040802113711833954,
          null,
          -0.10467127710580826,
          -0.25031036138534546,
          null,
          -0.04085889458656311,
          -0.18845660984516144,
          null,
          -0.04085889458656311,
          -0.05056517571210861,
          null,
          -0.18845660984516144,
          -0.08602813631296158,
          null,
          -0.18845660984516144,
          -0.05381302908062935,
          null,
          -0.08350902050733566,
          -0.25031036138534546,
          null,
          -0.08350902050733566,
          -0.18845660984516144,
          null,
          -0.08350902050733566,
          -0.25031036138534546,
          null,
          -0.08350902050733566,
          -0.05381302908062935,
          null,
          -0.08350902050733566,
          -0.08160383999347687,
          null,
          -0.040802113711833954,
          -0.05381302908062935,
          null,
          -0.040802113711833954,
          -0.10467127710580826,
          null,
          -0.25031036138534546,
          -0.10467127710580826,
          null,
          -0.25031036138534546,
          -0.08602813631296158,
          null,
          -0.25031036138534546,
          -0.040802113711833954,
          null,
          -0.08602813631296158,
          -0.25031036138534546,
          null,
          -0.08602813631296158,
          -0.05381302908062935,
          null,
          -0.08602813631296158,
          -0.08160383999347687,
          null,
          -0.08602813631296158,
          -0.15408095717430115,
          null,
          -0.05381302908062935,
          -0.25031036138534546,
          null,
          -0.05381302908062935,
          -0.04085889458656311,
          null,
          -0.05381302908062935,
          -0.05056517571210861,
          null,
          -0.05381302908062935,
          -0.08602813631296158,
          null,
          -0.08160383999347687,
          -0.040802113711833954,
          null,
          -0.15408095717430115,
          -0.05381302908062935,
          null,
          -0.15408095717430115,
          -0.10467127710580826,
          null,
          -0.10467127710580826,
          -0.040802113711833954,
          null,
          -0.10467127710580826,
          -0.08602813631296158,
          null,
          -0.10467127710580826,
          -0.05381302908062935,
          null,
          -0.10467127710580826,
          -0.05381302908062935,
          null,
          -0.10467127710580826,
          -0.08160383999347687,
          null,
          -0.04085889458656311,
          -0.05381302908062935,
          null,
          -0.04085889458656311,
          -0.04085889458656311,
          null,
          -0.04085889458656311,
          -0.05381302908062935,
          null,
          -0.04085889458656311,
          -0.10467127710580826,
          null
         ],
         "z": [
          0,
          0.4,
          null,
          0,
          0.8,
          null,
          0,
          0,
          null,
          0,
          0.4,
          null,
          0,
          0.4,
          null,
          0,
          0.8,
          null,
          0,
          0.4,
          null,
          0,
          0.4,
          null,
          0,
          0,
          null,
          0,
          0,
          null,
          0,
          0.4,
          null,
          0,
          0.4,
          null,
          0,
          0.4,
          null,
          0,
          0,
          null,
          0.4,
          0,
          null,
          0.4,
          0,
          null,
          0.4,
          0.4,
          null,
          0.4,
          0.4,
          null,
          0.4,
          0.8,
          null,
          0.4,
          0.8,
          null,
          0.4,
          0.8,
          null,
          0.4,
          0.8,
          null,
          0.4,
          0,
          null,
          0.4,
          0,
          null,
          0.4,
          0,
          null,
          0.4,
          0.4,
          null,
          0.4,
          0.8,
          null,
          0.4,
          0.8,
          null,
          0.4,
          0,
          null,
          0.4,
          0,
          null,
          0.4,
          0.4,
          null,
          0.4,
          0,
          null,
          0.4,
          0,
          null,
          0.4,
          0.4,
          null,
          0.4,
          0,
          null,
          0.4,
          0,
          null,
          0.4,
          0,
          null,
          0.4,
          0,
          null,
          0.4,
          0,
          null,
          0.4,
          0.8,
          null,
          0.4,
          0.8,
          null,
          0.4,
          0.4,
          null,
          0.4,
          0.4,
          null,
          0.8,
          0,
          null,
          0.8,
          0.4,
          null,
          0.8,
          0,
          null,
          0.8,
          0.4,
          null,
          0.8,
          0.4,
          null,
          0.8,
          0.8,
          null,
          0.8,
          0.8,
          null,
          0.8,
          0.4,
          null,
          0.8,
          0.4,
          null,
          0.8,
          0,
          null,
          0.8,
          0.4,
          null,
          0.8,
          0.8,
          null,
          0.8,
          0,
          null,
          0.8,
          0,
          null,
          0.8,
          0,
          null,
          0.8,
          0,
          null,
          0.8,
          0,
          null,
          0.8,
          0,
          null,
          0.8,
          0.4,
          null,
          0.8,
          0.8,
          null,
          0.8,
          0.8,
          null,
          0.8,
          0.8,
          null,
          0.8,
          0.8,
          null,
          0.8,
          0,
          null,
          0.8,
          0,
          null,
          0.8,
          0,
          null,
          0.8,
          0.4,
          null,
          0.8,
          0.8,
          null,
          0.8,
          0,
          null,
          0.8,
          0.4,
          null,
          0.8,
          0.8,
          null,
          0.8,
          0.8,
          null
         ]
        },
        {
         "marker": {
          "color": [
           "red",
           "red",
           "red",
           "red",
           "red",
           "red",
           "red",
           "red",
           "red",
           "red",
           "green",
           "green",
           "green",
           "green",
           "green",
           "green",
           "green",
           "green",
           "green",
           "green",
           "blue",
           "blue",
           "blue",
           "blue",
           "blue",
           "blue",
           "blue",
           "blue",
           "blue",
           "blue"
          ],
          "opacity": 0.8,
          "size": 8
         },
         "mode": "markers+text",
         "name": "Nodes",
         "text": [
          "apple",
          "mountain",
          "river",
          "car",
          "guitar",
          "elephant",
          "planet",
          "ocean",
          "forest",
          "castle",
          "red apple",
          "tall mountain",
          "flowing river",
          "fast car",
          "wooden guitar",
          "giant elephant",
          "distant planet",
          "deep ocean",
          "dense forest",
          "ancient castle",
          "bright red apple",
          "snowy mountain peak",
          "fast flowing river",
          "sleek sport car",
          "brown wooden guitar",
          "massive african elephant",
          "faraway mysterious planet",
          "vast deep ocean",
          "thick green forest",
          "majestic medieval castle"
         ],
         "textposition": "top center",
         "type": "scatter3d",
         "x": [
          -0.05203971266746521,
          -0.011485828086733818,
          -0.036772288382053375,
          -0.014227792620658875,
          -0.1114741712808609,
          0.037272050976753235,
          0.06207411363720894,
          0.03048853576183319,
          -0.036338940262794495,
          -0.08069515228271484,
          -0.05203971266746521,
          -0.011485828086733818,
          -0.036772288382053375,
          -0.014227792620658875,
          -0.1114741712808609,
          0.037272050976753235,
          0.06207411363720894,
          0.03048853576183319,
          -0.036338940262794495,
          -0.08069515228271484,
          -0.05203971266746521,
          0.118242047727108,
          -0.036772288382053375,
          -0.014227792620658875,
          -0.1114741712808609,
          0.037272050976753235,
          0.06207411363720894,
          0.03048853576183319,
          -0.036338940262794495,
          -0.08069515228271484
         ],
         "y": [
          -0.18845660984516144,
          -0.05056517571210861,
          -0.040802113711833954,
          -0.25031036138534546,
          -0.08602813631296158,
          -0.05381302908062935,
          -0.08160383999347687,
          -0.15408095717430115,
          -0.10467127710580826,
          -0.04085889458656311,
          -0.18845660984516144,
          -0.05056517571210861,
          -0.040802113711833954,
          -0.25031036138534546,
          -0.08602813631296158,
          -0.05381302908062935,
          -0.08160383999347687,
          -0.15408095717430115,
          -0.10467127710580826,
          -0.04085889458656311,
          -0.18845660984516144,
          -0.08350902050733566,
          -0.040802113711833954,
          -0.25031036138534546,
          -0.08602813631296158,
          -0.05381302908062935,
          -0.08160383999347687,
          -0.15408095717430115,
          -0.10467127710580826,
          -0.04085889458656311
         ],
         "z": [
          0,
          0,
          0,
          0,
          0,
          0,
          0,
          0,
          0,
          0,
          0.4,
          0.4,
          0.4,
          0.4,
          0.4,
          0.4,
          0.4,
          0.4,
          0.4,
          0.4,
          0.8,
          0.8,
          0.8,
          0.8,
          0.8,
          0.8,
          0.8,
          0.8,
          0.8,
          0.8
         ]
        },
        {
         "mode": "text",
         "name": "Edge Labels",
         "text": [
          "b",
          "a",
          "c",
          "c",
          "c",
          "c",
          "b",
          "c",
          "c",
          "a",
          "b",
          "a",
          "b",
          "a",
          "a",
          "a",
          "a",
          "a",
          "c",
          "c",
          "a",
          "c",
          "c",
          "c",
          "c",
          "a",
          "a",
          "a",
          "a",
          "a",
          "c",
          "c",
          "c",
          "a",
          "a",
          "c",
          "b",
          "b",
          "a",
          "a",
          "b",
          "b",
          "b",
          "a",
          "a",
          "c",
          "a",
          "c",
          "c",
          "c",
          "b",
          "a",
          "b",
          "a",
          "b",
          "b",
          "c",
          "a",
          "b",
          "a",
          "b",
          "c",
          "b",
          "c",
          "c",
          "c",
          "b",
          "a",
          "a",
          "b",
          "c",
          "b",
          "b",
          "a",
          "b"
         ],
         "textposition": "middle center",
         "type": "scatter3d",
         "x": [
          -0.08175694197416306,
          -0.05203971266746521,
          -0.025283366441726685,
          0.023923160508275032,
          -0.1114741712808609,
          -0.0739065557718277,
          -0.03710106015205383,
          0.037272050976753235,
          -0.040492817759513855,
          -0.002925202250480652,
          -0.025283366441726685,
          0.012867586687207222,
          -0.002925202250480652,
          -0.05873372033238411,
          -0.0073838308453559875,
          -0.01077558845281601,
          -0.03313375264406204,
          -0.06636743247509003,
          -0.04418932646512985,
          -0.02412905916571617,
          -0.012856810353696346,
          0.009501353837549686,
          -0.036772288382053375,
          -0.003141876310110092,
          0.023923160508275032,
          0.023923160508275032,
          -0.025500040501356125,
          -0.04746147245168686,
          -0.08175694197416306,
          -0.09608466178178787,
          -0.061480000615119934,
          0.01152212917804718,
          -0.021711550652980804,
          -0.0073838308453559875,
          0.023923160508275032,
          0.04967308044433594,
          0.046281322836875916,
          -0.002925202250480652,
          0.012867586687207222,
          -0.036555614322423935,
          -0.025283366441726685,
          -0.06636743247509003,
          -0.046090491116046906,
          -0.08175694197416306,
          -0.0073838308453559875,
          0.052007127553224564,
          0.033101167529821396,
          0.052007127553224564,
          0.07775704562664032,
          0.09015808254480362,
          0.0002498812973499298,
          -0.036555614322423935,
          -0.025283366441726685,
          -0.06285098195075989,
          -0.025500040501356125,
          -0.06285098195075989,
          -0.03710106015205383,
          -0.02470002882182598,
          -0.040492817759513855,
          0.01152212917804718,
          -0.021711550652980804,
          0.012893111445009708,
          -0.03710106015205383,
          0.012650912627577782,
          0.03388029336929321,
          -0.002925202250480652,
          -0.036555614322423935,
          -0.0739065557718277,
          0.0004665553569793701,
          0.0004665553569793701,
          0.012867586687207222,
          -0.021711550652980804,
          -0.08069515228271484,
          -0.021711550652980804,
          -0.05851704627275467
         ],
         "y": [
          -0.1372423768043518,
          -0.18845660984516144,
          -0.17749081552028656,
          -0.16595709323883057,
          -0.08602813631296158,
          -0.09534970670938492,
          -0.06992058455944061,
          -0.05381302908062935,
          -0.12005454301834106,
          -0.1293761134147644,
          -0.17749081552028656,
          -0.09313756227493286,
          -0.1293761134147644,
          -0.04083050414919853,
          -0.12113481760025024,
          -0.1712687909603119,
          -0.21938347816467285,
          -0.11465775221586227,
          -0.14656394720077515,
          -0.04568364471197128,
          -0.15043777227401733,
          -0.10232307016849518,
          -0.040802113711833954,
          -0.09744153916835785,
          -0.16595709323883057,
          -0.16595709323883057,
          -0.14555624127388,
          -0.14558462798595428,
          -0.1372423768043518,
          -0.06344351172447205,
          -0.0682966560125351,
          -0.15206170082092285,
          -0.04733595997095108,
          -0.12113481760025024,
          -0.16595709323883057,
          -0.06770843267440796,
          -0.11784239858388901,
          -0.1293761134147644,
          -0.09313756227493286,
          -0.0727366954088211,
          -0.17749081552028656,
          -0.11465775221586227,
          -0.04571203514933586,
          -0.1372423768043518,
          -0.12113481760025024,
          -0.16690969467163086,
          -0.13598281145095825,
          -0.16690969467163086,
          -0.06866102665662766,
          -0.08255642652511597,
          -0.0473075732588768,
          -0.0727366954088211,
          -0.17749081552028656,
          -0.16816924512386322,
          -0.14555624127388,
          -0.16816924512386322,
          -0.06992058455944061,
          -0.08381599187850952,
          -0.12005454301834106,
          -0.15206170082092285,
          -0.04733595997095108,
          -0.05218910425901413,
          -0.06992058455944061,
          -0.06120297685265541,
          -0.1039469912648201,
          -0.1293761134147644,
          -0.0727366954088211,
          -0.09534970670938492,
          -0.07924215495586395,
          -0.07924215495586395,
          -0.09313756227493286,
          -0.04733595997095108,
          -0.04085889458656311,
          -0.04733595997095108,
          -0.07276508212089539
         ],
         "z": [
          0.2,
          0.4,
          0,
          0.2,
          0.2,
          0.4,
          0.2,
          0.2,
          0,
          0,
          0.2,
          0.2,
          0.2,
          0,
          0.2,
          0.2,
          0.4,
          0.4,
          0.6000000000000001,
          0.6000000000000001,
          0.6000000000000001,
          0.6000000000000001,
          0.2,
          0.2,
          0.2,
          0.4,
          0.6000000000000001,
          0.6000000000000001,
          0.2,
          0.2,
          0.4,
          0.2,
          0.2,
          0.4,
          0.2,
          0.2,
          0.2,
          0.2,
          0.2,
          0.6000000000000001,
          0.6000000000000001,
          0.4,
          0.4,
          0.4,
          0.6000000000000001,
          0.4,
          0.6000000000000001,
          0.6000000000000001,
          0.8,
          0.8,
          0.6000000000000001,
          0.6000000000000001,
          0.4,
          0.6000000000000001,
          0.8,
          0.4,
          0.4,
          0.4,
          0.4,
          0.4,
          0.4,
          0.6000000000000001,
          0.8,
          0.8,
          0.8,
          0.8,
          0.4,
          0.4,
          0.4,
          0.6000000000000001,
          0.8,
          0.4,
          0.6000000000000001,
          0.8,
          0.8
         ]
        }
       ],
       "layout": {
        "height": 1000,
        "scene": {
         "xaxis": {
          "title": {
           "text": "X Axis"
          }
         },
         "yaxis": {
          "title": {
           "text": "Y Axis"
          }
         },
         "zaxis": {
          "title": {
           "text": "Z Axis"
          }
         }
        },
        "showlegend": false,
        "template": {
         "data": {
          "bar": [
           {
            "error_x": {
             "color": "#2a3f5f"
            },
            "error_y": {
             "color": "#2a3f5f"
            },
            "marker": {
             "line": {
              "color": "#E5ECF6",
              "width": 0.5
             },
             "pattern": {
              "fillmode": "overlay",
              "size": 10,
              "solidity": 0.2
             }
            },
            "type": "bar"
           }
          ],
          "barpolar": [
           {
            "marker": {
             "line": {
              "color": "#E5ECF6",
              "width": 0.5
             },
             "pattern": {
              "fillmode": "overlay",
              "size": 10,
              "solidity": 0.2
             }
            },
            "type": "barpolar"
           }
          ],
          "carpet": [
           {
            "aaxis": {
             "endlinecolor": "#2a3f5f",
             "gridcolor": "white",
             "linecolor": "white",
             "minorgridcolor": "white",
             "startlinecolor": "#2a3f5f"
            },
            "baxis": {
             "endlinecolor": "#2a3f5f",
             "gridcolor": "white",
             "linecolor": "white",
             "minorgridcolor": "white",
             "startlinecolor": "#2a3f5f"
            },
            "type": "carpet"
           }
          ],
          "choropleth": [
           {
            "colorbar": {
             "outlinewidth": 0,
             "ticks": ""
            },
            "type": "choropleth"
           }
          ],
          "contour": [
           {
            "colorbar": {
             "outlinewidth": 0,
             "ticks": ""
            },
            "colorscale": [
             [
              0,
              "#0d0887"
             ],
             [
              0.1111111111111111,
              "#46039f"
             ],
             [
              0.2222222222222222,
              "#7201a8"
             ],
             [
              0.3333333333333333,
              "#9c179e"
             ],
             [
              0.4444444444444444,
              "#bd3786"
             ],
             [
              0.5555555555555556,
              "#d8576b"
             ],
             [
              0.6666666666666666,
              "#ed7953"
             ],
             [
              0.7777777777777778,
              "#fb9f3a"
             ],
             [
              0.8888888888888888,
              "#fdca26"
             ],
             [
              1,
              "#f0f921"
             ]
            ],
            "type": "contour"
           }
          ],
          "contourcarpet": [
           {
            "colorbar": {
             "outlinewidth": 0,
             "ticks": ""
            },
            "type": "contourcarpet"
           }
          ],
          "heatmap": [
           {
            "colorbar": {
             "outlinewidth": 0,
             "ticks": ""
            },
            "colorscale": [
             [
              0,
              "#0d0887"
             ],
             [
              0.1111111111111111,
              "#46039f"
             ],
             [
              0.2222222222222222,
              "#7201a8"
             ],
             [
              0.3333333333333333,
              "#9c179e"
             ],
             [
              0.4444444444444444,
              "#bd3786"
             ],
             [
              0.5555555555555556,
              "#d8576b"
             ],
             [
              0.6666666666666666,
              "#ed7953"
             ],
             [
              0.7777777777777778,
              "#fb9f3a"
             ],
             [
              0.8888888888888888,
              "#fdca26"
             ],
             [
              1,
              "#f0f921"
             ]
            ],
            "type": "heatmap"
           }
          ],
          "histogram": [
           {
            "marker": {
             "pattern": {
              "fillmode": "overlay",
              "size": 10,
              "solidity": 0.2
             }
            },
            "type": "histogram"
           }
          ],
          "histogram2d": [
           {
            "colorbar": {
             "outlinewidth": 0,
             "ticks": ""
            },
            "colorscale": [
             [
              0,
              "#0d0887"
             ],
             [
              0.1111111111111111,
              "#46039f"
             ],
             [
              0.2222222222222222,
              "#7201a8"
             ],
             [
              0.3333333333333333,
              "#9c179e"
             ],
             [
              0.4444444444444444,
              "#bd3786"
             ],
             [
              0.5555555555555556,
              "#d8576b"
             ],
             [
              0.6666666666666666,
              "#ed7953"
             ],
             [
              0.7777777777777778,
              "#fb9f3a"
             ],
             [
              0.8888888888888888,
              "#fdca26"
             ],
             [
              1,
              "#f0f921"
             ]
            ],
            "type": "histogram2d"
           }
          ],
          "histogram2dcontour": [
           {
            "colorbar": {
             "outlinewidth": 0,
             "ticks": ""
            },
            "colorscale": [
             [
              0,
              "#0d0887"
             ],
             [
              0.1111111111111111,
              "#46039f"
             ],
             [
              0.2222222222222222,
              "#7201a8"
             ],
             [
              0.3333333333333333,
              "#9c179e"
             ],
             [
              0.4444444444444444,
              "#bd3786"
             ],
             [
              0.5555555555555556,
              "#d8576b"
             ],
             [
              0.6666666666666666,
              "#ed7953"
             ],
             [
              0.7777777777777778,
              "#fb9f3a"
             ],
             [
              0.8888888888888888,
              "#fdca26"
             ],
             [
              1,
              "#f0f921"
             ]
            ],
            "type": "histogram2dcontour"
           }
          ],
          "mesh3d": [
           {
            "colorbar": {
             "outlinewidth": 0,
             "ticks": ""
            },
            "type": "mesh3d"
           }
          ],
          "parcoords": [
           {
            "line": {
             "colorbar": {
              "outlinewidth": 0,
              "ticks": ""
             }
            },
            "type": "parcoords"
           }
          ],
          "pie": [
           {
            "automargin": true,
            "type": "pie"
           }
          ],
          "scatter": [
           {
            "fillpattern": {
             "fillmode": "overlay",
             "size": 10,
             "solidity": 0.2
            },
            "type": "scatter"
           }
          ],
          "scatter3d": [
           {
            "line": {
             "colorbar": {
              "outlinewidth": 0,
              "ticks": ""
             }
            },
            "marker": {
             "colorbar": {
              "outlinewidth": 0,
              "ticks": ""
             }
            },
            "type": "scatter3d"
           }
          ],
          "scattercarpet": [
           {
            "marker": {
             "colorbar": {
              "outlinewidth": 0,
              "ticks": ""
             }
            },
            "type": "scattercarpet"
           }
          ],
          "scattergeo": [
           {
            "marker": {
             "colorbar": {
              "outlinewidth": 0,
              "ticks": ""
             }
            },
            "type": "scattergeo"
           }
          ],
          "scattergl": [
           {
            "marker": {
             "colorbar": {
              "outlinewidth": 0,
              "ticks": ""
             }
            },
            "type": "scattergl"
           }
          ],
          "scattermap": [
           {
            "marker": {
             "colorbar": {
              "outlinewidth": 0,
              "ticks": ""
             }
            },
            "type": "scattermap"
           }
          ],
          "scattermapbox": [
           {
            "marker": {
             "colorbar": {
              "outlinewidth": 0,
              "ticks": ""
             }
            },
            "type": "scattermapbox"
           }
          ],
          "scatterpolar": [
           {
            "marker": {
             "colorbar": {
              "outlinewidth": 0,
              "ticks": ""
             }
            },
            "type": "scatterpolar"
           }
          ],
          "scatterpolargl": [
           {
            "marker": {
             "colorbar": {
              "outlinewidth": 0,
              "ticks": ""
             }
            },
            "type": "scatterpolargl"
           }
          ],
          "scatterternary": [
           {
            "marker": {
             "colorbar": {
              "outlinewidth": 0,
              "ticks": ""
             }
            },
            "type": "scatterternary"
           }
          ],
          "surface": [
           {
            "colorbar": {
             "outlinewidth": 0,
             "ticks": ""
            },
            "colorscale": [
             [
              0,
              "#0d0887"
             ],
             [
              0.1111111111111111,
              "#46039f"
             ],
             [
              0.2222222222222222,
              "#7201a8"
             ],
             [
              0.3333333333333333,
              "#9c179e"
             ],
             [
              0.4444444444444444,
              "#bd3786"
             ],
             [
              0.5555555555555556,
              "#d8576b"
             ],
             [
              0.6666666666666666,
              "#ed7953"
             ],
             [
              0.7777777777777778,
              "#fb9f3a"
             ],
             [
              0.8888888888888888,
              "#fdca26"
             ],
             [
              1,
              "#f0f921"
             ]
            ],
            "type": "surface"
           }
          ],
          "table": [
           {
            "cells": {
             "fill": {
              "color": "#EBF0F8"
             },
             "line": {
              "color": "white"
             }
            },
            "header": {
             "fill": {
              "color": "#C8D4E3"
             },
             "line": {
              "color": "white"
             }
            },
            "type": "table"
           }
          ]
         },
         "layout": {
          "annotationdefaults": {
           "arrowcolor": "#2a3f5f",
           "arrowhead": 0,
           "arrowwidth": 1
          },
          "autotypenumbers": "strict",
          "coloraxis": {
           "colorbar": {
            "outlinewidth": 0,
            "ticks": ""
           }
          },
          "colorscale": {
           "diverging": [
            [
             0,
             "#8e0152"
            ],
            [
             0.1,
             "#c51b7d"
            ],
            [
             0.2,
             "#de77ae"
            ],
            [
             0.3,
             "#f1b6da"
            ],
            [
             0.4,
             "#fde0ef"
            ],
            [
             0.5,
             "#f7f7f7"
            ],
            [
             0.6,
             "#e6f5d0"
            ],
            [
             0.7,
             "#b8e186"
            ],
            [
             0.8,
             "#7fbc41"
            ],
            [
             0.9,
             "#4d9221"
            ],
            [
             1,
             "#276419"
            ]
           ],
           "sequential": [
            [
             0,
             "#0d0887"
            ],
            [
             0.1111111111111111,
             "#46039f"
            ],
            [
             0.2222222222222222,
             "#7201a8"
            ],
            [
             0.3333333333333333,
             "#9c179e"
            ],
            [
             0.4444444444444444,
             "#bd3786"
            ],
            [
             0.5555555555555556,
             "#d8576b"
            ],
            [
             0.6666666666666666,
             "#ed7953"
            ],
            [
             0.7777777777777778,
             "#fb9f3a"
            ],
            [
             0.8888888888888888,
             "#fdca26"
            ],
            [
             1,
             "#f0f921"
            ]
           ],
           "sequentialminus": [
            [
             0,
             "#0d0887"
            ],
            [
             0.1111111111111111,
             "#46039f"
            ],
            [
             0.2222222222222222,
             "#7201a8"
            ],
            [
             0.3333333333333333,
             "#9c179e"
            ],
            [
             0.4444444444444444,
             "#bd3786"
            ],
            [
             0.5555555555555556,
             "#d8576b"
            ],
            [
             0.6666666666666666,
             "#ed7953"
            ],
            [
             0.7777777777777778,
             "#fb9f3a"
            ],
            [
             0.8888888888888888,
             "#fdca26"
            ],
            [
             1,
             "#f0f921"
            ]
           ]
          },
          "colorway": [
           "#636efa",
           "#EF553B",
           "#00cc96",
           "#ab63fa",
           "#FFA15A",
           "#19d3f3",
           "#FF6692",
           "#B6E880",
           "#FF97FF",
           "#FECB52"
          ],
          "font": {
           "color": "#2a3f5f"
          },
          "geo": {
           "bgcolor": "white",
           "lakecolor": "white",
           "landcolor": "#E5ECF6",
           "showlakes": true,
           "showland": true,
           "subunitcolor": "white"
          },
          "hoverlabel": {
           "align": "left"
          },
          "hovermode": "closest",
          "mapbox": {
           "style": "light"
          },
          "paper_bgcolor": "white",
          "plot_bgcolor": "#E5ECF6",
          "polar": {
           "angularaxis": {
            "gridcolor": "white",
            "linecolor": "white",
            "ticks": ""
           },
           "bgcolor": "#E5ECF6",
           "radialaxis": {
            "gridcolor": "white",
            "linecolor": "white",
            "ticks": ""
           }
          },
          "scene": {
           "xaxis": {
            "backgroundcolor": "#E5ECF6",
            "gridcolor": "white",
            "gridwidth": 2,
            "linecolor": "white",
            "showbackground": true,
            "ticks": "",
            "zerolinecolor": "white"
           },
           "yaxis": {
            "backgroundcolor": "#E5ECF6",
            "gridcolor": "white",
            "gridwidth": 2,
            "linecolor": "white",
            "showbackground": true,
            "ticks": "",
            "zerolinecolor": "white"
           },
           "zaxis": {
            "backgroundcolor": "#E5ECF6",
            "gridcolor": "white",
            "gridwidth": 2,
            "linecolor": "white",
            "showbackground": true,
            "ticks": "",
            "zerolinecolor": "white"
           }
          },
          "shapedefaults": {
           "line": {
            "color": "#2a3f5f"
           }
          },
          "ternary": {
           "aaxis": {
            "gridcolor": "white",
            "linecolor": "white",
            "ticks": ""
           },
           "baxis": {
            "gridcolor": "white",
            "linecolor": "white",
            "ticks": ""
           },
           "bgcolor": "#E5ECF6",
           "caxis": {
            "gridcolor": "white",
            "linecolor": "white",
            "ticks": ""
           }
          },
          "title": {
           "x": 0.05
          },
          "xaxis": {
           "automargin": true,
           "gridcolor": "white",
           "linecolor": "white",
           "ticks": "",
           "title": {
            "standoff": 15
           },
           "zerolinecolor": "white",
           "zerolinewidth": 2
          },
          "yaxis": {
           "automargin": true,
           "gridcolor": "white",
           "linecolor": "white",
           "ticks": "",
           "title": {
            "standoff": 15
           },
           "zerolinecolor": "white",
           "zerolinewidth": 2
          }
         }
        },
        "title": {
         "text": "3D Graph Visualization"
        },
        "width": 1000
       }
      }
     },
     "metadata": {},
     "output_type": "display_data"
    }
   ],
   "source": [
    "visualize_graph_ngrams(graph)"
   ]
  },
  {
   "cell_type": "code",
   "execution_count": 8,
   "metadata": {},
   "outputs": [],
   "source": [
    "from process_graph.squeezing import squeeze"
   ]
  },
  {
   "cell_type": "code",
   "execution_count": 9,
   "metadata": {},
   "outputs": [
    {
     "data": {
      "text/plain": [
       "[({'apple': 'apple',\n",
       "   'car': 'car',\n",
       "   'castle': 'castle',\n",
       "   'elephant': 'elephant',\n",
       "   'forest': 'forest',\n",
       "   'guitar': 'guitar',\n",
       "   'mountain': 'mountain',\n",
       "   'ocean': 'ocean',\n",
       "   'planet': 'planet',\n",
       "   'river': 'river'},\n",
       "  {'apple': ['apple'],\n",
       "   'car': ['car'],\n",
       "   'castle': ['castle'],\n",
       "   'elephant': ['elephant'],\n",
       "   'forest': ['forest'],\n",
       "   'guitar': ['guitar'],\n",
       "   'mountain': ['mountain'],\n",
       "   'ocean': ['ocean'],\n",
       "   'planet': ['planet'],\n",
       "   'river': ['river']}),\n",
       " ({'ancient castle': 'ancient castle',\n",
       "   'deep ocean': 'deep ocean',\n",
       "   'dense forest': 'dense forest',\n",
       "   'distant planet': 'distant planet',\n",
       "   'fast car': 'fast car',\n",
       "   'flowing river': 'flowing river',\n",
       "   'giant elephant': 'giant elephant',\n",
       "   'red apple': 'red apple',\n",
       "   'tall mountain': 'tall mountain',\n",
       "   'wooden guitar': 'wooden guitar'},\n",
       "  {'ancient castle': ['ancient castle'],\n",
       "   'deep ocean': ['deep ocean'],\n",
       "   'dense forest': ['dense forest'],\n",
       "   'distant planet': ['distant planet'],\n",
       "   'fast car': ['fast car'],\n",
       "   'flowing river': ['flowing river'],\n",
       "   'giant elephant': ['giant elephant'],\n",
       "   'red apple': ['red apple'],\n",
       "   'tall mountain': ['tall mountain'],\n",
       "   'wooden guitar': ['wooden guitar']}),\n",
       " ({'bright red apple': 'bright red apple',\n",
       "   'brown wooden guitar': 'brown wooden guitar',\n",
       "   'faraway mysterious planet': 'faraway mysterious planet',\n",
       "   'fast flowing river': 'fast flowing river',\n",
       "   'majestic medieval castle': 'majestic medieval castle',\n",
       "   'massive african elephant': 'massive african elephant',\n",
       "   'sleek sport car': 'sleek sport car',\n",
       "   'snowy mountain peak': 'snowy mountain peak',\n",
       "   'thick green forest': 'thick green forest',\n",
       "   'vast deep ocean': 'vast deep ocean'},\n",
       "  {'bright red apple': ['bright red apple'],\n",
       "   'brown wooden guitar': ['brown wooden guitar'],\n",
       "   'faraway mysterious planet': ['faraway mysterious planet'],\n",
       "   'fast flowing river': ['fast flowing river'],\n",
       "   'majestic medieval castle': ['majestic medieval castle'],\n",
       "   'massive african elephant': ['massive african elephant'],\n",
       "   'sleek sport car': ['sleek sport car'],\n",
       "   'snowy mountain peak': ['snowy mountain peak'],\n",
       "   'thick green forest': ['thick green forest'],\n",
       "   'vast deep ocean': ['vast deep ocean']})]"
      ]
     },
     "execution_count": 9,
     "metadata": {},
     "output_type": "execute_result"
    }
   ],
   "source": [
    "squeeze(list(graph.vertices.values()))"
   ]
  }
 ],
 "metadata": {
  "kernelspec": {
   "display_name": ".venv",
   "language": "python",
   "name": "python3"
  },
  "language_info": {
   "codemirror_mode": {
    "name": "ipython",
    "version": 3
   },
   "file_extension": ".py",
   "mimetype": "text/x-python",
   "name": "python",
   "nbconvert_exporter": "python",
   "pygments_lexer": "ipython3",
   "version": "3.11.10"
  }
 },
 "nbformat": 4,
 "nbformat_minor": 2
}
